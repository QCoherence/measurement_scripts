{
 "cells": [
  {
   "cell_type": "code",
   "execution_count": 16,
   "id": "92f7065a-7f92-4139-b93c-9a7a0733a014",
   "metadata": {},
   "outputs": [],
   "source": [
    "from qcodes.logger.logger import start_all_logging\n",
    "from cycler import cycler\n",
    "from time import sleep\n",
    "\n",
    "import matplotlib.pyplot as plt\n",
    "import qcodes as qc\n",
    "import numpy as np\n",
    "import datetime\n",
    "import time\n",
    "import json\n",
    "import sys\n",
    "import os"
   ]
  },
  {
   "cell_type": "code",
   "execution_count": 18,
   "id": "2017b65a-e7d4-4b38-b4f3-dea8d09f9d8e",
   "metadata": {},
   "outputs": [],
   "source": [
    "\n",
    "# plotting style\n",
    "plt.style.use(['paper'])\n",
    "\n",
    "\n",
    "params_tex = {'text.latex.preamble' :  r'\\usepackage{amssymb}'}\n",
    "plt.rc('text',usetex=True)\n",
    "plt.rcParams.update(params_tex)\n",
    "\n",
    "params = {'axes.linewidth' : 2,\n",
    "          'xtick.major.width' : 2,\n",
    "          'ytick.major.width' : 2,\n",
    "          'lines.linewidth' : 2,\n",
    "          'xtick.major.size' : 6,\n",
    "          'xtick.minor.size' : 1.5,\n",
    "          'xtick.minor.width' : 2,\n",
    "          'ytick.minor.size' : 3,\n",
    "          'ytick.major.size' : 6,\n",
    "          'ytick.minor.width' : 2}\n",
    "\n",
    "plt.rcParams.update(params)\n",
    "\n",
    "# %matplotlib widget"
   ]
  },
  {
   "cell_type": "code",
   "execution_count": 2,
   "id": "b87f3f93-16d7-452a-9daf-253e929a80e3",
   "metadata": {},
   "outputs": [
    {
     "name": "stdout",
     "output_type": "stream",
     "text": [
      "Connected to: Rohde&Schwarz FSV3030 (serial:1330.5000K30/101509, firmware:1.60) in 0.06s\n"
     ]
    }
   ],
   "source": [
    "sys.path.append('C:\\QCodes_Driver_And_Scripts\\Drivers')\n",
    "\n",
    "from RS_FSV import RS_FSV\n",
    "\n",
    "try:\n",
    "    FSV = RS_FSV('rs_fsv', 'TCPIP0::192.168.10.66::inst0::INSTR')\n",
    "\n",
    "except KeyError as er:\n",
    "    \n",
    "    RS_FSV.close_all() #Disconnect and irreversibly tear down the instrument\n",
    "    FSV =  RS_FSV('rs_fsv', 'TCPIP0::192.168.10.66::inst0::INSTR')\n"
   ]
  },
  {
   "cell_type": "code",
   "execution_count": 3,
   "id": "88677275-f41e-4f41-b39e-aa5f0bff027a",
   "metadata": {},
   "outputs": [
    {
     "name": "stdout",
     "output_type": "stream",
     "text": [
      "Logging hadn't been started.\n",
      "Activating auto-logging. Current session state plus future input saved.\n",
      "Filename       : C:\\Users\\wiebke.guichard\\.qcodes\\logs\\command_history.log\n",
      "Mode           : append\n",
      "Output logging : True\n",
      "Raw input log  : False\n",
      "Timestamping   : True\n",
      "State          : active\n",
      "Qcodes Logfile : C:\\Users\\wiebke.guichard\\.qcodes\\logs\\220111-13184-qcodes.log\n"
     ]
    }
   ],
   "source": [
    "__file__ = 'test_fsv.ipynb'\n",
    "\n",
    "start_all_logging()\n",
    "\n",
    "# Create a station\n",
    "station = qc.Station()\n",
    "station.add_component(FSV)\n",
    "\n",
    "station.snapshot()\n",
    "station.components\n",
    "\n",
    "description='FSV_single_trace'\n",
    "date=datetime.datetime.today().strftime('%Y_%m_%d')\n",
    "\n",
    "database_name = date+\"_\"+description\n",
    "\n",
    "script_dir=os.path.dirname(__file__)\n",
    "data_dir=os.path.join('C:\\\\QCodes_Driver_And_Scripts\\\\Data_QCodes\\\\Dorian\\\\'+date)\n",
    "\n",
    "try :\n",
    "    os.mkdir(data_dir)\n",
    "except FileExistsError:\n",
    "    pass\n",
    "\n",
    "data_dir=data_dir +'\\\\'+description\n",
    "\n",
    "try :\n",
    "    os.mkdir(data_dir)\n",
    "except FileExistsError:\n",
    "    pass\n",
    "\n"
   ]
  },
  {
   "cell_type": "code",
   "execution_count": 4,
   "id": "7e22e255-8df4-4d65-bfb2-0ead2d0d4a3e",
   "metadata": {},
   "outputs": [],
   "source": [
    "qc.initialise_or_create_database_at(data_dir+'\\\\'+database_name)\n",
    "qc.config.core.db_location\n",
    "\n",
    "parameter_snap={}"
   ]
  },
  {
   "cell_type": "markdown",
   "id": "250a77a1-a19a-4d2f-a9f9-eb9ff0d3fc9c",
   "metadata": {},
   "source": [
    "## Trying single frequency sweep"
   ]
  },
  {
   "cell_type": "markdown",
   "id": "9e9c6de5-eb2c-4a6f-9130-036cf7ae4800",
   "metadata": {},
   "source": [
    "## With monochromatic tone"
   ]
  },
  {
   "cell_type": "code",
   "execution_count": 35,
   "id": "cba4840f-30cb-43eb-aee0-9fa9da50361f",
   "metadata": {},
   "outputs": [],
   "source": [
    "rBW         = 100.*1e3                #Hz\n",
    "vBW         = 0.3*1e3                 #Hz\n",
    "aver_num    = 1\n",
    "span        = 10e6                    #Hz\n",
    "npoint      = int(span/rBW) + 1\n",
    "center_freq = 3 * 1e9                 #Hz\n",
    "ref_lvl     = 0                       #dBm\n",
    "\n",
    "# Snapshot parameters\n",
    "parameter_snap['FSV'] = {'center':center_freq, 'span':span, 'npoint': npoint,\n",
    "                         'ref_lvl':ref_lvl,'rBW':rBW,'vBW':vBW,\n",
    "                         'average':aver_num}\n"
   ]
  },
  {
   "cell_type": "code",
   "execution_count": 36,
   "id": "cb4fbf13-d6ff-4b3e-9337-fbbe0482f7fe",
   "metadata": {},
   "outputs": [
    {
     "name": "stdout",
     "output_type": "stream",
     "text": [
      "\n",
      "time for one trace : 0:00:15.400000 s\n",
      "\n"
     ]
    }
   ],
   "source": [
    "\n",
    "FSV.res_BW(rBW)\n",
    "FSV.video_BW(vBW)\n",
    "FSV.center_freq(center_freq)\n",
    "FSV.averages(aver_num)\n",
    "# FSQ.n_points(npoint)\n",
    "FSV.span(span)\n",
    "FSV.ref_level(ref_lvl)\n",
    "FSV.average_type('vid')\n",
    "\n",
    "trace_time=float(FSV.sweep_time())\n",
    "\n",
    "print('\\ntime for one trace : {} s\\n'.format(datetime.timedelta(seconds=trace_time)))"
   ]
  },
  {
   "cell_type": "code",
   "execution_count": 37,
   "id": "0d78d5db-77cf-42dd-82ac-2164cf3ba2cd",
   "metadata": {},
   "outputs": [],
   "source": [
    "\n",
    "def measure_single_trace(exp,station):\n",
    "\n",
    "    meas = qc.Measurement(exp=exp, station=station)\n",
    "    meas.register_parameter(FSV.freq_axis)\n",
    "    meas.register_parameter(FSV.spectrum,setpoints=[FSV.freq_axis])\n",
    "\n",
    "    with meas.run() as datasaver:\n",
    "\n",
    "        id=datasaver.dataset.run_id\n",
    "        qc.load_by_run_spec( captured_run_id=id).add_metadata('parameter_snap',\n",
    "                             json.dumps(parameter_snap))\n",
    "\n",
    "        datasaver.add_result((FSV.freq_axis, FSV.freq_axis()),(FSV.spectrum,FSV.spectrum()))"
   ]
  },
  {
   "cell_type": "code",
   "execution_count": 38,
   "id": "9d19e5e0-5d44-4eb1-833c-d18503fd63a3",
   "metadata": {},
   "outputs": [
    {
     "name": "stdout",
     "output_type": "stream",
     "text": [
      "Starting experimental run with id: 3. \n"
     ]
    }
   ],
   "source": [
    "\n",
    "# Load experiment\n",
    "exp_name = 'FSV_single_trace'\n",
    "\n",
    "sample_name = 'B3_G3SQ100R1_RKTWPA'\n",
    "\n",
    "exp=qc.load_or_create_experiment(experiment_name=exp_name,\n",
    "                          sample_name=sample_name)\n",
    "\n",
    "measure_single_trace(exp=exp, station=station)\n"
   ]
  },
  {
   "cell_type": "code",
   "execution_count": 40,
   "id": "3b04c65d-e0e6-43b2-9657-00f17018805d",
   "metadata": {},
   "outputs": [
    {
     "name": "stdout",
     "output_type": "stream",
     "text": [
      "{'FSV': {'center': 3000000000.0, 'span': 10000000.0, 'npoint': 101, 'ref_lvl': 0, 'rBW': 100000.0, 'vBW': 300.0, 'average': 1}}\n"
     ]
    }
   ],
   "source": [
    "captured_run_id=3\n",
    "\n",
    "# load dataset corresponding to the run\n",
    "dataset = qc.load_by_run_spec(captured_run_id=captured_run_id)\n",
    "# print instrument parameters\n",
    "parameter=json.loads(dataset.get_metadata('parameter_snap'))\n",
    "print(parameter)\n",
    "\n",
    "\n",
    "exp_name=dataset.exp_name\n"
   ]
  },
  {
   "cell_type": "code",
   "execution_count": 41,
   "id": "947c6db2-746b-4b57-ad3f-ae64578ebb87",
   "metadata": {},
   "outputs": [],
   "source": [
    "data = dataset.get_parameter_data('rs_fsv_spectrum')['rs_fsv_spectrum']['rs_fsv_spectrum']\n",
    "freq = dataset.get_parameter_data('rs_fsv_freq_axis')['rs_fsv_freq_axis']['rs_fsv_freq_axis'][0]*1e-9\n",
    "\n",
    "parameter_snap = json.loads(dataset.get_metadata('parameter_snap'))\n"
   ]
  },
  {
   "cell_type": "code",
   "execution_count": 42,
   "id": "26cf1454-9f8e-4038-9701-c0c9eab5589f",
   "metadata": {},
   "outputs": [
    {
     "data": {
      "text/plain": [
       "Text(0.5, 1.0, '2022_01_11_FSV_single_trace\\nFSV_single_trace  [B3_G3SQ100R1_RKTWPA]  (id: 3)\\n')"
      ]
     },
     "execution_count": 42,
     "metadata": {},
     "output_type": "execute_result"
    },
    {
     "data": {
      "image/png": "[encoded data removed]",
      "text/plain": [
       "<Figure size 864x504 with 1 Axes>"
      ]
     },
     "metadata": {
      "needs_background": "light"
     },
     "output_type": "display_data"
    }
   ],
   "source": [
    "#Figure and axes\n",
    "fig, ax = plt.subplots(1,1,sharex=True,figsize=(12,7))\n",
    "ax.set_xlabel('FSV frequency (GHz)')\n",
    "ax.set_ylabel('Power [dBm]')\n",
    "ax.axes.grid(True,linestyle=\"--\")\n",
    "\n",
    "clr = plt.cm.inferno(np.linspace(0.15,0.6,3))\n",
    "custom_cycler = cycler(color=clr)\n",
    "ax.set_prop_cycle(custom_cycler)\n",
    "\n",
    "ax.plot(freq,data[0,:],'-')\n",
    "\n",
    "plot_title  = database_name+'\\n'+exp_name.split(':')[0]+'  ['+sample_name\n",
    "plot_title += ']  (id: '+str(captured_run_id)+')\\n' \n",
    "ax.set_title(plot_title, size=12,usetex=False)\n"
   ]
  },
  {
   "cell_type": "code",
   "execution_count": null,
   "id": "e1fdd871-42e5-466f-8637-cfaa3a15a327",
   "metadata": {},
   "outputs": [],
   "source": []
  },
  {
   "cell_type": "markdown",
   "id": "aa9075ac-d8a6-47fe-aa68-c19a8b5697b5",
   "metadata": {},
   "source": [
    "## Trying 0 span sweep"
   ]
  },
  {
   "cell_type": "code",
   "execution_count": 72,
   "id": "c70e1334-ee3f-49d9-ab27-7e3e7bf626bb",
   "metadata": {},
   "outputs": [],
   "source": [
    "rBW         = 100.*1e3                #Hz\n",
    "vBW         = 0.3*1e3                 #Hz\n",
    "aver_num    = 1\n",
    "span        = 0                       #Hz\n",
    "npoint      = 10001\n",
    "center_freq = 3 * 1e9                 #Hz\n",
    "ref_lvl     = 0                       #dBm\n",
    "\n",
    "# Snapshot parameters\n",
    "parameter_snap['FSV'] = {'center':center_freq, 'span':span, 'npoint': npoint,\n",
    "                         'ref_lvl':ref_lvl,'rBW':rBW,'vBW':vBW,\n",
    "                         'average':aver_num}\n"
   ]
  },
  {
   "cell_type": "code",
   "execution_count": 182,
   "id": "121d33d9-4568-4380-97ef-e0db558966da",
   "metadata": {},
   "outputs": [
    {
     "name": "stdout",
     "output_type": "stream",
     "text": [
      "\n",
      "time for one trace : 0:02:13.346667 s\n",
      "\n"
     ]
    }
   ],
   "source": [
    "\n",
    "FSV.res_BW(rBW)\n",
    "FSV.video_BW(vBW)\n",
    "FSV.center_freq(center_freq)\n",
    "FSV.averages(aver_num)\n",
    "FSV.n_points(npoint)\n",
    "FSV.span(span)\n",
    "FSV.ref_level(ref_lvl)\n",
    "FSV.average_type('vid')\n",
    "\n",
    "time = npoint / vBW * 4. \n",
    "FSV.sweep_time(time)\n",
    "\n",
    "trace_time=float(FSV.sweep_time())\n",
    "\n",
    "print('\\ntime for one trace : {} s\\n'.format(datetime.timedelta(seconds=trace_time)))"
   ]
  },
  {
   "cell_type": "code",
   "execution_count": null,
   "id": "95ec2fe7-3f36-40a4-8b76-d39499cd4cd9",
   "metadata": {},
   "outputs": [],
   "source": []
  },
  {
   "cell_type": "code",
   "execution_count": null,
   "id": "102d99cd-2761-4385-b503-e38b29534311",
   "metadata": {},
   "outputs": [
    {
     "name": "stdout",
     "output_type": "stream",
     "text": [
      "Starting experimental run with id: 19. \n"
     ]
    }
   ],
   "source": [
    "\n",
    "# Load experiment\n",
    "exp_name = 'FSV_single_trace'\n",
    "\n",
    "sample_name = 'B3_G3SQ100R1_RKTWPA'\n",
    "\n",
    "exp=qc.load_or_create_experiment(experiment_name=exp_name,\n",
    "                          sample_name=sample_name)\n",
    "\n",
    "measure_single_trace(exp=exp, station=station)\n"
   ]
  },
  {
   "cell_type": "code",
   "execution_count": null,
   "id": "e4fc634a-6790-4fdd-8435-42216966eac0",
   "metadata": {},
   "outputs": [],
   "source": [
    "captured_run_id=19\n",
    "\n",
    "# load dataset corresponding to the run\n",
    "dataset = qc.load_by_run_spec(captured_run_id=captured_run_id)\n",
    "# print instrument parameters\n",
    "parameter=json.loads(dataset.get_metadata('parameter_snap'))\n",
    "print(parameter)\n",
    "\n",
    "\n",
    "exp_name=dataset.exp_name\n"
   ]
  },
  {
   "cell_type": "code",
   "execution_count": null,
   "id": "f37a8584-d990-450a-b27d-d765e7b37e22",
   "metadata": {},
   "outputs": [],
   "source": [
    "data_7 = dataset.get_parameter_data('rs_fsv_spectrum')['rs_fsv_spectrum']['rs_fsv_spectrum']\n",
    "freq_7 = dataset.get_parameter_data('rs_fsv_freq_axis')['rs_fsv_freq_axis']['rs_fsv_freq_axis'][0]*1e-9\n",
    "\n",
    "parameter_snap = json.loads(dataset.get_metadata('parameter_snap'))\n"
   ]
  },
  {
   "cell_type": "code",
   "execution_count": null,
   "id": "d8c18bb2-0524-4099-9876-9250686d3820",
   "metadata": {},
   "outputs": [],
   "source": [
    "#Figure and axes\n",
    "fig, ax = plt.subplots(1,1,sharex=True,figsize=(12,7))\n",
    "ax.set_xlabel('Sample')\n",
    "ax.set_ylabel('Power [dBm]')\n",
    "ax.axes.grid(True,linestyle=\"--\")\n",
    "\n",
    "clr = plt.cm.inferno_r(np.linspace(0.15,0.9,7))\n",
    "custom_cycler = cycler(color=clr)\n",
    "ax.set_prop_cycle(custom_cycler)\n",
    "\n",
    "ax.plot(data_7[0,:],'-',label=r'$ t_s=4 \\times N/RBW$')\n",
    "ax.plot(data_6[0,:],'-',label=r'$ t_s=3 \\times N/RBW$')\n",
    "ax.plot(data_5[0,:],'-',label=r'$ t_s=2 \\times N/RBW$')\n",
    "ax.plot(data[0,:],'-',label=r'$t_s=N/RBW$')\n",
    "ax.plot(data_1[0,:],'-',label=r'$t_s=N/ (10 \\times RBW)$')\n",
    "ax.plot(data_2[0,:],'-',label=r'$t_s=N/ (100 \\times RBW)$')\n",
    "ax.plot(data_3[0,:],'-',label=r'$t_s=N/ (1000 \\times RBW)$')\n",
    "ax.plot(data_4[0,:],'-',label=r'$t_s=N/ (10000 \\times RBW)$')\n",
    "\n",
    "\n",
    "\n",
    "\n",
    "ax.legend(loc='best',fontsize = 12)\n",
    "\n",
    "plot_title  = database_name+'\\n'+exp_name.split(':')[0]+'  ['+sample_name\n",
    "plot_title += ']  (id: '+str(captured_run_id)+')\\n' \n",
    "ax.set_title(plot_title, size=12,usetex=False)\n"
   ]
  },
  {
   "cell_type": "code",
   "execution_count": 179,
   "id": "243ff8c0-b085-4e1f-899b-8b4db68e0606",
   "metadata": {},
   "outputs": [
    {
     "data": {
      "text/plain": [
       "10001"
      ]
     },
     "execution_count": 179,
     "metadata": {},
     "output_type": "execute_result"
    }
   ],
   "source": [
    "len(data[0])"
   ]
  },
  {
   "cell_type": "code",
   "execution_count": 180,
   "id": "222e4d72-72c3-43c5-976d-e79869920b15",
   "metadata": {},
   "outputs": [],
   "source": [
    "mean  = np.array([np.mean(data_6[0,:]),np.mean(data_6[0,:]),np.mean(data_5[0,:]),np.mean(data[0,:]),np.mean(data_1[0,:]),np.mean(data_2[0,:]),np.mean(data_3[0,:]),np.mean(data_4[0,:])])\n",
    "ratio = np.array([4.,3.,2.,1.,1/10.,1/100.,1/1000.,1/1000.])"
   ]
  },
  {
   "cell_type": "code",
   "execution_count": 181,
   "id": "221543b3-1bee-4114-8d93-a4be5b702e34",
   "metadata": {},
   "outputs": [
    {
     "data": {
      "text/plain": [
       "[<matplotlib.lines.Line2D at 0x50838848>]"
      ]
     },
     "execution_count": 181,
     "metadata": {},
     "output_type": "execute_result"
    },
    {
     "data": {
      "image/png": "[encoded data removed]",
      "text/plain": [
       "<Figure size 864x432 with 1 Axes>"
      ]
     },
     "metadata": {
      "needs_background": "light"
     },
     "output_type": "display_data"
    }
   ],
   "source": [
    "#Figure and axes\n",
    "fig, ax = plt.subplots(1,1,sharex=True,figsize=(12,6))\n",
    "ax.set_xlabel(r'$t_s/(N/RBW)$')\n",
    "ax.set_ylabel('$P_{mean}$ [dBm]')\n",
    "ax.axes.grid(True,linestyle=\"--\")\n",
    "\n",
    "clr = plt.cm.inferno(np.linspace(0.15,0.9,5))\n",
    "custom_cycler = cycler(color=clr)\n",
    "ax.set_prop_cycle(custom_cycler)\n",
    "\n",
    "ax.plot(ratio,mean,'o',color=clr[2],markersize=10,markeredgecolor='k',markeredgewidth=1.5)\n",
    "\n"
   ]
  },
  {
   "cell_type": "code",
   "execution_count": null,
   "id": "ceabb419-6280-4a14-b0f2-57ea7d381275",
   "metadata": {},
   "outputs": [],
   "source": []
  },
  {
   "cell_type": "code",
   "execution_count": null,
   "id": "ed7cbc79-2278-4b40-8339-957fc07949e8",
   "metadata": {},
   "outputs": [],
   "source": []
  }
 ],
 "metadata": {
  "kernelspec": {
   "display_name": "Python 3",
   "language": "python",
   "name": "python3"
  },
  "language_info": {
   "codemirror_mode": {
    "name": "ipython",
    "version": 3
   },
   "file_extension": ".py",
   "mimetype": "text/x-python",
   "name": "python",
   "nbconvert_exporter": "python",
   "pygments_lexer": "ipython3",
   "version": "3.7.9"
  }
 },
 "nbformat": 4,
 "nbformat_minor": 5
}
