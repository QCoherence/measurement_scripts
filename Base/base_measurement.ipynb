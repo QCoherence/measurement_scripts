{
 "cells": [
  {
   "cell_type": "markdown",
   "id": "4939aeb4-f71d-48af-a7b5-adfe0f530ffa",
   "metadata": {
    "tags": []
   },
   "source": [
    "<h1 style=\"color:#2F659C\";>Base measurement script</h1>\n",
    "This notebook can be used to start a new measurement. It includes all the imports and instrument initializations, which can then be removed according to the measurement necessities. A small description of the Chip can be added here, and it is a good practice to change the sample name accordingly."
   ]
  },
  {
   "cell_type": "code",
   "execution_count": 1,
   "id": "a81ea71e-e98a-4cb2-8521-3f501bbc8009",
   "metadata": {},
   "outputs": [],
   "source": [
    "sample_name = 'default_measurement'  # name of the chip in the fridge\n",
    "\n",
    "user = 'ncr'                         # who is performing measurements\n",
    "date = '20211006'                    # when did the measurements started\n",
    "description = 'test_measurement'     # super short description of what you are doing"
   ]
  },
  {
   "cell_type": "markdown",
   "id": "6934e032-76a1-4bed-adff-f86d2755182c",
   "metadata": {
    "jp-MarkdownHeadingCollapsed": true,
    "tags": []
   },
   "source": [
    "<h3 style=\"color:#418FDB\";>QCodes imports</h3>\n",
    "Import the QCodes functions used in the measurement of this sample."
   ]
  },
  {
   "cell_type": "code",
   "execution_count": 2,
   "id": "02fb3f10-4374-434d-979c-e39fcfabbad5",
   "metadata": {},
   "outputs": [],
   "source": [
    "import os\n",
    "import sys\n",
    "from time import sleep, perf_counter\n",
    "\n",
    "import matplotlib.pyplot as plt\n",
    "import numpy as np\n",
    "import qcodes as qc\n",
    "from qcodes import (\n",
    "    Measurement,\n",
    "    experiments,\n",
    "    initialise_database,\n",
    "    initialise_or_create_database_at,\n",
    "    load_by_guid,\n",
    "    load_by_run_spec,\n",
    "    load_experiment,\n",
    "    load_last_experiment,\n",
    "    load_or_create_experiment,\n",
    "    new_experiment,\n",
    ")\n",
    "\n",
    "#from qcodes.utils.dataset.doNd import do0d, do1d, do2d, dond, plot, LinSweep, LogSweep\n",
    "\n",
    "from qcodes.dataset.plotting import plot_dataset\n",
    "from qcodes.logger.logger import start_all_logging, start_command_history_logger\n",
    "from qcodes.tests.instrument_mocks import DummyInstrument, DummyInstrumentWithMeasurement\n",
    "from qcodes.interactive_widget import experiments_widget"
   ]
  },
  {
   "cell_type": "code",
   "execution_count": 3,
   "id": "4d8e7c02-b087-43f3-87db-ac9f6ff903df",
   "metadata": {},
   "outputs": [],
   "source": [
    "sys.path.append(r'C:\\Users\\nicolas.roch\\Measurements\\Scripts')\n",
    "\n",
    "from QMETfunc.QMET_measurement import do0d, do1d, do2d, dond, LinSweep, LogSweep"
   ]
  },
  {
   "cell_type": "markdown",
   "id": "2fd07518-39eb-4864-b31f-052f12c9526e",
   "metadata": {
    "jp-MarkdownHeadingCollapsed": true,
    "tags": []
   },
   "source": [
    "<h2 style=\"color:#1C3C5C\";>Station and database setup</h2>\n",
    "Add the instruments to the station and start all the loggings related to the measurement. Then create or initialise the database where all the data will be saved."
   ]
  },
  {
   "cell_type": "code",
   "execution_count": 28,
   "id": "ed37a902-dff8-4c15-8e8a-a8709b3c6e30",
   "metadata": {},
   "outputs": [],
   "source": [
    "data_dir = os.path.join(r'D:\\QMET' + '\\\\' + sample_name)"
   ]
  },
  {
   "cell_type": "markdown",
   "id": "b05a0046-042f-46b4-a437-12af0047b072",
   "metadata": {
    "jp-MarkdownHeadingCollapsed": true,
    "tags": []
   },
   "source": [
    "<h3 style=\"color:#418FDB\";>Database initialization</h3>"
   ]
  },
  {
   "cell_type": "code",
   "execution_count": 29,
   "id": "07d9aa72-a8f7-4138-b304-00963d74bc9f",
   "metadata": {},
   "outputs": [
    {
     "data": {
      "text/plain": [
       "'D:\\\\QMET\\\\bilbo_c1\\\\20221118_sc-ncr_iv_curves.db'"
      ]
     },
     "execution_count": 29,
     "metadata": {},
     "output_type": "execute_result"
    }
   ],
   "source": [
    "database_name = date + '_' + user + '_' + description\n",
    "try :\n",
    "    os.mkdir(data_dir)\n",
    "except FileExistsError:\n",
    "    pass\n",
    "\n",
    "qc.initialise_or_create_database_at(data_dir + '\\\\' + database_name + '.db')\n",
    "qc.config.core.db_location"
   ]
  },
  {
   "cell_type": "markdown",
   "id": "ff6ba8b1-bb1d-4412-a3c7-9bd854beb40a",
   "metadata": {
    "jp-MarkdownHeadingCollapsed": true,
    "tags": []
   },
   "source": [
    "<h3 style=\"color:#418FDB\";>Instruments initialisation</h3>\n",
    "Add to path the folder containing the drivers. Then import and connect to the used instruments, while delete the unused ones."
   ]
  },
  {
   "cell_type": "code",
   "execution_count": 30,
   "id": "33397227-73d2-4758-b1bc-0f707a1732c0",
   "metadata": {},
   "outputs": [],
   "source": [
    "#sys.path.append(r'C:\\Users\\nicolas.roch\\Measurements\\Drivers') # old drivers\n",
    "sys.path.append(r'C:\\Users\\nicolas.roch\\Documents\\GitHub\\QCodes-drivers') # synched drivers"
   ]
  },
  {
   "cell_type": "markdown",
   "id": "69a82913-ed00-47d1-8939-b6ed00380de7",
   "metadata": {
    "jp-MarkdownHeadingCollapsed": true,
    "tags": []
   },
   "source": [
    "<h4 style=\"color:#4697E8\";>Connect to the ADwin</h4>"
   ]
  },
  {
   "cell_type": "code",
   "execution_count": 31,
   "id": "8d895a47-7587-43ba-a10e-f6fdd709acab",
   "metadata": {},
   "outputs": [
    {
     "name": "stderr",
     "output_type": "stream",
     "text": [
      "2022-12-14 17:16:13,000 ¦ qcodes.instrument.base ¦ ERROR ¦ base ¦ get_idn ¦ 653 ¦ [adwin(ADwin_Gold2)] Error getting or interpreting *IDN?: ''\n",
      "Traceback (most recent call last):\n",
      "  File \"C:\\Users\\nicolas.roch\\AppData\\Roaming\\Python\\Python38\\site-packages\\qcodes\\instrument\\base.py\", line 640, in get_idn\n",
      "    idstr = self.ask('*IDN?')\n",
      "  File \"C:\\Users\\nicolas.roch\\AppData\\Roaming\\Python\\Python38\\site-packages\\qcodes\\instrument\\base.py\", line 961, in ask\n",
      "    raise e\n",
      "  File \"C:\\Users\\nicolas.roch\\AppData\\Roaming\\Python\\Python38\\site-packages\\qcodes\\instrument\\base.py\", line 954, in ask\n",
      "    answer = self.ask_raw(cmd)\n",
      "  File \"C:\\Users\\nicolas.roch\\AppData\\Roaming\\Python\\Python38\\site-packages\\qcodes\\instrument\\base.py\", line 974, in ask_raw\n",
      "    raise NotImplementedError(\n",
      "NotImplementedError: ('Instrument ADwin_Gold2 has not defined an ask method', \"asking '*IDN?' to <ADwin_Gold2: adwin>\")\n"
     ]
    },
    {
     "name": "stdout",
     "output_type": "stream",
     "text": [
      "Connected to: None adwin (serial:None, firmware:None) in 0.25s\n"
     ]
    }
   ],
   "source": [
    "from ADwin_Gold2 import ADwin_Gold2, ADwin_ramp, ADwin_averagedRamp, ADwin_IV,  ADwin_VI\n",
    "ADwin_Gold2.close_all()\n",
    "ad = ADwin_Gold2(\"adwin\",\n",
    "                 r\"C:\\Users\\nicolas.roch\\Measurements\\Drivers\\adwin\\nanoqt\\ressources\\ADwin11.btl\",\n",
    "                 r\"C:\\Users\\nicolas.roch\\Measurements\\Drivers\\adwin\\nanoqt\\ressources\\acquisition-gold2.TB1\")"
   ]
  },
  {
   "cell_type": "markdown",
   "id": "64d6403a-e750-436c-a503-d98bf6dbcfe8",
   "metadata": {
    "jp-MarkdownHeadingCollapsed": true,
    "tags": []
   },
   "source": [
    "<h4  style=\"color:#4697E8\";>Connect to the Rohde&Schwartz VNA</h4>"
   ]
  },
  {
   "cell_type": "code",
   "execution_count": 32,
   "id": "d8ab8717-65e2-44b8-863f-236085ffc7ee",
   "metadata": {},
   "outputs": [
    {
     "name": "stdout",
     "output_type": "stream",
     "text": [
      "Connected to: Rohde-Schwarz ZNB20-2Port (serial:1311601062101579, firmware:2.94) in 0.03s\n"
     ]
    }
   ],
   "source": [
    "#from VNA_RS import ZNB\n",
    "from VNA_ZNB20 import ZNB\n",
    "#from VNA_ZNB20 import ZNBChannel\n",
    "\n",
    "try:\n",
    "    vna = ZNB('ZNB20', 'TCPIP0::192.168.0.9::inst0::INSTR',\n",
    "               init_s_params=False,terminator='\\n')\n",
    "except KeyError as er:\n",
    "    ZNB.close_all() # Disconnect and irreversibly tear down the instrument\n",
    "    vna = ZNB('ZNB20', 'TCPIP0::192.168.0.9::inst0::INSTR',\n",
    "               init_s_params=False,terminator='\\n')\n",
    "    \n",
    "vna.clear_channels()\n",
    "\n",
    "vna.add_channel('S21', vna_parameter='S21');\n",
    "s21 = vna.channels.S21\n",
    "\n",
    "#vna.add_channel('S11', vna_parameter='S11');\n",
    "#s11 = vna.channels.S11"
   ]
  },
  {
   "cell_type": "markdown",
   "id": "6c78fcf3-bf94-4548-8c6f-16b78a19efd7",
   "metadata": {
    "jp-MarkdownHeadingCollapsed": true,
    "tags": []
   },
   "source": [
    "<h4 style=\"color:#4697E8\";>Connect to the Agilent signal generator</h4>"
   ]
  },
  {
   "cell_type": "code",
   "execution_count": 33,
   "id": "b5f42085-f441-485b-90e4-ce0a3b8f4008",
   "metadata": {},
   "outputs": [],
   "source": [
    "from Agilent_E8257D import E8257D\n",
    "\n",
    "# try:\n",
    "#     mw_source = E8257D('mw_source','TCPIP0::192.168.0.70::inst0::INSTR')\n",
    "# except KeyError as er:\n",
    "#     E8257D.close_all()\n",
    "#     mw_source = E8257D('mw_source','TCPIP0::192.168.0.70::inst0::INSTR')"
   ]
  },
  {
   "cell_type": "markdown",
   "id": "5bc5d593-5e87-40f0-a633-08a5bb5533e5",
   "metadata": {
    "jp-MarkdownHeadingCollapsed": true,
    "tags": []
   },
   "source": [
    "<h4 style=\"color:#4697E8\";>Connect to the Rohde&Schwartz signal generator</h4>"
   ]
  },
  {
   "cell_type": "code",
   "execution_count": 34,
   "id": "9513aee2-f5b6-4a17-9e1a-0faa75414e53",
   "metadata": {},
   "outputs": [
    {
     "name": "stdout",
     "output_type": "stream",
     "text": [
      "Connected to: Rohde&Schwarz SMB100A (serial:1406.6000k03/177959, firmware:3.1.18.2-3.01.203.32) in 0.02s\n"
     ]
    }
   ],
   "source": [
    "from RS_SMB_100A import SMB100A\n",
    "\n",
    "try:\n",
    "    mw_source = SMB100A('mw_source_rs','TCPIP0::192.168.0.70::inst0::INSTR')\n",
    "except KeyError as er:\n",
    "    SMB100A.close_all()\n",
    "    mw_source = SMB100A('mw_source_rs','TCPIP0::192.168.0.70::inst0::INSTR')"
   ]
  },
  {
   "cell_type": "markdown",
   "id": "a3479530-80bc-418e-ac6a-baf61df0b8c9",
   "metadata": {
    "jp-MarkdownHeadingCollapsed": true,
    "tags": []
   },
   "source": [
    "<h4 style=\"color:#4697E8\";>Connect to the HP3245A current generator</h4>"
   ]
  },
  {
   "cell_type": "code",
   "execution_count": 35,
   "id": "6faf4ecb-5585-450d-83ce-9d6bea807313",
   "metadata": {},
   "outputs": [
    {
     "name": "stdout",
     "output_type": "stream",
     "text": [
      "Connected to: HEWLETT PACKARD None (serial:None, firmware:None) in 0.06s\n"
     ]
    }
   ],
   "source": [
    "from HP3245A import HP3245A\n",
    "\n",
    "try:\n",
    "    I_source = HP3245A('current_source', 'GPIB0::9::INSTR')\n",
    "\n",
    "except KeyError as er:\n",
    "    HP3245A.close_all() #Disconnect and irreversibly tear down the instrument\n",
    "    I_source = HP3245A('current_source', 'GPIB0::9::INSTR')\n",
    "I_source.output_terminal('REAR')"
   ]
  },
  {
   "cell_type": "markdown",
   "id": "b64351c2-8c31-424f-a598-250319768cda",
   "metadata": {
    "jp-MarkdownHeadingCollapsed": true,
    "tags": []
   },
   "source": [
    "<h4 style=\"color:#4697E8\";>Connect to the SR830 lock-in amplifier</h4>"
   ]
  },
  {
   "cell_type": "code",
   "execution_count": null,
   "id": "db8c08d0-b445-43cc-8bcf-c207808deaad",
   "metadata": {},
   "outputs": [],
   "source": [
    "from qcodes.instrument_drivers.stanford_research.SR830 import SR830\n",
    "\n",
    "try:\n",
    "    li = SR830('lockin', 'GPIB0::14::INSTR')\n",
    "\n",
    "except KeyError as er:\n",
    "    SR830.close_all() #Disconnect and irreversibly tear down the instrument\n",
    "    li = SR830('lockin', 'GPIB0::14::INSTR')"
   ]
  },
  {
   "cell_type": "markdown",
   "id": "684cda91-5c97-43b2-95c3-f7fa22890e4a",
   "metadata": {
    "jp-MarkdownHeadingCollapsed": true,
    "tags": []
   },
   "source": [
    "<h4 style=\"color:#4697E8\";>Connect to the FSV3030 spectrum analyser</h4>"
   ]
  },
  {
   "cell_type": "code",
   "execution_count": null,
   "id": "bb5f55cd-65ea-445f-abb1-2fa529f1fb69",
   "metadata": {
    "tags": []
   },
   "outputs": [],
   "source": [
    "from RS_FSV import RS_FSV\n",
    "\n",
    "#try:\n",
    "#    spectrum_analyser = RS_FSV('spectrum_analyser', 'TCPIP0::192.168.0.66::inst0::INSTR')\n",
    "\n",
    "#except KeyError as er:\n",
    "#    RS_FSV.close_all() #Disconnect and irreversibly tear down the instrument\n",
    "#    spectrum_analyser = RS_FSV('spectrum_analyser', 'TCPIP0::192.168.0.66::inst0::INSTR')"
   ]
  },
  {
   "cell_type": "markdown",
   "id": "a78a8a5b-d523-48d9-a2c7-02b1d84b58f8",
   "metadata": {
    "jp-MarkdownHeadingCollapsed": true,
    "tags": []
   },
   "source": [
    "<h4 style=\"color:#4697E8\";>Connect to the Signal Hound spectrum analyser</h4>"
   ]
  },
  {
   "cell_type": "code",
   "execution_count": 20,
   "id": "275ea64a-5757-4b8a-8304-9e8b6ea67687",
   "metadata": {},
   "outputs": [
    {
     "ename": "FileNotFoundError",
     "evalue": "Could not find module 'sa_api' (or one of its dependencies). Try using the full path with constructor syntax.",
     "output_type": "error",
     "traceback": [
      "\u001b[1;31m---------------------------------------------------------------------------\u001b[0m",
      "\u001b[1;31mFileNotFoundError\u001b[0m                         Traceback (most recent call last)",
      "\u001b[1;32mC:\\Users\\NICOLA~1.ROC\\AppData\\Local\\Temp/ipykernel_21196/479577214.py\u001b[0m in \u001b[0;36m<cell line: 3>\u001b[1;34m()\u001b[0m\n\u001b[0;32m      1\u001b[0m \u001b[1;32mfrom\u001b[0m \u001b[0mSignalHound_USB_SA124B\u001b[0m \u001b[1;32mimport\u001b[0m \u001b[0mSignalHound_USB_SA124B\u001b[0m\u001b[1;33m\u001b[0m\u001b[1;33m\u001b[0m\u001b[0m\n\u001b[0;32m      2\u001b[0m \u001b[1;31m# SignalHound_USB_SA124B.close_all()\u001b[0m\u001b[1;33m\u001b[0m\u001b[1;33m\u001b[0m\u001b[1;33m\u001b[0m\u001b[0m\n\u001b[1;32m----> 3\u001b[1;33m \u001b[0msh\u001b[0m \u001b[1;33m=\u001b[0m \u001b[0mSignalHound_USB_SA124B\u001b[0m\u001b[1;33m(\u001b[0m\u001b[1;34m'signal_hound2'\u001b[0m\u001b[1;33m,\u001b[0m \u001b[0mdll_path\u001b[0m\u001b[1;33m=\u001b[0m\u001b[1;34mr'C:\\Program Files\\Signal Hound\\Spike\\sa_api.dll'\u001b[0m\u001b[1;33m)\u001b[0m\u001b[1;33m\u001b[0m\u001b[1;33m\u001b[0m\u001b[0m\n\u001b[0m",
      "\u001b[1;32m~\\AppData\\Roaming\\Python\\Python38\\site-packages\\qcodes\\instrument\\base.py\u001b[0m in \u001b[0;36m__call__\u001b[1;34m(cls, *args, **kwargs)\u001b[0m\n\u001b[0;32m    557\u001b[0m         \u001b[0msuccessfully\u001b[0m\u001b[1;33m.\u001b[0m\u001b[1;33m\u001b[0m\u001b[1;33m\u001b[0m\u001b[0m\n\u001b[0;32m    558\u001b[0m         \"\"\"\n\u001b[1;32m--> 559\u001b[1;33m         \u001b[0mnew_inst\u001b[0m \u001b[1;33m=\u001b[0m \u001b[0msuper\u001b[0m\u001b[1;33m(\u001b[0m\u001b[1;33m)\u001b[0m\u001b[1;33m.\u001b[0m\u001b[0m__call__\u001b[0m\u001b[1;33m(\u001b[0m\u001b[1;33m*\u001b[0m\u001b[0margs\u001b[0m\u001b[1;33m,\u001b[0m \u001b[1;33m**\u001b[0m\u001b[0mkwargs\u001b[0m\u001b[1;33m)\u001b[0m\u001b[1;33m\u001b[0m\u001b[1;33m\u001b[0m\u001b[0m\n\u001b[0m\u001b[0;32m    560\u001b[0m         \u001b[0mis_abstract\u001b[0m \u001b[1;33m=\u001b[0m \u001b[0mnew_inst\u001b[0m\u001b[1;33m.\u001b[0m\u001b[0m_is_abstract\u001b[0m\u001b[1;33m(\u001b[0m\u001b[1;33m)\u001b[0m\u001b[1;33m\u001b[0m\u001b[1;33m\u001b[0m\u001b[0m\n\u001b[0;32m    561\u001b[0m         \u001b[1;32mif\u001b[0m \u001b[0mis_abstract\u001b[0m\u001b[1;33m:\u001b[0m\u001b[1;33m\u001b[0m\u001b[1;33m\u001b[0m\u001b[0m\n",
      "\u001b[1;32m~\\Documents\\GitHub\\QCodes-drivers\\SignalHound_USB_SA124B.py\u001b[0m in \u001b[0;36m__init__\u001b[1;34m(self, name, dll_path, **kwargs)\u001b[0m\n\u001b[0;32m    203\u001b[0m                 \u001b[0mlog\u001b[0m\u001b[1;33m.\u001b[0m\u001b[0minfo\u001b[0m\u001b[1;33m(\u001b[0m\u001b[1;34m'Initializing instrument SignalHound USB 124B'\u001b[0m\u001b[1;33m)\u001b[0m\u001b[1;33m\u001b[0m\u001b[1;33m\u001b[0m\u001b[0m\n\u001b[0;32m    204\u001b[0m                 \u001b[1;31m# self.dll = ct.CDLL(dll_path or self.dll_path)\u001b[0m\u001b[1;33m\u001b[0m\u001b[1;33m\u001b[0m\u001b[1;33m\u001b[0m\u001b[0m\n\u001b[1;32m--> 205\u001b[1;33m                 \u001b[0mself\u001b[0m\u001b[1;33m.\u001b[0m\u001b[0mdll\u001b[0m \u001b[1;33m=\u001b[0m \u001b[0mct\u001b[0m\u001b[1;33m.\u001b[0m\u001b[0mcdll\u001b[0m\u001b[1;33m.\u001b[0m\u001b[0msa_api\u001b[0m\u001b[1;33m\u001b[0m\u001b[1;33m\u001b[0m\u001b[0m\n\u001b[0m\u001b[0;32m    206\u001b[0m \u001b[1;33m\u001b[0m\u001b[0m\n\u001b[0;32m    207\u001b[0m                 \u001b[0mself\u001b[0m\u001b[1;33m.\u001b[0m\u001b[0m_set_ctypes_argtypes\u001b[0m\u001b[1;33m(\u001b[0m\u001b[1;33m)\u001b[0m\u001b[1;33m\u001b[0m\u001b[1;33m\u001b[0m\u001b[0m\n",
      "\u001b[1;32m~\\Miniconda3\\envs\\measurement\\lib\\ctypes\\__init__.py\u001b[0m in \u001b[0;36m__getattr__\u001b[1;34m(self, name)\u001b[0m\n\u001b[0;32m    441\u001b[0m         \u001b[1;32mif\u001b[0m \u001b[0mname\u001b[0m\u001b[1;33m[\u001b[0m\u001b[1;36m0\u001b[0m\u001b[1;33m]\u001b[0m \u001b[1;33m==\u001b[0m \u001b[1;34m'_'\u001b[0m\u001b[1;33m:\u001b[0m\u001b[1;33m\u001b[0m\u001b[1;33m\u001b[0m\u001b[0m\n\u001b[0;32m    442\u001b[0m             \u001b[1;32mraise\u001b[0m \u001b[0mAttributeError\u001b[0m\u001b[1;33m(\u001b[0m\u001b[0mname\u001b[0m\u001b[1;33m)\u001b[0m\u001b[1;33m\u001b[0m\u001b[1;33m\u001b[0m\u001b[0m\n\u001b[1;32m--> 443\u001b[1;33m         \u001b[0mdll\u001b[0m \u001b[1;33m=\u001b[0m \u001b[0mself\u001b[0m\u001b[1;33m.\u001b[0m\u001b[0m_dlltype\u001b[0m\u001b[1;33m(\u001b[0m\u001b[0mname\u001b[0m\u001b[1;33m)\u001b[0m\u001b[1;33m\u001b[0m\u001b[1;33m\u001b[0m\u001b[0m\n\u001b[0m\u001b[0;32m    444\u001b[0m         \u001b[0msetattr\u001b[0m\u001b[1;33m(\u001b[0m\u001b[0mself\u001b[0m\u001b[1;33m,\u001b[0m \u001b[0mname\u001b[0m\u001b[1;33m,\u001b[0m \u001b[0mdll\u001b[0m\u001b[1;33m)\u001b[0m\u001b[1;33m\u001b[0m\u001b[1;33m\u001b[0m\u001b[0m\n\u001b[0;32m    445\u001b[0m         \u001b[1;32mreturn\u001b[0m \u001b[0mdll\u001b[0m\u001b[1;33m\u001b[0m\u001b[1;33m\u001b[0m\u001b[0m\n",
      "\u001b[1;32m~\\Miniconda3\\envs\\measurement\\lib\\ctypes\\__init__.py\u001b[0m in \u001b[0;36m__init__\u001b[1;34m(self, name, mode, handle, use_errno, use_last_error, winmode)\u001b[0m\n\u001b[0;32m    371\u001b[0m \u001b[1;33m\u001b[0m\u001b[0m\n\u001b[0;32m    372\u001b[0m         \u001b[1;32mif\u001b[0m \u001b[0mhandle\u001b[0m \u001b[1;32mis\u001b[0m \u001b[1;32mNone\u001b[0m\u001b[1;33m:\u001b[0m\u001b[1;33m\u001b[0m\u001b[1;33m\u001b[0m\u001b[0m\n\u001b[1;32m--> 373\u001b[1;33m             \u001b[0mself\u001b[0m\u001b[1;33m.\u001b[0m\u001b[0m_handle\u001b[0m \u001b[1;33m=\u001b[0m \u001b[0m_dlopen\u001b[0m\u001b[1;33m(\u001b[0m\u001b[0mself\u001b[0m\u001b[1;33m.\u001b[0m\u001b[0m_name\u001b[0m\u001b[1;33m,\u001b[0m \u001b[0mmode\u001b[0m\u001b[1;33m)\u001b[0m\u001b[1;33m\u001b[0m\u001b[1;33m\u001b[0m\u001b[0m\n\u001b[0m\u001b[0;32m    374\u001b[0m         \u001b[1;32melse\u001b[0m\u001b[1;33m:\u001b[0m\u001b[1;33m\u001b[0m\u001b[1;33m\u001b[0m\u001b[0m\n\u001b[0;32m    375\u001b[0m             \u001b[0mself\u001b[0m\u001b[1;33m.\u001b[0m\u001b[0m_handle\u001b[0m \u001b[1;33m=\u001b[0m \u001b[0mhandle\u001b[0m\u001b[1;33m\u001b[0m\u001b[1;33m\u001b[0m\u001b[0m\n",
      "\u001b[1;31mFileNotFoundError\u001b[0m: Could not find module 'sa_api' (or one of its dependencies). Try using the full path with constructor syntax."
     ]
    }
   ],
   "source": [
    "from SignalHound_USB_SA124B import SignalHound_USB_SA124B\n",
    "# SignalHound_USB_SA124B.close_all()\n",
    "sh = SignalHound_USB_SA124B('signal_hound2', dll_path=r'C:\\Program Files\\Signal Hound\\Spike\\sa_api.dll')"
   ]
  },
  {
   "cell_type": "markdown",
   "id": "4574d303-967b-4b20-b626-4a40bfff1d3e",
   "metadata": {
    "jp-MarkdownHeadingCollapsed": true,
    "tags": []
   },
   "source": [
    "<h4 style=\"color:#4697E8\";>Connect to the AFG3252 arbitrary function generator</h4>"
   ]
  },
  {
   "cell_type": "code",
   "execution_count": 12,
   "id": "c0ea60bb-6bc3-47d1-b41d-8eaa8c737d00",
   "metadata": {},
   "outputs": [
    {
     "name": "stdout",
     "output_type": "stream",
     "text": [
      "Connected to: TEKTRONIX AFG3252 (serial:C011080, firmware:SCPI:99.0 FV:1.2.1) in 4.14s\n"
     ]
    }
   ],
   "source": [
    "from qcodes_contrib_drivers.drivers.Tektronix.AFG3000 import AFG3000 \n",
    "\n",
    "try:\n",
    "    afg = AFG3000('function_generator', 'TCPIP0::192.168.0.12::inst0::INSTR')\n",
    "\n",
    "except KeyError as er:\n",
    "    AFG3000.close_all() # Disconnect and irreversibly tear down the instrument\n",
    "    afg = AFG3000('function_generator', 'TCPIP0::192.168.0.12::inst0::INSTR')"
   ]
  },
  {
   "cell_type": "markdown",
   "id": "64f75b33-336f-48f6-8e2d-94fb38237459",
   "metadata": {
    "jp-MarkdownHeadingCollapsed": true,
    "tags": []
   },
   "source": [
    "<h4 style=\"color:#4697E8\";>Dummies</h4>"
   ]
  },
  {
   "cell_type": "code",
   "execution_count": 21,
   "id": "b03e0391-2857-4f7f-ab08-b39ce36aa0f6",
   "metadata": {},
   "outputs": [],
   "source": [
    "# dac = DummyInstrument('dac', gates=['ch1', 'ch2'])\n",
    "# dmm = DummyInstrumentWithMeasurement('dmm', setter_instr=dac)"
   ]
  },
  {
   "cell_type": "markdown",
   "id": "f343e69e-3ce4-419d-947a-7515f5dd885d",
   "metadata": {
    "jp-MarkdownHeadingCollapsed": true,
    "tags": []
   },
   "source": [
    "<h3 style=\"color:#418FDB\";>Station initialization</h3>"
   ]
  },
  {
   "cell_type": "code",
   "execution_count": 36,
   "id": "2eb2781e-4792-4198-ad9f-b9de73652c80",
   "metadata": {},
   "outputs": [
    {
     "name": "stdout",
     "output_type": "stream",
     "text": [
      "Activating auto-logging. Current session state plus future input saved.\n",
      "Filename       : C:\\Users\\nicolas.roch\\.qcodes\\logs\\command_history.log\n",
      "Mode           : append\n",
      "Output logging : True\n",
      "Raw input log  : False\n",
      "Timestamping   : True\n",
      "State          : active\n",
      "Qcodes Logfile : C:\\Users\\nicolas.roch\\.qcodes\\logs\\221214-21196-qcodes.log\n",
      "Activating auto-logging. Current session state plus future input saved.\n",
      "Filename       : D:\\QMET\\bilbo_c1\\command_history.log\n",
      "Mode           : append\n",
      "Output logging : True\n",
      "Raw input log  : False\n",
      "Timestamping   : True\n",
      "State          : active\n"
     ]
    }
   ],
   "source": [
    "STATION = qc.Station()\n",
    "\n",
    "start_all_logging()\n",
    "start_command_history_logger(data_dir)"
   ]
  },
  {
   "cell_type": "markdown",
   "id": "5f766a39-3d36-459d-a460-153377051c9f",
   "metadata": {
    "tags": []
   },
   "source": [
    "<h4 style=\"color:#418FDB\";>Adding the instruments to the station</h4>"
   ]
  },
  {
   "cell_type": "code",
   "execution_count": 37,
   "id": "3b4e69ac-40f6-4c5a-894a-fa06147d2ae3",
   "metadata": {},
   "outputs": [
    {
     "name": "stderr",
     "output_type": "stream",
     "text": [
      "2022-12-14 17:16:21,617 ¦ qcodes.instrument.base ¦ WARNING ¦ base ¦ snapshot_base ¦ 272 ¦ [ZNB20_S21(ZNBChannel)] Snapshot: Could not update parameter: trigger_link\n",
      "2022-12-14 17:16:21,666 ¦ qcodes.instrument.base ¦ ERROR ¦ base ¦ get_idn ¦ 653 ¦ [adwin(ADwin_Gold2)] Error getting or interpreting *IDN?: ''\n",
      "Traceback (most recent call last):\n",
      "  File \"C:\\Users\\nicolas.roch\\AppData\\Roaming\\Python\\Python38\\site-packages\\qcodes\\instrument\\base.py\", line 640, in get_idn\n",
      "    idstr = self.ask('*IDN?')\n",
      "  File \"C:\\Users\\nicolas.roch\\AppData\\Roaming\\Python\\Python38\\site-packages\\qcodes\\instrument\\base.py\", line 961, in ask\n",
      "    raise e\n",
      "  File \"C:\\Users\\nicolas.roch\\AppData\\Roaming\\Python\\Python38\\site-packages\\qcodes\\instrument\\base.py\", line 954, in ask\n",
      "    answer = self.ask_raw(cmd)\n",
      "  File \"C:\\Users\\nicolas.roch\\AppData\\Roaming\\Python\\Python38\\site-packages\\qcodes\\instrument\\base.py\", line 974, in ask_raw\n",
      "    raise NotImplementedError(\n",
      "NotImplementedError: ('Instrument ADwin_Gold2 has not defined an ask method', \"asking '*IDN?' to <ADwin_Gold2: adwin>\")\n",
      "2022-12-14 17:16:21,667 ¦ qcodes.instrument.base ¦ WARNING ¦ base ¦ snapshot_base ¦ 272 ¦ [adwin(ADwin_Gold2)] Snapshot: Could not update parameter: outputs\n",
      "2022-12-14 17:16:21,673 ¦ qcodes.instrument.base ¦ WARNING ¦ base ¦ snapshot_base ¦ 272 ¦ [adwin(ADwin_Gold2)] Snapshot: Could not update parameter: inputs\n"
     ]
    },
    {
     "data": {
      "text/plain": [
       "{'ZNB20_S21': <ZNBChannel: ZNB20_S21 of ZNB: ZNB20>,\n",
       " 'mw_source_rs': <SMB100A: mw_source_rs>,\n",
       " 'adwin': <ADwin_Gold2: adwin>,\n",
       " 'current_source': <HP3245A: current_source>}"
      ]
     },
     "execution_count": 37,
     "metadata": {},
     "output_type": "execute_result"
    }
   ],
   "source": [
    "STATION.add_component(s21)         # VNA channel s21\n",
    "STATION.add_component(mw_source)   # Signal generator\n",
    "STATION.add_component(ad)          # ADwin\n",
    "STATION.add_component(I_source)\n",
    "# STATION.add_component(li)\n",
    "# STATION.add_component(sh)\n",
    "# STATION.add_component(afg)\n",
    "\n",
    "#STATION.add_component(daq)        # Dummy signal\n",
    "#STATION.add_component(dmm)        # Dummy multimeter\n",
    "\n",
    "STATION.snapshot();\n",
    "STATION.components"
   ]
  },
  {
   "cell_type": "code",
   "execution_count": 4,
   "id": "8f806aa0-4b82-40ca-922b-015f11a8bef3",
   "metadata": {},
   "outputs": [],
   "source": [
    "data_dir = os.path.join(r'D:\\QMET' + '\\\\' + sample_name)"
   ]
  },
  {
   "cell_type": "markdown",
   "id": "3fd1ca37-75f8-41b0-b0f4-e0bc60c4b75a",
   "metadata": {
    "jp-MarkdownHeadingCollapsed": true,
    "tags": []
   },
   "source": [
    "<h3 style=\"color:#418FDB\";>Station initialization</h3>"
   ]
  },
  {
   "cell_type": "code",
   "execution_count": null,
   "id": "9bb01d3d-7e10-44d7-8791-e016abe35de1",
   "metadata": {},
   "outputs": [
    {
     "name": "stdout",
     "output_type": "stream",
     "text": [
      "Logging hadn't been started.\n",
      "Activating auto-logging. Current session state plus future input saved.\n",
      "Filename       : C:\\Users\\nicolas.roch\\.qcodes\\logs\\command_history.log\n",
      "Mode           : append\n",
      "Output logging : True\n",
      "Raw input log  : False\n",
      "Timestamping   : True\n",
      "State          : active\n",
      "Qcodes Logfile : C:\\Users\\nicolas.roch\\.qcodes\\logs\\211021-3168-qcodes.log\n",
      "Activating auto-logging. Current session state plus future input saved.\n",
      "Filename       : D:\\QMET\\default_measurement\\command_history.log\n",
      "Mode           : append\n",
      "Output logging : True\n",
      "Raw input log  : False\n",
      "Timestamping   : True\n",
      "State          : active\n"
     ]
    }
   ],
   "source": [
    "STATION = qc.Station()\n",
    "\n",
    "start_all_logging()\n",
    "start_command_history_logger(data_dir)"
   ]
  },
  {
   "cell_type": "markdown",
   "id": "015d42dc-3ef6-40d1-8bf0-0567b417072f",
   "metadata": {
    "jp-MarkdownHeadingCollapsed": true,
    "tags": []
   },
   "source": [
    "<h3 style=\"color:#418FDB\";>Database initialization</h3>"
   ]
  },
  {
   "cell_type": "code",
   "execution_count": 6,
   "id": "8909d4f9-6098-42a6-bc3c-736c11884cc7",
   "metadata": {},
   "outputs": [
    {
     "data": {
      "text/plain": [
       "'D:\\\\QMET\\\\default_measurement\\\\20211006_ncr_test_measurement.db'"
      ]
     },
     "execution_count": 6,
     "metadata": {},
     "output_type": "execute_result"
    }
   ],
   "source": [
    "database_name = date + '_' + user + '_' + description\n",
    "try :\n",
    "    os.mkdir(data_dir)\n",
    "except FileExistsError:\n",
    "    pass\n",
    "\n",
    "qc.initialise_or_create_database_at(data_dir + '\\\\' + database_name + '.db')\n",
    "qc.config.core.db_location"
   ]
  },
  {
   "cell_type": "markdown",
   "id": "cf879c4e-9232-4dd5-a128-4f32d83faa74",
   "metadata": {},
   "source": [
    "<h3 style=\"color:#418FDB\";>Instruments initialisation</h3>\n",
    "Add to path the folder containing the drivers. Then import and connect to the used instruments, while delete the unused ones."
   ]
  },
  {
   "cell_type": "code",
   "execution_count": null,
   "id": "0504fe5e-c06f-45e5-a8a8-3762ca88a243",
   "metadata": {},
   "outputs": [],
   "source": [
    "sys.path.append(r'C:\\Users\\nicolas.roch\\Measurements\\Drivers')"
   ]
  },
  {
   "cell_type": "markdown",
   "id": "da800d16-ab64-4330-944e-9844a29bd89d",
   "metadata": {},
   "source": [
    "<h4  style=\"color:#4697E8\";>Connect to the Rohde&Schwartz VNA</h4>"
   ]
  },
  {
   "cell_type": "code",
   "execution_count": null,
   "id": "a890cf48-3488-4744-a232-c61488645ef0",
   "metadata": {},
   "outputs": [
    {
     "name": "stderr",
     "output_type": "stream",
     "text": [
      "2021-10-19 17:04:21,261 ¦ py.warnings ¦ WARNING ¦ warnings ¦ _showwarnmsg ¦ 109 ¦ C:\\Users\\nicolas.roch\\Miniconda3\\envs\\measurement\\lib\\site-packages\\qcodes\\instrument\\base.py:128: QCoDeSDeprecationWarning: Parameter trace_mag_phase on instrument ZNB20_S21 does not correctly pass kwargs to its baseclass. A Parameter class must take `**kwargs` and forward them to its baseclass.\n",
      "  warnings.warn(\n",
      "\n",
      "2021-10-19 17:04:21,264 ¦ py.warnings ¦ WARNING ¦ warnings ¦ _showwarnmsg ¦ 109 ¦ C:\\Users\\nicolas.roch\\Miniconda3\\envs\\measurement\\lib\\site-packages\\qcodes\\instrument\\base.py:128: QCoDeSDeprecationWarning: Parameter trace on instrument ZNB20_S21 does not correctly pass kwargs to its baseclass. A Parameter class must take `**kwargs` and forward them to its baseclass.\n",
      "  warnings.warn(\n",
      "\n",
      "2021-10-19 17:04:21,269 ¦ py.warnings ¦ WARNING ¦ warnings ¦ _showwarnmsg ¦ 109 ¦ C:\\Users\\nicolas.roch\\Miniconda3\\envs\\measurement\\lib\\site-packages\\qcodes\\instrument\\base.py:128: QCoDeSDeprecationWarning: Parameter trace_fixed_frequency on instrument ZNB20_S21 does not correctly pass kwargs to its baseclass. A Parameter class must take `**kwargs` and forward them to its baseclass.\n",
      "  warnings.warn(\n",
      "\n",
      "2021-10-19 17:04:21,270 ¦ py.warnings ¦ WARNING ¦ warnings ¦ _showwarnmsg ¦ 109 ¦ C:\\Users\\nicolas.roch\\Miniconda3\\envs\\measurement\\lib\\site-packages\\qcodes\\instrument\\base.py:128: QCoDeSDeprecationWarning: Parameter point_fixed_frequency on instrument ZNB20_S21 does not correctly pass kwargs to its baseclass. A Parameter class must take `**kwargs` and forward them to its baseclass.\n",
      "  warnings.warn(\n",
      "\n",
      "2021-10-19 17:04:21,270 ¦ py.warnings ¦ WARNING ¦ warnings ¦ _showwarnmsg ¦ 109 ¦ C:\\Users\\nicolas.roch\\Miniconda3\\envs\\measurement\\lib\\site-packages\\qcodes\\instrument\\base.py:128: QCoDeSDeprecationWarning: Parameter point_fixed_frequency_mag_phase on instrument ZNB20_S21 does not correctly pass kwargs to its baseclass. A Parameter class must take `**kwargs` and forward them to its baseclass.\n",
      "  warnings.warn(\n",
      "\n",
      "2021-10-19 17:04:21,271 ¦ py.warnings ¦ WARNING ¦ warnings ¦ _showwarnmsg ¦ 109 ¦ C:\\Users\\nicolas.roch\\Miniconda3\\envs\\measurement\\lib\\site-packages\\qcodes\\instrument\\base.py:128: QCoDeSDeprecationWarning: Parameter point_fixed_frequency_mag_phase_trace on instrument ZNB20_S21 does not correctly pass kwargs to its baseclass. A Parameter class must take `**kwargs` and forward them to its baseclass.\n",
      "  warnings.warn(\n",
      "\n"
     ]
    },
    {
     "name": "stdout",
     "output_type": "stream",
     "text": [
      "Connected to: Rohde-Schwarz ZNB20-2Port (serial:1311601062101579, firmware:2.94) in 0.07s\n"
     ]
    }
   ],
   "source": [
    "from VNA_RS import ZNB\n",
    "#from VNA_ZNB20 import ZNB\n",
    "#from VNA_ZNB20 import ZNBChannel\n",
    "\n",
    "try:\n",
    "    vna = ZNB('ZNB20', 'TCPIP0::192.168.0.9::inst0::INSTR',\n",
    "               init_s_params=False,terminator='\\n')\n",
    "except KeyError as er:\n",
    "    ZNB.close_all() # Disconnect and irreversibly tear down the instrument\n",
    "    vna = ZNB('ZNB20', 'TCPIP0::192.168.0.9::inst0::INSTR',\n",
    "               init_s_params=False,terminator='\\n')\n",
    "    \n",
    "vna.clear_channels()\n",
    "\n",
    "vna.add_channel('S21', vna_parameter='S21');\n",
    "s21 = vna.channels.S21\n",
    "\n",
    "#vna.add_channel('S11', vna_parameter='S11');\n",
    "#s11 = vna.channels.S11"
   ]
  },
  {
   "cell_type": "markdown",
   "id": "3b8d112c-4c15-4d0a-b2d5-2e6aa2423ac9",
   "metadata": {},
   "source": [
    "<h4 style=\"color:#4697E8\";>Connect to the ADwin</h4>"
   ]
  },
  {
   "cell_type": "code",
   "execution_count": null,
   "id": "83511b60-266d-466d-9504-7b8fc70a67b9",
   "metadata": {},
   "outputs": [
    {
     "name": "stdout",
     "output_type": "stream",
     "text": [
      "Connected to: None adwin (serial:None, firmware:None) in 0.25s\n"
     ]
    }
   ],
   "source": [
    "from ADwin_Gold2 import ADwin_Gold2, adwin_Nramp\n",
    "\n",
    "ad = ADwin_Gold2(\"adwin\",\n",
    "                 r\"C:\\Users\\nicolas.roch\\Measurements\\Drivers\\adwin\\nanoqt\\ressources\\ADwin11.btl\",\n",
    "                 r\"C:\\Users\\nicolas.roch\\Measurements\\Drivers\\adwin\\nanoqt\\ressources\\acquisition-gold2.TB1\")"
   ]
  },
  {
   "cell_type": "markdown",
   "id": "ff387b6b-7b8e-4d87-be23-e4402b6e9c46",
   "metadata": {},
   "source": [
    "<h4 style=\"color:#4697E8\";>Connect to the Agilent signal generator</h4>"
   ]
  },
  {
   "cell_type": "code",
   "execution_count": null,
   "id": "ae9da875-4c06-4c5e-89d0-c64a6c824b78",
   "metadata": {},
   "outputs": [
    {
     "name": "stdout",
     "output_type": "stream",
     "text": [
      "Connected to: Agilent Technologies E8257D (serial:US45470698, firmware:C.06.28) in 0.03s\n"
     ]
    }
   ],
   "source": [
    "from Agilent_E8257D import E8257D\n",
    "\n",
    "try:\n",
    "    mw_source = E8257D('mw_source','TCPIP0::192.168.0.70::inst0::INSTR')\n",
    "except KeyError as er:\n",
    "    E8257D.close_all()\n",
    "    mw_source = E8257D('mw_source','TCPIP0::192.168.0.70::inst0::INSTR')"
   ]
  },
  {
   "cell_type": "markdown",
   "id": "2f23125f-73ed-4014-afeb-f7019d962c52",
   "metadata": {},
   "source": [
    "<h4 style=\"color:#4697E8\";>Connect to the Rohde&Schwartz signal generator</h4>"
   ]
  },
  {
   "cell_type": "code",
   "execution_count": null,
   "id": "acbb4361-7e6a-45f1-9f28-d6f058814bd7",
   "metadata": {},
   "outputs": [],
   "source": [
    "from RS_SMB_100A import SMB100A\n",
    "\n",
    "#try:\n",
    "#    mw_source_rs = SGS100A('pump_source','USB0::0x0AAD::0x0088::112061::INSTR')\n",
    "#except KeyError as er:\n",
    "#    SGS100A.close_all()\n",
    "#    mw_source_rs = SGS100A('pump_source','USB0::0x0AAD::0x0088::112061::INSTR')"
   ]
  },
  {
   "cell_type": "markdown",
   "id": "5ed34147-4e80-47cf-ae87-32b140066da8",
   "metadata": {},
   "source": [
    "<h4 style=\"color:#4697E8\";>Dummies</h4>"
   ]
  },
  {
   "cell_type": "code",
   "execution_count": null,
   "id": "4de1e7fb-cb0e-4c4c-b3e2-2ef2f9177d87",
   "metadata": {},
   "outputs": [],
   "source": [
    "dac = DummyInstrument('dac', gates=['ch1', 'ch2'])\n",
    "dmm = DummyInstrumentWithMeasurement('dmm', setter_instr=dac)"
   ]
  },
  {
   "cell_type": "markdown",
   "id": "0f95fc5b-8b18-4e79-9198-2d25b95ac6bb",
   "metadata": {
    "tags": []
   },
   "source": [
    "<h3 style=\"color:#418FDB\";>Adding the instruments to the station</h3>"
   ]
  },
  {
   "cell_type": "code",
   "execution_count": 13,
   "id": "cefb9a5f-45be-45bb-a59d-832ed5c3032f",
   "metadata": {},
   "outputs": [
    {
     "name": "stderr",
     "output_type": "stream",
     "text": [
      "2021-10-19 17:04:21,656 ¦ qcodes.instrument.base ¦ WARNING ¦ base ¦ snapshot_base ¦ 259 ¦ [ZNB20_S21(VNAChannel)] Snapshot: Could not update parameter: trigger_link\n",
      "2021-10-19 17:04:26,784 ¦ qcodes.instrument.base ¦ WARNING ¦ base ¦ snapshot_base ¦ 259 ¦ [mw_source(E8257D)] Snapshot: Could not update parameter: sweepmode\n",
      "2021-10-19 17:04:26,829 ¦ qcodes.instrument.base ¦ WARNING ¦ base ¦ snapshot_base ¦ 259 ¦ [adwin(ADwin_Gold2)] Snapshot: Could not update parameter: out1\n",
      "2021-10-19 17:04:26,833 ¦ qcodes.instrument.base ¦ WARNING ¦ base ¦ snapshot_base ¦ 259 ¦ [adwin(ADwin_Gold2)] Snapshot: Could not update parameter: out2\n",
      "2021-10-19 17:04:26,835 ¦ qcodes.instrument.base ¦ WARNING ¦ base ¦ snapshot_base ¦ 259 ¦ [adwin(ADwin_Gold2)] Snapshot: Could not update parameter: in1\n"
     ]
    },
    {
     "data": {
      "text/plain": [
       "{'ZNB20_S21': <VNAChannel: ZNB20_S21 of ZNB: ZNB20>,\n",
       " 'mw_source': <E8257D: mw_source>,\n",
       " 'adwin': <ADwin_Gold2: adwin>}"
      ]
     },
     "execution_count": 13,
     "metadata": {},
     "output_type": "execute_result"
    }
   ],
   "source": [
    "STATION.add_component(s21)         # VNA channel s21\n",
    "STATION.add_component(mw_source)   # Signal generator\n",
    "STATION.add_component(ad)          # ADwin\n",
    "#STATION.add_component(daq)        # Dummy signal\n",
    "#STATION.add_component(dmm)        # Dummy multimeter\n",
    "\n",
    "STATION.snapshot();\n",
    "STATION.components"
   ]
  },
  {
   "cell_type": "markdown",
   "id": "c6b5899d-bb2c-486e-987b-d61da8079c9d",
   "metadata": {
    "jp-MarkdownHeadingCollapsed": true,
    "tags": []
   },
   "source": [
    "<h2 style=\"color:#1C3C5C\";>Measurements</h2>\n",
    "Here the idea is to create a new cell and a new experiment every time something more that just ranges and parameters are changed. Every new measurement will be stored in the database with a different experiment name, so it's easyer to retrive. Note that the used instruments must be initialised before, in the Instrument Initialisation section."
   ]
  },
  {
   "cell_type": "markdown",
   "id": "ddda1ce0-4a23-473f-8a56-c3be372932c8",
   "metadata": {
    "jp-MarkdownHeadingCollapsed": true,
    "tags": []
   },
   "source": [
    "<h3 style=\"color:#418FDB\";>Microwave measurements with the VNA</h3>"
   ]
  },
  {
   "cell_type": "markdown",
   "id": "139432d0-d41c-42ec-b7ff-c42c62b0464e",
   "metadata": {
    "tags": []
   },
   "source": [
    "<h4  style=\"color:#4697E8\";>Phase and magnitude of the current trace</h4>"
   ]
  },
  {
   "cell_type": "code",
   "execution_count": 14,
   "id": "25e15721-f7af-4b57-8fa9-3f14af59426c",
   "metadata": {},
   "outputs": [
    {
     "name": "stdout",
     "output_type": "stream",
     "text": [
      "Starting experimental run with id: 120. Using 'qcodes.utils.dataset.doNd.do0d'\n"
     ]
    },
    {
     "data": {
      "text/plain": [
       "120"
      ]
     },
     "execution_count": 14,
     "metadata": {},
     "output_type": "execute_result"
    },
    {
     "data": {
      "image/png": "[encoded data removed]",
      "text/plain": [
       "<Figure size 432x288 with 1 Axes>"
      ]
     },
     "metadata": {
      "needs_background": "light"
     },
     "output_type": "display_data"
    },
    {
     "data": {
      "image/png": "[encoded data removed]",
      "text/plain": [
       "<Figure size 432x288 with 1 Axes>"
      ]
     },
     "metadata": {
      "needs_background": "light"
     },
     "output_type": "display_data"
    }
   ],
   "source": [
    "experiment_name = 'test_experiment_vna'\n",
    "measurement_name = 'supercool_1d_vna'\n",
    "exp = load_or_create_experiment(experiment_name=experiment_name, sample_name=sample_name)\n",
    "\n",
    "s21.center(4e9)\n",
    "s21.npts(101)\n",
    "s21.span(1e9)\n",
    "s21.bandwidth(1e3)\n",
    "s21.averaging_enabled(True)\n",
    "s21.avg(10)\n",
    "s21.power(-30)\n",
    "\n",
    "s21.set_electrical_delay_auto()\n",
    "s21.average_clear()\n",
    "\n",
    "vna.rf_on()\n",
    "res = do0d(s21.trace_mag_phase, measurement_name=measurement_name);\n",
    "vna.rf_off()\n",
    "\n",
    "res[0].captured_run_id"
   ]
  },
  {
   "cell_type": "markdown",
   "id": "7905ee55-1450-468d-b2d6-fb06687fe2a7",
   "metadata": {
    "tags": []
   },
   "source": [
    "<h4  style=\"color:#4697E8\";>Phase and magnitude of traces corresponding to different power levels</h4>"
   ]
  },
  {
   "cell_type": "code",
   "execution_count": 15,
   "id": "3aa6d65d-7f9a-4e8c-9330-476a1aedba87",
   "metadata": {},
   "outputs": [
    {
     "name": "stdout",
     "output_type": "stream",
     "text": [
      "Starting experimental run with id: 121. Using 'qcodes.utils.dataset.doNd.do1d'\n"
     ]
    },
    {
     "data": {
      "application/vnd.jupyter.widget-view+json": {
       "model_id": "10371afe2b794a3eb16f5aebac6de030",
       "version_major": 2,
       "version_minor": 0
      },
      "text/plain": [
       "  0%|          | 0/10 [00:00<?, ?it/s]"
      ]
     },
     "metadata": {},
     "output_type": "display_data"
    },
    {
     "data": {
      "text/plain": [
       "121"
      ]
     },
     "execution_count": 15,
     "metadata": {},
     "output_type": "execute_result"
    },
    {
     "data": {
      "image/png": "[encoded data removed]",
      "text/plain": [
       "<Figure size 432x288 with 2 Axes>"
      ]
     },
     "metadata": {
      "needs_background": "light"
     },
     "output_type": "display_data"
    },
    {
     "data": {
      "image/png": "[encoded data removed]",
      "text/plain": [
       "<Figure size 432x288 with 2 Axes>"
      ]
     },
     "metadata": {
      "needs_background": "light"
     },
     "output_type": "display_data"
    }
   ],
   "source": [
    "experiment_name = 'test_experiment_vna'\n",
    "measurement_name = 'supercool_2d_vna'\n",
    "exp = load_or_create_experiment(experiment_name=experiment_name, sample_name=sample_name)\n",
    "\n",
    "s21.center(2e9)\n",
    "s21.span(1e9)\n",
    "s21.bandwidth(1e3)\n",
    "s21.npts(101)\n",
    "s21.averaging_enabled(True)\n",
    "s21.avg(10)\n",
    "s21.power(-30)\n",
    "s21.set_electrical_delay_auto()\n",
    "\n",
    "vna.rf_on()\n",
    "res = do1d(s21.power, -30, -20, 10, 0.01, s21.trace_mag_phase, measurement_name=measurement_name);\n",
    "vna.rf_off()\n",
    "\n",
    "res[0].captured_run_id"
   ]
  },
  {
   "cell_type": "markdown",
   "id": "8afd57eb-aaa2-4d58-ad34-0c630531aa9d",
   "metadata": {
    "jp-MarkdownHeadingCollapsed": true,
    "tags": []
   },
   "source": [
    "<h3 style=\"color:#418FDB\";>Microwave measurement with VNA and signal generator</h3>"
   ]
  },
  {
   "cell_type": "markdown",
   "id": "07a691cc-4357-4940-8d80-e5ab97620f53",
   "metadata": {
    "tags": []
   },
   "source": [
    "<h4  style=\"color:#4697E8\";>VNA trace and signal generator CW</h4>"
   ]
  },
  {
   "cell_type": "code",
   "execution_count": 16,
   "id": "bc17512a-eeab-48b6-a1ec-c3a20e5f62ea",
   "metadata": {},
   "outputs": [
    {
     "name": "stdout",
     "output_type": "stream",
     "text": [
      "Starting experimental run with id: 122. Using 'qcodes.utils.dataset.doNd.do1d'\n"
     ]
    },
    {
     "data": {
      "application/vnd.jupyter.widget-view+json": {
       "model_id": "85fa31c1830a4eadbd6b74794d84c7eb",
       "version_major": 2,
       "version_minor": 0
      },
      "text/plain": [
       "  0%|          | 0/10 [00:00<?, ?it/s]"
      ]
     },
     "metadata": {},
     "output_type": "display_data"
    },
    {
     "data": {
      "image/png": "[encoded data removed]",
      "text/plain": [
       "<Figure size 432x288 with 2 Axes>"
      ]
     },
     "metadata": {
      "needs_background": "light"
     },
     "output_type": "display_data"
    },
    {
     "data": {
      "image/png": "[encoded data removed]",
      "text/plain": [
       "<Figure size 432x288 with 2 Axes>"
      ]
     },
     "metadata": {
      "needs_background": "light"
     },
     "output_type": "display_data"
    }
   ],
   "source": [
    "experiment_name = 'test_experiment_vna_mw'\n",
    "measurement_name = 'supercool_vna_cw'\n",
    "exp = load_or_create_experiment(experiment_name=experiment_name, sample_name=sample_name)\n",
    "\n",
    "#set the vna parameters\n",
    "s21.center(2e9)\n",
    "s21.span(1e9)\n",
    "s21.bandwidth(1e3)\n",
    "s21.npts(101)\n",
    "s21.averaging_enabled(True)\n",
    "s21.avg(10)\n",
    "s21.power(-30)\n",
    "s21.set_electrical_delay_auto()\n",
    "\n",
    "# set the signal generator parameters\n",
    "mw_source.sourcemode('CW')\n",
    "mw_source.power(-20)\n",
    "mw_source.phase(0)\n",
    "\n",
    "vna.rf_on()\n",
    "mw_source.status('ON')\n",
    "res = do1d(mw_source.frequency, 1e9, 3e9, 10, 0.01, s21.trace_mag_phase, measurement_name=measurement_name);\n",
    "mw_source.status('OFF')\n",
    "vna.rf_off()"
   ]
  },
  {
   "cell_type": "markdown",
   "id": "f107b18f-daf4-4a33-bba2-24521e8962fe",
   "metadata": {
    "tags": []
   },
   "source": [
    "<h4  style=\"color:#4697E8\";>VNA CW and signal generator sweep (two tones spectroscopy)</h4>"
   ]
  },
  {
   "cell_type": "code",
   "execution_count": 17,
   "id": "7af21056-18e4-42ae-ae3d-bb3bf9726f3c",
   "metadata": {},
   "outputs": [
    {
     "name": "stdout",
     "output_type": "stream",
     "text": [
      "Starting experimental run with id: 123. Using 'qcodes.utils.dataset.doNd.do1d'\n"
     ]
    },
    {
     "data": {
      "application/vnd.jupyter.widget-view+json": {
       "model_id": "42f36733827c4369829ca8d5bc712c02",
       "version_major": 2,
       "version_minor": 0
      },
      "text/plain": [
       "  0%|          | 0/11 [00:00<?, ?it/s]"
      ]
     },
     "metadata": {},
     "output_type": "display_data"
    },
    {
     "data": {
      "text/plain": [
       "[<matplotlib.lines.Line2D at 0x1cf49c32970>]"
      ]
     },
     "execution_count": 17,
     "metadata": {},
     "output_type": "execute_result"
    },
    {
     "data": {
      "image/png": "[encoded data removed]",
      "text/plain": [
       "<Figure size 432x288 with 1 Axes>"
      ]
     },
     "metadata": {
      "needs_background": "light"
     },
     "output_type": "display_data"
    }
   ],
   "source": [
    "experiment_name = 'test_experiment_vna_mw'\n",
    "measurement_name = 'supercool_vna_cw'\n",
    "exp = load_or_create_experiment(experiment_name=experiment_name, sample_name=sample_name)\n",
    "\n",
    "#set the vna parameters\n",
    "s21.center(2e9)\n",
    "s21.npts(1)\n",
    "s21.bandwidth(1e3)\n",
    "#s21.span(1e3)\n",
    "s21.averaging_enabled(True)\n",
    "s21.avg(10)\n",
    "s21.power(-30)\n",
    "#s21.set_electrical_delay_auto()\n",
    "\n",
    "# set the signal generator parameters\n",
    "mw_source.sourcemode('CW')\n",
    "mw_source.power(-20)\n",
    "mw_source.phase(0)\n",
    "\n",
    "# WARNING! It takes too much time for some reasons\n",
    "vna.rf_on()\n",
    "mw_source.status('ON')\n",
    "res = do1d(mw_source.frequency, 1e9, 3e9, 11, 0.01, s21.trace_mag_phase, measurement_name=measurement_name, do_plot=False);\n",
    "mw_source.status('OFF')\n",
    "vna.rf_off()\n",
    "\n",
    "# maybe it would be good to improve the plotting of the results\n",
    "runID = res[0].captured_run_id\n",
    "x = res[0].get_parameter_data('mw_source_frequency')['mw_source_frequency']['mw_source_frequency']\n",
    "y = res[0].get_parameter_data('ZNB20_S21_phase')['ZNB20_S21_phase']['ZNB20_S21_phase']\n",
    "plt.plot(x[::2], y)\n",
    "\n",
    "# add function that creates a measurements log file"
   ]
  },
  {
   "cell_type": "markdown",
   "id": "a17db20f-2519-4778-91a7-e68d2cfaa30b",
   "metadata": {},
   "source": [
    "<h4  style=\"color:#4697E8\";>VNA CW and signal generator power and frequency sweep (two tones spectroscopy)</h4>"
   ]
  },
  {
   "cell_type": "code",
   "execution_count": 22,
   "id": "eb6c5a58-9169-4410-9f34-7739e56f2102",
   "metadata": {},
   "outputs": [
    {
     "name": "stdout",
     "output_type": "stream",
     "text": [
      "Starting experimental run with id: 124. Using 'qcodes.utils.dataset.doNd.do2d'\n"
     ]
    },
    {
     "data": {
      "application/vnd.jupyter.widget-view+json": {
       "model_id": "258e97ef1b374e109e91af99e3ed5f29",
       "version_major": 2,
       "version_minor": 0
      },
      "text/plain": [
       "  0%|          | 0/6 [00:00<?, ?it/s]"
      ]
     },
     "metadata": {},
     "output_type": "display_data"
    },
    {
     "data": {
      "application/vnd.jupyter.widget-view+json": {
       "model_id": "",
       "version_major": 2,
       "version_minor": 0
      },
      "text/plain": [
       "  0%|          | 0/199 [00:00<?, ?it/s]"
      ]
     },
     "metadata": {},
     "output_type": "display_data"
    },
    {
     "data": {
      "application/vnd.jupyter.widget-view+json": {
       "model_id": "",
       "version_major": 2,
       "version_minor": 0
      },
      "text/plain": [
       "  0%|          | 0/199 [00:00<?, ?it/s]"
      ]
     },
     "metadata": {},
     "output_type": "display_data"
    },
    {
     "data": {
      "application/vnd.jupyter.widget-view+json": {
       "model_id": "",
       "version_major": 2,
       "version_minor": 0
      },
      "text/plain": [
       "  0%|          | 0/199 [00:00<?, ?it/s]"
      ]
     },
     "metadata": {},
     "output_type": "display_data"
    },
    {
     "data": {
      "application/vnd.jupyter.widget-view+json": {
       "model_id": "",
       "version_major": 2,
       "version_minor": 0
      },
      "text/plain": [
       "  0%|          | 0/199 [00:00<?, ?it/s]"
      ]
     },
     "metadata": {},
     "output_type": "display_data"
    },
    {
     "data": {
      "application/vnd.jupyter.widget-view+json": {
       "model_id": "",
       "version_major": 2,
       "version_minor": 0
      },
      "text/plain": [
       "  0%|          | 0/199 [00:00<?, ?it/s]"
      ]
     },
     "metadata": {},
     "output_type": "display_data"
    },
    {
     "data": {
      "application/vnd.jupyter.widget-view+json": {
       "model_id": "",
       "version_major": 2,
       "version_minor": 0
      },
      "text/plain": [
       "  0%|          | 0/199 [00:00<?, ?it/s]"
      ]
     },
     "metadata": {},
     "output_type": "display_data"
    }
   ],
   "source": [
    "experiment_name = 'two_tones_test'\n",
    "measurement_name = 'meas_4.8_tone_0.1_30'\n",
    "exp = load_or_create_experiment(experiment_name=experiment_name, sample_name=sample_name)\n",
    "\n",
    "#set the vna parameters\n",
    "s21.center(4e9)\n",
    "s21.npts(1)\n",
    "s21.bandwidth(1e2)\n",
    "#s21.span(1e3)\n",
    "s21.averaging_enabled(True)\n",
    "s21.avg(2)\n",
    "s21.power(-30)\n",
    "#s21.set_electrical_delay_auto()\n",
    "\n",
    "# set the signal generator parameters\n",
    "mw_source.sourcemode('CW')\n",
    "mw_source.phase(0)\n",
    "\n",
    "start_frequency = 100e6\n",
    "stop_frequency = 20e9\n",
    "step_frequency = 100e6\n",
    "frequency_points = int( (stop_frequency-start_frequency)/step_frequency )\n",
    "\n",
    "start_power = -30\n",
    "stop_power = 0\n",
    "step_power = 5\n",
    "power_points = int( (stop_power-start_power)/step_power )\n",
    "\n",
    "dwell_time = 0.005\n",
    "\n",
    "# WARNING! It takes too much time for some reasons\n",
    "vna.rf_on()\n",
    "mw_source.status('ON')\n",
    "res = do2d(mw_source.power, start_power, stop_power, power_points, dwell_time,\n",
    "           mw_source.frequency, start_frequency, stop_frequency, frequency_points, dwell_time, \n",
    "           s21.trace_mag_phase, measurement_name=measurement_name, do_plot=False);\n",
    "mw_source.status('OFF')\n",
    "vna.rf_off()\n",
    "\n",
    "# maybe it would be good to improve the plotting of the results\n",
    "#runID = res[0].captured_run_id\n",
    "#x = res[0].get_parameter_data('mw_source_frequency')['mw_source_frequency']['mw_source_frequency']\n",
    "#y = res[0].get_parameter_data('ZNB20_S21_phase')['ZNB20_S21_phase']['ZNB20_S21_phase']\n",
    "#plt.plot(x[::2], y)\n",
    "\n",
    "# add function that creates a measurements log file"
   ]
  },
  {
   "cell_type": "markdown",
   "id": "78b1b92f-5da3-40e3-a624-b08e635e1b83",
   "metadata": {
    "tags": []
   },
   "source": [
    "<h3  style=\"color:#418FDB\";>Microwave and DC measurements</h3>"
   ]
  },
  {
   "cell_type": "markdown",
   "id": "1cb1bb67-83c0-41cb-bc61-9db66d487a63",
   "metadata": {
    "tags": []
   },
   "source": [
    "<h4 style=\"color:#4697E8\";>Only ADwin</h4>"
   ]
  },
  {
   "cell_type": "code",
   "execution_count": 18,
   "id": "c4b8afee-2f9a-45dc-8292-e158057aa2f4",
   "metadata": {},
   "outputs": [],
   "source": [
    "experiment_name = 'test_experiment_adwin'\n",
    "measurement_name = 'supercool_this_adwin'\n",
    "exp = load_or_create_experiment(experiment_name=experiment_name, sample_name=sample_name)\n",
    "\n",
    "#set the adwin parameters\n"
   ]
  },
  {
   "cell_type": "markdown",
   "id": "00c65c47-8e1b-4aeb-8e8c-a4a7aa8391c8",
   "metadata": {},
   "source": [
    "<h4  style=\"color:#4697E8\";>Adwin and microwave signal generator</h4>"
   ]
  },
  {
   "cell_type": "code",
   "execution_count": null,
   "id": "b89dc2c3-76ae-45ef-9c54-b3fe40aca9bb",
   "metadata": {},
   "outputs": [],
   "source": []
  },
  {
   "cell_type": "markdown",
   "id": "a18e9f55-5666-4f4f-b806-5e0c79aaf4ba",
   "metadata": {
    "tags": []
   },
   "source": [
    "<h2 style=\"color:#1C3C5C\";>Data preview</h2>\n",
    "Using the experiments widget to look at all the measurements in the database, or filter them by experiment."
   ]
  },
  {
   "cell_type": "code",
   "execution_count": 19,
   "id": "b3b3996c-aae4-4f58-ae53-e1f4dbe09e93",
   "metadata": {
    "tags": []
   },
   "outputs": [
    {
     "data": {
      "application/vnd.jupyter.widget-view+json": {
       "model_id": "113fe6d0794b4f08b45ad48af3d9a3eb",
       "version_major": 2,
       "version_minor": 0
      },
      "text/plain": [
       "VBox(children=(HTML(value='<h1>QCoDeS experiments widget</h1>'), Tab(children=(Output(),), _titles={'0': 'Info…"
      ]
     },
     "metadata": {},
     "output_type": "display_data"
    }
   ],
   "source": [
    "experiments = qc.experiments()                       # define the experiments\n",
    "data_sets = experiments[6].data_sets()               # selecto only one experiment\n",
    "experiments_widget(data_sets=data_sets)              # start the widget on the selected experiment\n",
    "\n",
    "# experiments_widget(db=qc.config.core.db_location)  # start the widget on the whole database"
   ]
  },
  {
   "cell_type": "code",
   "execution_count": null,
   "id": "c831bf94-1d93-4313-9002-ca8be72b07b8",
   "metadata": {},
   "outputs": [],
   "source": []
  },
  {
   "cell_type": "code",
   "execution_count": null,
   "id": "f066fef5-1985-440e-ad51-58b7070655f3",
   "metadata": {},
   "outputs": [],
   "source": []
  }
 ],
 "metadata": {
  "kernelspec": {
   "display_name": "Python 3 (ipykernel)",
   "language": "python",
   "name": "python3"
  },
  "language_info": {
   "codemirror_mode": {
    "name": "ipython",
    "version": 3
   },
   "file_extension": ".py",
   "mimetype": "text/x-python",
   "name": "python",
   "nbconvert_exporter": "python",
   "pygments_lexer": "ipython3",
   "version": "3.8.11"
  }
 },
 "nbformat": 4,
 "nbformat_minor": 5
}
