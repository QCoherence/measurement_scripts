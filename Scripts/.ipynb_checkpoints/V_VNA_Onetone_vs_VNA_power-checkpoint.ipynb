{
 "cells": [
  {
   "cell_type": "code",
   "execution_count": 1,
   "id": "english-spotlight",
   "metadata": {},
   "outputs": [],
   "source": [
    "import qcodes as qc\n",
    "from qcodes.logger.logger import start_all_logging\n",
    "from qcodes.dataset.plotting import plot_dataset,plot_by_id\n",
    "from qcodes.instrument.specialized_parameters import ElapsedTimeParameter\n",
    "from qcodes.loops import Loop\n",
    "from qcodes.plots.pyqtgraph import QtPlot\n",
    "import numpy as np\n",
    "import datetime\n",
    "import time\n",
    "import matplotlib.pyplot as plt\n",
    "from mpl_toolkits.axes_grid1 import make_axes_locatable\n",
    "\n",
    "#qcodes.config.subscription.default_subscribers = [\"Plottr\"]\n",
    "from time import sleep\n",
    "import json\n",
    "\n",
    "#importing the instruments\n",
    "import sys\n",
    "sys.path.append('C:\\QCodes_Driver_And_Scripts\\Drivers')\n",
    "from VNA_ZNB20 import ZNB\n",
    "from VNA_ZNB20 import ZNBChannel\n",
    "from HP3245A import HP3245A"
   ]
  },
  {
   "cell_type": "markdown",
   "id": "varied-oliver",
   "metadata": {},
   "source": [
    "Connect to VNA"
   ]
  },
  {
   "cell_type": "code",
   "execution_count": 2,
   "id": "suited-teaching",
   "metadata": {},
   "outputs": [
    {
     "name": "stdout",
     "output_type": "stream",
     "text": [
      "Connected to: Rohde-Schwarz ZNB20-2Port (serial:1311601062101578, firmware:2.80) in 0.06s\n"
     ]
    }
   ],
   "source": [
    "try:\n",
    "    VNA = ZNB('ZNB20', 'TCPIP0::192.168.10.2::inst0::INSTR',init_s_params=False,terminator='\\n')\n",
    "\n",
    "except KeyError as er:\n",
    "\n",
    "    ZNB.close_all() #Disconnect and irreversibly tear down the instrument\n",
    "    VNA = ZNB('ZNB20', 'TCPIP0::192.168.10.2::inst0::INSTR',init_s_params=False,terminator='\\n')\n",
    "\n",
    "try:\n",
    "    I_source = HP3245A('current_source', 'GPIB::17')\n",
    "except KeyError as er:\n",
    "\n",
    "    HP3245A.close_all() #Disconnect and irreversibly tear down the instrument\n",
    "    I_source = HP3245A('current_source', 'GPIB::17')\n"
   ]
  },
  {
   "cell_type": "code",
   "execution_count": 4,
   "id": "amber-knife",
   "metadata": {},
   "outputs": [
    {
     "name": "stdout",
     "output_type": "stream",
     "text": [
      "Activating auto-logging. Current session state plus future input saved.\n",
      "Filename       : C:\\Users\\wiebke.guichard\\.qcodes\\logs\\command_history.log\n",
      "Mode           : append\n",
      "Output logging : True\n",
      "Raw input log  : False\n",
      "Timestamping   : True\n",
      "State          : active\n",
      "Qcodes Logfile : C:\\Users\\wiebke.guichard\\.qcodes\\logs\\210202-8700-qcodes.log\n",
      "Upgrading database; v0 -> v1: : 0it [00:00, ?it/s]\n",
      "Upgrading database; v1 -> v2: 100%|█████████████| 1/1 [00:00<00:00, 199.99it/s]\n",
      "Upgrading database; v2 -> v3: : 0it [00:00, ?it/s]\n",
      "Upgrading database; v3 -> v4: : 0it [00:00, ?it/s]\n",
      "Upgrading database; v4 -> v5: 100%|█████████████| 1/1 [00:00<00:00, 199.99it/s]\n",
      "Upgrading database; v5 -> v6: : 0it [00:00, ?it/s]\n",
      "Upgrading database; v6 -> v7: 100%|██████████████| 1/1 [00:00<00:00,  9.34it/s]\n",
      "Upgrading database; v7 -> v8: 100%|█████████████| 1/1 [00:00<00:00, 499.98it/s]\n",
      "Upgrading database; v8 -> v9: 100%|█████████████| 1/1 [00:00<00:00, 142.85it/s]\n",
      "datafilestring: C:\\QCodes_Driver_And_Scripts\\Data_QCodes\\Vlad\\2021_2_2_VM_Onetone_vs_VNA_power_add40dBmore\n"
     ]
    }
   ],
   "source": [
    "start_all_logging()\n",
    "\n",
    "#create a station\n",
    "station = qc.Station()\n",
    "station.add_component(VNA)\n",
    "station.add_component(I_source)\n",
    "\n",
    "station.snapshot()\n",
    "station.components\n",
    "\n",
    "# Load experiment details\n",
    "user='VM'\n",
    "date = datetime.date.today()\n",
    "description='Onetone_vs_VNA_power_add40dBmore'\n",
    "database_name = str(date.year)+\"_\"+str(date.month)+\"_\"+str(date.day)+\"_\"+user+\"_\"+description\n",
    "\n",
    "\n",
    "#Create or Initialize the database\n",
    "qc.initialise_or_create_database_at(\"C:\\QCodes_Driver_And_Scripts\\Data_QCodes\\Vlad\\\\\"+database_name)\n",
    "datafilestring = qc.config.core.db_location\n",
    "\n",
    "print('datafilestring:', datafilestring)"
   ]
  },
  {
   "cell_type": "markdown",
   "id": "knowing-picnic",
   "metadata": {},
   "source": [
    "## onetone_vs_power"
   ]
  },
  {
   "cell_type": "code",
   "execution_count": 5,
   "id": "alternate-literature",
   "metadata": {},
   "outputs": [],
   "source": [
    "def measure_vs_VNApower(power_vec, exp, station):\n",
    "    VNA.rf_on()\n",
    "    meas = qc.Measurement(exp=exp, station=station)\n",
    "    meas.register_parameter(I_source.current)\n",
    "    meas.register_parameter(VNA.channels.S21.power)\n",
    "    \n",
    "    meas.register_parameter(VNA.channels.S21.trace_mag_phase, setpoints=[VNA.channels.S21.power])\n",
    "    meas.write_period = 10\n",
    "\n",
    "    with meas.run() as datasaver:\n",
    "\n",
    "        for VNA_power in power_vec:\n",
    "\n",
    "            VNA.channels.S21.power(VNA_power)\n",
    "\n",
    "            get_v = VNA.channels.S21.trace_mag_phase.get()\n",
    "            get_p = VNA.channels.S21.power.get()\n",
    "\n",
    "            datasaver.add_result((VNA.channels.S21.trace_mag_phase, get_v),(VNA.channels.S21.power, get_p))\n",
    "\n",
    "    id=datasaver.dataset.run_id\n",
    "    qc.load_by_run_spec( captured_run_id=id ).add_metadata('parameter_snap',json.dumps(parameter_snap))\n",
    "    \n",
    "    "
   ]
  },
  {
   "cell_type": "code",
   "execution_count": 6,
   "id": "virtual-advance",
   "metadata": {},
   "outputs": [],
   "source": [
    "#I_source\n",
    "I_source.reset()\n",
    "I_source.current(0.0)"
   ]
  },
  {
   "cell_type": "code",
   "execution_count": 7,
   "id": "formed-westminster",
   "metadata": {},
   "outputs": [
    {
     "name": "stdout",
     "output_type": "stream",
     "text": [
      "VNA Powers: [-60 -50 -40 -30]\n",
      "time for one trace : 50.1 s\n"
     ]
    }
   ],
   "source": [
    "# Initialize devices and measurement\n",
    "parameter_snap={}\n",
    "\n",
    "\n",
    "\n",
    "# VNA\n",
    "VNA_power_start = -60\n",
    "VNA_power_stop = -20\n",
    "VNA_power_step = 10\n",
    "\n",
    "VNA_power_vector = np.arange( VNA_power_start, VNA_power_stop, VNA_power_step )\n",
    "print('VNA Powers:', VNA_power_vector)\n",
    "\n",
    "# center_freq = 7.2 #in [GHz]\n",
    "# span = 0.2  #in [GHz]\n",
    "# start_freq = center_freq - 0.5*span\n",
    "# end_freq = start_freq + span\n",
    "start_freq = 7.150\n",
    "end_freq   = 7.300\n",
    "\n",
    "IF_bandwidth = 10\n",
    "Averages = 10\n",
    "points_VNA = 501\n",
    "trace_time=points_VNA / IF_bandwidth\n",
    "\n",
    "print('time for one trace : {} s'.format(trace_time))\n",
    "parameter_snap['vna'] = {'start_freq':start_freq, 'end_freq':end_freq, 'VNA_power_start':VNA_power_start, 'VNA_power_stop':VNA_power_stop, 'VNA_power_step':VNA_power_step, 'IF_bandwidth':IF_bandwidth, 'Averages':Averages, 'points':points_VNA}\n",
    "\n",
    "\n",
    "VNA.add_channel('S21',vna_parameter='S21')\n",
    "\n",
    "VNA.channels.S21.format('Phase')\n",
    "VNA.channels.S21.bandwidth(IF_bandwidth)\n",
    "VNA.channels.S21.power(VNA_power_vector[0])\n",
    "VNA.channels.S21.avg(Averages)\n",
    "VNA.channels.npts(points_VNA)\n",
    "VNA.channels.start(start_freq*1e9)\n",
    "VNA.channels.stop(end_freq*1e9)\n",
    "\n"
   ]
  },
  {
   "cell_type": "code",
   "execution_count": null,
   "id": "flying-plane",
   "metadata": {},
   "outputs": [
    {
     "name": "stdout",
     "output_type": "stream",
     "text": [
      "Starting experimental run with id: 1. \n"
     ]
    }
   ],
   "source": [
    "### Start measurements\n",
    "\n",
    "\n",
    "exp_name = 'onetone_vs_power_Vlad'\n",
    "\n",
    "sample_name = 'w7ch16'\n",
    "\n",
    "exp=qc.load_or_create_experiment(experiment_name=exp_name,\n",
    "                          sample_name=sample_name)\n",
    "\n",
    "measure_vs_VNApower(VNA_power_vector, exp=exp, station=station)\n",
    "# Shutdown devices\n",
    "VNA.rf_off()\n",
    "VNA.reset()\n",
    "VNA.cont_meas_off()\n",
    "I_source.reset()\n",
    "print('Finished')\n"
   ]
  },
  {
   "cell_type": "markdown",
   "id": "parliamentary-south",
   "metadata": {},
   "source": [
    "## Processing&Plotting"
   ]
  },
  {
   "cell_type": "code",
   "execution_count": null,
   "id": "personal-huntington",
   "metadata": {},
   "outputs": [],
   "source": [
    "# load from here: datafilestring\n",
    "qc.initialise_or_create_database_at(datafilestring)\n",
    "qc.config.core.db_location\n",
    "exp=qc.experiments()\n",
    "print(exp)"
   ]
  },
  {
   "cell_type": "code",
   "execution_count": null,
   "id": "approved-daily",
   "metadata": {},
   "outputs": [],
   "source": [
    "captured_run_id=1\n",
    "\n",
    "\n",
    "dataset = qc.load_by_run_spec(captured_run_id=captured_run_id)\n",
    "parameter=json.loads(dataset.get_metadata('parameter_snap'))\n",
    "print(parameter)\n",
    "\n",
    "# print(dataset)\n",
    "dataset.exp_name\n",
    "\n",
    "# current=dataset.get_parameter_data('current_source_current')['current_source_current']['current_source_current']\n",
    "power = dataset.get_parameter_data('ZNB20_S21_power')['ZNB20_S21_power']['ZNB20_S21_power']\n",
    "phase = dataset.get_parameter_data('ZNB20_S21_phase')['ZNB20_S21_phase']['ZNB20_S21_phase']\n",
    "amp   = 20*np.log10(dataset.get_parameter_data('ZNB20_S21_magnitude')['ZNB20_S21_magnitude']['ZNB20_S21_magnitude'])\n",
    "freq  = dataset.get_parameter_data('ZNB20_S21_S21_frequency')['ZNB20_S21_S21_frequency']['ZNB20_S21_S21_frequency'][0:parameter['vna']['points']]*1e-9\n",
    "\n",
    "\n",
    "power_new=np.unique(power)\n",
    "phase_new=np.reshape(phase,(len(power_new),len(freq)))\n",
    "amp_new=np.reshape(amp,(len(power_new),len(freq)))\n",
    "\n",
    "slp=2.*np.pi/(0.02) \n",
    "\n",
    "\n",
    "amp_bckground_med=np.median(amp_new,axis=0)\n",
    "amp_bckground=np.array([amp_med*np.ones(len(power_new)) for amp_med in amp_bckground_med])\n",
    "# amp_norm=amp_new.T -amp_bckground\n",
    "amp_norm=amp_new.T\n",
    "\n",
    "phase_bckground_med=np.median(phase_new,axis=0)\n",
    "phase_bckground=np.array([phase_med*np.ones(len(power_new)) for phase_med in phase_bckground_med])\n",
    "# phase_norm=phase_new.T - phase_bckground\n",
    "phase_norm=phase_new.T\n",
    "\n",
    "#Figure and axes\n",
    "fig, (ax1,ax2) = plt.subplots(2,1,sharex = True, sharey = True,figsize=(12,10))   \n",
    "ax2.set_xlabel('Power (dBm)')\n",
    "ax1.set_ylabel('VNA frequency (GHz)') \n",
    "ax2.set_ylabel('VNA frequency (GHz)')\n",
    " \n",
    "cax1 = ax1.imshow(amp_norm, extent=[power_new[0], power_new[-1], freq[0], freq[-1]], interpolation='none',origin='lower', aspect='auto',cmap='magma')\n",
    "cax2 = ax2.imshow(phase_norm, extent=[power_new[0], power_new[-1], freq[0], freq[-1]], interpolation='none',origin='lower', aspect='auto',cmap='twilight')\n",
    "\n",
    "# cax1 = ax1.imshow(amp_norm, extent=[power_new[0], power_new[-1], freq[0], freq[-1]],   vmin=-2,vmax=2,  interpolation='none',origin='lower', aspect='auto',cmap='magma')\n",
    "# cax2 = ax2.imshow(phase_norm, extent=[power_new[0], power_new[-1], freq[0], freq[-1]], vmin=-1,vmax=1,  interpolation='none',origin='lower', aspect='auto',cmap='twilight')\n",
    "\n",
    "divider1 = make_axes_locatable(ax1) \n",
    "cbax1 = divider1.append_axes(\"right\", size=\"5%\", pad=0.05) #Sets the position and size of the colorbar\n",
    "divider2 = make_axes_locatable(ax2) \n",
    "cbax2 = divider2.append_axes(\"right\", size=\"5%\", pad=0.05) #Sets the position and size of the colorbar\n",
    "\n",
    "cbar1 = fig.colorbar(cax1,cax=cbax1)\n",
    "cbar2 = fig.colorbar(cax2,cax=cbax2)\n",
    "\n",
    "cbar1.set_label('|S21|',rotation=90)\n",
    "cbar2.set_label('Arg(S21)',rotation=90)"
   ]
  },
  {
   "cell_type": "code",
   "execution_count": null,
   "id": "experimental-pendant",
   "metadata": {},
   "outputs": [],
   "source": [
    "## on the lines 62dB attenuation\n",
    "\n",
    "#Figure and axes\n",
    "fig, ax = plt.subplots(1,1,sharex = True, sharey = True,figsize=(12,10))   \n",
    "\n",
    "power_slice=-50\n",
    "idx_slice=np.argmin(np.abs(power_new-power_slice))\n",
    "print(idx_slice)\n",
    "ax.plot(freq,amp_norm[:,idx_slice], label=str(float(power_new[idx_slice]))+'dB' )\n",
    "\n",
    "power_slice=-40\n",
    "idx_slice=np.argmin(np.abs(power_new-power_slice))\n",
    "print(idx_slice)\n",
    "ax.plot(freq,amp_norm[:,idx_slice], label=str(float(power_new[idx_slice]))+'dB' )\n",
    "\n",
    "\n",
    "power_slice=-30\n",
    "idx_slice=np.argmin(np.abs(power_new-power_slice))\n",
    "print(idx_slice)\n",
    "ax.plot(freq,amp_norm[:,idx_slice], label=str(float(power_new[idx_slice]))+'dB' )\n",
    "\n",
    "\n",
    "ax.set_xlabel('Frequency (GHz)')\n",
    "ax.set_ylabel('Ampl (dB)')\n",
    "ax.legend()\n",
    "ax.grid()"
   ]
  },
  {
   "cell_type": "code",
   "execution_count": null,
   "id": "binary-latitude",
   "metadata": {},
   "outputs": [],
   "source": []
  },
  {
   "cell_type": "code",
   "execution_count": null,
   "id": "strange-sample",
   "metadata": {},
   "outputs": [],
   "source": []
  }
 ],
 "metadata": {
  "kernelspec": {
   "display_name": "Python 3",
   "language": "python",
   "name": "python3"
  },
  "language_info": {
   "codemirror_mode": {
    "name": "ipython",
    "version": 3
   },
   "file_extension": ".py",
   "mimetype": "text/x-python",
   "name": "python",
   "nbconvert_exporter": "python",
   "pygments_lexer": "ipython3",
   "version": "3.7.9"
  }
 },
 "nbformat": 4,
 "nbformat_minor": 5
}
