{
 "cells": [
  {
   "cell_type": "code",
   "execution_count": 1,
   "id": "offensive-copying",
   "metadata": {},
   "outputs": [],
   "source": [
    "import logging\n",
    "from qcodes import VisaInstrument, Instrument\n",
    "from qcodes import ChannelList, InstrumentChannel\n",
    "from qcodes.utils import validators as vals\n",
    "import numpy as np\n",
    "from qcodes import MultiParameter, ArrayParameter, Parameter\n",
    "import qcodes as qc"
   ]
  },
  {
   "cell_type": "code",
   "execution_count": 2,
   "id": "therapeutic-welding",
   "metadata": {},
   "outputs": [],
   "source": [
    "import sys\n",
    "sys.path.append('C:\\QCodes_Driver_And_Scripts\\Drivers')\n",
    "from HP3245A import *"
   ]
  },
  {
   "cell_type": "code",
   "execution_count": 4,
   "id": "loved-location",
   "metadata": {},
   "outputs": [
    {
     "name": "stdout",
     "output_type": "stream",
     "text": [
      "Connected to: None current_source (serial:None, firmware:None) in 16.97s\n"
     ]
    }
   ],
   "source": [
    "\n",
    "try:\n",
    "    Current_source = HP3245A('current_source', 'GPIB0::24::INSTR')\n",
    "\n",
    "except KeyError as err:\n",
    "\n",
    "    HP3245A.close_all() #Disconnect and irreversibly tear down the instrument\n",
    "    Current_source = HP3245A('current_source', 'GPIB0::24::INSTR')\n",
    "\n"
   ]
  },
  {
   "cell_type": "code",
   "execution_count": null,
   "id": "correct-forth",
   "metadata": {},
   "outputs": [],
   "source": [
    "Current_source.current(0.00)"
   ]
  },
  {
   "cell_type": "code",
   "execution_count": 5,
   "id": "trained-notification",
   "metadata": {},
   "outputs": [],
   "source": [
    "Current_source.resolution('HIGH')"
   ]
  },
  {
   "cell_type": "code",
   "execution_count": 6,
   "id": "sorted-average",
   "metadata": {},
   "outputs": [
    {
     "data": {
      "text/plain": [
       "True"
      ]
     },
     "execution_count": 6,
     "metadata": {},
     "output_type": "execute_result"
    }
   ],
   "source": [
    "Current_source.current.gettable"
   ]
  },
  {
   "cell_type": "code",
   "execution_count": 7,
   "id": "humanitarian-patrol",
   "metadata": {},
   "outputs": [],
   "source": [
    "Current_source.channel('a')"
   ]
  },
  {
   "cell_type": "code",
   "execution_count": 8,
   "id": "reverse-longer",
   "metadata": {},
   "outputs": [],
   "source": [
    "Current_source.output_terminal('FRONT')"
   ]
  },
  {
   "cell_type": "code",
   "execution_count": 9,
   "id": "protected-kitchen",
   "metadata": {},
   "outputs": [
    {
     "name": "stdout",
     "output_type": "stream",
     "text": [
      "FRONT\n"
     ]
    }
   ],
   "source": [
    "print(Current_source.output_terminal.get())"
   ]
  },
  {
   "cell_type": "code",
   "execution_count": 10,
   "id": "verified-international",
   "metadata": {},
   "outputs": [
    {
     "data": {
      "text/plain": [
       "0.0"
      ]
     },
     "execution_count": 10,
     "metadata": {},
     "output_type": "execute_result"
    }
   ],
   "source": [
    "Current_source.current.get()"
   ]
  },
  {
   "cell_type": "code",
   "execution_count": 11,
   "id": "associate-wayne",
   "metadata": {},
   "outputs": [
    {
     "data": {
      "text/plain": [
       "'dci'"
      ]
     },
     "execution_count": 11,
     "metadata": {},
     "output_type": "execute_result"
    }
   ],
   "source": [
    "Current_source.mode.get()"
   ]
  },
  {
   "cell_type": "code",
   "execution_count": 12,
   "id": "wired-dinner",
   "metadata": {},
   "outputs": [],
   "source": [
    "Current_source.reset()"
   ]
  },
  {
   "cell_type": "code",
   "execution_count": null,
   "id": "difficult-being",
   "metadata": {},
   "outputs": [],
   "source": []
  }
 ],
 "metadata": {
  "kernelspec": {
   "display_name": "Python 3",
   "language": "python",
   "name": "python3"
  },
  "language_info": {
   "codemirror_mode": {
    "name": "ipython",
    "version": 3
   },
   "file_extension": ".py",
   "mimetype": "text/x-python",
   "name": "python",
   "nbconvert_exporter": "python",
   "pygments_lexer": "ipython3",
   "version": "3.7.9"
  }
 },
 "nbformat": 4,
 "nbformat_minor": 5
}
