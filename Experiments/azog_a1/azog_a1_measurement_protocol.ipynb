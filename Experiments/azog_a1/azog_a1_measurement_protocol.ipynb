{
 "cells": [
  {
   "cell_type": "markdown",
   "id": "4939aeb4-f71d-48af-a7b5-adfe0f530ffa",
   "metadata": {
    "tags": []
   },
   "source": [
    "<h1 style=\"color:#2F659C\";>Azog A1 measurement script</h1>\n",
    "The cooled down chip is azog_a1, a resonators made of 1500 bridge free junctions."
   ]
  },
  {
   "cell_type": "code",
   "execution_count": 2,
   "id": "a81ea71e-e98a-4cb2-8521-3f501bbc8009",
   "metadata": {},
   "outputs": [],
   "source": [
    "sample_name = 'azog_a1'       # name of the chip in the fridge\n",
    "\n",
    "user = 'ncr'                  # who is performing measurements\n",
    "date = '20211014'             # when did the measurements started\n",
    "description = 'resonator_dc'  # super short description of what you are doing"
   ]
  },
  {
   "cell_type": "markdown",
   "id": "6934e032-76a1-4bed-adff-f86d2755182c",
   "metadata": {
    "tags": []
   },
   "source": [
    "<h3 style=\"color:#418FDB\";>QCodes imports</h3>\n",
    "Import the QCodes functions used in the measurement of this sample."
   ]
  },
  {
   "cell_type": "code",
   "execution_count": 3,
   "id": "02fb3f10-4374-434d-979c-e39fcfabbad5",
   "metadata": {},
   "outputs": [],
   "source": [
    "import os\n",
    "import sys\n",
    "from time import sleep, perf_counter\n",
    "\n",
    "import matplotlib.pyplot as plt\n",
    "import numpy as np\n",
    "import qcodes as qc\n",
    "from qcodes import (\n",
    "    Measurement,\n",
    "    experiments,\n",
    "    initialise_database,\n",
    "    initialise_or_create_database_at,\n",
    "    load_by_guid,\n",
    "    load_by_run_spec,\n",
    "    load_experiment,\n",
    "    load_last_experiment,\n",
    "    load_or_create_experiment,\n",
    "    new_experiment,\n",
    ")\n",
    "\n",
    "#from qcodes.utils.dataset.doNd import do0d, do1d, do2d, dond, plot, LinSweep, LogSweep\n",
    "\n",
    "from qcodes.dataset.plotting import plot_dataset\n",
    "from qcodes.logger.logger import start_all_logging, start_command_history_logger\n",
    "from qcodes.tests.instrument_mocks import DummyInstrument, DummyInstrumentWithMeasurement\n",
    "from qcodes.interactive_widget import experiments_widget"
   ]
  },
  {
   "cell_type": "code",
   "execution_count": 4,
   "id": "4d8e7c02-b087-43f3-87db-ac9f6ff903df",
   "metadata": {},
   "outputs": [],
   "source": [
    "sys.path.append(r'C:\\Users\\nicolas.roch\\Measurements\\Scripts')\n",
    "from QMETfunc.QMET_measurement import do0d, do1d, do2d, dond, LinSweep, LogSweep"
   ]
  },
  {
   "cell_type": "markdown",
   "id": "13937d64-19e3-4758-8335-923bcf7e3503",
   "metadata": {
    "jp-MarkdownHeadingCollapsed": true,
    "tags": []
   },
   "source": [
    "data_dir = os.path.join(r'D:\\QMET' + '\\\\' + sample_name)\n",
    "<h2 style=\"color:#1C3C5C\";>Station and database setup</h2>\n",
    "Add the instruments to the station and start all the loggings related to the measurement. Then create or initialise the database where all the data will be saved."
   ]
  },
  {
   "cell_type": "code",
   "execution_count": 4,
   "id": "8f806aa0-4b82-40ca-922b-015f11a8bef3",
   "metadata": {},
   "outputs": [],
   "source": [
    "data_dir = os.path.join(r'D:\\QMET' + '\\\\' + sample_name)"
   ]
  },
  {
   "cell_type": "markdown",
   "id": "3fd1ca37-75f8-41b0-b0f4-e0bc60c4b75a",
   "metadata": {
    "jp-MarkdownHeadingCollapsed": true,
    "tags": []
   },
   "source": [
    "<h3 style=\"color:#418FDB\";>Station initialization</h3>"
   ]
  },
  {
   "cell_type": "code",
   "execution_count": 5,
   "id": "9bb01d3d-7e10-44d7-8791-e016abe35de1",
   "metadata": {},
   "outputs": [
    {
     "name": "stdout",
     "output_type": "stream",
     "text": [
      "Logging hadn't been started.\n",
      "Activating auto-logging. Current session state plus future input saved.\n",
      "Filename       : C:\\Users\\nicolas.roch\\.qcodes\\logs\\command_history.log\n",
      "Mode           : append\n",
      "Output logging : True\n",
      "Raw input log  : False\n",
      "Timestamping   : True\n",
      "State          : active\n",
      "Qcodes Logfile : C:\\Users\\nicolas.roch\\.qcodes\\logs\\211014-13172-qcodes.log\n",
      "Activating auto-logging. Current session state plus future input saved.\n",
      "Filename       : D:\\QMET\\azog_a1\\command_history.log\n",
      "Mode           : append\n",
      "Output logging : True\n",
      "Raw input log  : False\n",
      "Timestamping   : True\n",
      "State          : active\n"
     ]
    }
   ],
   "source": [
    "STATION = qc.Station()\n",
    "\n",
    "start_all_logging()\n",
    "start_command_history_logger(data_dir)"
   ]
  },
  {
   "cell_type": "markdown",
   "id": "015d42dc-3ef6-40d1-8bf0-0567b417072f",
   "metadata": {
    "jp-MarkdownHeadingCollapsed": true,
    "tags": []
   },
   "source": [
    "<h3 style=\"color:#418FDB\";>Database initialization</h3>"
   ]
  },
  {
   "cell_type": "code",
   "execution_count": 6,
   "id": "8909d4f9-6098-42a6-bc3c-736c11884cc7",
   "metadata": {},
   "outputs": [
    {
     "name": "stdout",
     "output_type": "stream",
     "text": [
      "Upgrading database; v0 -> v1: : 0it [00:00, ?it/s]\n",
      "Upgrading database; v1 -> v2: 100%|█████████████████████████████████████████████████████| 1/1 [00:00<00:00, 111.45it/s]\n",
      "Upgrading database; v2 -> v3: : 0it [00:00, ?it/s]\n",
      "Upgrading database; v3 -> v4: : 0it [00:00, ?it/s]\n",
      "Upgrading database; v4 -> v5: 100%|█████████████████████████████████████████████████████| 1/1 [00:00<00:00, 333.57it/s]\n",
      "Upgrading database; v5 -> v6: : 0it [00:00, ?it/s]\n",
      "Upgrading database; v6 -> v7: 100%|██████████████████████████████████████████████████████| 1/1 [00:00<00:00, 18.01it/s]\n",
      "Upgrading database; v7 -> v8: 100%|█████████████████████████████████████████████████████| 1/1 [00:00<00:00, 975.87it/s]\n",
      "Upgrading database; v8 -> v9: 100%|█████████████████████████████████████████████████████| 1/1 [00:00<00:00, 248.95it/s]\n"
     ]
    },
    {
     "data": {
      "text/plain": [
       "'D:\\\\QMET\\\\azog_a1\\\\20211014_ncr_resonator_dc.db'"
      ]
     },
     "execution_count": 6,
     "metadata": {},
     "output_type": "execute_result"
    }
   ],
   "source": [
    "database_name = date + '_' + user + '_' + description\n",
    "try :\n",
    "    os.mkdir(data_dir)\n",
    "except FileExistsError:\n",
    "    pass\n",
    "\n",
    "qc.initialise_or_create_database_at(data_dir + '\\\\' + database_name + '.db')\n",
    "qc.config.core.db_location"
   ]
  },
  {
   "cell_type": "markdown",
   "id": "cf879c4e-9232-4dd5-a128-4f32d83faa74",
   "metadata": {
    "tags": []
   },
   "source": [
    "<h3 style=\"color:#418FDB\";>Instruments initialisation</h3>\n",
    "Add to path the folder containing the drivers. Then import and connect to the used instruments, while delete the unused ones."
   ]
  },
  {
   "cell_type": "code",
   "execution_count": 7,
   "id": "0504fe5e-c06f-45e5-a8a8-3762ca88a243",
   "metadata": {},
   "outputs": [],
   "source": [
    "sys.path.append(r'C:\\Users\\nicolas.roch\\Measurements\\Drivers')"
   ]
  },
  {
   "cell_type": "markdown",
   "id": "da800d16-ab64-4330-944e-9844a29bd89d",
   "metadata": {
    "jp-MarkdownHeadingCollapsed": true,
    "tags": []
   },
   "source": [
    "<h4  style=\"color:#4697E8\";>Connect to the Rohde&Schwartz VNA</h4>"
   ]
  },
  {
   "cell_type": "code",
   "execution_count": 8,
   "id": "a890cf48-3488-4744-a232-c61488645ef0",
   "metadata": {},
   "outputs": [
    {
     "name": "stdout",
     "output_type": "stream",
     "text": [
      "Connected to: Rohde-Schwarz ZNB20-2Port (serial:1311601062101579, firmware:2.94) in 0.07s\n"
     ]
    }
   ],
   "source": [
    "from VNA_ZNB20 import ZNB\n",
    "#from VNA_RS import ZNB\n",
    "#from VNA_ZNB20 import ZNBChannel\n",
    "\n",
    "try:\n",
    "    vna = ZNB('ZNB20', 'TCPIP0::192.168.0.9::inst0::INSTR',\n",
    "               init_s_params=False,terminator='\\n')\n",
    "except KeyError as er:\n",
    "    ZNB.close_all() # Disconnect and irreversibly tear down the instrument\n",
    "    vna = ZNB('ZNB20', 'TCPIP0::192.168.0.9::inst0::INSTR',\n",
    "               init_s_params=False,terminator='\\n')\n",
    "    \n",
    "vna.clear_channels()\n",
    "\n",
    "vna.add_channel('S21', vna_parameter='S21');\n",
    "s21 = vna.channels.S21\n",
    "\n",
    "#vna.add_channel('S11', vna_parameter='S11');\n",
    "#s11 = vna.channels.S11"
   ]
  },
  {
   "cell_type": "markdown",
   "id": "3b8d112c-4c15-4d0a-b2d5-2e6aa2423ac9",
   "metadata": {
    "jp-MarkdownHeadingCollapsed": true,
    "tags": []
   },
   "source": [
    "<h4 style=\"color:#4697E8\";>Connect to the ADwin</h4>"
   ]
  },
  {
   "cell_type": "code",
   "execution_count": 9,
   "id": "83511b60-266d-466d-9504-7b8fc70a67b9",
   "metadata": {},
   "outputs": [
    {
     "name": "stdout",
     "output_type": "stream",
     "text": [
      "Connected to: None adwin (serial:None, firmware:None) in 0.27s\n"
     ]
    }
   ],
   "source": [
    "from ADwin_Gold2 import ADwin_Gold2, adwin_Nramp\n",
    "\n",
    "ad = ADwin_Gold2(\"adwin\",\n",
    "                 r\"C:\\Users\\nicolas.roch\\Measurements\\Drivers\\adwin\\nanoqt\\ressources\\ADwin11.btl\",\n",
    "                 r\"C:\\Users\\nicolas.roch\\Measurements\\Drivers\\adwin\\nanoqt\\ressources\\acquisition-gold2.TB1\")"
   ]
  },
  {
   "cell_type": "markdown",
   "id": "ff387b6b-7b8e-4d87-be23-e4402b6e9c46",
   "metadata": {
    "jp-MarkdownHeadingCollapsed": true,
    "tags": []
   },
   "source": [
    "<h4 style=\"color:#4697E8\";>Connect to the Agilent signal generator</h4>"
   ]
  },
  {
   "cell_type": "code",
   "execution_count": 10,
   "id": "ae9da875-4c06-4c5e-89d0-c64a6c824b78",
   "metadata": {},
   "outputs": [
    {
     "name": "stdout",
     "output_type": "stream",
     "text": [
      "Connected to: Agilent Technologies E8257D (serial:US45470698, firmware:C.06.28) in 0.03s\n"
     ]
    }
   ],
   "source": [
    "from Agilent_E8257D import E8257D\n",
    "\n",
    "try:\n",
    "    mw_source = E8257D('mw_source','TCPIP0::192.168.0.70::inst0::INSTR')\n",
    "except KeyError as er:\n",
    "    E8257D.close_all()\n",
    "    mw_source = E8257D('mw_source','TCPIP0::192.168.0.70::inst0::INSTR')"
   ]
  },
  {
   "cell_type": "markdown",
   "id": "2f23125f-73ed-4014-afeb-f7019d962c52",
   "metadata": {
    "jp-MarkdownHeadingCollapsed": true,
    "tags": []
   },
   "source": [
    "<h4 style=\"color:#4697E8\";>Connect to the Rohde&Schwartz signal generator</h4>"
   ]
  },
  {
   "cell_type": "code",
   "execution_count": 11,
   "id": "acbb4361-7e6a-45f1-9f28-d6f058814bd7",
   "metadata": {},
   "outputs": [],
   "source": [
    "from RS_SMB_100A import SMB100A\n",
    "\n",
    "#try:\n",
    "#    mw_source_rs = SGS100A('pump_source','USB0::0x0AAD::0x0088::112061::INSTR')\n",
    "#except KeyError as er:\n",
    "#    SGS100A.close_all()\n",
    "#    mw_source_rs = SGS100A('pump_source','USB0::0x0AAD::0x0088::112061::INSTR')"
   ]
  },
  {
   "cell_type": "markdown",
   "id": "5ed34147-4e80-47cf-ae87-32b140066da8",
   "metadata": {
    "jp-MarkdownHeadingCollapsed": true,
    "tags": []
   },
   "source": [
    "<h4 style=\"color:#4697E8\";>Dummies</h4>"
   ]
  },
  {
   "cell_type": "code",
   "execution_count": 12,
   "id": "4de1e7fb-cb0e-4c4c-b3e2-2ef2f9177d87",
   "metadata": {},
   "outputs": [],
   "source": [
    "dac = DummyInstrument('dac', gates=['ch1', 'ch2'])\n",
    "dmm = DummyInstrumentWithMeasurement('dmm', setter_instr=dac)"
   ]
  },
  {
   "cell_type": "markdown",
   "id": "0f95fc5b-8b18-4e79-9198-2d25b95ac6bb",
   "metadata": {
    "jp-MarkdownHeadingCollapsed": true,
    "tags": []
   },
   "source": [
    "<h3 style=\"color:#418FDB\";>Adding the instruments to the station</h3>"
   ]
  },
  {
   "cell_type": "code",
   "execution_count": 13,
   "id": "cefb9a5f-45be-45bb-a59d-832ed5c3032f",
   "metadata": {},
   "outputs": [
    {
     "name": "stderr",
     "output_type": "stream",
     "text": [
      "2021-10-14 15:29:38,062 ¦ qcodes.instrument.base ¦ WARNING ¦ base ¦ snapshot_base ¦ 259 ¦ [ZNB20_S21(ZNBChannel)] Snapshot: Could not update parameter: trigger_link\n",
      "2021-10-14 15:29:43,190 ¦ qcodes.instrument.base ¦ WARNING ¦ base ¦ snapshot_base ¦ 259 ¦ [mw_source(E8257D)] Snapshot: Could not update parameter: sweepmode\n",
      "2021-10-14 15:29:43,240 ¦ qcodes.instrument.base ¦ WARNING ¦ base ¦ snapshot_base ¦ 259 ¦ [adwin(ADwin_Gold2)] Snapshot: Could not update parameter: out1\n",
      "2021-10-14 15:29:43,245 ¦ qcodes.instrument.base ¦ WARNING ¦ base ¦ snapshot_base ¦ 259 ¦ [adwin(ADwin_Gold2)] Snapshot: Could not update parameter: out2\n",
      "2021-10-14 15:29:43,247 ¦ qcodes.instrument.base ¦ WARNING ¦ base ¦ snapshot_base ¦ 259 ¦ [adwin(ADwin_Gold2)] Snapshot: Could not update parameter: in1\n"
     ]
    },
    {
     "data": {
      "text/plain": [
       "{'ZNB20_S21': <ZNBChannel: ZNB20_S21 of ZNB: ZNB20>,\n",
       " 'mw_source': <E8257D: mw_source>,\n",
       " 'adwin': <ADwin_Gold2: adwin>}"
      ]
     },
     "execution_count": 13,
     "metadata": {},
     "output_type": "execute_result"
    }
   ],
   "source": [
    "STATION.add_component(s21)         # VNA channel s21\n",
    "STATION.add_component(mw_source)   # Signal generator\n",
    "STATION.add_component(ad)          # ADwin\n",
    "#STATION.add_component(daq)        # Dummy signal\n",
    "#STATION.add_component(dmm)        # Dummy multimeter\n",
    "\n",
    "STATION.snapshot();\n",
    "STATION.components"
   ]
  },
  {
   "cell_type": "markdown",
   "id": "c6b5899d-bb2c-486e-987b-d61da8079c9d",
   "metadata": {
    "tags": []
   },
   "source": [
    "<h2 style=\"color:#1C3C5C\";>Measurements</h2>\n",
    "Here the idea is to create a new cell and a new experiment every time something more that just ranges and parameters are changed. Every new measurement will be stored in the database with a different experiment name, so it's easyer to retrive. Note that the used instruments must be initialised before, in the Instrument Initialisation section."
   ]
  },
  {
   "cell_type": "markdown",
   "id": "ddda1ce0-4a23-473f-8a56-c3be372932c8",
   "metadata": {
    "tags": []
   },
   "source": [
    "<h3 style=\"color:#418FDB\";>Microwave measurements with the VNA</h3>"
   ]
  },
  {
   "cell_type": "markdown",
   "id": "139432d0-d41c-42ec-b7ff-c42c62b0464e",
   "metadata": {
    "jp-MarkdownHeadingCollapsed": true,
    "tags": []
   },
   "source": [
    "<h4  style=\"color:#4697E8\";>Phase and magnitude of the current trace</h4>"
   ]
  },
  {
   "cell_type": "code",
   "execution_count": 58,
   "id": "25e15721-f7af-4b57-8fa9-3f14af59426c",
   "metadata": {},
   "outputs": [
    {
     "name": "stdout",
     "output_type": "stream",
     "text": [
      "Starting experimental run with id: 26. Using 'qcodes.utils.dataset.doNd.do0d'\n"
     ]
    },
    {
     "data": {
      "text/plain": [
       "26"
      ]
     },
     "execution_count": 58,
     "metadata": {},
     "output_type": "execute_result"
    },
    {
     "data": {
      "image/png": "[encoded data removed]",
      "text/plain": [
       "<Figure size 432x288 with 1 Axes>"
      ]
     },
     "metadata": {
      "needs_background": "light"
     },
     "output_type": "display_data"
    },
    {
     "data": {
      "image/png": "[encoded data removed]",
      "text/plain": [
       "<Figure size 432x288 with 1 Axes>"
      ]
     },
     "metadata": {
      "needs_background": "light"
     },
     "output_type": "display_data"
    }
   ],
   "source": [
    "experiment_name = 'vna_s21_trace'\n",
    "measurement_name = 'resonance_4.8'\n",
    "exp = load_or_create_experiment(experiment_name=experiment_name, sample_name=sample_name)\n",
    "\n",
    "s21.center(4.81855e9)\n",
    "s21.npts(1001)\n",
    "s21.span(2e6)\n",
    "s21.bandwidth(1e3)\n",
    "s21.averaging_enabled(True)\n",
    "s21.avg(10)\n",
    "s21.power(-30)\n",
    "\n",
    "s21.set_electrical_delay_auto()\n",
    "s21.average_clear()\n",
    "\n",
    "vna.rf_on()\n",
    "res = do0d(s21.trace_mag_phase, measurement_name=measurement_name);\n",
    "vna.rf_off()\n",
    "\n",
    "res[0].captured_run_id"
   ]
  },
  {
   "cell_type": "code",
   "execution_count": 15,
   "id": "3aa6d65d-7f9a-4e8c-9330-476a1aedba87",
   "metadata": {},
   "outputs": [
    {
     "name": "stdout",
     "output_type": "stream",
     "text": [
      "Starting experimental run with id: 116. Using 'qcodes.utils.dataset.doNd.do1d'\n"
     ]
    },
    {
     "data": {
      "application/vnd.jupyter.widget-view+json": {
       "model_id": "11181a963bab4bb084f5a6f8a2155c23",
       "version_major": 2,
       "version_minor": 0
      },
      "text/plain": [
       "  0%|          | 0/10 [00:00<?, ?it/s]"
      ]
     },
     "metadata": {},
     "output_type": "display_data"
    },
    {
     "data": {
      "text/plain": [
       "116"
      ]
     },
     "execution_count": 15,
     "metadata": {},
     "output_type": "execute_result"
    },
    {
     "data": {
      "image/png": "[encoded data removed]",
      "text/plain": [
       "<Figure size 432x288 with 2 Axes>"
      ]
     },
     "metadata": {
      "needs_background": "light"
     },
     "output_type": "display_data"
    },
    {
     "data": {
      "image/png": "[encoded data removed]",
      "text/plain": [
       "<Figure size 432x288 with 2 Axes>"
      ]
     },
     "metadata": {
      "needs_background": "light"
     },
     "output_type": "display_data"
    }
   ],
   "source": [
    "experiment_name = 'test_experiment_vna'\n",
    "measurement_name = 'supercool_2d_vna'\n",
    "exp = load_or_create_experiment(experiment_name=experiment_name, sample_name=sample_name)\n",
    "\n",
    "s21.center(2e9)\n",
    "s21.span(1e9)\n",
    "s21.bandwidth(1e3)\n",
    "s21.npts(101)\n",
    "s21.averaging_enabled(True)\n",
    "s21.avg(10)\n",
    "s21.power(-30)\n",
    "s21.set_electrical_delay_auto()\n",
    "\n",
    "vna.rf_on()\n",
    "res = do1d(s21.power, -30, -20, 10, 0.01, s21.trace_mag_phase, measurement_name=measurement_name);\n",
    "vna.rf_off()\n",
    "\n",
    "res[0].captured_run_id"
   ]
  },
  {
   "cell_type": "markdown",
   "id": "8afd57eb-aaa2-4d58-ad34-0c630531aa9d",
   "metadata": {
    "tags": []
   },
   "source": [
    "<h3 style=\"color:#418FDB\";>Microwave measurement with VNA and signal generator</h3>"
   ]
  },
  {
   "cell_type": "code",
   "execution_count": 16,
   "id": "bc17512a-eeab-48b6-a1ec-c3a20e5f62ea",
   "metadata": {},
   "outputs": [
    {
     "name": "stdout",
     "output_type": "stream",
     "text": [
      "Starting experimental run with id: 117. Using 'qcodes.utils.dataset.doNd.do1d'\n"
     ]
    },
    {
     "data": {
      "application/vnd.jupyter.widget-view+json": {
       "model_id": "58738713804146b7be3796263dbce928",
       "version_major": 2,
       "version_minor": 0
      },
      "text/plain": [
       "  0%|          | 0/10 [00:00<?, ?it/s]"
      ]
     },
     "metadata": {},
     "output_type": "display_data"
    },
    {
     "data": {
      "image/png": "[encoded data removed]",
      "text/plain": [
       "<Figure size 432x288 with 2 Axes>"
      ]
     },
     "metadata": {
      "needs_background": "light"
     },
     "output_type": "display_data"
    },
    {
     "data": {
      "image/png": "[encoded data removed]",
      "text/plain": [
       "<Figure size 432x288 with 2 Axes>"
      ]
     },
     "metadata": {
      "needs_background": "light"
     },
     "output_type": "display_data"
    }
   ],
   "source": [
    "experiment_name = 'test_experiment_vna_mw'\n",
    "measurement_name = 'supercool_vna_cw'\n",
    "exp = load_or_create_experiment(experiment_name=experiment_name, sample_name=sample_name)\n",
    "\n",
    "#set the vna parameters\n",
    "s21.center(2e9)\n",
    "s21.span(1e9)\n",
    "s21.bandwidth(1e3)\n",
    "s21.npts(101)\n",
    "s21.averaging_enabled(True)\n",
    "s21.avg(10)\n",
    "s21.power(-30)\n",
    "s21.set_electrical_delay_auto()\n",
    "\n",
    "# set the signal generator parameters\n",
    "mw_source.sourcemode('CW')\n",
    "mw_source.power(-20)\n",
    "mw_source.phase(0)\n",
    "\n",
    "vna.rf_on()\n",
    "mw_source.status('ON')\n",
    "res = do1d(mw_source.frequency, 1e9, 3e9, 10, 0.01, s21.trace_mag_phase, measurement_name=measurement_name);\n",
    "mw_source.status('OFF')\n",
    "vna.rf_off()"
   ]
  },
  {
   "cell_type": "markdown",
   "id": "f107b18f-daf4-4a33-bba2-24521e8962fe",
   "metadata": {
    "jp-MarkdownHeadingCollapsed": true,
    "tags": []
   },
   "source": [
    "<h4  style=\"color:#4697E8\";>VNA CW and signal generator frequency sweep (two tones spectroscopy)</h4>"
   ]
  },
  {
   "cell_type": "code",
   "execution_count": 52,
   "id": "7af21056-18e4-42ae-ae3d-bb3bf9726f3c",
   "metadata": {
    "collapsed": true,
    "jupyter": {
     "outputs_hidden": true
    },
    "tags": []
   },
   "outputs": [
    {
     "name": "stdout",
     "output_type": "stream",
     "text": [
      "Starting experimental run with id: 22. Using 'qcodes.utils.dataset.doNd.do1d'\n"
     ]
    },
    {
     "data": {
      "application/vnd.jupyter.widget-view+json": {
       "model_id": "907e78c3baa745edad200076592c6673",
       "version_major": 2,
       "version_minor": 0
      },
      "text/plain": [
       "  0%|          | 0/9900 [00:00<?, ?it/s]"
      ]
     },
     "metadata": {},
     "output_type": "display_data"
    },
    {
     "name": "stderr",
     "output_type": "stream",
     "text": [
      "2021-10-17 12:55:30,671 ¦ qcodes.dataset.measurements ¦ WARNING ¦ measurements ¦ __exit__ ¦ 646 ¦ An exception occured in measurement with guid: aaaaaaaa-0000-0000-0000-017c8de4619c;\n",
      "Traceback:\n",
      "Traceback (most recent call last):\n",
      "  File \"C:\\Users\\nicolas.roch\\Measurements\\Scripts\\QMETfunc\\QMET_measurement.py\", line 288, in do1d\n",
      "    (param_set, set_point), *call_param_meas(), *additional_setpoints_data\n",
      "  File \"C:\\Users\\nicolas.roch\\Miniconda3\\envs\\measurement\\lib\\site-packages\\qcodes\\utils\\threading.py\", line 193, in _call_params\n",
      "    output.append((parameter, parameter.get()))\n",
      "  File \"C:\\Users\\nicolas.roch\\Miniconda3\\envs\\measurement\\lib\\site-packages\\qcodes\\instrument\\parameter.py\", line 637, in get_wrapper\n",
      "    raw_value = get_function(*args, **kwargs)\n",
      "  File \"C:\\Users\\nicolas.roch\\Measurements\\Drivers\\VNA_ZNB20.py\", line 241, in get_raw\n",
      "    data = self.instrument._get_sweep_data(force_polar=True)\n",
      "  File \"C:\\Users\\nicolas.roch\\Measurements\\Drivers\\VNA_ZNB20.py\", line 878, in _get_sweep_data\n",
      "    self.write(f\"INIT{self._instrument_channel}:IMM; *WAI\")\n",
      "  File \"C:\\Users\\nicolas.roch\\Miniconda3\\envs\\measurement\\lib\\site-packages\\qcodes\\instrument\\channel.py\", line 55, in write\n",
      "    return self._parent.write(cmd)\n",
      "  File \"C:\\Users\\nicolas.roch\\Miniconda3\\envs\\measurement\\lib\\site-packages\\qcodes\\instrument\\base.py\", line 756, in write\n",
      "    self.write_raw(cmd)\n",
      "  File \"C:\\Users\\nicolas.roch\\Miniconda3\\envs\\measurement\\lib\\site-packages\\qcodes\\instrument\\visa.py\", line 221, in write_raw\n",
      "    self.visa_handle.write(cmd)\n",
      "  File \"C:\\Users\\nicolas.roch\\Miniconda3\\envs\\measurement\\lib\\site-packages\\qcodes\\utils\\delaykeyboardinterrupt.py\", line 56, in __exit__\n",
      "    self.old_handler(*self.signal_received)\n",
      "KeyboardInterrupt\n",
      "\n"
     ]
    },
    {
     "name": "stdout",
     "output_type": "stream",
     "text": [
      "Received SIGINT, Will interrupt at first suitable time. Send second SIGINT to interrupt immediately.\n"
     ]
    },
    {
     "ename": "KeyboardInterrupt",
     "evalue": "",
     "output_type": "error",
     "traceback": [
      "\u001b[1;31m---------------------------------------------------------------------------\u001b[0m",
      "\u001b[1;31mKeyboardInterrupt\u001b[0m                         Traceback (most recent call last)",
      "\u001b[1;32mC:\\Users\\NICOLA~1.ROC\\AppData\\Local\\Temp/ipykernel_13172/2133719948.py\u001b[0m in \u001b[0;36m<module>\u001b[1;34m\u001b[0m\n\u001b[0;32m     27\u001b[0m \u001b[0mvna\u001b[0m\u001b[1;33m.\u001b[0m\u001b[0mrf_on\u001b[0m\u001b[1;33m(\u001b[0m\u001b[1;33m)\u001b[0m\u001b[1;33m\u001b[0m\u001b[1;33m\u001b[0m\u001b[0m\n\u001b[0;32m     28\u001b[0m \u001b[0mmw_source\u001b[0m\u001b[1;33m.\u001b[0m\u001b[0mstatus\u001b[0m\u001b[1;33m(\u001b[0m\u001b[1;34m'ON'\u001b[0m\u001b[1;33m)\u001b[0m\u001b[1;33m\u001b[0m\u001b[1;33m\u001b[0m\u001b[0m\n\u001b[1;32m---> 29\u001b[1;33m \u001b[0mres\u001b[0m \u001b[1;33m=\u001b[0m \u001b[0mdo1d\u001b[0m\u001b[1;33m(\u001b[0m\u001b[0mmw_source\u001b[0m\u001b[1;33m.\u001b[0m\u001b[0mfrequency\u001b[0m\u001b[1;33m,\u001b[0m \u001b[0mstart_frequency\u001b[0m\u001b[1;33m,\u001b[0m \u001b[0mstop_frequency\u001b[0m\u001b[1;33m,\u001b[0m \u001b[0mn_points\u001b[0m\u001b[1;33m,\u001b[0m \u001b[0mdwell_time\u001b[0m\u001b[1;33m,\u001b[0m \u001b[0ms21\u001b[0m\u001b[1;33m.\u001b[0m\u001b[0mtrace_mag_phase\u001b[0m\u001b[1;33m,\u001b[0m \u001b[0mmeasurement_name\u001b[0m\u001b[1;33m=\u001b[0m\u001b[0mmeasurement_name\u001b[0m\u001b[1;33m,\u001b[0m \u001b[0mdo_plot\u001b[0m\u001b[1;33m=\u001b[0m\u001b[1;32mFalse\u001b[0m\u001b[1;33m)\u001b[0m\u001b[1;33m;\u001b[0m\u001b[1;33m\u001b[0m\u001b[1;33m\u001b[0m\u001b[0m\n\u001b[0m\u001b[0;32m     30\u001b[0m \u001b[0mmw_source\u001b[0m\u001b[1;33m.\u001b[0m\u001b[0mstatus\u001b[0m\u001b[1;33m(\u001b[0m\u001b[1;34m'OFF'\u001b[0m\u001b[1;33m)\u001b[0m\u001b[1;33m\u001b[0m\u001b[1;33m\u001b[0m\u001b[0m\n\u001b[0;32m     31\u001b[0m \u001b[0mvna\u001b[0m\u001b[1;33m.\u001b[0m\u001b[0mrf_off\u001b[0m\u001b[1;33m(\u001b[0m\u001b[1;33m)\u001b[0m\u001b[1;33m\u001b[0m\u001b[1;33m\u001b[0m\u001b[0m\n",
      "\u001b[1;32m~\\Measurements\\Scripts\\QMETfunc\\QMET_measurement.py\u001b[0m in \u001b[0;36mdo1d\u001b[1;34m(param_set, start, stop, num_points, delay, enter_actions, exit_actions, write_period, measurement_name, exp, do_plot, use_threads, additional_setpoints, show_progress, log_info, *param_meas)\u001b[0m\n\u001b[0;32m    291\u001b[0m     \u001b[0mparam_set\u001b[0m\u001b[1;33m.\u001b[0m\u001b[0mpost_delay\u001b[0m \u001b[1;33m=\u001b[0m \u001b[0moriginal_delay\u001b[0m\u001b[1;33m\u001b[0m\u001b[1;33m\u001b[0m\u001b[0m\n\u001b[0;32m    292\u001b[0m \u001b[1;33m\u001b[0m\u001b[0m\n\u001b[1;32m--> 293\u001b[1;33m     \u001b[1;32mreturn\u001b[0m \u001b[0m_handle_plotting\u001b[0m\u001b[1;33m(\u001b[0m\u001b[0mdataset\u001b[0m\u001b[1;33m,\u001b[0m \u001b[0mdo_plot\u001b[0m\u001b[1;33m,\u001b[0m \u001b[0minterrupted\u001b[0m\u001b[1;33m(\u001b[0m\u001b[1;33m)\u001b[0m\u001b[1;33m)\u001b[0m\u001b[1;33m\u001b[0m\u001b[1;33m\u001b[0m\u001b[0m\n\u001b[0m\u001b[0;32m    294\u001b[0m \u001b[1;33m\u001b[0m\u001b[0m\n\u001b[0;32m    295\u001b[0m \u001b[1;33m\u001b[0m\u001b[0m\n",
      "\u001b[1;32m~\\Measurements\\Scripts\\QMETfunc\\QMET_measurement.py\u001b[0m in \u001b[0;36m_handle_plotting\u001b[1;34m(data, do_plot, interrupted)\u001b[0m\n\u001b[0;32m    924\u001b[0m \u001b[1;33m\u001b[0m\u001b[0m\n\u001b[0;32m    925\u001b[0m     \u001b[1;32mif\u001b[0m \u001b[0minterrupted\u001b[0m\u001b[1;33m:\u001b[0m\u001b[1;33m\u001b[0m\u001b[1;33m\u001b[0m\u001b[0m\n\u001b[1;32m--> 926\u001b[1;33m         \u001b[1;32mraise\u001b[0m \u001b[0mKeyboardInterrupt\u001b[0m\u001b[1;33m\u001b[0m\u001b[1;33m\u001b[0m\u001b[0m\n\u001b[0m\u001b[0;32m    927\u001b[0m \u001b[1;33m\u001b[0m\u001b[0m\n\u001b[0;32m    928\u001b[0m     \u001b[1;32mreturn\u001b[0m \u001b[0mres\u001b[0m\u001b[1;33m\u001b[0m\u001b[1;33m\u001b[0m\u001b[0m\n",
      "\u001b[1;31mKeyboardInterrupt\u001b[0m: "
     ]
    }
   ],
   "source": [
    "experiment_name = 'two_tones_test'\n",
    "measurement_name = 'meas_4.8_tone_0.1_10'\n",
    "exp = load_or_create_experiment(experiment_name=experiment_name, sample_name=sample_name)\n",
    "\n",
    "#set the vna parameters\n",
    "s21.center(4.8185e9)\n",
    "s21.npts(1)\n",
    "s21.bandwidth(1e3)\n",
    "#s21.span(1e3)\n",
    "s21.averaging_enabled(True)\n",
    "s21.avg(10)\n",
    "s21.power(-40)\n",
    "#s21.set_electrical_delay_auto()\n",
    "\n",
    "# set the signal generator parameters\n",
    "mw_source.sourcemode('CW')\n",
    "mw_source.power(-20)\n",
    "mw_source.phase(0)\n",
    "\n",
    "start_frequency = 100e6\n",
    "stop_frequency = 10e9\n",
    "step_frequency = 1e6\n",
    "n_points = int( (stop_frequency-start_frequency)/step_frequency )\n",
    "dwell_time = 0.01\n",
    "\n",
    "# WARNING! It takes too much time for some reasons\n",
    "vna.rf_on()\n",
    "mw_source.status('ON')\n",
    "res = do1d(mw_source.frequency, start_frequency, stop_frequency, n_points, dwell_time, s21.trace_mag_phase, measurement_name=measurement_name, do_plot=False);\n",
    "mw_source.status('OFF')\n",
    "vna.rf_off()\n",
    "\n",
    "# maybe it would be good to improve the plotting of the results\n",
    "runID = res[0].captured_run_id\n",
    "x = res[0].get_parameter_data('mw_source_frequency')['mw_source_frequency']['mw_source_frequency']\n",
    "y = res[0].get_parameter_data('ZNB20_S21_phase')['ZNB20_S21_phase']['ZNB20_S21_phase']\n",
    "plt.plot(x[::2], y)\n",
    "\n",
    "# add function that creates a measurements log file"
   ]
  },
  {
   "cell_type": "markdown",
   "id": "d0c11e2f-b5bb-4796-86dd-99a6472eb825",
   "metadata": {
    "jp-MarkdownHeadingCollapsed": true,
    "tags": []
   },
   "source": [
    "<h4  style=\"color:#4697E8\";>VNA CW and signal generator power and frequency sweep (two tones spectroscopy)</h4>"
   ]
  },
  {
   "cell_type": "code",
   "execution_count": 60,
   "id": "69639208-3b9f-492d-8fac-7ea8cbaa61b4",
   "metadata": {},
   "outputs": [
    {
     "name": "stdout",
     "output_type": "stream",
     "text": [
      "Starting experimental run with id: 27. Using 'qcodes.utils.dataset.doNd.do2d'\n"
     ]
    },
    {
     "data": {
      "application/vnd.jupyter.widget-view+json": {
       "model_id": "c5a740d2347b45e98a406bb84c90bda8",
       "version_major": 2,
       "version_minor": 0
      },
      "text/plain": [
       "  0%|          | 0/66 [00:00<?, ?it/s]"
      ]
     },
     "metadata": {},
     "output_type": "display_data"
    },
    {
     "data": {
      "application/vnd.jupyter.widget-view+json": {
       "model_id": "",
       "version_major": 2,
       "version_minor": 0
      },
      "text/plain": [
       "  0%|          | 0/9900 [00:00<?, ?it/s]"
      ]
     },
     "metadata": {},
     "output_type": "display_data"
    },
    {
     "data": {
      "application/vnd.jupyter.widget-view+json": {
       "model_id": "",
       "version_major": 2,
       "version_minor": 0
      },
      "text/plain": [
       "  0%|          | 0/9900 [00:00<?, ?it/s]"
      ]
     },
     "metadata": {},
     "output_type": "display_data"
    },
    {
     "data": {
      "application/vnd.jupyter.widget-view+json": {
       "model_id": "",
       "version_major": 2,
       "version_minor": 0
      },
      "text/plain": [
       "  0%|          | 0/9900 [00:00<?, ?it/s]"
      ]
     },
     "metadata": {},
     "output_type": "display_data"
    },
    {
     "data": {
      "application/vnd.jupyter.widget-view+json": {
       "model_id": "",
       "version_major": 2,
       "version_minor": 0
      },
      "text/plain": [
       "  0%|          | 0/9900 [00:00<?, ?it/s]"
      ]
     },
     "metadata": {},
     "output_type": "display_data"
    },
    {
     "data": {
      "application/vnd.jupyter.widget-view+json": {
       "model_id": "",
       "version_major": 2,
       "version_minor": 0
      },
      "text/plain": [
       "  0%|          | 0/9900 [00:00<?, ?it/s]"
      ]
     },
     "metadata": {},
     "output_type": "display_data"
    },
    {
     "data": {
      "application/vnd.jupyter.widget-view+json": {
       "model_id": "",
       "version_major": 2,
       "version_minor": 0
      },
      "text/plain": [
       "  0%|          | 0/9900 [00:00<?, ?it/s]"
      ]
     },
     "metadata": {},
     "output_type": "display_data"
    },
    {
     "data": {
      "application/vnd.jupyter.widget-view+json": {
       "model_id": "",
       "version_major": 2,
       "version_minor": 0
      },
      "text/plain": [
       "  0%|          | 0/9900 [00:00<?, ?it/s]"
      ]
     },
     "metadata": {},
     "output_type": "display_data"
    },
    {
     "data": {
      "application/vnd.jupyter.widget-view+json": {
       "model_id": "",
       "version_major": 2,
       "version_minor": 0
      },
      "text/plain": [
       "  0%|          | 0/9900 [00:00<?, ?it/s]"
      ]
     },
     "metadata": {},
     "output_type": "display_data"
    },
    {
     "data": {
      "application/vnd.jupyter.widget-view+json": {
       "model_id": "",
       "version_major": 2,
       "version_minor": 0
      },
      "text/plain": [
       "  0%|          | 0/9900 [00:00<?, ?it/s]"
      ]
     },
     "metadata": {},
     "output_type": "display_data"
    },
    {
     "data": {
      "application/vnd.jupyter.widget-view+json": {
       "model_id": "",
       "version_major": 2,
       "version_minor": 0
      },
      "text/plain": [
       "  0%|          | 0/9900 [00:00<?, ?it/s]"
      ]
     },
     "metadata": {},
     "output_type": "display_data"
    },
    {
     "data": {
      "application/vnd.jupyter.widget-view+json": {
       "model_id": "",
       "version_major": 2,
       "version_minor": 0
      },
      "text/plain": [
       "  0%|          | 0/9900 [00:00<?, ?it/s]"
      ]
     },
     "metadata": {},
     "output_type": "display_data"
    },
    {
     "data": {
      "application/vnd.jupyter.widget-view+json": {
       "model_id": "",
       "version_major": 2,
       "version_minor": 0
      },
      "text/plain": [
       "  0%|          | 0/9900 [00:00<?, ?it/s]"
      ]
     },
     "metadata": {},
     "output_type": "display_data"
    },
    {
     "data": {
      "application/vnd.jupyter.widget-view+json": {
       "model_id": "",
       "version_major": 2,
       "version_minor": 0
      },
      "text/plain": [
       "  0%|          | 0/9900 [00:00<?, ?it/s]"
      ]
     },
     "metadata": {},
     "output_type": "display_data"
    },
    {
     "data": {
      "application/vnd.jupyter.widget-view+json": {
       "model_id": "",
       "version_major": 2,
       "version_minor": 0
      },
      "text/plain": [
       "  0%|          | 0/9900 [00:00<?, ?it/s]"
      ]
     },
     "metadata": {},
     "output_type": "display_data"
    },
    {
     "data": {
      "application/vnd.jupyter.widget-view+json": {
       "model_id": "",
       "version_major": 2,
       "version_minor": 0
      },
      "text/plain": [
       "  0%|          | 0/9900 [00:00<?, ?it/s]"
      ]
     },
     "metadata": {},
     "output_type": "display_data"
    },
    {
     "data": {
      "application/vnd.jupyter.widget-view+json": {
       "model_id": "",
       "version_major": 2,
       "version_minor": 0
      },
      "text/plain": [
       "  0%|          | 0/9900 [00:00<?, ?it/s]"
      ]
     },
     "metadata": {},
     "output_type": "display_data"
    },
    {
     "data": {
      "application/vnd.jupyter.widget-view+json": {
       "model_id": "",
       "version_major": 2,
       "version_minor": 0
      },
      "text/plain": [
       "  0%|          | 0/9900 [00:00<?, ?it/s]"
      ]
     },
     "metadata": {},
     "output_type": "display_data"
    },
    {
     "data": {
      "application/vnd.jupyter.widget-view+json": {
       "model_id": "",
       "version_major": 2,
       "version_minor": 0
      },
      "text/plain": [
       "  0%|          | 0/9900 [00:00<?, ?it/s]"
      ]
     },
     "metadata": {},
     "output_type": "display_data"
    },
    {
     "data": {
      "application/vnd.jupyter.widget-view+json": {
       "model_id": "",
       "version_major": 2,
       "version_minor": 0
      },
      "text/plain": [
       "  0%|          | 0/9900 [00:00<?, ?it/s]"
      ]
     },
     "metadata": {},
     "output_type": "display_data"
    },
    {
     "data": {
      "application/vnd.jupyter.widget-view+json": {
       "model_id": "",
       "version_major": 2,
       "version_minor": 0
      },
      "text/plain": [
       "  0%|          | 0/9900 [00:00<?, ?it/s]"
      ]
     },
     "metadata": {},
     "output_type": "display_data"
    },
    {
     "data": {
      "application/vnd.jupyter.widget-view+json": {
       "model_id": "",
       "version_major": 2,
       "version_minor": 0
      },
      "text/plain": [
       "  0%|          | 0/9900 [00:00<?, ?it/s]"
      ]
     },
     "metadata": {},
     "output_type": "display_data"
    },
    {
     "data": {
      "application/vnd.jupyter.widget-view+json": {
       "model_id": "",
       "version_major": 2,
       "version_minor": 0
      },
      "text/plain": [
       "  0%|          | 0/9900 [00:00<?, ?it/s]"
      ]
     },
     "metadata": {},
     "output_type": "display_data"
    },
    {
     "data": {
      "application/vnd.jupyter.widget-view+json": {
       "model_id": "",
       "version_major": 2,
       "version_minor": 0
      },
      "text/plain": [
       "  0%|          | 0/9900 [00:00<?, ?it/s]"
      ]
     },
     "metadata": {},
     "output_type": "display_data"
    },
    {
     "data": {
      "application/vnd.jupyter.widget-view+json": {
       "model_id": "",
       "version_major": 2,
       "version_minor": 0
      },
      "text/plain": [
       "  0%|          | 0/9900 [00:00<?, ?it/s]"
      ]
     },
     "metadata": {},
     "output_type": "display_data"
    },
    {
     "data": {
      "application/vnd.jupyter.widget-view+json": {
       "model_id": "",
       "version_major": 2,
       "version_minor": 0
      },
      "text/plain": [
       "  0%|          | 0/9900 [00:00<?, ?it/s]"
      ]
     },
     "metadata": {},
     "output_type": "display_data"
    },
    {
     "data": {
      "application/vnd.jupyter.widget-view+json": {
       "model_id": "",
       "version_major": 2,
       "version_minor": 0
      },
      "text/plain": [
       "  0%|          | 0/9900 [00:00<?, ?it/s]"
      ]
     },
     "metadata": {},
     "output_type": "display_data"
    },
    {
     "data": {
      "application/vnd.jupyter.widget-view+json": {
       "model_id": "",
       "version_major": 2,
       "version_minor": 0
      },
      "text/plain": [
       "  0%|          | 0/9900 [00:00<?, ?it/s]"
      ]
     },
     "metadata": {},
     "output_type": "display_data"
    },
    {
     "data": {
      "application/vnd.jupyter.widget-view+json": {
       "model_id": "",
       "version_major": 2,
       "version_minor": 0
      },
      "text/plain": [
       "  0%|          | 0/9900 [00:00<?, ?it/s]"
      ]
     },
     "metadata": {},
     "output_type": "display_data"
    },
    {
     "data": {
      "application/vnd.jupyter.widget-view+json": {
       "model_id": "",
       "version_major": 2,
       "version_minor": 0
      },
      "text/plain": [
       "  0%|          | 0/9900 [00:00<?, ?it/s]"
      ]
     },
     "metadata": {},
     "output_type": "display_data"
    },
    {
     "data": {
      "application/vnd.jupyter.widget-view+json": {
       "model_id": "",
       "version_major": 2,
       "version_minor": 0
      },
      "text/plain": [
       "  0%|          | 0/9900 [00:00<?, ?it/s]"
      ]
     },
     "metadata": {},
     "output_type": "display_data"
    },
    {
     "data": {
      "application/vnd.jupyter.widget-view+json": {
       "model_id": "",
       "version_major": 2,
       "version_minor": 0
      },
      "text/plain": [
       "  0%|          | 0/9900 [00:00<?, ?it/s]"
      ]
     },
     "metadata": {},
     "output_type": "display_data"
    },
    {
     "data": {
      "application/vnd.jupyter.widget-view+json": {
       "model_id": "",
       "version_major": 2,
       "version_minor": 0
      },
      "text/plain": [
       "  0%|          | 0/9900 [00:00<?, ?it/s]"
      ]
     },
     "metadata": {},
     "output_type": "display_data"
    },
    {
     "data": {
      "application/vnd.jupyter.widget-view+json": {
       "model_id": "",
       "version_major": 2,
       "version_minor": 0
      },
      "text/plain": [
       "  0%|          | 0/9900 [00:00<?, ?it/s]"
      ]
     },
     "metadata": {},
     "output_type": "display_data"
    },
    {
     "data": {
      "application/vnd.jupyter.widget-view+json": {
       "model_id": "",
       "version_major": 2,
       "version_minor": 0
      },
      "text/plain": [
       "  0%|          | 0/9900 [00:00<?, ?it/s]"
      ]
     },
     "metadata": {},
     "output_type": "display_data"
    },
    {
     "data": {
      "application/vnd.jupyter.widget-view+json": {
       "model_id": "",
       "version_major": 2,
       "version_minor": 0
      },
      "text/plain": [
       "  0%|          | 0/9900 [00:00<?, ?it/s]"
      ]
     },
     "metadata": {},
     "output_type": "display_data"
    },
    {
     "data": {
      "application/vnd.jupyter.widget-view+json": {
       "model_id": "",
       "version_major": 2,
       "version_minor": 0
      },
      "text/plain": [
       "  0%|          | 0/9900 [00:00<?, ?it/s]"
      ]
     },
     "metadata": {},
     "output_type": "display_data"
    },
    {
     "data": {
      "application/vnd.jupyter.widget-view+json": {
       "model_id": "",
       "version_major": 2,
       "version_minor": 0
      },
      "text/plain": [
       "  0%|          | 0/9900 [00:00<?, ?it/s]"
      ]
     },
     "metadata": {},
     "output_type": "display_data"
    },
    {
     "data": {
      "application/vnd.jupyter.widget-view+json": {
       "model_id": "",
       "version_major": 2,
       "version_minor": 0
      },
      "text/plain": [
       "  0%|          | 0/9900 [00:00<?, ?it/s]"
      ]
     },
     "metadata": {},
     "output_type": "display_data"
    },
    {
     "data": {
      "application/vnd.jupyter.widget-view+json": {
       "model_id": "",
       "version_major": 2,
       "version_minor": 0
      },
      "text/plain": [
       "  0%|          | 0/9900 [00:00<?, ?it/s]"
      ]
     },
     "metadata": {},
     "output_type": "display_data"
    },
    {
     "data": {
      "application/vnd.jupyter.widget-view+json": {
       "model_id": "",
       "version_major": 2,
       "version_minor": 0
      },
      "text/plain": [
       "  0%|          | 0/9900 [00:00<?, ?it/s]"
      ]
     },
     "metadata": {},
     "output_type": "display_data"
    },
    {
     "data": {
      "application/vnd.jupyter.widget-view+json": {
       "model_id": "",
       "version_major": 2,
       "version_minor": 0
      },
      "text/plain": [
       "  0%|          | 0/9900 [00:00<?, ?it/s]"
      ]
     },
     "metadata": {},
     "output_type": "display_data"
    },
    {
     "data": {
      "application/vnd.jupyter.widget-view+json": {
       "model_id": "",
       "version_major": 2,
       "version_minor": 0
      },
      "text/plain": [
       "  0%|          | 0/9900 [00:00<?, ?it/s]"
      ]
     },
     "metadata": {},
     "output_type": "display_data"
    },
    {
     "data": {
      "application/vnd.jupyter.widget-view+json": {
       "model_id": "",
       "version_major": 2,
       "version_minor": 0
      },
      "text/plain": [
       "  0%|          | 0/9900 [00:00<?, ?it/s]"
      ]
     },
     "metadata": {},
     "output_type": "display_data"
    },
    {
     "data": {
      "application/vnd.jupyter.widget-view+json": {
       "model_id": "",
       "version_major": 2,
       "version_minor": 0
      },
      "text/plain": [
       "  0%|          | 0/9900 [00:00<?, ?it/s]"
      ]
     },
     "metadata": {},
     "output_type": "display_data"
    },
    {
     "data": {
      "application/vnd.jupyter.widget-view+json": {
       "model_id": "",
       "version_major": 2,
       "version_minor": 0
      },
      "text/plain": [
       "  0%|          | 0/9900 [00:00<?, ?it/s]"
      ]
     },
     "metadata": {},
     "output_type": "display_data"
    },
    {
     "data": {
      "application/vnd.jupyter.widget-view+json": {
       "model_id": "",
       "version_major": 2,
       "version_minor": 0
      },
      "text/plain": [
       "  0%|          | 0/9900 [00:00<?, ?it/s]"
      ]
     },
     "metadata": {},
     "output_type": "display_data"
    },
    {
     "data": {
      "application/vnd.jupyter.widget-view+json": {
       "model_id": "",
       "version_major": 2,
       "version_minor": 0
      },
      "text/plain": [
       "  0%|          | 0/9900 [00:00<?, ?it/s]"
      ]
     },
     "metadata": {},
     "output_type": "display_data"
    },
    {
     "data": {
      "application/vnd.jupyter.widget-view+json": {
       "model_id": "",
       "version_major": 2,
       "version_minor": 0
      },
      "text/plain": [
       "  0%|          | 0/9900 [00:00<?, ?it/s]"
      ]
     },
     "metadata": {},
     "output_type": "display_data"
    },
    {
     "data": {
      "application/vnd.jupyter.widget-view+json": {
       "model_id": "",
       "version_major": 2,
       "version_minor": 0
      },
      "text/plain": [
       "  0%|          | 0/9900 [00:00<?, ?it/s]"
      ]
     },
     "metadata": {},
     "output_type": "display_data"
    },
    {
     "data": {
      "application/vnd.jupyter.widget-view+json": {
       "model_id": "",
       "version_major": 2,
       "version_minor": 0
      },
      "text/plain": [
       "  0%|          | 0/9900 [00:00<?, ?it/s]"
      ]
     },
     "metadata": {},
     "output_type": "display_data"
    },
    {
     "data": {
      "application/vnd.jupyter.widget-view+json": {
       "model_id": "",
       "version_major": 2,
       "version_minor": 0
      },
      "text/plain": [
       "  0%|          | 0/9900 [00:00<?, ?it/s]"
      ]
     },
     "metadata": {},
     "output_type": "display_data"
    },
    {
     "data": {
      "application/vnd.jupyter.widget-view+json": {
       "model_id": "",
       "version_major": 2,
       "version_minor": 0
      },
      "text/plain": [
       "  0%|          | 0/9900 [00:00<?, ?it/s]"
      ]
     },
     "metadata": {},
     "output_type": "display_data"
    },
    {
     "data": {
      "application/vnd.jupyter.widget-view+json": {
       "model_id": "",
       "version_major": 2,
       "version_minor": 0
      },
      "text/plain": [
       "  0%|          | 0/9900 [00:00<?, ?it/s]"
      ]
     },
     "metadata": {},
     "output_type": "display_data"
    },
    {
     "data": {
      "application/vnd.jupyter.widget-view+json": {
       "model_id": "",
       "version_major": 2,
       "version_minor": 0
      },
      "text/plain": [
       "  0%|          | 0/9900 [00:00<?, ?it/s]"
      ]
     },
     "metadata": {},
     "output_type": "display_data"
    },
    {
     "data": {
      "application/vnd.jupyter.widget-view+json": {
       "model_id": "",
       "version_major": 2,
       "version_minor": 0
      },
      "text/plain": [
       "  0%|          | 0/9900 [00:00<?, ?it/s]"
      ]
     },
     "metadata": {},
     "output_type": "display_data"
    },
    {
     "data": {
      "application/vnd.jupyter.widget-view+json": {
       "model_id": "",
       "version_major": 2,
       "version_minor": 0
      },
      "text/plain": [
       "  0%|          | 0/9900 [00:00<?, ?it/s]"
      ]
     },
     "metadata": {},
     "output_type": "display_data"
    },
    {
     "data": {
      "application/vnd.jupyter.widget-view+json": {
       "model_id": "",
       "version_major": 2,
       "version_minor": 0
      },
      "text/plain": [
       "  0%|          | 0/9900 [00:00<?, ?it/s]"
      ]
     },
     "metadata": {},
     "output_type": "display_data"
    },
    {
     "data": {
      "application/vnd.jupyter.widget-view+json": {
       "model_id": "",
       "version_major": 2,
       "version_minor": 0
      },
      "text/plain": [
       "  0%|          | 0/9900 [00:00<?, ?it/s]"
      ]
     },
     "metadata": {},
     "output_type": "display_data"
    },
    {
     "data": {
      "application/vnd.jupyter.widget-view+json": {
       "model_id": "",
       "version_major": 2,
       "version_minor": 0
      },
      "text/plain": [
       "  0%|          | 0/9900 [00:00<?, ?it/s]"
      ]
     },
     "metadata": {},
     "output_type": "display_data"
    },
    {
     "data": {
      "application/vnd.jupyter.widget-view+json": {
       "model_id": "",
       "version_major": 2,
       "version_minor": 0
      },
      "text/plain": [
       "  0%|          | 0/9900 [00:00<?, ?it/s]"
      ]
     },
     "metadata": {},
     "output_type": "display_data"
    },
    {
     "data": {
      "application/vnd.jupyter.widget-view+json": {
       "model_id": "",
       "version_major": 2,
       "version_minor": 0
      },
      "text/plain": [
       "  0%|          | 0/9900 [00:00<?, ?it/s]"
      ]
     },
     "metadata": {},
     "output_type": "display_data"
    },
    {
     "data": {
      "application/vnd.jupyter.widget-view+json": {
       "model_id": "",
       "version_major": 2,
       "version_minor": 0
      },
      "text/plain": [
       "  0%|          | 0/9900 [00:00<?, ?it/s]"
      ]
     },
     "metadata": {},
     "output_type": "display_data"
    },
    {
     "data": {
      "application/vnd.jupyter.widget-view+json": {
       "model_id": "",
       "version_major": 2,
       "version_minor": 0
      },
      "text/plain": [
       "  0%|          | 0/9900 [00:00<?, ?it/s]"
      ]
     },
     "metadata": {},
     "output_type": "display_data"
    },
    {
     "data": {
      "application/vnd.jupyter.widget-view+json": {
       "model_id": "",
       "version_major": 2,
       "version_minor": 0
      },
      "text/plain": [
       "  0%|          | 0/9900 [00:00<?, ?it/s]"
      ]
     },
     "metadata": {},
     "output_type": "display_data"
    },
    {
     "data": {
      "application/vnd.jupyter.widget-view+json": {
       "model_id": "",
       "version_major": 2,
       "version_minor": 0
      },
      "text/plain": [
       "  0%|          | 0/9900 [00:00<?, ?it/s]"
      ]
     },
     "metadata": {},
     "output_type": "display_data"
    },
    {
     "data": {
      "application/vnd.jupyter.widget-view+json": {
       "model_id": "",
       "version_major": 2,
       "version_minor": 0
      },
      "text/plain": [
       "  0%|          | 0/9900 [00:00<?, ?it/s]"
      ]
     },
     "metadata": {},
     "output_type": "display_data"
    }
   ],
   "source": [
    "experiment_name = 'two_tones_test'\n",
    "measurement_name = 'meas_4.8_tone_0.1_30'\n",
    "exp = load_or_create_experiment(experiment_name=experiment_name, sample_name=sample_name)\n",
    "\n",
    "#set the vna parameters\n",
    "s21.center(4.8182e9)\n",
    "s21.npts(1)\n",
    "s21.bandwidth(1e2)\n",
    "#s21.span(1e3)\n",
    "s21.averaging_enabled(True)\n",
    "s21.avg(2)\n",
    "s21.power(-30)\n",
    "#s21.set_electrical_delay_auto()\n",
    "\n",
    "# set the signal generator parameters\n",
    "mw_source.sourcemode('CW')\n",
    "mw_source.phase(0)\n",
    "\n",
    "start_frequency = 100e6\n",
    "stop_frequency = 20e9\n",
    "step_frequency = .2e6\n",
    "frequency_points = int( (stop_frequency-start_frequency)/step_frequency )\n",
    "\n",
    "start_power = -30\n",
    "stop_power = 3\n",
    "step_power = 0.5\n",
    "power_points = int( (stop_power-start_power)/step_power )\n",
    "\n",
    "dwell_time = 0.005\n",
    "\n",
    "# WARNING! It takes too much time for some reasons\n",
    "vna.rf_on()\n",
    "mw_source.status('ON')\n",
    "res = do2d(mw_source.power, start_power, stop_power, power_points, dwell_time,\n",
    "           mw_source.frequency, start_frequency, stop_frequency, n_points, dwell_time, \n",
    "           s21.trace_mag_phase, measurement_name=measurement_name, do_plot=False);\n",
    "mw_source.status('OFF')\n",
    "vna.rf_off()\n",
    "\n",
    "# maybe it would be good to improve the plotting of the results\n",
    "#runID = res[0].captured_run_id\n",
    "#x = res[0].get_parameter_data('mw_source_frequency')['mw_source_frequency']['mw_source_frequency']\n",
    "#y = res[0].get_parameter_data('ZNB20_S21_phase')['ZNB20_S21_phase']['ZNB20_S21_phase']\n",
    "#plt.plot(x[::2], y)\n",
    "\n",
    "# add function that creates a measurements log file"
   ]
  },
  {
   "cell_type": "markdown",
   "id": "1cb1bb67-83c0-41cb-bc61-9db66d487a63",
   "metadata": {
    "jp-MarkdownHeadingCollapsed": true,
    "tags": []
   },
   "source": [
    "<h4 style=\"color:#4697E8\";>Only ADwin</h4>"
   ]
  },
  {
   "cell_type": "code",
   "execution_count": 18,
   "id": "c4b8afee-2f9a-45dc-8292-e158057aa2f4",
   "metadata": {},
   "outputs": [],
   "source": [
    "experiment_name = 'test_experiment_adwin'\n",
    "measurement_name = 'supercool_this_adwin'\n",
    "exp = load_or_create_experiment(experiment_name=experiment_name, sample_name=sample_name)\n",
    "\n",
    "#set the adwin parameters\n"
   ]
  },
  {
   "cell_type": "markdown",
   "id": "a18e9f55-5666-4f4f-b806-5e0c79aaf4ba",
   "metadata": {},
   "source": [
    "<h2 style=\"color:#1C3C5C\";>Data preview</h2>\n",
    "Using the experiments widget to look at all the measurements in the database, or filter them by experiment."
   ]
  },
  {
   "cell_type": "code",
   "execution_count": 5,
   "id": "b3b3996c-aae4-4f58-ae53-e1f4dbe09e93",
   "metadata": {
    "tags": []
   },
   "outputs": [
    {
     "name": "stderr",
     "output_type": "stream",
     "text": [
      "IOPub message rate exceeded.\n",
      "The Jupyter server will temporarily stop sending output\n",
      "to the client in order to avoid crashing it.\n",
      "To change this limit, set the config variable\n",
      "`--ServerApp.iopub_msg_rate_limit`.\n",
      "\n",
      "Current values:\n",
      "ServerApp.iopub_msg_rate_limit=1000.0 (msgs/sec)\n",
      "ServerApp.rate_limit_window=3.0 (secs)\n",
      "\n"
     ]
    },
    {
     "data": {
      "application/vnd.jupyter.widget-view+json": {
       "model_id": "7690653af3a14d32b9cdf7070a5f5e2a",
       "version_major": 2,
       "version_minor": 0
      },
      "text/plain": [
       "VBox(children=(HTML(value='<h1>QCoDeS experiments widget</h1>'), Tab(children=(Output(),), _titles={'0': 'Info…"
      ]
     },
     "metadata": {},
     "output_type": "display_data"
    }
   ],
   "source": [
    "experiments = qc.experiments()                       # define the experiments\n",
    "#data_sets = experiments[0].data_sets()               # selecto only one experiment\n",
    "#experiments_widget(data_sets=data_sets)              # start the widget on the selected experiment\n",
    "\n",
    "experiments_widget(db=qc.config.core.db_location)  # start the widget on the whole database"
   ]
  },
  {
   "cell_type": "code",
   "execution_count": null,
   "id": "c831bf94-1d93-4313-9002-ca8be72b07b8",
   "metadata": {},
   "outputs": [],
   "source": []
  },
  {
   "cell_type": "code",
   "execution_count": null,
   "id": "f066fef5-1985-440e-ad51-58b7070655f3",
   "metadata": {},
   "outputs": [],
   "source": []
  },
  {
   "cell_type": "code",
   "execution_count": null,
   "id": "1415f6fe-0472-4f4d-b644-4d928a166e06",
   "metadata": {},
   "outputs": [],
   "source": []
  }
 ],
 "metadata": {
  "kernelspec": {
   "display_name": "Python 3 (ipykernel)",
   "language": "python",
   "name": "python3"
  },
  "language_info": {
   "codemirror_mode": {
    "name": "ipython",
    "version": 3
   },
   "file_extension": ".py",
   "mimetype": "text/x-python",
   "name": "python",
   "nbconvert_exporter": "python",
   "pygments_lexer": "ipython3",
   "version": "3.8.11"
  }
 },
 "nbformat": 4,
 "nbformat_minor": 5
}
