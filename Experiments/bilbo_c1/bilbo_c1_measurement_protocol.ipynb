{
 "cells": [
  {
   "cell_type": "markdown",
   "id": "4939aeb4-f71d-48af-a7b5-adfe0f530ffa",
   "metadata": {
    "tags": []
   },
   "source": [
    "<h1 style=\"color:#2F659C\";>Bilbo C1 measurement script</h1>\n",
    "This notebook can be used to start a new measurement. It includes all the imports and instrument initializations, which can then be removed according to the measurement necessities. A small description of the Chip can be added here, and it is a good practice to change the sample name accordingly."
   ]
  },
  {
   "cell_type": "code",
   "execution_count": 25,
   "id": "a81ea71e-e98a-4cb2-8521-3f501bbc8009",
   "metadata": {},
   "outputs": [],
   "source": [
    "sample_name = 'bilbo_c1'  # name of the chip in the fridge\n",
    "user = 'sc-ncr'             # who is performing measurements\n",
    "\n",
    "date = '20221118'        # when did the measurements started\n",
    "\n",
    "# description = 's21_meas'   # super short description of what you are doing\n",
    "\n",
    "# description = 'spectrum_analyzer' \n",
    "\n",
    "# description = 'lock_in_current'   # super short description of what you are doing\n",
    "\n",
    "# description = 'chip_characterisation'   # super short description of what you are doing\n",
    "\n",
    "description = 'iv_curves'   # super short description of what you are doing\n",
    "\n",
    "# description = 'VI_curves' "
   ]
  },
  {
   "cell_type": "markdown",
   "id": "6934e032-76a1-4bed-adff-f86d2755182c",
   "metadata": {
    "jp-MarkdownHeadingCollapsed": true,
    "tags": []
   },
   "source": [
    "<h3 style=\"color:#418FDB\";>QCodes imports</h3>\n",
    "Import the QCodes functions used in the measurement of this sample."
   ]
  },
  {
   "cell_type": "code",
   "execution_count": 26,
   "id": "02fb3f10-4374-434d-979c-e39fcfabbad5",
   "metadata": {},
   "outputs": [],
   "source": [
    "import os\n",
    "import sys\n",
    "from time import sleep, perf_counter\n",
    "import json\n",
    "import matplotlib.pyplot as plt\n",
    "import numpy as np\n",
    "import tqdm.notebook as tqdm\n",
    "import qcodes as qc\n",
    "import time\n",
    "from qcodes import (\n",
    "    Measurement,\n",
    "    experiments,\n",
    "    initialise_database,\n",
    "    initialise_or_create_database_at,\n",
    "    load_by_guid,\n",
    "    load_by_run_spec,\n",
    "    load_experiment,\n",
    "    load_last_experiment,\n",
    "    load_or_create_experiment,\n",
    "    new_experiment,\n",
    "    validators\n",
    ")\n",
    "from qcodes.instrument.parameter import Parameter\n",
    "\n",
    "#from qcodes.utils.dataset.doNd import do0d, do1d, do2d, dond, plot, LinSweep, LogSweep\n",
    "\n",
    "from qcodes.dataset.plotting import plot_dataset\n",
    "from qcodes.logger.logger import start_all_logging, start_command_history_logger\n",
    "from qcodes.tests.instrument_mocks import DummyInstrument, DummyInstrumentWithMeasurement\n",
    "from qcodes.interactive_widget import experiments_widget"
   ]
  },
  {
   "cell_type": "code",
   "execution_count": 27,
   "id": "4d8e7c02-b087-43f3-87db-ac9f6ff903df",
   "metadata": {},
   "outputs": [],
   "source": [
    "sys.path.append(r'C:\\Users\\nicolas.roch\\Measurements\\Scripts')\n",
    "\n",
    "from QMETfunc.QMET_measurement import do0d, do1d, do2d, dond, LinSweep, LogSweep"
   ]
  },
  {
   "cell_type": "markdown",
   "id": "13937d64-19e3-4758-8335-923bcf7e3503",
   "metadata": {
    "jp-MarkdownHeadingCollapsed": true,
    "tags": []
   },
   "source": [
    "<h2 style=\"color:#1C3C5C\";>Station and database setup</h2>\n",
    "Add the instruments to the station and start all the loggings related to the measurement. Then create or initialise the database where all the data will be saved."
   ]
  },
  {
   "cell_type": "code",
   "execution_count": 28,
   "id": "8f806aa0-4b82-40ca-922b-015f11a8bef3",
   "metadata": {},
   "outputs": [],
   "source": [
    "data_dir = os.path.join(r'D:\\QMET' + '\\\\' + sample_name)"
   ]
  },
  {
   "cell_type": "markdown",
   "id": "015d42dc-3ef6-40d1-8bf0-0567b417072f",
   "metadata": {
    "tags": []
   },
   "source": [
    "<h3 style=\"color:#418FDB\";>Database initialization</h3>"
   ]
  },
  {
   "cell_type": "code",
   "execution_count": 29,
   "id": "8909d4f9-6098-42a6-bc3c-736c11884cc7",
   "metadata": {},
   "outputs": [
    {
     "data": {
      "text/plain": [
       "'D:\\\\QMET\\\\bilbo_c1\\\\20221118_sc-ncr_iv_curves.db'"
      ]
     },
     "execution_count": 29,
     "metadata": {},
     "output_type": "execute_result"
    }
   ],
   "source": [
    "database_name = date + '_' + user + '_' + description\n",
    "try :\n",
    "    os.mkdir(data_dir)\n",
    "except FileExistsError:\n",
    "    pass\n",
    "\n",
    "qc.initialise_or_create_database_at(data_dir + '\\\\' + database_name + '.db')\n",
    "qc.config.core.db_location"
   ]
  },
  {
   "cell_type": "markdown",
   "id": "cf879c4e-9232-4dd5-a128-4f32d83faa74",
   "metadata": {
    "tags": []
   },
   "source": [
    "<h3 style=\"color:#418FDB\";>Instruments initialisation</h3>\n",
    "Add to path the folder containing the drivers. Then import and connect to the used instruments, while delete the unused ones."
   ]
  },
  {
   "cell_type": "code",
   "execution_count": 30,
   "id": "0504fe5e-c06f-45e5-a8a8-3762ca88a243",
   "metadata": {},
   "outputs": [],
   "source": [
    "#sys.path.append(r'C:\\Users\\nicolas.roch\\Measurements\\Drivers') # old drivers\n",
    "sys.path.append(r'C:\\Users\\nicolas.roch\\Documents\\GitHub\\QCodes-drivers') # synched drivers"
   ]
  },
  {
   "cell_type": "markdown",
   "id": "3b8d112c-4c15-4d0a-b2d5-2e6aa2423ac9",
   "metadata": {
    "tags": []
   },
   "source": [
    "<h4 style=\"color:#4697E8\";>Connect to the ADwin</h4>"
   ]
  },
  {
   "cell_type": "code",
   "execution_count": 31,
   "id": "83511b60-266d-466d-9504-7b8fc70a67b9",
   "metadata": {},
   "outputs": [
    {
     "name": "stderr",
     "output_type": "stream",
     "text": [
      "2022-12-14 17:16:13,000 ¦ qcodes.instrument.base ¦ ERROR ¦ base ¦ get_idn ¦ 653 ¦ [adwin(ADwin_Gold2)] Error getting or interpreting *IDN?: ''\n",
      "Traceback (most recent call last):\n",
      "  File \"C:\\Users\\nicolas.roch\\AppData\\Roaming\\Python\\Python38\\site-packages\\qcodes\\instrument\\base.py\", line 640, in get_idn\n",
      "    idstr = self.ask('*IDN?')\n",
      "  File \"C:\\Users\\nicolas.roch\\AppData\\Roaming\\Python\\Python38\\site-packages\\qcodes\\instrument\\base.py\", line 961, in ask\n",
      "    raise e\n",
      "  File \"C:\\Users\\nicolas.roch\\AppData\\Roaming\\Python\\Python38\\site-packages\\qcodes\\instrument\\base.py\", line 954, in ask\n",
      "    answer = self.ask_raw(cmd)\n",
      "  File \"C:\\Users\\nicolas.roch\\AppData\\Roaming\\Python\\Python38\\site-packages\\qcodes\\instrument\\base.py\", line 974, in ask_raw\n",
      "    raise NotImplementedError(\n",
      "NotImplementedError: ('Instrument ADwin_Gold2 has not defined an ask method', \"asking '*IDN?' to <ADwin_Gold2: adwin>\")\n"
     ]
    },
    {
     "name": "stdout",
     "output_type": "stream",
     "text": [
      "Connected to: None adwin (serial:None, firmware:None) in 0.25s\n"
     ]
    }
   ],
   "source": [
    "from ADwin_Gold2 import ADwin_Gold2, ADwin_ramp, ADwin_averagedRamp, ADwin_IV,  ADwin_VI\n",
    "ADwin_Gold2.close_all()\n",
    "ad = ADwin_Gold2(\"adwin\",\n",
    "                 r\"C:\\Users\\nicolas.roch\\Measurements\\Drivers\\adwin\\nanoqt\\ressources\\ADwin11.btl\",\n",
    "                 r\"C:\\Users\\nicolas.roch\\Measurements\\Drivers\\adwin\\nanoqt\\ressources\\acquisition-gold2.TB1\")"
   ]
  },
  {
   "cell_type": "markdown",
   "id": "da800d16-ab64-4330-944e-9844a29bd89d",
   "metadata": {
    "tags": []
   },
   "source": [
    "<h4  style=\"color:#4697E8\";>Connect to the Rohde&Schwartz VNA</h4>"
   ]
  },
  {
   "cell_type": "code",
   "execution_count": 32,
   "id": "a890cf48-3488-4744-a232-c61488645ef0",
   "metadata": {},
   "outputs": [
    {
     "name": "stdout",
     "output_type": "stream",
     "text": [
      "Connected to: Rohde-Schwarz ZNB20-2Port (serial:1311601062101579, firmware:2.94) in 0.03s\n"
     ]
    }
   ],
   "source": [
    "#from VNA_RS import ZNB\n",
    "from VNA_ZNB20 import ZNB\n",
    "#from VNA_ZNB20 import ZNBChannel\n",
    "\n",
    "try:\n",
    "    vna = ZNB('ZNB20', 'TCPIP0::192.168.0.9::inst0::INSTR',\n",
    "               init_s_params=False,terminator='\\n')\n",
    "except KeyError as er:\n",
    "    ZNB.close_all() # Disconnect and irreversibly tear down the instrument\n",
    "    vna = ZNB('ZNB20', 'TCPIP0::192.168.0.9::inst0::INSTR',\n",
    "               init_s_params=False,terminator='\\n')\n",
    "    \n",
    "vna.clear_channels()\n",
    "\n",
    "vna.add_channel('S21', vna_parameter='S21');\n",
    "s21 = vna.channels.S21\n",
    "\n",
    "#vna.add_channel('S11', vna_parameter='S11');\n",
    "#s11 = vna.channels.S11"
   ]
  },
  {
   "cell_type": "markdown",
   "id": "ff387b6b-7b8e-4d87-be23-e4402b6e9c46",
   "metadata": {
    "tags": []
   },
   "source": [
    "<h4 style=\"color:#4697E8\";>Connect to the Agilent signal generator</h4>"
   ]
  },
  {
   "cell_type": "code",
   "execution_count": 33,
   "id": "ae9da875-4c06-4c5e-89d0-c64a6c824b78",
   "metadata": {},
   "outputs": [],
   "source": [
    "from Agilent_E8257D import E8257D\n",
    "\n",
    "# try:\n",
    "#     mw_source = E8257D('mw_source','TCPIP0::192.168.0.70::inst0::INSTR')\n",
    "# except KeyError as er:\n",
    "#     E8257D.close_all()\n",
    "#     mw_source = E8257D('mw_source','TCPIP0::192.168.0.70::inst0::INSTR')"
   ]
  },
  {
   "cell_type": "markdown",
   "id": "2f23125f-73ed-4014-afeb-f7019d962c52",
   "metadata": {
    "tags": []
   },
   "source": [
    "<h4 style=\"color:#4697E8\";>Connect to the Rohde&Schwartz signal generator</h4>"
   ]
  },
  {
   "cell_type": "code",
   "execution_count": 34,
   "id": "acbb4361-7e6a-45f1-9f28-d6f058814bd7",
   "metadata": {},
   "outputs": [
    {
     "name": "stdout",
     "output_type": "stream",
     "text": [
      "Connected to: Rohde&Schwarz SMB100A (serial:1406.6000k03/177959, firmware:3.1.18.2-3.01.203.32) in 0.02s\n"
     ]
    }
   ],
   "source": [
    "from RS_SMB_100A import SMB100A\n",
    "\n",
    "try:\n",
    "    mw_source = SMB100A('mw_source_rs','TCPIP0::192.168.0.70::inst0::INSTR')\n",
    "except KeyError as er:\n",
    "    SMB100A.close_all()\n",
    "    mw_source = SMB100A('mw_source_rs','TCPIP0::192.168.0.70::inst0::INSTR')"
   ]
  },
  {
   "cell_type": "markdown",
   "id": "9021d188-0ea4-4bbe-b31d-73bb933958dc",
   "metadata": {
    "tags": []
   },
   "source": [
    "<h4 style=\"color:#4697E8\";>Connect to the HP3245A current generator</h4>"
   ]
  },
  {
   "cell_type": "code",
   "execution_count": 35,
   "id": "2e9a5c73-1691-4c5e-bcc6-fa2eac742e4f",
   "metadata": {},
   "outputs": [
    {
     "name": "stdout",
     "output_type": "stream",
     "text": [
      "Connected to: HEWLETT PACKARD None (serial:None, firmware:None) in 0.06s\n"
     ]
    }
   ],
   "source": [
    "from HP3245A import HP3245A\n",
    "\n",
    "try:\n",
    "    I_source = HP3245A('current_source', 'GPIB0::9::INSTR')\n",
    "\n",
    "except KeyError as er:\n",
    "    HP3245A.close_all() #Disconnect and irreversibly tear down the instrument\n",
    "    I_source = HP3245A('current_source', 'GPIB0::9::INSTR')\n",
    "I_source.output_terminal('REAR')"
   ]
  },
  {
   "cell_type": "markdown",
   "id": "0f1bb153-b0c2-4aa3-834a-5f13f90345a2",
   "metadata": {
    "tags": []
   },
   "source": [
    "<h4 style=\"color:#4697E8\";>Connect to the SR830 lock-in amplifier</h4>"
   ]
  },
  {
   "cell_type": "code",
   "execution_count": null,
   "id": "cfd834f0-04de-45af-8f0a-7c56395087f9",
   "metadata": {},
   "outputs": [],
   "source": [
    "from qcodes.instrument_drivers.stanford_research.SR830 import SR830\n",
    "\n",
    "try:\n",
    "    li = SR830('lockin', 'GPIB0::14::INSTR')\n",
    "\n",
    "except KeyError as er:\n",
    "    SR830.close_all() #Disconnect and irreversibly tear down the instrument\n",
    "    li = SR830('lockin', 'GPIB0::14::INSTR')"
   ]
  },
  {
   "cell_type": "markdown",
   "id": "beb0e098-ea74-4595-b384-52783b962dd0",
   "metadata": {
    "tags": []
   },
   "source": [
    "<h4 style=\"color:#4697E8\";>Connect to the FSV3030 spectrum analyser</h4>"
   ]
  },
  {
   "cell_type": "code",
   "execution_count": null,
   "id": "f05a35c6-0b84-4045-a9cb-d4e684361caf",
   "metadata": {
    "tags": []
   },
   "outputs": [],
   "source": [
    "from RS_FSV import RS_FSV\n",
    "\n",
    "#try:\n",
    "#    spectrum_analyser = RS_FSV('spectrum_analyser', 'TCPIP0::192.168.0.66::inst0::INSTR')\n",
    "\n",
    "#except KeyError as er:\n",
    "#    RS_FSV.close_all() #Disconnect and irreversibly tear down the instrument\n",
    "#    spectrum_analyser = RS_FSV('spectrum_analyser', 'TCPIP0::192.168.0.66::inst0::INSTR')"
   ]
  },
  {
   "cell_type": "markdown",
   "id": "38b92779-a14c-4876-b877-e3ebba445939",
   "metadata": {
    "tags": []
   },
   "source": [
    "<h4 style=\"color:#4697E8\";>Connect to the Signal Hound spectrum analyser</h4>"
   ]
  },
  {
   "cell_type": "code",
   "execution_count": 20,
   "id": "025728da-63bb-4640-8b5e-2077d0d65fb8",
   "metadata": {},
   "outputs": [
    {
     "ename": "FileNotFoundError",
     "evalue": "Could not find module 'sa_api' (or one of its dependencies). Try using the full path with constructor syntax.",
     "output_type": "error",
     "traceback": [
      "\u001b[1;31m---------------------------------------------------------------------------\u001b[0m",
      "\u001b[1;31mFileNotFoundError\u001b[0m                         Traceback (most recent call last)",
      "\u001b[1;32mC:\\Users\\NICOLA~1.ROC\\AppData\\Local\\Temp/ipykernel_21196/479577214.py\u001b[0m in \u001b[0;36m<cell line: 3>\u001b[1;34m()\u001b[0m\n\u001b[0;32m      1\u001b[0m \u001b[1;32mfrom\u001b[0m \u001b[0mSignalHound_USB_SA124B\u001b[0m \u001b[1;32mimport\u001b[0m \u001b[0mSignalHound_USB_SA124B\u001b[0m\u001b[1;33m\u001b[0m\u001b[1;33m\u001b[0m\u001b[0m\n\u001b[0;32m      2\u001b[0m \u001b[1;31m# SignalHound_USB_SA124B.close_all()\u001b[0m\u001b[1;33m\u001b[0m\u001b[1;33m\u001b[0m\u001b[1;33m\u001b[0m\u001b[0m\n\u001b[1;32m----> 3\u001b[1;33m \u001b[0msh\u001b[0m \u001b[1;33m=\u001b[0m \u001b[0mSignalHound_USB_SA124B\u001b[0m\u001b[1;33m(\u001b[0m\u001b[1;34m'signal_hound2'\u001b[0m\u001b[1;33m,\u001b[0m \u001b[0mdll_path\u001b[0m\u001b[1;33m=\u001b[0m\u001b[1;34mr'C:\\Program Files\\Signal Hound\\Spike\\sa_api.dll'\u001b[0m\u001b[1;33m)\u001b[0m\u001b[1;33m\u001b[0m\u001b[1;33m\u001b[0m\u001b[0m\n\u001b[0m",
      "\u001b[1;32m~\\AppData\\Roaming\\Python\\Python38\\site-packages\\qcodes\\instrument\\base.py\u001b[0m in \u001b[0;36m__call__\u001b[1;34m(cls, *args, **kwargs)\u001b[0m\n\u001b[0;32m    557\u001b[0m         \u001b[0msuccessfully\u001b[0m\u001b[1;33m.\u001b[0m\u001b[1;33m\u001b[0m\u001b[1;33m\u001b[0m\u001b[0m\n\u001b[0;32m    558\u001b[0m         \"\"\"\n\u001b[1;32m--> 559\u001b[1;33m         \u001b[0mnew_inst\u001b[0m \u001b[1;33m=\u001b[0m \u001b[0msuper\u001b[0m\u001b[1;33m(\u001b[0m\u001b[1;33m)\u001b[0m\u001b[1;33m.\u001b[0m\u001b[0m__call__\u001b[0m\u001b[1;33m(\u001b[0m\u001b[1;33m*\u001b[0m\u001b[0margs\u001b[0m\u001b[1;33m,\u001b[0m \u001b[1;33m**\u001b[0m\u001b[0mkwargs\u001b[0m\u001b[1;33m)\u001b[0m\u001b[1;33m\u001b[0m\u001b[1;33m\u001b[0m\u001b[0m\n\u001b[0m\u001b[0;32m    560\u001b[0m         \u001b[0mis_abstract\u001b[0m \u001b[1;33m=\u001b[0m \u001b[0mnew_inst\u001b[0m\u001b[1;33m.\u001b[0m\u001b[0m_is_abstract\u001b[0m\u001b[1;33m(\u001b[0m\u001b[1;33m)\u001b[0m\u001b[1;33m\u001b[0m\u001b[1;33m\u001b[0m\u001b[0m\n\u001b[0;32m    561\u001b[0m         \u001b[1;32mif\u001b[0m \u001b[0mis_abstract\u001b[0m\u001b[1;33m:\u001b[0m\u001b[1;33m\u001b[0m\u001b[1;33m\u001b[0m\u001b[0m\n",
      "\u001b[1;32m~\\Documents\\GitHub\\QCodes-drivers\\SignalHound_USB_SA124B.py\u001b[0m in \u001b[0;36m__init__\u001b[1;34m(self, name, dll_path, **kwargs)\u001b[0m\n\u001b[0;32m    203\u001b[0m                 \u001b[0mlog\u001b[0m\u001b[1;33m.\u001b[0m\u001b[0minfo\u001b[0m\u001b[1;33m(\u001b[0m\u001b[1;34m'Initializing instrument SignalHound USB 124B'\u001b[0m\u001b[1;33m)\u001b[0m\u001b[1;33m\u001b[0m\u001b[1;33m\u001b[0m\u001b[0m\n\u001b[0;32m    204\u001b[0m                 \u001b[1;31m# self.dll = ct.CDLL(dll_path or self.dll_path)\u001b[0m\u001b[1;33m\u001b[0m\u001b[1;33m\u001b[0m\u001b[1;33m\u001b[0m\u001b[0m\n\u001b[1;32m--> 205\u001b[1;33m                 \u001b[0mself\u001b[0m\u001b[1;33m.\u001b[0m\u001b[0mdll\u001b[0m \u001b[1;33m=\u001b[0m \u001b[0mct\u001b[0m\u001b[1;33m.\u001b[0m\u001b[0mcdll\u001b[0m\u001b[1;33m.\u001b[0m\u001b[0msa_api\u001b[0m\u001b[1;33m\u001b[0m\u001b[1;33m\u001b[0m\u001b[0m\n\u001b[0m\u001b[0;32m    206\u001b[0m \u001b[1;33m\u001b[0m\u001b[0m\n\u001b[0;32m    207\u001b[0m                 \u001b[0mself\u001b[0m\u001b[1;33m.\u001b[0m\u001b[0m_set_ctypes_argtypes\u001b[0m\u001b[1;33m(\u001b[0m\u001b[1;33m)\u001b[0m\u001b[1;33m\u001b[0m\u001b[1;33m\u001b[0m\u001b[0m\n",
      "\u001b[1;32m~\\Miniconda3\\envs\\measurement\\lib\\ctypes\\__init__.py\u001b[0m in \u001b[0;36m__getattr__\u001b[1;34m(self, name)\u001b[0m\n\u001b[0;32m    441\u001b[0m         \u001b[1;32mif\u001b[0m \u001b[0mname\u001b[0m\u001b[1;33m[\u001b[0m\u001b[1;36m0\u001b[0m\u001b[1;33m]\u001b[0m \u001b[1;33m==\u001b[0m \u001b[1;34m'_'\u001b[0m\u001b[1;33m:\u001b[0m\u001b[1;33m\u001b[0m\u001b[1;33m\u001b[0m\u001b[0m\n\u001b[0;32m    442\u001b[0m             \u001b[1;32mraise\u001b[0m \u001b[0mAttributeError\u001b[0m\u001b[1;33m(\u001b[0m\u001b[0mname\u001b[0m\u001b[1;33m)\u001b[0m\u001b[1;33m\u001b[0m\u001b[1;33m\u001b[0m\u001b[0m\n\u001b[1;32m--> 443\u001b[1;33m         \u001b[0mdll\u001b[0m \u001b[1;33m=\u001b[0m \u001b[0mself\u001b[0m\u001b[1;33m.\u001b[0m\u001b[0m_dlltype\u001b[0m\u001b[1;33m(\u001b[0m\u001b[0mname\u001b[0m\u001b[1;33m)\u001b[0m\u001b[1;33m\u001b[0m\u001b[1;33m\u001b[0m\u001b[0m\n\u001b[0m\u001b[0;32m    444\u001b[0m         \u001b[0msetattr\u001b[0m\u001b[1;33m(\u001b[0m\u001b[0mself\u001b[0m\u001b[1;33m,\u001b[0m \u001b[0mname\u001b[0m\u001b[1;33m,\u001b[0m \u001b[0mdll\u001b[0m\u001b[1;33m)\u001b[0m\u001b[1;33m\u001b[0m\u001b[1;33m\u001b[0m\u001b[0m\n\u001b[0;32m    445\u001b[0m         \u001b[1;32mreturn\u001b[0m \u001b[0mdll\u001b[0m\u001b[1;33m\u001b[0m\u001b[1;33m\u001b[0m\u001b[0m\n",
      "\u001b[1;32m~\\Miniconda3\\envs\\measurement\\lib\\ctypes\\__init__.py\u001b[0m in \u001b[0;36m__init__\u001b[1;34m(self, name, mode, handle, use_errno, use_last_error, winmode)\u001b[0m\n\u001b[0;32m    371\u001b[0m \u001b[1;33m\u001b[0m\u001b[0m\n\u001b[0;32m    372\u001b[0m         \u001b[1;32mif\u001b[0m \u001b[0mhandle\u001b[0m \u001b[1;32mis\u001b[0m \u001b[1;32mNone\u001b[0m\u001b[1;33m:\u001b[0m\u001b[1;33m\u001b[0m\u001b[1;33m\u001b[0m\u001b[0m\n\u001b[1;32m--> 373\u001b[1;33m             \u001b[0mself\u001b[0m\u001b[1;33m.\u001b[0m\u001b[0m_handle\u001b[0m \u001b[1;33m=\u001b[0m \u001b[0m_dlopen\u001b[0m\u001b[1;33m(\u001b[0m\u001b[0mself\u001b[0m\u001b[1;33m.\u001b[0m\u001b[0m_name\u001b[0m\u001b[1;33m,\u001b[0m \u001b[0mmode\u001b[0m\u001b[1;33m)\u001b[0m\u001b[1;33m\u001b[0m\u001b[1;33m\u001b[0m\u001b[0m\n\u001b[0m\u001b[0;32m    374\u001b[0m         \u001b[1;32melse\u001b[0m\u001b[1;33m:\u001b[0m\u001b[1;33m\u001b[0m\u001b[1;33m\u001b[0m\u001b[0m\n\u001b[0;32m    375\u001b[0m             \u001b[0mself\u001b[0m\u001b[1;33m.\u001b[0m\u001b[0m_handle\u001b[0m \u001b[1;33m=\u001b[0m \u001b[0mhandle\u001b[0m\u001b[1;33m\u001b[0m\u001b[1;33m\u001b[0m\u001b[0m\n",
      "\u001b[1;31mFileNotFoundError\u001b[0m: Could not find module 'sa_api' (or one of its dependencies). Try using the full path with constructor syntax."
     ]
    }
   ],
   "source": [
    "from SignalHound_USB_SA124B import SignalHound_USB_SA124B\n",
    "# SignalHound_USB_SA124B.close_all()\n",
    "sh = SignalHound_USB_SA124B('signal_hound2', dll_path=r'C:\\Program Files\\Signal Hound\\Spike\\sa_api.dll')"
   ]
  },
  {
   "cell_type": "markdown",
   "id": "f7f5fe06-8b2d-4249-98c2-d094d4b5ad4a",
   "metadata": {
    "tags": []
   },
   "source": [
    "<h4 style=\"color:#4697E8\";>Connect to the AFG3252 arbitrary function generator</h4>"
   ]
  },
  {
   "cell_type": "code",
   "execution_count": 12,
   "id": "fa26e651-47a5-4658-9344-5383dc554a83",
   "metadata": {},
   "outputs": [
    {
     "name": "stdout",
     "output_type": "stream",
     "text": [
      "Connected to: TEKTRONIX AFG3252 (serial:C011080, firmware:SCPI:99.0 FV:1.2.1) in 4.14s\n"
     ]
    }
   ],
   "source": [
    "from qcodes_contrib_drivers.drivers.Tektronix.AFG3000 import AFG3000 \n",
    "\n",
    "try:\n",
    "    afg = AFG3000('function_generator', 'TCPIP0::192.168.0.12::inst0::INSTR')\n",
    "\n",
    "except KeyError as er:\n",
    "    AFG3000.close_all() # Disconnect and irreversibly tear down the instrument\n",
    "    afg = AFG3000('function_generator', 'TCPIP0::192.168.0.12::inst0::INSTR')"
   ]
  },
  {
   "cell_type": "markdown",
   "id": "5ed34147-4e80-47cf-ae87-32b140066da8",
   "metadata": {
    "tags": []
   },
   "source": [
    "<h4 style=\"color:#4697E8\";>Dummies</h4>"
   ]
  },
  {
   "cell_type": "code",
   "execution_count": 21,
   "id": "4de1e7fb-cb0e-4c4c-b3e2-2ef2f9177d87",
   "metadata": {},
   "outputs": [],
   "source": [
    "# dac = DummyInstrument('dac', gates=['ch1', 'ch2'])\n",
    "# dmm = DummyInstrumentWithMeasurement('dmm', setter_instr=dac)"
   ]
  },
  {
   "cell_type": "markdown",
   "id": "3fd1ca37-75f8-41b0-b0f4-e0bc60c4b75a",
   "metadata": {
    "tags": []
   },
   "source": [
    "<h3 style=\"color:#418FDB\";>Station initialization</h3>"
   ]
  },
  {
   "cell_type": "code",
   "execution_count": 36,
   "id": "9bb01d3d-7e10-44d7-8791-e016abe35de1",
   "metadata": {},
   "outputs": [
    {
     "name": "stdout",
     "output_type": "stream",
     "text": [
      "Activating auto-logging. Current session state plus future input saved.\n",
      "Filename       : C:\\Users\\nicolas.roch\\.qcodes\\logs\\command_history.log\n",
      "Mode           : append\n",
      "Output logging : True\n",
      "Raw input log  : False\n",
      "Timestamping   : True\n",
      "State          : active\n",
      "Qcodes Logfile : C:\\Users\\nicolas.roch\\.qcodes\\logs\\221214-21196-qcodes.log\n",
      "Activating auto-logging. Current session state plus future input saved.\n",
      "Filename       : D:\\QMET\\bilbo_c1\\command_history.log\n",
      "Mode           : append\n",
      "Output logging : True\n",
      "Raw input log  : False\n",
      "Timestamping   : True\n",
      "State          : active\n"
     ]
    }
   ],
   "source": [
    "STATION = qc.Station()\n",
    "\n",
    "start_all_logging()\n",
    "start_command_history_logger(data_dir)"
   ]
  },
  {
   "cell_type": "markdown",
   "id": "0f95fc5b-8b18-4e79-9198-2d25b95ac6bb",
   "metadata": {
    "tags": []
   },
   "source": [
    "<h4 style=\"color:#418FDB\";>Adding the instruments to the station</h4>"
   ]
  },
  {
   "cell_type": "code",
   "execution_count": 37,
   "id": "cefb9a5f-45be-45bb-a59d-832ed5c3032f",
   "metadata": {},
   "outputs": [
    {
     "name": "stderr",
     "output_type": "stream",
     "text": [
      "2022-12-14 17:16:21,617 ¦ qcodes.instrument.base ¦ WARNING ¦ base ¦ snapshot_base ¦ 272 ¦ [ZNB20_S21(ZNBChannel)] Snapshot: Could not update parameter: trigger_link\n",
      "2022-12-14 17:16:21,666 ¦ qcodes.instrument.base ¦ ERROR ¦ base ¦ get_idn ¦ 653 ¦ [adwin(ADwin_Gold2)] Error getting or interpreting *IDN?: ''\n",
      "Traceback (most recent call last):\n",
      "  File \"C:\\Users\\nicolas.roch\\AppData\\Roaming\\Python\\Python38\\site-packages\\qcodes\\instrument\\base.py\", line 640, in get_idn\n",
      "    idstr = self.ask('*IDN?')\n",
      "  File \"C:\\Users\\nicolas.roch\\AppData\\Roaming\\Python\\Python38\\site-packages\\qcodes\\instrument\\base.py\", line 961, in ask\n",
      "    raise e\n",
      "  File \"C:\\Users\\nicolas.roch\\AppData\\Roaming\\Python\\Python38\\site-packages\\qcodes\\instrument\\base.py\", line 954, in ask\n",
      "    answer = self.ask_raw(cmd)\n",
      "  File \"C:\\Users\\nicolas.roch\\AppData\\Roaming\\Python\\Python38\\site-packages\\qcodes\\instrument\\base.py\", line 974, in ask_raw\n",
      "    raise NotImplementedError(\n",
      "NotImplementedError: ('Instrument ADwin_Gold2 has not defined an ask method', \"asking '*IDN?' to <ADwin_Gold2: adwin>\")\n",
      "2022-12-14 17:16:21,667 ¦ qcodes.instrument.base ¦ WARNING ¦ base ¦ snapshot_base ¦ 272 ¦ [adwin(ADwin_Gold2)] Snapshot: Could not update parameter: outputs\n",
      "2022-12-14 17:16:21,673 ¦ qcodes.instrument.base ¦ WARNING ¦ base ¦ snapshot_base ¦ 272 ¦ [adwin(ADwin_Gold2)] Snapshot: Could not update parameter: inputs\n"
     ]
    },
    {
     "data": {
      "text/plain": [
       "{'ZNB20_S21': <ZNBChannel: ZNB20_S21 of ZNB: ZNB20>,\n",
       " 'mw_source_rs': <SMB100A: mw_source_rs>,\n",
       " 'adwin': <ADwin_Gold2: adwin>,\n",
       " 'current_source': <HP3245A: current_source>}"
      ]
     },
     "execution_count": 37,
     "metadata": {},
     "output_type": "execute_result"
    }
   ],
   "source": [
    "STATION.add_component(s21)         # VNA channel s21\n",
    "STATION.add_component(mw_source)   # Signal generator\n",
    "STATION.add_component(ad)          # ADwin\n",
    "STATION.add_component(I_source)\n",
    "# STATION.add_component(li)\n",
    "# STATION.add_component(sh)\n",
    "# STATION.add_component(afg)\n",
    "\n",
    "#STATION.add_component(daq)        # Dummy signal\n",
    "#STATION.add_component(dmm)        # Dummy multimeter\n",
    "\n",
    "STATION.snapshot();\n",
    "STATION.components"
   ]
  },
  {
   "cell_type": "markdown",
   "id": "c6b5899d-bb2c-486e-987b-d61da8079c9d",
   "metadata": {
    "jp-MarkdownHeadingCollapsed": true,
    "tags": []
   },
   "source": [
    "<h2 style=\"color:#1C3C5C\";>Measurements</h2>\n",
    "Here the idea is to create a new cell and a new experiment every time something more that just ranges and parameters are changed. Every new measurement will be stored in the database with a different experiment name, so it's easyer to retrive. Note that the used instruments must be initialised before, in the Instrument Initialisation section."
   ]
  },
  {
   "cell_type": "markdown",
   "id": "ddda1ce0-4a23-473f-8a56-c3be372932c8",
   "metadata": {
    "jp-MarkdownHeadingCollapsed": true,
    "tags": []
   },
   "source": [
    "<h3 style=\"color:#418FDB\";>VNA trace</h3>"
   ]
  },
  {
   "cell_type": "markdown",
   "id": "139432d0-d41c-42ec-b7ff-c42c62b0464e",
   "metadata": {
    "jp-MarkdownHeadingCollapsed": true,
    "tags": []
   },
   "source": [
    "<h4  style=\"color:#4697E8\";>Phase and magnitude of the current trace</h4>"
   ]
  },
  {
   "cell_type": "code",
   "execution_count": null,
   "id": "25e15721-f7af-4b57-8fa9-3f14af59426c",
   "metadata": {},
   "outputs": [],
   "source": [
    "experiment_name = 's21'\n",
    "measurement_name = 'vna_1dtrce_pm15dbm_cnt5ghz_spn2ghz'\n",
    "exp = load_or_create_experiment(experiment_name=experiment_name, sample_name=sample_name)\n",
    "\n",
    "s21.center(5.0e9)\n",
    "s21.span(2e9)\n",
    "# s21.start(2e9)\n",
    "# s21.stop(10e9)\n",
    "s21.npts(5001)\n",
    "s21.bandwidth(1e3)\n",
    "s21.averaging_enabled(True)\n",
    "s21.avg(1)\n",
    "# 30dB of attenuation added at the output\n",
    "s21.power(-15)\n",
    "\n",
    "s21.set_electrical_delay_auto()\n",
    "s21.average_clear()\n",
    "# ad.go_to_zero()\n",
    "\n",
    "# turn off\n",
    "# mw_source.status('OFF')\n",
    "ad.go_to_zero()\n",
    "I_source.current(0.0)\n",
    "\n",
    "\n",
    "vna.rf_on()\n",
    "res = do0d(s21.trace_mag_phase, measurement_name=measurement_name);\n",
    "vna.rf_off()\n",
    "\n",
    "res[0].captured_run_id"
   ]
  },
  {
   "cell_type": "markdown",
   "id": "7905ee55-1450-468d-b2d6-fb06687fe2a7",
   "metadata": {
    "jp-MarkdownHeadingCollapsed": true,
    "tags": []
   },
   "source": [
    "<h4  style=\"color:#4697E8\";>Phase and magnitude of traces corresponding to different power levels</h4>"
   ]
  },
  {
   "cell_type": "code",
   "execution_count": null,
   "id": "3aa6d65d-7f9a-4e8c-9330-476a1aedba87",
   "metadata": {},
   "outputs": [],
   "source": [
    "experiment_name = 's21'\n",
    "measurement_name = 'vna_2dtrce_413ghz_vs_p'\n",
    "exp = load_or_create_experiment(experiment_name=experiment_name, sample_name=sample_name)\n",
    "\n",
    "s21.center(4.113e9)\n",
    "s21.span(500e6)\n",
    "# s21.start(2e9)\n",
    "# s21.stop(10e9)\n",
    "s21.npts(2001)\n",
    "s21.bandwidth(1e3)\n",
    "s21.averaging_enabled(True)\n",
    "s21.avg(5)\n",
    "# 30dB of attenuation added at the output\n",
    "\n",
    "vna.rf_on()\n",
    "res = do1d(s21.power, -20, 10, 31, 0.01, s21.trace_mag_phase, measurement_name=measurement_name);\n",
    "vna.rf_off()\n",
    "\n",
    "res[0].captured_run_id"
   ]
  },
  {
   "cell_type": "markdown",
   "id": "a1a74e02-afc5-4f50-ae97-0ffd87da7989",
   "metadata": {
    "jp-MarkdownHeadingCollapsed": true,
    "tags": []
   },
   "source": [
    "<h4  style=\"color:#4697E8\";>Phase and magnitude of traces vs flux</h4>"
   ]
  },
  {
   "cell_type": "code",
   "execution_count": 54,
   "id": "3ecc4c77-0841-4466-9252-bb5ca7352fb4",
   "metadata": {
    "tags": []
   },
   "outputs": [
    {
     "name": "stdout",
     "output_type": "stream",
     "text": [
      "Starting experimental run with id: 68. Using 'qcodes.utils.dataset.doNd.do1d'\n"
     ]
    },
    {
     "data": {
      "application/vnd.jupyter.widget-view+json": {
       "model_id": "a3e901d986fc4240b2fc2ca18a975b3a",
       "version_major": 2,
       "version_minor": 0
      },
      "text/plain": [
       "  0%|          | 0/100 [00:00<?, ?it/s]"
      ]
     },
     "metadata": {},
     "output_type": "display_data"
    },
    {
     "data": {
      "text/plain": [
       "68"
      ]
     },
     "execution_count": 54,
     "metadata": {},
     "output_type": "execute_result"
    },
    {
     "data": {
      "image/png": "[encoded data removed]",
      "text/plain": [
       "<Figure size 432x288 with 2 Axes>"
      ]
     },
     "metadata": {
      "needs_background": "light"
     },
     "output_type": "display_data"
    },
    {
     "data": {
      "image/png": "[encoded data removed]",
      "text/plain": [
       "<Figure size 432x288 with 2 Axes>"
      ]
     },
     "metadata": {
      "needs_background": "light"
     },
     "output_type": "display_data"
    }
   ],
   "source": [
    "experiment_name = 's21'\n",
    "measurement_name = 's21_flux_5.4GHz_2.7mA_anticrossing_search_m15dBm'\n",
    "exp = load_or_create_experiment(experiment_name=experiment_name, sample_name=sample_name)\n",
    "\n",
    "s21.start(5.34e9)\n",
    "s21.stop(5.44e9)\n",
    "# s21.center(4.355e9)\n",
    "# s21.span(50e6)\n",
    "s21.power(-15)\n",
    "s21.npts(3001)\n",
    "s21.bandwidth(1e3)\n",
    "s21.averaging_enabled(True)\n",
    "s21.avg(1)\n",
    "# 30dB of attenuation added at the output\n",
    "I_source.current(0.0)\n",
    "\n",
    "vna.rf_on()\n",
    "res = do1d(I_source.current, 0, 2.7e-3, 100, 0.01, s21.trace_mag_phase, measurement_name=measurement_name);\n",
    "vna.rf_off()\n",
    "\n",
    "res[0].captured_run_id"
   ]
  },
  {
   "cell_type": "markdown",
   "id": "f969b300-642a-4166-ac4d-d6501ab1d39e",
   "metadata": {
    "jp-MarkdownHeadingCollapsed": true,
    "tags": []
   },
   "source": [
    "<h4  style=\"color:#4697E8\";>Phase and magnitude of traces vs DC bias</h4>"
   ]
  },
  {
   "cell_type": "code",
   "execution_count": null,
   "id": "4d13ef54-2410-4491-9ea7-04fa3d4208c0",
   "metadata": {},
   "outputs": [],
   "source": [
    "experiment_name = 's21_vs_dc'\n",
    "exp = load_or_create_experiment(experiment_name=experiment_name, sample_name=sample_name)"
   ]
  },
  {
   "cell_type": "code",
   "execution_count": null,
   "id": "6cb50d01-79fe-45bc-8495-b54218947f8f",
   "metadata": {},
   "outputs": [],
   "source": [
    "adVbias = Parameter(name='adwin_output1',\n",
    "                    label='Adwin output voltage',\n",
    "                    unit= 'V',\n",
    "                    vals=validators.Numbers(-10,10),\n",
    "                    get_cmd=None,\n",
    "                    set_cmd=None\n",
    "                   )"
   ]
  },
  {
   "cell_type": "code",
   "execution_count": null,
   "id": "e293463f-6abf-4559-b5c9-b4bc81b09271",
   "metadata": {
    "tags": []
   },
   "outputs": [],
   "source": [
    "measurement_name = 's21_vs_dc_0.3mV_3.5GHzmode_0.53mA'\n",
    "meas = qc.Measurement(exp=exp, station=STATION, name=measurement_name)\n",
    "\n",
    "# mw\n",
    "# f = 4.04e9\n",
    "# p = -5.5\n",
    "# mw_source.frequency(f)\n",
    "# mw_source.power(p)\n",
    "\n",
    "s21.start(3.49e9)\n",
    "s21.stop(3.505e9)\n",
    "s21.power(-20)\n",
    "s21.npts(1001)\n",
    "s21.bandwidth(1e3)\n",
    "\n",
    "s21.averaging_enabled(True)\n",
    "s21.avg(2)\n",
    "# 20dB of attenuation added at the output\n",
    "\n",
    "# s21.set_electrical_delay_auto()\n",
    "s21.average_clear()\n",
    "\n",
    "ad.input_mask(0b1)\n",
    "ad.output_mask(0b11)\n",
    "ad.adwin_mode(0b0)\n",
    "ad.clear_fifos()\n",
    "ad.go_to_zero()\n",
    "\n",
    "VT = 0.8\n",
    "v_points = 51\n",
    "voltage_divider = 1e3 * 30\n",
    "\n",
    "Ib = 0.53e-3\n",
    "offset = -0.80*3\n",
    "ad_Vs = np.linspace(-VT+offset,VT+offset, num=v_points)\n",
    "\n",
    "meas.register_parameter(adVbias)\n",
    "meas.register_parameter(s21.trace_mag_phase, setpoints=[adVbias])\n",
    "\n",
    "\n",
    "# turn off\n",
    "# mw_source.status('OFF')\n",
    "ad.go_to_zero()\n",
    "I_source.current(Ib)\n",
    "\n",
    "vna.rf_on()\n",
    "\n",
    "with meas.run() as datasaver :\n",
    "    for v_ad in tqdm.tqdm(ad_Vs):\n",
    "        adwin_target = np.array([v_ad, v_ad])\n",
    "        ad.outputs(adwin_target)\n",
    "        ad.launch_measurement()\n",
    "        ad.clear_fifos()\n",
    "        \n",
    "        trace = s21.trace_mag_phase()\n",
    "        datasaver.add_result((adVbias, v_ad/voltage_divider),\n",
    "                             (s21.trace_mag_phase, trace))\n",
    "\n",
    "vna.rf_off()\n",
    "ad.clear_fifos()\n",
    "ad.go_to_zero()\n",
    "I_source.current(0.0)\n",
    "\n",
    "# res[0].captured_run_id"
   ]
  },
  {
   "cell_type": "markdown",
   "id": "f9f9f576-e492-4884-bb3a-91817d0e8f30",
   "metadata": {
    "jp-MarkdownHeadingCollapsed": true,
    "tags": []
   },
   "source": [
    "<h4  style=\"color:#4697E8\";>Phase and magnitude of traces vs DC current bias</h4>"
   ]
  },
  {
   "cell_type": "code",
   "execution_count": 16,
   "id": "c0a47138-f82f-4aa1-9128-5b6edf39b024",
   "metadata": {},
   "outputs": [],
   "source": [
    "experiment_name = 's21_vs_dcCurrent'\n",
    "exp = load_or_create_experiment(experiment_name=experiment_name, sample_name=sample_name)"
   ]
  },
  {
   "cell_type": "code",
   "execution_count": 17,
   "id": "aadd5f67-9a5a-4a13-af74-e24b08a04965",
   "metadata": {},
   "outputs": [],
   "source": [
    "adVbias = Parameter(name='adwin_output_in_current',\n",
    "                    label='Adwin output voltage converted to current',\n",
    "                    unit= 'A',\n",
    "                    vals=validators.Numbers(-10,10),\n",
    "                    get_cmd=None,\n",
    "                    set_cmd=None\n",
    "                   )"
   ]
  },
  {
   "cell_type": "code",
   "execution_count": 22,
   "id": "d5f8dc7f-ba0e-4385-bffc-3f67dffc337b",
   "metadata": {
    "tags": []
   },
   "outputs": [
    {
     "name": "stdout",
     "output_type": "stream",
     "text": [
      "Starting experimental run with id: 72. \n"
     ]
    },
    {
     "data": {
      "application/vnd.jupyter.widget-view+json": {
       "model_id": "13be06f0b89c45caa7dfe2b82ef1d822",
       "version_major": 2,
       "version_minor": 0
      },
      "text/plain": [
       "  0%|          | 0/201 [00:00<?, ?it/s]"
      ]
     },
     "metadata": {},
     "output_type": "display_data"
    }
   ],
   "source": [
    "measurement_name = 's21_vs_dcI_5.18Ghz_to_5.28GHz_2.5nA'\n",
    "meas = qc.Measurement(exp=exp, station=STATION, name=measurement_name)\n",
    "\n",
    "# mw\n",
    "# f = 4.04e9\n",
    "# p = -5.5\n",
    "# mw_source.frequency(f)\n",
    "# mw_source.power(p)\n",
    "\n",
    "s21.start(5.18e9)\n",
    "s21.stop(5.28e9)\n",
    "s21.power(-20)\n",
    "s21.npts(1001)\n",
    "\n",
    "s21.bandwidth(1e2)\n",
    "s21.averaging_enabled(True)\n",
    "s21.avg(2)\n",
    "# 20dB of attenuation added at the output\n",
    "\n",
    "# s21.set_electrical_delay_auto()\n",
    "s21.average_clear()\n",
    "\n",
    "ad.input_mask(0b1)\n",
    "ad.output_mask(0b11)\n",
    "ad.adwin_mode(0b0)\n",
    "ad.clear_fifos()\n",
    "ad.go_to_zero()\n",
    "\n",
    "VT = 0.5\n",
    "Ib = 0e-3\n",
    "offset = 0.5\n",
    "current_coef = 1e7 * 30\n",
    "\n",
    "ad_Vs = np.linspace(-VT+offset,VT+offset, num=201)\n",
    "\n",
    "meas.register_parameter(adVbias)\n",
    "meas.register_parameter(s21.trace_mag_phase, setpoints=[adVbias])\n",
    "\n",
    "\n",
    "# turn off\n",
    "mw_source.status('off')\n",
    "ad.go_to_zero()\n",
    "I_source.current(Ib)\n",
    "\n",
    "vna.rf_on()\n",
    "\n",
    "with meas.run() as datasaver :\n",
    "    for v_ad in tqdm.tqdm(ad_Vs):\n",
    "        adwin_target = np.array([v_ad, v_ad])\n",
    "        ad.outputs(adwin_target)\n",
    "        ad.launch_measurement()\n",
    "        ad.clear_fifos()\n",
    "        \n",
    "        trace = s21.trace_mag_phase()\n",
    "        datasaver.add_result(\n",
    "            (adVbias, v_ad / current_coef),\n",
    "                             (s21.trace_mag_phase, trace)\n",
    "        )\n",
    "\n",
    "vna.rf_off()\n",
    "ad.clear_fifos()\n",
    "ad.go_to_zero()\n",
    "I_source.current(0.0)\n",
    "\n",
    "# res[0].captured_run_id"
   ]
  },
  {
   "cell_type": "markdown",
   "id": "562e7dd7-159e-4e70-bbd7-db385e7d6e35",
   "metadata": {
    "jp-MarkdownHeadingCollapsed": true,
    "tags": []
   },
   "source": [
    "<h4  style=\"color:#4697E8\";>Phase and magnitude of traces vs DC bias vs Flux</h4>"
   ]
  },
  {
   "cell_type": "code",
   "execution_count": null,
   "id": "de92ae09-aa1b-45bd-aa67-d2b507b5dbe8",
   "metadata": {},
   "outputs": [],
   "source": [
    "experiment_name = 's21_vs_dc_vs_flux'\n",
    "exp = load_or_create_experiment(experiment_name=experiment_name, sample_name=sample_name)"
   ]
  },
  {
   "cell_type": "code",
   "execution_count": null,
   "id": "d7f170d9-1860-4b8b-8fec-1ef7e6f886e8",
   "metadata": {},
   "outputs": [],
   "source": [
    "adVbias = Parameter(name='adwin_output1',\n",
    "                    label='Adwin output voltage',\n",
    "                    unit= 'V',\n",
    "                    vals=validators.Numbers(-10,10),\n",
    "                    get_cmd=None,\n",
    "                    set_cmd=None\n",
    "                   )"
   ]
  },
  {
   "cell_type": "code",
   "execution_count": null,
   "id": "062e62fd-f985-416e-b45b-751632a5be04",
   "metadata": {
    "tags": []
   },
   "outputs": [],
   "source": [
    "measurement_name = 's21_vs_dc_p03mV_6phi0_smallV'\n",
    "meas = qc.Measurement(exp=exp, station=STATION, name=measurement_name)\n",
    "\n",
    "# mw\n",
    "# f = 4.04e9\n",
    "# p = -5.5\n",
    "# mw_source.frequency(f)\n",
    "# mw_source.power(p)\n",
    "\n",
    "s21.start(3.7e9)\n",
    "s21.stop(4.2e9)\n",
    "s21.power(-25)\n",
    "s21.npts(2001)\n",
    "\n",
    "s21.bandwidth(1e3)\n",
    "s21.averaging_enabled(True)\n",
    "s21.avg(5)\n",
    "# 20dB of attenuation added at the output\n",
    "\n",
    "# s21.set_electrical_delay_auto()\n",
    "s21.average_clear()\n",
    "\n",
    "ad.input_mask(0b1)\n",
    "ad.output_mask(0b11)\n",
    "ad.adwin_mode(0b0)\n",
    "ad.clear_fifos()\n",
    "ad.go_to_zero()\n",
    "\n",
    "VT = 0.5\n",
    "voltage_divider = 1e3 * 30\n",
    "\n",
    "Imax = 1.5*0.7e-3\n",
    "offset = -3\n",
    "\n",
    "ad_Vs = np.linspace(-VT+offset,VT+offset, num=51)\n",
    "currents = np.linspace(0, Imax, num=101)\n",
    "\n",
    "meas.register_parameter(adVbias)\n",
    "meas.register_parameter(I_source.current)\n",
    "meas.register_parameter(s21.trace_mag_phase, setpoints=[I_source.current, adVbias])\n",
    "\n",
    "\n",
    "# turn off\n",
    "# mw_source.status('OFF')\n",
    "ad.go_to_zero()\n",
    "I_source.current(-Imax)\n",
    "\n",
    "vna.rf_on()\n",
    "\n",
    "with meas.run() as datasaver :\n",
    "    for Ib in tqdm.tqdm(currents):\n",
    "        I_source.current(Ib)\n",
    "        for v_ad in tqdm.tqdm(ad_Vs):\n",
    "            adwin_target = np.array([v_ad, v_ad])\n",
    "            ad.outputs(adwin_target)\n",
    "            ad.launch_measurement()\n",
    "            ad.clear_fifos()\n",
    "\n",
    "            trace = s21.trace_mag_phase()\n",
    "            datasaver.add_result( (I_source.current, Ib), (adVbias, v_ad/voltage_divider),\n",
    "                                 (s21.trace_mag_phase, trace))\n",
    "\n",
    "vna.rf_off()\n",
    "ad.clear_fifos()\n",
    "ad.go_to_zero()\n",
    "I_source.current(0.0)\n",
    "\n",
    "# res[0].captured_run_id"
   ]
  },
  {
   "cell_type": "markdown",
   "id": "2bbb2928-89b3-4ef1-a8fe-406a0d18aa4b",
   "metadata": {
    "jp-MarkdownHeadingCollapsed": true,
    "tags": []
   },
   "source": [
    "<h4  style=\"color:#4697E8\";>Phase and magnitude of traces vs DC current bias vs Flux</h4>"
   ]
  },
  {
   "cell_type": "code",
   "execution_count": 16,
   "id": "29116135-7cde-4fea-ad11-960a1a63a94a",
   "metadata": {},
   "outputs": [],
   "source": [
    "experiment_name = 's21_vs_dcCurrent_vs_flux'\n",
    "exp = load_or_create_experiment(experiment_name=experiment_name, sample_name=sample_name)"
   ]
  },
  {
   "cell_type": "code",
   "execution_count": 17,
   "id": "1d187b94-10f5-4e57-90d7-c6c25a476167",
   "metadata": {},
   "outputs": [],
   "source": [
    "adVbias = Parameter(name='adwin_output_in_current',\n",
    "                    label='Adwin output voltage converted to current',\n",
    "                    unit= 'A',\n",
    "                    vals=validators.Numbers(-10,10),\n",
    "                    get_cmd=None,\n",
    "                    set_cmd=None\n",
    "                   )"
   ]
  },
  {
   "cell_type": "code",
   "execution_count": 18,
   "id": "756460ff-4e7c-485b-934a-09cb4bd0d0c7",
   "metadata": {
    "tags": []
   },
   "outputs": [
    {
     "name": "stdout",
     "output_type": "stream",
     "text": [
      "Starting experimental run with id: 51. \n"
     ]
    },
    {
     "data": {
      "application/vnd.jupyter.widget-view+json": {
       "model_id": "90277b4a19ab4fc09c6951e2891ad9e0",
       "version_major": 2,
       "version_minor": 0
      },
      "text/plain": [
       "  0%|          | 0/51 [00:00<?, ?it/s]"
      ]
     },
     "metadata": {},
     "output_type": "display_data"
    },
    {
     "data": {
      "application/vnd.jupyter.widget-view+json": {
       "model_id": "e341245ca1864372ad47a1696850a149",
       "version_major": 2,
       "version_minor": 0
      },
      "text/plain": [
       "  0%|          | 0/101 [00:00<?, ?it/s]"
      ]
     },
     "metadata": {},
     "output_type": "display_data"
    },
    {
     "data": {
      "application/vnd.jupyter.widget-view+json": {
       "model_id": "f7e6bc7dee6846a59fc2527c3aaa2117",
       "version_major": 2,
       "version_minor": 0
      },
      "text/plain": [
       "  0%|          | 0/101 [00:00<?, ?it/s]"
      ]
     },
     "metadata": {},
     "output_type": "display_data"
    },
    {
     "data": {
      "application/vnd.jupyter.widget-view+json": {
       "model_id": "1f00ed6366cf483f84cccdc845c973ea",
       "version_major": 2,
       "version_minor": 0
      },
      "text/plain": [
       "  0%|          | 0/101 [00:00<?, ?it/s]"
      ]
     },
     "metadata": {},
     "output_type": "display_data"
    },
    {
     "data": {
      "application/vnd.jupyter.widget-view+json": {
       "model_id": "701af8e967cb446185a131cd60831a11",
       "version_major": 2,
       "version_minor": 0
      },
      "text/plain": [
       "  0%|          | 0/101 [00:00<?, ?it/s]"
      ]
     },
     "metadata": {},
     "output_type": "display_data"
    },
    {
     "data": {
      "application/vnd.jupyter.widget-view+json": {
       "model_id": "7eb14fe784284fddb9e80a9d4eeb635d",
       "version_major": 2,
       "version_minor": 0
      },
      "text/plain": [
       "  0%|          | 0/101 [00:00<?, ?it/s]"
      ]
     },
     "metadata": {},
     "output_type": "display_data"
    },
    {
     "data": {
      "application/vnd.jupyter.widget-view+json": {
       "model_id": "8496bd6a469c4ba3bdb2e13c933faf0e",
       "version_major": 2,
       "version_minor": 0
      },
      "text/plain": [
       "  0%|          | 0/101 [00:00<?, ?it/s]"
      ]
     },
     "metadata": {},
     "output_type": "display_data"
    },
    {
     "data": {
      "application/vnd.jupyter.widget-view+json": {
       "model_id": "e6706d5fda56486db639aeb76f668592",
       "version_major": 2,
       "version_minor": 0
      },
      "text/plain": [
       "  0%|          | 0/101 [00:00<?, ?it/s]"
      ]
     },
     "metadata": {},
     "output_type": "display_data"
    },
    {
     "data": {
      "application/vnd.jupyter.widget-view+json": {
       "model_id": "c217f666811a4ea2bf1117f1abd304c6",
       "version_major": 2,
       "version_minor": 0
      },
      "text/plain": [
       "  0%|          | 0/101 [00:00<?, ?it/s]"
      ]
     },
     "metadata": {},
     "output_type": "display_data"
    },
    {
     "data": {
      "application/vnd.jupyter.widget-view+json": {
       "model_id": "d74003262a58445680b464b65fbe7d18",
       "version_major": 2,
       "version_minor": 0
      },
      "text/plain": [
       "  0%|          | 0/101 [00:00<?, ?it/s]"
      ]
     },
     "metadata": {},
     "output_type": "display_data"
    },
    {
     "data": {
      "application/vnd.jupyter.widget-view+json": {
       "model_id": "a8ab2bc7a0ee418198a76f3934eaadb2",
       "version_major": 2,
       "version_minor": 0
      },
      "text/plain": [
       "  0%|          | 0/101 [00:00<?, ?it/s]"
      ]
     },
     "metadata": {},
     "output_type": "display_data"
    },
    {
     "data": {
      "application/vnd.jupyter.widget-view+json": {
       "model_id": "210880d0ed504af18d4baa24bb233011",
       "version_major": 2,
       "version_minor": 0
      },
      "text/plain": [
       "  0%|          | 0/101 [00:00<?, ?it/s]"
      ]
     },
     "metadata": {},
     "output_type": "display_data"
    },
    {
     "data": {
      "application/vnd.jupyter.widget-view+json": {
       "model_id": "9ca2a7f3875b4e4595d2ecb89ea87c71",
       "version_major": 2,
       "version_minor": 0
      },
      "text/plain": [
       "  0%|          | 0/101 [00:00<?, ?it/s]"
      ]
     },
     "metadata": {},
     "output_type": "display_data"
    },
    {
     "data": {
      "application/vnd.jupyter.widget-view+json": {
       "model_id": "62f9b95158e041c48043c18133d12ae2",
       "version_major": 2,
       "version_minor": 0
      },
      "text/plain": [
       "  0%|          | 0/101 [00:00<?, ?it/s]"
      ]
     },
     "metadata": {},
     "output_type": "display_data"
    },
    {
     "data": {
      "application/vnd.jupyter.widget-view+json": {
       "model_id": "c3d7dbb849854828a27cc12434dde80c",
       "version_major": 2,
       "version_minor": 0
      },
      "text/plain": [
       "  0%|          | 0/101 [00:00<?, ?it/s]"
      ]
     },
     "metadata": {},
     "output_type": "display_data"
    },
    {
     "data": {
      "application/vnd.jupyter.widget-view+json": {
       "model_id": "9798be9d775e431abc39696011d44de9",
       "version_major": 2,
       "version_minor": 0
      },
      "text/plain": [
       "  0%|          | 0/101 [00:00<?, ?it/s]"
      ]
     },
     "metadata": {},
     "output_type": "display_data"
    },
    {
     "data": {
      "application/vnd.jupyter.widget-view+json": {
       "model_id": "78f9d9f73b6c4449a8242e61e0140391",
       "version_major": 2,
       "version_minor": 0
      },
      "text/plain": [
       "  0%|          | 0/101 [00:00<?, ?it/s]"
      ]
     },
     "metadata": {},
     "output_type": "display_data"
    },
    {
     "data": {
      "application/vnd.jupyter.widget-view+json": {
       "model_id": "ab8f7cb96e72461892f909b115626c03",
       "version_major": 2,
       "version_minor": 0
      },
      "text/plain": [
       "  0%|          | 0/101 [00:00<?, ?it/s]"
      ]
     },
     "metadata": {},
     "output_type": "display_data"
    },
    {
     "data": {
      "application/vnd.jupyter.widget-view+json": {
       "model_id": "b891b5fc92564197aa06e1494ff5e36e",
       "version_major": 2,
       "version_minor": 0
      },
      "text/plain": [
       "  0%|          | 0/101 [00:00<?, ?it/s]"
      ]
     },
     "metadata": {},
     "output_type": "display_data"
    },
    {
     "data": {
      "application/vnd.jupyter.widget-view+json": {
       "model_id": "8b0b61e3add44e379a4830baee94d6a0",
       "version_major": 2,
       "version_minor": 0
      },
      "text/plain": [
       "  0%|          | 0/101 [00:00<?, ?it/s]"
      ]
     },
     "metadata": {},
     "output_type": "display_data"
    },
    {
     "data": {
      "application/vnd.jupyter.widget-view+json": {
       "model_id": "56cc679821e9430aaac24cf8ae427fc9",
       "version_major": 2,
       "version_minor": 0
      },
      "text/plain": [
       "  0%|          | 0/101 [00:00<?, ?it/s]"
      ]
     },
     "metadata": {},
     "output_type": "display_data"
    },
    {
     "data": {
      "application/vnd.jupyter.widget-view+json": {
       "model_id": "cd8202c59cbb4d65a32ab6d7f264bc37",
       "version_major": 2,
       "version_minor": 0
      },
      "text/plain": [
       "  0%|          | 0/101 [00:00<?, ?it/s]"
      ]
     },
     "metadata": {},
     "output_type": "display_data"
    },
    {
     "data": {
      "application/vnd.jupyter.widget-view+json": {
       "model_id": "b2137c93443d4de098abf0f01d3a903b",
       "version_major": 2,
       "version_minor": 0
      },
      "text/plain": [
       "  0%|          | 0/101 [00:00<?, ?it/s]"
      ]
     },
     "metadata": {},
     "output_type": "display_data"
    },
    {
     "data": {
      "application/vnd.jupyter.widget-view+json": {
       "model_id": "55908540e0624b2d8e8e8fce458f4852",
       "version_major": 2,
       "version_minor": 0
      },
      "text/plain": [
       "  0%|          | 0/101 [00:00<?, ?it/s]"
      ]
     },
     "metadata": {},
     "output_type": "display_data"
    },
    {
     "data": {
      "application/vnd.jupyter.widget-view+json": {
       "model_id": "7368c80b056749d5b093096d42cb84aa",
       "version_major": 2,
       "version_minor": 0
      },
      "text/plain": [
       "  0%|          | 0/101 [00:00<?, ?it/s]"
      ]
     },
     "metadata": {},
     "output_type": "display_data"
    },
    {
     "data": {
      "application/vnd.jupyter.widget-view+json": {
       "model_id": "84b5b7da399b4f9dbc4ef14449bef09d",
       "version_major": 2,
       "version_minor": 0
      },
      "text/plain": [
       "  0%|          | 0/101 [00:00<?, ?it/s]"
      ]
     },
     "metadata": {},
     "output_type": "display_data"
    },
    {
     "data": {
      "application/vnd.jupyter.widget-view+json": {
       "model_id": "4724139239b14c4b8a749426a2ec1c1d",
       "version_major": 2,
       "version_minor": 0
      },
      "text/plain": [
       "  0%|          | 0/101 [00:00<?, ?it/s]"
      ]
     },
     "metadata": {},
     "output_type": "display_data"
    },
    {
     "data": {
      "application/vnd.jupyter.widget-view+json": {
       "model_id": "3cbf68c956174af7b60d8f9b07c22fa2",
       "version_major": 2,
       "version_minor": 0
      },
      "text/plain": [
       "  0%|          | 0/101 [00:00<?, ?it/s]"
      ]
     },
     "metadata": {},
     "output_type": "display_data"
    },
    {
     "data": {
      "application/vnd.jupyter.widget-view+json": {
       "model_id": "503db48b9c814787a5c3526ebccad234",
       "version_major": 2,
       "version_minor": 0
      },
      "text/plain": [
       "  0%|          | 0/101 [00:00<?, ?it/s]"
      ]
     },
     "metadata": {},
     "output_type": "display_data"
    },
    {
     "data": {
      "application/vnd.jupyter.widget-view+json": {
       "model_id": "f3456ffabc1f43bfa402ee8939b921b5",
       "version_major": 2,
       "version_minor": 0
      },
      "text/plain": [
       "  0%|          | 0/101 [00:00<?, ?it/s]"
      ]
     },
     "metadata": {},
     "output_type": "display_data"
    },
    {
     "data": {
      "application/vnd.jupyter.widget-view+json": {
       "model_id": "2ba15cada721440b9671d3838d483af4",
       "version_major": 2,
       "version_minor": 0
      },
      "text/plain": [
       "  0%|          | 0/101 [00:00<?, ?it/s]"
      ]
     },
     "metadata": {},
     "output_type": "display_data"
    },
    {
     "data": {
      "application/vnd.jupyter.widget-view+json": {
       "model_id": "26112af2563446fba95f29ea66d30b50",
       "version_major": 2,
       "version_minor": 0
      },
      "text/plain": [
       "  0%|          | 0/101 [00:00<?, ?it/s]"
      ]
     },
     "metadata": {},
     "output_type": "display_data"
    },
    {
     "data": {
      "application/vnd.jupyter.widget-view+json": {
       "model_id": "a3614720f1f241718b86a91e18e7c8e5",
       "version_major": 2,
       "version_minor": 0
      },
      "text/plain": [
       "  0%|          | 0/101 [00:00<?, ?it/s]"
      ]
     },
     "metadata": {},
     "output_type": "display_data"
    },
    {
     "data": {
      "application/vnd.jupyter.widget-view+json": {
       "model_id": "415ead93b1d149138735f3d3f2e82069",
       "version_major": 2,
       "version_minor": 0
      },
      "text/plain": [
       "  0%|          | 0/101 [00:00<?, ?it/s]"
      ]
     },
     "metadata": {},
     "output_type": "display_data"
    },
    {
     "data": {
      "application/vnd.jupyter.widget-view+json": {
       "model_id": "7df2228cf44f4ea99c3b27515e914a96",
       "version_major": 2,
       "version_minor": 0
      },
      "text/plain": [
       "  0%|          | 0/101 [00:00<?, ?it/s]"
      ]
     },
     "metadata": {},
     "output_type": "display_data"
    },
    {
     "data": {
      "application/vnd.jupyter.widget-view+json": {
       "model_id": "8a39d45ac27c48e3ac3a19f5845cc346",
       "version_major": 2,
       "version_minor": 0
      },
      "text/plain": [
       "  0%|          | 0/101 [00:00<?, ?it/s]"
      ]
     },
     "metadata": {},
     "output_type": "display_data"
    },
    {
     "data": {
      "application/vnd.jupyter.widget-view+json": {
       "model_id": "e2206ec3cd5a4c6b8f440255a4881ca8",
       "version_major": 2,
       "version_minor": 0
      },
      "text/plain": [
       "  0%|          | 0/101 [00:00<?, ?it/s]"
      ]
     },
     "metadata": {},
     "output_type": "display_data"
    },
    {
     "data": {
      "application/vnd.jupyter.widget-view+json": {
       "model_id": "6f9081f189734a06bc17c5ebeab590b7",
       "version_major": 2,
       "version_minor": 0
      },
      "text/plain": [
       "  0%|          | 0/101 [00:00<?, ?it/s]"
      ]
     },
     "metadata": {},
     "output_type": "display_data"
    },
    {
     "data": {
      "application/vnd.jupyter.widget-view+json": {
       "model_id": "acc2dc47f0024e489240bd05ac8d8056",
       "version_major": 2,
       "version_minor": 0
      },
      "text/plain": [
       "  0%|          | 0/101 [00:00<?, ?it/s]"
      ]
     },
     "metadata": {},
     "output_type": "display_data"
    },
    {
     "data": {
      "application/vnd.jupyter.widget-view+json": {
       "model_id": "0dd73ddf57064f70b743d948efa3b1ed",
       "version_major": 2,
       "version_minor": 0
      },
      "text/plain": [
       "  0%|          | 0/101 [00:00<?, ?it/s]"
      ]
     },
     "metadata": {},
     "output_type": "display_data"
    },
    {
     "data": {
      "application/vnd.jupyter.widget-view+json": {
       "model_id": "90e76b8f5a2540a3bc615489f9b06506",
       "version_major": 2,
       "version_minor": 0
      },
      "text/plain": [
       "  0%|          | 0/101 [00:00<?, ?it/s]"
      ]
     },
     "metadata": {},
     "output_type": "display_data"
    },
    {
     "data": {
      "application/vnd.jupyter.widget-view+json": {
       "model_id": "4b6c421a96ce49cbbac959b200140a1d",
       "version_major": 2,
       "version_minor": 0
      },
      "text/plain": [
       "  0%|          | 0/101 [00:00<?, ?it/s]"
      ]
     },
     "metadata": {},
     "output_type": "display_data"
    },
    {
     "data": {
      "application/vnd.jupyter.widget-view+json": {
       "model_id": "801308ecb72f48718a1294ef9dd1ea32",
       "version_major": 2,
       "version_minor": 0
      },
      "text/plain": [
       "  0%|          | 0/101 [00:00<?, ?it/s]"
      ]
     },
     "metadata": {},
     "output_type": "display_data"
    },
    {
     "data": {
      "application/vnd.jupyter.widget-view+json": {
       "model_id": "7f09fa51cb9a47869e430705ff7b9690",
       "version_major": 2,
       "version_minor": 0
      },
      "text/plain": [
       "  0%|          | 0/101 [00:00<?, ?it/s]"
      ]
     },
     "metadata": {},
     "output_type": "display_data"
    },
    {
     "data": {
      "application/vnd.jupyter.widget-view+json": {
       "model_id": "b20c666dc5bf4c2abcc01484deae24b2",
       "version_major": 2,
       "version_minor": 0
      },
      "text/plain": [
       "  0%|          | 0/101 [00:00<?, ?it/s]"
      ]
     },
     "metadata": {},
     "output_type": "display_data"
    },
    {
     "data": {
      "application/vnd.jupyter.widget-view+json": {
       "model_id": "ce8570969f514e7ba71c0bbf9b37c047",
       "version_major": 2,
       "version_minor": 0
      },
      "text/plain": [
       "  0%|          | 0/101 [00:00<?, ?it/s]"
      ]
     },
     "metadata": {},
     "output_type": "display_data"
    },
    {
     "data": {
      "application/vnd.jupyter.widget-view+json": {
       "model_id": "2f1bd6f1f670442686b9a6ad89a63161",
       "version_major": 2,
       "version_minor": 0
      },
      "text/plain": [
       "  0%|          | 0/101 [00:00<?, ?it/s]"
      ]
     },
     "metadata": {},
     "output_type": "display_data"
    },
    {
     "data": {
      "application/vnd.jupyter.widget-view+json": {
       "model_id": "9baba4d768134858835ee2bdb55efae7",
       "version_major": 2,
       "version_minor": 0
      },
      "text/plain": [
       "  0%|          | 0/101 [00:00<?, ?it/s]"
      ]
     },
     "metadata": {},
     "output_type": "display_data"
    },
    {
     "data": {
      "application/vnd.jupyter.widget-view+json": {
       "model_id": "82547eac778d43ad90cbc5cb1b86a55b",
       "version_major": 2,
       "version_minor": 0
      },
      "text/plain": [
       "  0%|          | 0/101 [00:00<?, ?it/s]"
      ]
     },
     "metadata": {},
     "output_type": "display_data"
    },
    {
     "data": {
      "application/vnd.jupyter.widget-view+json": {
       "model_id": "b00f3520838f4062ae2525a95fc5294e",
       "version_major": 2,
       "version_minor": 0
      },
      "text/plain": [
       "  0%|          | 0/101 [00:00<?, ?it/s]"
      ]
     },
     "metadata": {},
     "output_type": "display_data"
    },
    {
     "data": {
      "application/vnd.jupyter.widget-view+json": {
       "model_id": "76acc40c25ee4b45a980b5574b6fa957",
       "version_major": 2,
       "version_minor": 0
      },
      "text/plain": [
       "  0%|          | 0/101 [00:00<?, ?it/s]"
      ]
     },
     "metadata": {},
     "output_type": "display_data"
    },
    {
     "data": {
      "application/vnd.jupyter.widget-view+json": {
       "model_id": "2471e3079d5142e69f2a25e8cf9d3837",
       "version_major": 2,
       "version_minor": 0
      },
      "text/plain": [
       "  0%|          | 0/101 [00:00<?, ?it/s]"
      ]
     },
     "metadata": {},
     "output_type": "display_data"
    }
   ],
   "source": [
    "measurement_name = 's21_vs_dcI_3.7Ghz_to_5.5GHz_0.1nA'\n",
    "meas = qc.Measurement(exp=exp, station=STATION, name=measurement_name)\n",
    "\n",
    "s21.start(3.7e9)\n",
    "s21.stop(4.2e9)\n",
    "s21.power(-20)\n",
    "s21.npts(2001)\n",
    "\n",
    "s21.bandwidth(1e2)\n",
    "s21.averaging_enabled(True)\n",
    "s21.avg(2)\n",
    "# 20dB of attenuation added at the output\n",
    "\n",
    "# s21.set_electrical_delay_auto()\n",
    "s21.average_clear()\n",
    "\n",
    "ad.input_mask(0b1)\n",
    "ad.output_mask(0b11)\n",
    "ad.adwin_mode(0b0)\n",
    "ad.clear_fifos()\n",
    "ad.go_to_zero()\n",
    "\n",
    "VT = 4\n",
    "offset = 4\n",
    "current_coef = 1e8 * 1e-3\n",
    "ad_Vs = np.linspace(-VT+offset,VT+offset, num=101)\n",
    "\n",
    "#flux\n",
    "pif = 0.74e-3\n",
    "currents = np.linspace(-2*pif, 2*pif, num=51)\n",
    "\n",
    "meas.register_parameter(adVbias)\n",
    "meas.register_parameter(I_source.current)\n",
    "meas.register_parameter(s21.trace_mag_phase, setpoints=[I_source.current, adVbias])\n",
    "\n",
    "# turn off\n",
    "# mw_source.status('OFF')\n",
    "ad.go_to_zero()\n",
    "\n",
    "vna.rf_on()\n",
    "\n",
    "with meas.run() as datasaver :\n",
    "    for Ib in tqdm.tqdm(currents):\n",
    "        I_source.current(Ib)\n",
    "        for v_ad in tqdm.tqdm(ad_Vs):\n",
    "            adwin_target = np.array([v_ad, v_ad])\n",
    "            ad.outputs(adwin_target)\n",
    "            ad.launch_measurement()\n",
    "            ad.clear_fifos()\n",
    "\n",
    "            trace = s21.trace_mag_phase()\n",
    "            datasaver.add_result(\n",
    "                (I_source.current, Ib),\n",
    "                (adVbias, v_ad / current_coef),\n",
    "                                 (s21.trace_mag_phase, trace)\n",
    "            )\n",
    "\n",
    "vna.rf_off()\n",
    "ad.clear_fifos()\n",
    "ad.go_to_zero()\n",
    "I_source.current(0.0)\n",
    "\n",
    "# res[0].captured_run_id"
   ]
  },
  {
   "cell_type": "markdown",
   "id": "8afd57eb-aaa2-4d58-ad34-0c630531aa9d",
   "metadata": {
    "jp-MarkdownHeadingCollapsed": true,
    "tags": []
   },
   "source": [
    "<h3 style=\"color:#418FDB\";>VNA trace and microwave tone</h3>"
   ]
  },
  {
   "cell_type": "markdown",
   "id": "a17db20f-2519-4778-91a7-e68d2cfaa30b",
   "metadata": {
    "jp-MarkdownHeadingCollapsed": true,
    "tags": []
   },
   "source": [
    "<h4  style=\"color:#4697E8\";>VNA CW and signal generator power and frequency sweep (two tones spectroscopy)</h4>"
   ]
  },
  {
   "cell_type": "code",
   "execution_count": null,
   "id": "eb6c5a58-9169-4410-9f34-7739e56f2102",
   "metadata": {
    "tags": []
   },
   "outputs": [],
   "source": [
    "experiment_name = 'two_tones'\n",
    "measurement_name = 'meas_4.125_tone_0.1_0ghz_to_15ghz_long'\n",
    "exp = load_or_create_experiment(experiment_name=experiment_name, sample_name=sample_name)\n",
    "\n",
    "#set the vna parameters\n",
    "s21.npts(1)\n",
    "s21.center(4.125e9)\n",
    "s21.bandwidth(1e3)\n",
    "# s21.span(1e3)\n",
    "s21.averaging_enabled(True)\n",
    "s21.avg(10)\n",
    "s21.power(-25)\n",
    "#s21.set_electrical_delay_auto()\n",
    "\n",
    "# set the signal generator parameters\n",
    "mw_source.sourcemode('CW')\n",
    "mw_source.phase(0)\n",
    "\n",
    "start_frequency = 1e6\n",
    "stop_frequency = 15e9\n",
    "step_frequency = 10e6\n",
    "frequency_points = int( (stop_frequency-start_frequency)/step_frequency )\n",
    "\n",
    "start_power = -20\n",
    "stop_power = 0\n",
    "step_power = 2\n",
    "power_points = int( (stop_power-start_power)/step_power )\n",
    "\n",
    "dwell_time = 0.005\n",
    "dwell_time_per_pts = 1e-5\n",
    "I_source.current(0.0)\n",
    "ad.go_to_zero()\n",
    "\n",
    "# WARNING! It takes too much time for some reasons\n",
    "vna.rf_on()\n",
    "mw_source.status('on')\n",
    "res = do2d(mw_source.power, start_power, stop_power, power_points, dwell_time,\n",
    "           mw_source.frequency, start_frequency, stop_frequency, frequency_points, dwell_time_per_pts, \n",
    "           s21.trace_mag_phase, measurement_name=measurement_name, do_plot=False);\n",
    "mw_source.status('off')\n",
    "vna.rf_off()"
   ]
  },
  {
   "cell_type": "markdown",
   "id": "accce09c-9d44-401c-b5a8-c0d625948123",
   "metadata": {
    "jp-MarkdownHeadingCollapsed": true,
    "tags": []
   },
   "source": [
    "<h4  style=\"color:#4697E8\";>VNA CW and signal generator frequency sweep VS flux (two tones spectroscopy VS flux)</h4>"
   ]
  },
  {
   "cell_type": "code",
   "execution_count": 20,
   "id": "a941874d-d118-44e3-b76e-07190416ab56",
   "metadata": {
    "tags": []
   },
   "outputs": [
    {
     "name": "stdout",
     "output_type": "stream",
     "text": [
      "Starting experimental run with id: 54. Using 'qcodes.utils.dataset.doNd.do2d'\n"
     ]
    },
    {
     "data": {
      "application/vnd.jupyter.widget-view+json": {
       "model_id": "1851dd4f0be545d0964bcb947c1a1837",
       "version_major": 2,
       "version_minor": 0
      },
      "text/plain": [
       "  0%|          | 0/130 [00:00<?, ?it/s]"
      ]
     },
     "metadata": {},
     "output_type": "display_data"
    },
    {
     "data": {
      "application/vnd.jupyter.widget-view+json": {
       "model_id": "",
       "version_major": 2,
       "version_minor": 0
      },
      "text/plain": [
       "  0%|          | 0/1299 [00:00<?, ?it/s]"
      ]
     },
     "metadata": {},
     "output_type": "display_data"
    },
    {
     "data": {
      "application/vnd.jupyter.widget-view+json": {
       "model_id": "",
       "version_major": 2,
       "version_minor": 0
      },
      "text/plain": [
       "  0%|          | 0/1299 [00:00<?, ?it/s]"
      ]
     },
     "metadata": {},
     "output_type": "display_data"
    },
    {
     "data": {
      "application/vnd.jupyter.widget-view+json": {
       "model_id": "",
       "version_major": 2,
       "version_minor": 0
      },
      "text/plain": [
       "  0%|          | 0/1299 [00:00<?, ?it/s]"
      ]
     },
     "metadata": {},
     "output_type": "display_data"
    },
    {
     "data": {
      "application/vnd.jupyter.widget-view+json": {
       "model_id": "",
       "version_major": 2,
       "version_minor": 0
      },
      "text/plain": [
       "  0%|          | 0/1299 [00:00<?, ?it/s]"
      ]
     },
     "metadata": {},
     "output_type": "display_data"
    },
    {
     "data": {
      "application/vnd.jupyter.widget-view+json": {
       "model_id": "",
       "version_major": 2,
       "version_minor": 0
      },
      "text/plain": [
       "  0%|          | 0/1299 [00:00<?, ?it/s]"
      ]
     },
     "metadata": {},
     "output_type": "display_data"
    },
    {
     "data": {
      "application/vnd.jupyter.widget-view+json": {
       "model_id": "",
       "version_major": 2,
       "version_minor": 0
      },
      "text/plain": [
       "  0%|          | 0/1299 [00:00<?, ?it/s]"
      ]
     },
     "metadata": {},
     "output_type": "display_data"
    },
    {
     "data": {
      "application/vnd.jupyter.widget-view+json": {
       "model_id": "",
       "version_major": 2,
       "version_minor": 0
      },
      "text/plain": [
       "  0%|          | 0/1299 [00:00<?, ?it/s]"
      ]
     },
     "metadata": {},
     "output_type": "display_data"
    },
    {
     "data": {
      "application/vnd.jupyter.widget-view+json": {
       "model_id": "",
       "version_major": 2,
       "version_minor": 0
      },
      "text/plain": [
       "  0%|          | 0/1299 [00:00<?, ?it/s]"
      ]
     },
     "metadata": {},
     "output_type": "display_data"
    },
    {
     "data": {
      "application/vnd.jupyter.widget-view+json": {
       "model_id": "",
       "version_major": 2,
       "version_minor": 0
      },
      "text/plain": [
       "  0%|          | 0/1299 [00:00<?, ?it/s]"
      ]
     },
     "metadata": {},
     "output_type": "display_data"
    },
    {
     "data": {
      "application/vnd.jupyter.widget-view+json": {
       "model_id": "",
       "version_major": 2,
       "version_minor": 0
      },
      "text/plain": [
       "  0%|          | 0/1299 [00:00<?, ?it/s]"
      ]
     },
     "metadata": {},
     "output_type": "display_data"
    },
    {
     "data": {
      "application/vnd.jupyter.widget-view+json": {
       "model_id": "",
       "version_major": 2,
       "version_minor": 0
      },
      "text/plain": [
       "  0%|          | 0/1299 [00:00<?, ?it/s]"
      ]
     },
     "metadata": {},
     "output_type": "display_data"
    },
    {
     "data": {
      "application/vnd.jupyter.widget-view+json": {
       "model_id": "",
       "version_major": 2,
       "version_minor": 0
      },
      "text/plain": [
       "  0%|          | 0/1299 [00:00<?, ?it/s]"
      ]
     },
     "metadata": {},
     "output_type": "display_data"
    },
    {
     "data": {
      "application/vnd.jupyter.widget-view+json": {
       "model_id": "",
       "version_major": 2,
       "version_minor": 0
      },
      "text/plain": [
       "  0%|          | 0/1299 [00:00<?, ?it/s]"
      ]
     },
     "metadata": {},
     "output_type": "display_data"
    },
    {
     "data": {
      "application/vnd.jupyter.widget-view+json": {
       "model_id": "",
       "version_major": 2,
       "version_minor": 0
      },
      "text/plain": [
       "  0%|          | 0/1299 [00:00<?, ?it/s]"
      ]
     },
     "metadata": {},
     "output_type": "display_data"
    },
    {
     "data": {
      "application/vnd.jupyter.widget-view+json": {
       "model_id": "",
       "version_major": 2,
       "version_minor": 0
      },
      "text/plain": [
       "  0%|          | 0/1299 [00:00<?, ?it/s]"
      ]
     },
     "metadata": {},
     "output_type": "display_data"
    },
    {
     "data": {
      "application/vnd.jupyter.widget-view+json": {
       "model_id": "",
       "version_major": 2,
       "version_minor": 0
      },
      "text/plain": [
       "  0%|          | 0/1299 [00:00<?, ?it/s]"
      ]
     },
     "metadata": {},
     "output_type": "display_data"
    },
    {
     "data": {
      "application/vnd.jupyter.widget-view+json": {
       "model_id": "",
       "version_major": 2,
       "version_minor": 0
      },
      "text/plain": [
       "  0%|          | 0/1299 [00:00<?, ?it/s]"
      ]
     },
     "metadata": {},
     "output_type": "display_data"
    },
    {
     "data": {
      "application/vnd.jupyter.widget-view+json": {
       "model_id": "",
       "version_major": 2,
       "version_minor": 0
      },
      "text/plain": [
       "  0%|          | 0/1299 [00:00<?, ?it/s]"
      ]
     },
     "metadata": {},
     "output_type": "display_data"
    },
    {
     "data": {
      "application/vnd.jupyter.widget-view+json": {
       "model_id": "",
       "version_major": 2,
       "version_minor": 0
      },
      "text/plain": [
       "  0%|          | 0/1299 [00:00<?, ?it/s]"
      ]
     },
     "metadata": {},
     "output_type": "display_data"
    },
    {
     "data": {
      "application/vnd.jupyter.widget-view+json": {
       "model_id": "",
       "version_major": 2,
       "version_minor": 0
      },
      "text/plain": [
       "  0%|          | 0/1299 [00:00<?, ?it/s]"
      ]
     },
     "metadata": {},
     "output_type": "display_data"
    },
    {
     "data": {
      "application/vnd.jupyter.widget-view+json": {
       "model_id": "",
       "version_major": 2,
       "version_minor": 0
      },
      "text/plain": [
       "  0%|          | 0/1299 [00:00<?, ?it/s]"
      ]
     },
     "metadata": {},
     "output_type": "display_data"
    },
    {
     "data": {
      "application/vnd.jupyter.widget-view+json": {
       "model_id": "",
       "version_major": 2,
       "version_minor": 0
      },
      "text/plain": [
       "  0%|          | 0/1299 [00:00<?, ?it/s]"
      ]
     },
     "metadata": {},
     "output_type": "display_data"
    },
    {
     "data": {
      "application/vnd.jupyter.widget-view+json": {
       "model_id": "",
       "version_major": 2,
       "version_minor": 0
      },
      "text/plain": [
       "  0%|          | 0/1299 [00:00<?, ?it/s]"
      ]
     },
     "metadata": {},
     "output_type": "display_data"
    },
    {
     "data": {
      "application/vnd.jupyter.widget-view+json": {
       "model_id": "",
       "version_major": 2,
       "version_minor": 0
      },
      "text/plain": [
       "  0%|          | 0/1299 [00:00<?, ?it/s]"
      ]
     },
     "metadata": {},
     "output_type": "display_data"
    },
    {
     "data": {
      "application/vnd.jupyter.widget-view+json": {
       "model_id": "",
       "version_major": 2,
       "version_minor": 0
      },
      "text/plain": [
       "  0%|          | 0/1299 [00:00<?, ?it/s]"
      ]
     },
     "metadata": {},
     "output_type": "display_data"
    },
    {
     "data": {
      "application/vnd.jupyter.widget-view+json": {
       "model_id": "",
       "version_major": 2,
       "version_minor": 0
      },
      "text/plain": [
       "  0%|          | 0/1299 [00:00<?, ?it/s]"
      ]
     },
     "metadata": {},
     "output_type": "display_data"
    },
    {
     "data": {
      "application/vnd.jupyter.widget-view+json": {
       "model_id": "",
       "version_major": 2,
       "version_minor": 0
      },
      "text/plain": [
       "  0%|          | 0/1299 [00:00<?, ?it/s]"
      ]
     },
     "metadata": {},
     "output_type": "display_data"
    },
    {
     "data": {
      "application/vnd.jupyter.widget-view+json": {
       "model_id": "",
       "version_major": 2,
       "version_minor": 0
      },
      "text/plain": [
       "  0%|          | 0/1299 [00:00<?, ?it/s]"
      ]
     },
     "metadata": {},
     "output_type": "display_data"
    },
    {
     "data": {
      "application/vnd.jupyter.widget-view+json": {
       "model_id": "",
       "version_major": 2,
       "version_minor": 0
      },
      "text/plain": [
       "  0%|          | 0/1299 [00:00<?, ?it/s]"
      ]
     },
     "metadata": {},
     "output_type": "display_data"
    },
    {
     "data": {
      "application/vnd.jupyter.widget-view+json": {
       "model_id": "",
       "version_major": 2,
       "version_minor": 0
      },
      "text/plain": [
       "  0%|          | 0/1299 [00:00<?, ?it/s]"
      ]
     },
     "metadata": {},
     "output_type": "display_data"
    },
    {
     "data": {
      "application/vnd.jupyter.widget-view+json": {
       "model_id": "",
       "version_major": 2,
       "version_minor": 0
      },
      "text/plain": [
       "  0%|          | 0/1299 [00:00<?, ?it/s]"
      ]
     },
     "metadata": {},
     "output_type": "display_data"
    },
    {
     "data": {
      "application/vnd.jupyter.widget-view+json": {
       "model_id": "",
       "version_major": 2,
       "version_minor": 0
      },
      "text/plain": [
       "  0%|          | 0/1299 [00:00<?, ?it/s]"
      ]
     },
     "metadata": {},
     "output_type": "display_data"
    },
    {
     "data": {
      "application/vnd.jupyter.widget-view+json": {
       "model_id": "",
       "version_major": 2,
       "version_minor": 0
      },
      "text/plain": [
       "  0%|          | 0/1299 [00:00<?, ?it/s]"
      ]
     },
     "metadata": {},
     "output_type": "display_data"
    },
    {
     "data": {
      "application/vnd.jupyter.widget-view+json": {
       "model_id": "",
       "version_major": 2,
       "version_minor": 0
      },
      "text/plain": [
       "  0%|          | 0/1299 [00:00<?, ?it/s]"
      ]
     },
     "metadata": {},
     "output_type": "display_data"
    },
    {
     "data": {
      "application/vnd.jupyter.widget-view+json": {
       "model_id": "",
       "version_major": 2,
       "version_minor": 0
      },
      "text/plain": [
       "  0%|          | 0/1299 [00:00<?, ?it/s]"
      ]
     },
     "metadata": {},
     "output_type": "display_data"
    },
    {
     "data": {
      "application/vnd.jupyter.widget-view+json": {
       "model_id": "",
       "version_major": 2,
       "version_minor": 0
      },
      "text/plain": [
       "  0%|          | 0/1299 [00:00<?, ?it/s]"
      ]
     },
     "metadata": {},
     "output_type": "display_data"
    },
    {
     "data": {
      "application/vnd.jupyter.widget-view+json": {
       "model_id": "",
       "version_major": 2,
       "version_minor": 0
      },
      "text/plain": [
       "  0%|          | 0/1299 [00:00<?, ?it/s]"
      ]
     },
     "metadata": {},
     "output_type": "display_data"
    },
    {
     "data": {
      "application/vnd.jupyter.widget-view+json": {
       "model_id": "",
       "version_major": 2,
       "version_minor": 0
      },
      "text/plain": [
       "  0%|          | 0/1299 [00:00<?, ?it/s]"
      ]
     },
     "metadata": {},
     "output_type": "display_data"
    },
    {
     "data": {
      "application/vnd.jupyter.widget-view+json": {
       "model_id": "",
       "version_major": 2,
       "version_minor": 0
      },
      "text/plain": [
       "  0%|          | 0/1299 [00:00<?, ?it/s]"
      ]
     },
     "metadata": {},
     "output_type": "display_data"
    },
    {
     "data": {
      "application/vnd.jupyter.widget-view+json": {
       "model_id": "",
       "version_major": 2,
       "version_minor": 0
      },
      "text/plain": [
       "  0%|          | 0/1299 [00:00<?, ?it/s]"
      ]
     },
     "metadata": {},
     "output_type": "display_data"
    },
    {
     "data": {
      "application/vnd.jupyter.widget-view+json": {
       "model_id": "",
       "version_major": 2,
       "version_minor": 0
      },
      "text/plain": [
       "  0%|          | 0/1299 [00:00<?, ?it/s]"
      ]
     },
     "metadata": {},
     "output_type": "display_data"
    },
    {
     "data": {
      "application/vnd.jupyter.widget-view+json": {
       "model_id": "",
       "version_major": 2,
       "version_minor": 0
      },
      "text/plain": [
       "  0%|          | 0/1299 [00:00<?, ?it/s]"
      ]
     },
     "metadata": {},
     "output_type": "display_data"
    },
    {
     "data": {
      "application/vnd.jupyter.widget-view+json": {
       "model_id": "",
       "version_major": 2,
       "version_minor": 0
      },
      "text/plain": [
       "  0%|          | 0/1299 [00:00<?, ?it/s]"
      ]
     },
     "metadata": {},
     "output_type": "display_data"
    },
    {
     "data": {
      "application/vnd.jupyter.widget-view+json": {
       "model_id": "",
       "version_major": 2,
       "version_minor": 0
      },
      "text/plain": [
       "  0%|          | 0/1299 [00:00<?, ?it/s]"
      ]
     },
     "metadata": {},
     "output_type": "display_data"
    },
    {
     "data": {
      "application/vnd.jupyter.widget-view+json": {
       "model_id": "",
       "version_major": 2,
       "version_minor": 0
      },
      "text/plain": [
       "  0%|          | 0/1299 [00:00<?, ?it/s]"
      ]
     },
     "metadata": {},
     "output_type": "display_data"
    },
    {
     "data": {
      "application/vnd.jupyter.widget-view+json": {
       "model_id": "",
       "version_major": 2,
       "version_minor": 0
      },
      "text/plain": [
       "  0%|          | 0/1299 [00:00<?, ?it/s]"
      ]
     },
     "metadata": {},
     "output_type": "display_data"
    },
    {
     "data": {
      "application/vnd.jupyter.widget-view+json": {
       "model_id": "",
       "version_major": 2,
       "version_minor": 0
      },
      "text/plain": [
       "  0%|          | 0/1299 [00:00<?, ?it/s]"
      ]
     },
     "metadata": {},
     "output_type": "display_data"
    },
    {
     "data": {
      "application/vnd.jupyter.widget-view+json": {
       "model_id": "",
       "version_major": 2,
       "version_minor": 0
      },
      "text/plain": [
       "  0%|          | 0/1299 [00:00<?, ?it/s]"
      ]
     },
     "metadata": {},
     "output_type": "display_data"
    },
    {
     "data": {
      "application/vnd.jupyter.widget-view+json": {
       "model_id": "",
       "version_major": 2,
       "version_minor": 0
      },
      "text/plain": [
       "  0%|          | 0/1299 [00:00<?, ?it/s]"
      ]
     },
     "metadata": {},
     "output_type": "display_data"
    },
    {
     "data": {
      "application/vnd.jupyter.widget-view+json": {
       "model_id": "",
       "version_major": 2,
       "version_minor": 0
      },
      "text/plain": [
       "  0%|          | 0/1299 [00:00<?, ?it/s]"
      ]
     },
     "metadata": {},
     "output_type": "display_data"
    },
    {
     "data": {
      "application/vnd.jupyter.widget-view+json": {
       "model_id": "",
       "version_major": 2,
       "version_minor": 0
      },
      "text/plain": [
       "  0%|          | 0/1299 [00:00<?, ?it/s]"
      ]
     },
     "metadata": {},
     "output_type": "display_data"
    },
    {
     "data": {
      "application/vnd.jupyter.widget-view+json": {
       "model_id": "",
       "version_major": 2,
       "version_minor": 0
      },
      "text/plain": [
       "  0%|          | 0/1299 [00:00<?, ?it/s]"
      ]
     },
     "metadata": {},
     "output_type": "display_data"
    },
    {
     "data": {
      "application/vnd.jupyter.widget-view+json": {
       "model_id": "",
       "version_major": 2,
       "version_minor": 0
      },
      "text/plain": [
       "  0%|          | 0/1299 [00:00<?, ?it/s]"
      ]
     },
     "metadata": {},
     "output_type": "display_data"
    },
    {
     "data": {
      "application/vnd.jupyter.widget-view+json": {
       "model_id": "",
       "version_major": 2,
       "version_minor": 0
      },
      "text/plain": [
       "  0%|          | 0/1299 [00:00<?, ?it/s]"
      ]
     },
     "metadata": {},
     "output_type": "display_data"
    },
    {
     "data": {
      "application/vnd.jupyter.widget-view+json": {
       "model_id": "",
       "version_major": 2,
       "version_minor": 0
      },
      "text/plain": [
       "  0%|          | 0/1299 [00:00<?, ?it/s]"
      ]
     },
     "metadata": {},
     "output_type": "display_data"
    },
    {
     "data": {
      "application/vnd.jupyter.widget-view+json": {
       "model_id": "",
       "version_major": 2,
       "version_minor": 0
      },
      "text/plain": [
       "  0%|          | 0/1299 [00:00<?, ?it/s]"
      ]
     },
     "metadata": {},
     "output_type": "display_data"
    },
    {
     "data": {
      "application/vnd.jupyter.widget-view+json": {
       "model_id": "",
       "version_major": 2,
       "version_minor": 0
      },
      "text/plain": [
       "  0%|          | 0/1299 [00:00<?, ?it/s]"
      ]
     },
     "metadata": {},
     "output_type": "display_data"
    },
    {
     "data": {
      "application/vnd.jupyter.widget-view+json": {
       "model_id": "",
       "version_major": 2,
       "version_minor": 0
      },
      "text/plain": [
       "  0%|          | 0/1299 [00:00<?, ?it/s]"
      ]
     },
     "metadata": {},
     "output_type": "display_data"
    },
    {
     "data": {
      "application/vnd.jupyter.widget-view+json": {
       "model_id": "",
       "version_major": 2,
       "version_minor": 0
      },
      "text/plain": [
       "  0%|          | 0/1299 [00:00<?, ?it/s]"
      ]
     },
     "metadata": {},
     "output_type": "display_data"
    },
    {
     "data": {
      "application/vnd.jupyter.widget-view+json": {
       "model_id": "",
       "version_major": 2,
       "version_minor": 0
      },
      "text/plain": [
       "  0%|          | 0/1299 [00:00<?, ?it/s]"
      ]
     },
     "metadata": {},
     "output_type": "display_data"
    },
    {
     "data": {
      "application/vnd.jupyter.widget-view+json": {
       "model_id": "",
       "version_major": 2,
       "version_minor": 0
      },
      "text/plain": [
       "  0%|          | 0/1299 [00:00<?, ?it/s]"
      ]
     },
     "metadata": {},
     "output_type": "display_data"
    },
    {
     "data": {
      "application/vnd.jupyter.widget-view+json": {
       "model_id": "",
       "version_major": 2,
       "version_minor": 0
      },
      "text/plain": [
       "  0%|          | 0/1299 [00:00<?, ?it/s]"
      ]
     },
     "metadata": {},
     "output_type": "display_data"
    },
    {
     "data": {
      "application/vnd.jupyter.widget-view+json": {
       "model_id": "",
       "version_major": 2,
       "version_minor": 0
      },
      "text/plain": [
       "  0%|          | 0/1299 [00:00<?, ?it/s]"
      ]
     },
     "metadata": {},
     "output_type": "display_data"
    },
    {
     "data": {
      "application/vnd.jupyter.widget-view+json": {
       "model_id": "",
       "version_major": 2,
       "version_minor": 0
      },
      "text/plain": [
       "  0%|          | 0/1299 [00:00<?, ?it/s]"
      ]
     },
     "metadata": {},
     "output_type": "display_data"
    },
    {
     "data": {
      "application/vnd.jupyter.widget-view+json": {
       "model_id": "",
       "version_major": 2,
       "version_minor": 0
      },
      "text/plain": [
       "  0%|          | 0/1299 [00:00<?, ?it/s]"
      ]
     },
     "metadata": {},
     "output_type": "display_data"
    },
    {
     "data": {
      "application/vnd.jupyter.widget-view+json": {
       "model_id": "",
       "version_major": 2,
       "version_minor": 0
      },
      "text/plain": [
       "  0%|          | 0/1299 [00:00<?, ?it/s]"
      ]
     },
     "metadata": {},
     "output_type": "display_data"
    },
    {
     "data": {
      "application/vnd.jupyter.widget-view+json": {
       "model_id": "",
       "version_major": 2,
       "version_minor": 0
      },
      "text/plain": [
       "  0%|          | 0/1299 [00:00<?, ?it/s]"
      ]
     },
     "metadata": {},
     "output_type": "display_data"
    },
    {
     "data": {
      "application/vnd.jupyter.widget-view+json": {
       "model_id": "",
       "version_major": 2,
       "version_minor": 0
      },
      "text/plain": [
       "  0%|          | 0/1299 [00:00<?, ?it/s]"
      ]
     },
     "metadata": {},
     "output_type": "display_data"
    },
    {
     "data": {
      "application/vnd.jupyter.widget-view+json": {
       "model_id": "",
       "version_major": 2,
       "version_minor": 0
      },
      "text/plain": [
       "  0%|          | 0/1299 [00:00<?, ?it/s]"
      ]
     },
     "metadata": {},
     "output_type": "display_data"
    },
    {
     "data": {
      "application/vnd.jupyter.widget-view+json": {
       "model_id": "",
       "version_major": 2,
       "version_minor": 0
      },
      "text/plain": [
       "  0%|          | 0/1299 [00:00<?, ?it/s]"
      ]
     },
     "metadata": {},
     "output_type": "display_data"
    },
    {
     "data": {
      "application/vnd.jupyter.widget-view+json": {
       "model_id": "",
       "version_major": 2,
       "version_minor": 0
      },
      "text/plain": [
       "  0%|          | 0/1299 [00:00<?, ?it/s]"
      ]
     },
     "metadata": {},
     "output_type": "display_data"
    },
    {
     "data": {
      "application/vnd.jupyter.widget-view+json": {
       "model_id": "",
       "version_major": 2,
       "version_minor": 0
      },
      "text/plain": [
       "  0%|          | 0/1299 [00:00<?, ?it/s]"
      ]
     },
     "metadata": {},
     "output_type": "display_data"
    },
    {
     "data": {
      "application/vnd.jupyter.widget-view+json": {
       "model_id": "",
       "version_major": 2,
       "version_minor": 0
      },
      "text/plain": [
       "  0%|          | 0/1299 [00:00<?, ?it/s]"
      ]
     },
     "metadata": {},
     "output_type": "display_data"
    },
    {
     "data": {
      "application/vnd.jupyter.widget-view+json": {
       "model_id": "",
       "version_major": 2,
       "version_minor": 0
      },
      "text/plain": [
       "  0%|          | 0/1299 [00:00<?, ?it/s]"
      ]
     },
     "metadata": {},
     "output_type": "display_data"
    },
    {
     "data": {
      "application/vnd.jupyter.widget-view+json": {
       "model_id": "",
       "version_major": 2,
       "version_minor": 0
      },
      "text/plain": [
       "  0%|          | 0/1299 [00:00<?, ?it/s]"
      ]
     },
     "metadata": {},
     "output_type": "display_data"
    },
    {
     "data": {
      "application/vnd.jupyter.widget-view+json": {
       "model_id": "",
       "version_major": 2,
       "version_minor": 0
      },
      "text/plain": [
       "  0%|          | 0/1299 [00:00<?, ?it/s]"
      ]
     },
     "metadata": {},
     "output_type": "display_data"
    },
    {
     "data": {
      "application/vnd.jupyter.widget-view+json": {
       "model_id": "",
       "version_major": 2,
       "version_minor": 0
      },
      "text/plain": [
       "  0%|          | 0/1299 [00:00<?, ?it/s]"
      ]
     },
     "metadata": {},
     "output_type": "display_data"
    },
    {
     "data": {
      "application/vnd.jupyter.widget-view+json": {
       "model_id": "",
       "version_major": 2,
       "version_minor": 0
      },
      "text/plain": [
       "  0%|          | 0/1299 [00:00<?, ?it/s]"
      ]
     },
     "metadata": {},
     "output_type": "display_data"
    },
    {
     "data": {
      "application/vnd.jupyter.widget-view+json": {
       "model_id": "",
       "version_major": 2,
       "version_minor": 0
      },
      "text/plain": [
       "  0%|          | 0/1299 [00:00<?, ?it/s]"
      ]
     },
     "metadata": {},
     "output_type": "display_data"
    },
    {
     "data": {
      "application/vnd.jupyter.widget-view+json": {
       "model_id": "",
       "version_major": 2,
       "version_minor": 0
      },
      "text/plain": [
       "  0%|          | 0/1299 [00:00<?, ?it/s]"
      ]
     },
     "metadata": {},
     "output_type": "display_data"
    },
    {
     "data": {
      "application/vnd.jupyter.widget-view+json": {
       "model_id": "",
       "version_major": 2,
       "version_minor": 0
      },
      "text/plain": [
       "  0%|          | 0/1299 [00:00<?, ?it/s]"
      ]
     },
     "metadata": {},
     "output_type": "display_data"
    },
    {
     "data": {
      "application/vnd.jupyter.widget-view+json": {
       "model_id": "",
       "version_major": 2,
       "version_minor": 0
      },
      "text/plain": [
       "  0%|          | 0/1299 [00:00<?, ?it/s]"
      ]
     },
     "metadata": {},
     "output_type": "display_data"
    },
    {
     "data": {
      "application/vnd.jupyter.widget-view+json": {
       "model_id": "",
       "version_major": 2,
       "version_minor": 0
      },
      "text/plain": [
       "  0%|          | 0/1299 [00:00<?, ?it/s]"
      ]
     },
     "metadata": {},
     "output_type": "display_data"
    },
    {
     "data": {
      "application/vnd.jupyter.widget-view+json": {
       "model_id": "",
       "version_major": 2,
       "version_minor": 0
      },
      "text/plain": [
       "  0%|          | 0/1299 [00:00<?, ?it/s]"
      ]
     },
     "metadata": {},
     "output_type": "display_data"
    },
    {
     "data": {
      "application/vnd.jupyter.widget-view+json": {
       "model_id": "",
       "version_major": 2,
       "version_minor": 0
      },
      "text/plain": [
       "  0%|          | 0/1299 [00:00<?, ?it/s]"
      ]
     },
     "metadata": {},
     "output_type": "display_data"
    },
    {
     "data": {
      "application/vnd.jupyter.widget-view+json": {
       "model_id": "",
       "version_major": 2,
       "version_minor": 0
      },
      "text/plain": [
       "  0%|          | 0/1299 [00:00<?, ?it/s]"
      ]
     },
     "metadata": {},
     "output_type": "display_data"
    },
    {
     "data": {
      "application/vnd.jupyter.widget-view+json": {
       "model_id": "",
       "version_major": 2,
       "version_minor": 0
      },
      "text/plain": [
       "  0%|          | 0/1299 [00:00<?, ?it/s]"
      ]
     },
     "metadata": {},
     "output_type": "display_data"
    },
    {
     "data": {
      "application/vnd.jupyter.widget-view+json": {
       "model_id": "",
       "version_major": 2,
       "version_minor": 0
      },
      "text/plain": [
       "  0%|          | 0/1299 [00:00<?, ?it/s]"
      ]
     },
     "metadata": {},
     "output_type": "display_data"
    },
    {
     "data": {
      "application/vnd.jupyter.widget-view+json": {
       "model_id": "",
       "version_major": 2,
       "version_minor": 0
      },
      "text/plain": [
       "  0%|          | 0/1299 [00:00<?, ?it/s]"
      ]
     },
     "metadata": {},
     "output_type": "display_data"
    },
    {
     "data": {
      "application/vnd.jupyter.widget-view+json": {
       "model_id": "",
       "version_major": 2,
       "version_minor": 0
      },
      "text/plain": [
       "  0%|          | 0/1299 [00:00<?, ?it/s]"
      ]
     },
     "metadata": {},
     "output_type": "display_data"
    },
    {
     "data": {
      "application/vnd.jupyter.widget-view+json": {
       "model_id": "",
       "version_major": 2,
       "version_minor": 0
      },
      "text/plain": [
       "  0%|          | 0/1299 [00:00<?, ?it/s]"
      ]
     },
     "metadata": {},
     "output_type": "display_data"
    },
    {
     "data": {
      "application/vnd.jupyter.widget-view+json": {
       "model_id": "",
       "version_major": 2,
       "version_minor": 0
      },
      "text/plain": [
       "  0%|          | 0/1299 [00:00<?, ?it/s]"
      ]
     },
     "metadata": {},
     "output_type": "display_data"
    },
    {
     "data": {
      "application/vnd.jupyter.widget-view+json": {
       "model_id": "",
       "version_major": 2,
       "version_minor": 0
      },
      "text/plain": [
       "  0%|          | 0/1299 [00:00<?, ?it/s]"
      ]
     },
     "metadata": {},
     "output_type": "display_data"
    },
    {
     "data": {
      "application/vnd.jupyter.widget-view+json": {
       "model_id": "",
       "version_major": 2,
       "version_minor": 0
      },
      "text/plain": [
       "  0%|          | 0/1299 [00:00<?, ?it/s]"
      ]
     },
     "metadata": {},
     "output_type": "display_data"
    },
    {
     "data": {
      "application/vnd.jupyter.widget-view+json": {
       "model_id": "",
       "version_major": 2,
       "version_minor": 0
      },
      "text/plain": [
       "  0%|          | 0/1299 [00:00<?, ?it/s]"
      ]
     },
     "metadata": {},
     "output_type": "display_data"
    },
    {
     "data": {
      "application/vnd.jupyter.widget-view+json": {
       "model_id": "",
       "version_major": 2,
       "version_minor": 0
      },
      "text/plain": [
       "  0%|          | 0/1299 [00:00<?, ?it/s]"
      ]
     },
     "metadata": {},
     "output_type": "display_data"
    },
    {
     "data": {
      "application/vnd.jupyter.widget-view+json": {
       "model_id": "",
       "version_major": 2,
       "version_minor": 0
      },
      "text/plain": [
       "  0%|          | 0/1299 [00:00<?, ?it/s]"
      ]
     },
     "metadata": {},
     "output_type": "display_data"
    },
    {
     "data": {
      "application/vnd.jupyter.widget-view+json": {
       "model_id": "",
       "version_major": 2,
       "version_minor": 0
      },
      "text/plain": [
       "  0%|          | 0/1299 [00:00<?, ?it/s]"
      ]
     },
     "metadata": {},
     "output_type": "display_data"
    },
    {
     "data": {
      "application/vnd.jupyter.widget-view+json": {
       "model_id": "",
       "version_major": 2,
       "version_minor": 0
      },
      "text/plain": [
       "  0%|          | 0/1299 [00:00<?, ?it/s]"
      ]
     },
     "metadata": {},
     "output_type": "display_data"
    },
    {
     "data": {
      "application/vnd.jupyter.widget-view+json": {
       "model_id": "",
       "version_major": 2,
       "version_minor": 0
      },
      "text/plain": [
       "  0%|          | 0/1299 [00:00<?, ?it/s]"
      ]
     },
     "metadata": {},
     "output_type": "display_data"
    },
    {
     "data": {
      "application/vnd.jupyter.widget-view+json": {
       "model_id": "",
       "version_major": 2,
       "version_minor": 0
      },
      "text/plain": [
       "  0%|          | 0/1299 [00:00<?, ?it/s]"
      ]
     },
     "metadata": {},
     "output_type": "display_data"
    },
    {
     "data": {
      "application/vnd.jupyter.widget-view+json": {
       "model_id": "",
       "version_major": 2,
       "version_minor": 0
      },
      "text/plain": [
       "  0%|          | 0/1299 [00:00<?, ?it/s]"
      ]
     },
     "metadata": {},
     "output_type": "display_data"
    },
    {
     "data": {
      "application/vnd.jupyter.widget-view+json": {
       "model_id": "",
       "version_major": 2,
       "version_minor": 0
      },
      "text/plain": [
       "  0%|          | 0/1299 [00:00<?, ?it/s]"
      ]
     },
     "metadata": {},
     "output_type": "display_data"
    },
    {
     "data": {
      "application/vnd.jupyter.widget-view+json": {
       "model_id": "",
       "version_major": 2,
       "version_minor": 0
      },
      "text/plain": [
       "  0%|          | 0/1299 [00:00<?, ?it/s]"
      ]
     },
     "metadata": {},
     "output_type": "display_data"
    },
    {
     "data": {
      "application/vnd.jupyter.widget-view+json": {
       "model_id": "",
       "version_major": 2,
       "version_minor": 0
      },
      "text/plain": [
       "  0%|          | 0/1299 [00:00<?, ?it/s]"
      ]
     },
     "metadata": {},
     "output_type": "display_data"
    },
    {
     "data": {
      "application/vnd.jupyter.widget-view+json": {
       "model_id": "",
       "version_major": 2,
       "version_minor": 0
      },
      "text/plain": [
       "  0%|          | 0/1299 [00:00<?, ?it/s]"
      ]
     },
     "metadata": {},
     "output_type": "display_data"
    },
    {
     "data": {
      "application/vnd.jupyter.widget-view+json": {
       "model_id": "",
       "version_major": 2,
       "version_minor": 0
      },
      "text/plain": [
       "  0%|          | 0/1299 [00:00<?, ?it/s]"
      ]
     },
     "metadata": {},
     "output_type": "display_data"
    },
    {
     "data": {
      "application/vnd.jupyter.widget-view+json": {
       "model_id": "",
       "version_major": 2,
       "version_minor": 0
      },
      "text/plain": [
       "  0%|          | 0/1299 [00:00<?, ?it/s]"
      ]
     },
     "metadata": {},
     "output_type": "display_data"
    },
    {
     "data": {
      "application/vnd.jupyter.widget-view+json": {
       "model_id": "",
       "version_major": 2,
       "version_minor": 0
      },
      "text/plain": [
       "  0%|          | 0/1299 [00:00<?, ?it/s]"
      ]
     },
     "metadata": {},
     "output_type": "display_data"
    },
    {
     "data": {
      "application/vnd.jupyter.widget-view+json": {
       "model_id": "",
       "version_major": 2,
       "version_minor": 0
      },
      "text/plain": [
       "  0%|          | 0/1299 [00:00<?, ?it/s]"
      ]
     },
     "metadata": {},
     "output_type": "display_data"
    },
    {
     "data": {
      "application/vnd.jupyter.widget-view+json": {
       "model_id": "",
       "version_major": 2,
       "version_minor": 0
      },
      "text/plain": [
       "  0%|          | 0/1299 [00:00<?, ?it/s]"
      ]
     },
     "metadata": {},
     "output_type": "display_data"
    },
    {
     "data": {
      "application/vnd.jupyter.widget-view+json": {
       "model_id": "",
       "version_major": 2,
       "version_minor": 0
      },
      "text/plain": [
       "  0%|          | 0/1299 [00:00<?, ?it/s]"
      ]
     },
     "metadata": {},
     "output_type": "display_data"
    },
    {
     "data": {
      "application/vnd.jupyter.widget-view+json": {
       "model_id": "",
       "version_major": 2,
       "version_minor": 0
      },
      "text/plain": [
       "  0%|          | 0/1299 [00:00<?, ?it/s]"
      ]
     },
     "metadata": {},
     "output_type": "display_data"
    },
    {
     "data": {
      "application/vnd.jupyter.widget-view+json": {
       "model_id": "",
       "version_major": 2,
       "version_minor": 0
      },
      "text/plain": [
       "  0%|          | 0/1299 [00:00<?, ?it/s]"
      ]
     },
     "metadata": {},
     "output_type": "display_data"
    },
    {
     "data": {
      "application/vnd.jupyter.widget-view+json": {
       "model_id": "",
       "version_major": 2,
       "version_minor": 0
      },
      "text/plain": [
       "  0%|          | 0/1299 [00:00<?, ?it/s]"
      ]
     },
     "metadata": {},
     "output_type": "display_data"
    },
    {
     "data": {
      "application/vnd.jupyter.widget-view+json": {
       "model_id": "",
       "version_major": 2,
       "version_minor": 0
      },
      "text/plain": [
       "  0%|          | 0/1299 [00:00<?, ?it/s]"
      ]
     },
     "metadata": {},
     "output_type": "display_data"
    },
    {
     "data": {
      "application/vnd.jupyter.widget-view+json": {
       "model_id": "",
       "version_major": 2,
       "version_minor": 0
      },
      "text/plain": [
       "  0%|          | 0/1299 [00:00<?, ?it/s]"
      ]
     },
     "metadata": {},
     "output_type": "display_data"
    },
    {
     "data": {
      "application/vnd.jupyter.widget-view+json": {
       "model_id": "",
       "version_major": 2,
       "version_minor": 0
      },
      "text/plain": [
       "  0%|          | 0/1299 [00:00<?, ?it/s]"
      ]
     },
     "metadata": {},
     "output_type": "display_data"
    },
    {
     "data": {
      "application/vnd.jupyter.widget-view+json": {
       "model_id": "",
       "version_major": 2,
       "version_minor": 0
      },
      "text/plain": [
       "  0%|          | 0/1299 [00:00<?, ?it/s]"
      ]
     },
     "metadata": {},
     "output_type": "display_data"
    },
    {
     "data": {
      "application/vnd.jupyter.widget-view+json": {
       "model_id": "",
       "version_major": 2,
       "version_minor": 0
      },
      "text/plain": [
       "  0%|          | 0/1299 [00:00<?, ?it/s]"
      ]
     },
     "metadata": {},
     "output_type": "display_data"
    },
    {
     "data": {
      "application/vnd.jupyter.widget-view+json": {
       "model_id": "",
       "version_major": 2,
       "version_minor": 0
      },
      "text/plain": [
       "  0%|          | 0/1299 [00:00<?, ?it/s]"
      ]
     },
     "metadata": {},
     "output_type": "display_data"
    },
    {
     "data": {
      "application/vnd.jupyter.widget-view+json": {
       "model_id": "",
       "version_major": 2,
       "version_minor": 0
      },
      "text/plain": [
       "  0%|          | 0/1299 [00:00<?, ?it/s]"
      ]
     },
     "metadata": {},
     "output_type": "display_data"
    },
    {
     "data": {
      "application/vnd.jupyter.widget-view+json": {
       "model_id": "",
       "version_major": 2,
       "version_minor": 0
      },
      "text/plain": [
       "  0%|          | 0/1299 [00:00<?, ?it/s]"
      ]
     },
     "metadata": {},
     "output_type": "display_data"
    },
    {
     "data": {
      "application/vnd.jupyter.widget-view+json": {
       "model_id": "",
       "version_major": 2,
       "version_minor": 0
      },
      "text/plain": [
       "  0%|          | 0/1299 [00:00<?, ?it/s]"
      ]
     },
     "metadata": {},
     "output_type": "display_data"
    },
    {
     "data": {
      "application/vnd.jupyter.widget-view+json": {
       "model_id": "",
       "version_major": 2,
       "version_minor": 0
      },
      "text/plain": [
       "  0%|          | 0/1299 [00:00<?, ?it/s]"
      ]
     },
     "metadata": {},
     "output_type": "display_data"
    },
    {
     "data": {
      "application/vnd.jupyter.widget-view+json": {
       "model_id": "",
       "version_major": 2,
       "version_minor": 0
      },
      "text/plain": [
       "  0%|          | 0/1299 [00:00<?, ?it/s]"
      ]
     },
     "metadata": {},
     "output_type": "display_data"
    },
    {
     "data": {
      "application/vnd.jupyter.widget-view+json": {
       "model_id": "",
       "version_major": 2,
       "version_minor": 0
      },
      "text/plain": [
       "  0%|          | 0/1299 [00:00<?, ?it/s]"
      ]
     },
     "metadata": {},
     "output_type": "display_data"
    },
    {
     "data": {
      "application/vnd.jupyter.widget-view+json": {
       "model_id": "",
       "version_major": 2,
       "version_minor": 0
      },
      "text/plain": [
       "  0%|          | 0/1299 [00:00<?, ?it/s]"
      ]
     },
     "metadata": {},
     "output_type": "display_data"
    },
    {
     "data": {
      "application/vnd.jupyter.widget-view+json": {
       "model_id": "",
       "version_major": 2,
       "version_minor": 0
      },
      "text/plain": [
       "  0%|          | 0/1299 [00:00<?, ?it/s]"
      ]
     },
     "metadata": {},
     "output_type": "display_data"
    },
    {
     "data": {
      "application/vnd.jupyter.widget-view+json": {
       "model_id": "",
       "version_major": 2,
       "version_minor": 0
      },
      "text/plain": [
       "  0%|          | 0/1299 [00:00<?, ?it/s]"
      ]
     },
     "metadata": {},
     "output_type": "display_data"
    }
   ],
   "source": [
    "experiment_name = 'two_tones_vs_flux'\n",
    "measurement_name = 'meas_4.125_tone_0.1_0ghz_to_15ghz_long_forplasma'\n",
    "exp = load_or_create_experiment(experiment_name=experiment_name, sample_name=sample_name)\n",
    "\n",
    "#set the vna parameters\n",
    "s21.npts(1)\n",
    "s21.center(4.1281e9)\n",
    "s21.bandwidth(1e3)\n",
    "# s21.span(1e3)\n",
    "s21.averaging_enabled(True)\n",
    "s21.avg(10)\n",
    "s21.power(-25)\n",
    "#s21.set_electrical_delay_auto()\n",
    "\n",
    "# set the signal generator parameters\n",
    "mw_source.sourcemode('CW')\n",
    "mw_source.phase(0)\n",
    "\n",
    "\n",
    "mw_source.power(0)\n",
    "\n",
    "start_frequency = 1e6\n",
    "stop_frequency = 13e9\n",
    "step_frequency = 10e6\n",
    "frequency_points = int( (stop_frequency-start_frequency)/step_frequency )\n",
    "\n",
    "start_current= 0\n",
    "stop_current = 13e-3\n",
    "step_current = 0.1e-3\n",
    "current_points = int( (stop_current-start_current)/step_current )\n",
    "\n",
    "dwell_time = 0.005\n",
    "dwell_time_per_pts = 1e-5\n",
    "\n",
    "I_source.current(start_current)\n",
    "ad.go_to_zero()\n",
    "\n",
    "# WARNING! It takes too much time for some reasons\n",
    "vna.rf_on()\n",
    "mw_source.status('on')\n",
    "res = do2d(I_source.current, start_current, stop_current, current_points, dwell_time,\n",
    "           mw_source.frequency, start_frequency, stop_frequency, frequency_points, dwell_time_per_pts, \n",
    "           s21.trace_mag_phase, measurement_name=measurement_name, do_plot=False);\n",
    "mw_source.status('off')\n",
    "vna.rf_off()"
   ]
  },
  {
   "cell_type": "markdown",
   "id": "0688692c-2721-49c8-b0f3-49522de6e8a9",
   "metadata": {
    "jp-MarkdownHeadingCollapsed": true,
    "tags": []
   },
   "source": [
    "<h4  style=\"color:#4697E8\";>VNA CW and signal generator frequency sweep VS flux  with custom center (two tones spectroscopy VS flux)</h4>"
   ]
  },
  {
   "cell_type": "code",
   "execution_count": 16,
   "id": "674206b8-efae-4be1-bed8-d2e57a111931",
   "metadata": {
    "tags": []
   },
   "outputs": [
    {
     "name": "stdout",
     "output_type": "stream",
     "text": [
      "Starting experimental run with id: 70. \n"
     ]
    },
    {
     "data": {
      "application/vnd.jupyter.widget-view+json": {
       "model_id": "012960a94dae4d41972e065617f8db03",
       "version_major": 2,
       "version_minor": 0
      },
      "text/plain": [
       "  0%|          | 0/51 [00:00<?, ?it/s]"
      ]
     },
     "metadata": {},
     "output_type": "display_data"
    }
   ],
   "source": [
    "experiment_name = 'two_tones_vs_flux'\n",
    "measurement_name = 'meas_4.66_tone_m20mwP_4ghz_to_12ghz_custom_forplasma'\n",
    "exp = load_or_create_experiment(experiment_name=experiment_name, sample_name=sample_name)\n",
    "\n",
    "meas = qc.Measurement(exp=exp, station=STATION, name=measurement_name)\n",
    "\n",
    "meas.register_parameter(I_source.current)\n",
    "meas.register_parameter(mw_source.frequency)\n",
    "meas.register_parameter(s21.trace_mag_phase, setpoints=[mw_source.frequency, I_source.current])\n",
    "\n",
    "##### Hardcoded centers taken from analysis script\n",
    "\n",
    "centers = np.array([4.66229027e+09, 4.66231218e+09, 4.66143021e+09, 4.65966576e+09,\n",
    "       4.65703716e+09, 4.65355991e+09, 4.64924691e+09, 4.64410872e+09,\n",
    "       4.63815374e+09, 4.63138843e+09, 4.62381751e+09, 4.61544412e+09,\n",
    "       4.60627001e+09, 4.59629570e+09, 4.58552063e+09, 4.57394329e+09,\n",
    "       4.56156139e+09, 4.54837192e+09, 4.53437130e+09, 4.51955546e+09,\n",
    "       4.50391995e+09, 4.48745999e+09, 4.47017054e+09, 4.45204639e+09,\n",
    "       4.43308216e+09, 4.41327236e+09, 4.39261141e+09, 4.37109364e+09,\n",
    "       4.34871333e+09, 4.32546466e+09, 4.30134170e+09, 4.27633842e+09,\n",
    "       4.25044858e+09, 4.22366577e+09, 4.19598326e+09, 4.16739399e+09,\n",
    "       4.13789045e+09, 4.10746462e+09, 4.07610786e+09, 4.04381075e+09,\n",
    "       4.01056305e+09, 3.97635350e+09, 3.94116967e+09, 3.90499787e+09,\n",
    "       3.86782291e+09, 3.82962797e+09, 3.79039438e+09, 3.75010146e+09,\n",
    "       3.70872628e+09, 3.66624344e+09, 3.62262485e+09])\n",
    "\n",
    "#set the vna parameters\n",
    "s21.npts(1)\n",
    "s21.center(centers[0])\n",
    "s21.bandwidth(1e3)\n",
    "# s21.span(1e3)\n",
    "s21.averaging_enabled(True)\n",
    "s21.avg(1)\n",
    "s21.power(-25)\n",
    "#s21.set_electrical_delay_auto()\n",
    "\n",
    "# set the signal generator parameters\n",
    "mw_source.sourcemode('CW')\n",
    "mw_source.phase(0)\n",
    "\n",
    "\n",
    "mw_source.power(-20)\n",
    "\n",
    "start_frequency = 4e9\n",
    "stop_frequency = 12e9\n",
    "step_frequency = 10e6\n",
    "frequency_points = int( (stop_frequency-start_frequency)/step_frequency )\n",
    "freqs = np.linspace(start_frequency, stop_frequency, frequency_points)\n",
    "\n",
    "\n",
    "start_current= 0\n",
    "stop_current = 10e-3\n",
    "current_points = 51\n",
    "currents = np.linspace(start_current, stop_current, current_points)\n",
    "\n",
    "dwell_time = 0.005\n",
    "dwell_time_per_pts = 1e-5\n",
    "\n",
    "I_source.current(start_current)\n",
    "ad.go_to_zero()\n",
    "\n",
    "\n",
    "vna.rf_on()\n",
    "mw_source.status('on')\n",
    "\n",
    "k = 0\n",
    "\n",
    "with meas.run() as datasaver :\n",
    "    for Ib in tqdm.tqdm(currents):\n",
    "        I_source.current(Ib)\n",
    "        s21.center(centers[k])\n",
    "        \n",
    "        for f in freqs:\n",
    "            mw_source.frequency(f)\n",
    "        \n",
    "            trace = s21.trace_mag_phase()\n",
    "            datasaver.add_result((mw_source.frequency, f),\n",
    "                                 (I_source.current, Ib),\n",
    "                                 (s21.trace_mag_phase, trace))\n",
    "        k+= 1\n",
    "\n",
    "vna.rf_off()\n",
    "I_source.current(0.0)\n",
    "mw_source.status('off')"
   ]
  },
  {
   "cell_type": "markdown",
   "id": "6d47ce98-c1a5-4765-8340-d8ecd815a81b",
   "metadata": {
    "jp-MarkdownHeadingCollapsed": true,
    "tags": []
   },
   "source": [
    "<h4  style=\"color:#4697E8\";>Phase and magnitude of traces with mw tone vs mw frequency</h4>"
   ]
  },
  {
   "cell_type": "code",
   "execution_count": null,
   "id": "b7bc2ba4-ab65-47d6-967c-a20237299dad",
   "metadata": {},
   "outputs": [],
   "source": [
    "experiment_name = 's21'\n",
    "exp = load_or_create_experiment(experiment_name=experiment_name, sample_name=sample_name)\n",
    "\n",
    "# mw\n",
    "f = 4.04e9\n",
    "df = 500e6\n",
    "p = -7\n",
    "measurement_name = 'vna_2dtrce_dc2_fcnt' + str(int(f/1e7)) + '_p'  + str(int(p*10))\n",
    "\n",
    "# voltage adwin\n",
    "v_ad = 2.2\n",
    "ad.go_to_zero()\n",
    "adwin_target = np.array([v_ad, v_ad])\n",
    "ad.outputs(adwin_target)\n",
    "ad.launch_measurement()\n",
    "ad.clear_fifos()\n",
    "\n",
    "# vna\n",
    "s21.center(f)\n",
    "s21.span(1e9)\n",
    "s21.power(0)\n",
    "s21.npts(2501)\n",
    "s21.bandwidth(10e3)\n",
    "s21.averaging_enabled(True)\n",
    "s21.avg(2)\n",
    "# 30dB of attenuation added at the output\n",
    "I_source.current(0.0)\n",
    "\n",
    "vna.rf_on()\n",
    "mw_source.power(p)\n",
    "mw_source.status('ON')\n",
    "res = do1d(mw_source.frequency, f-df, f+df, 251, 0.01, s21.trace_mag_phase, measurement_name=measurement_name);\n",
    "mw_source.status('OFF')\n",
    "vna.rf_off()\n",
    "\n",
    "res[0].captured_run_id"
   ]
  },
  {
   "cell_type": "markdown",
   "id": "b7f0cef1-28d0-4fae-a9ac-3b3ab68a0cf3",
   "metadata": {
    "jp-MarkdownHeadingCollapsed": true,
    "tags": []
   },
   "source": [
    "<h4  style=\"color:#4697E8\";>Phase and magnitude of traces with mw tone vs mw power</h4>"
   ]
  },
  {
   "cell_type": "code",
   "execution_count": 83,
   "id": "543477d3-e2da-421e-848b-c3080f432029",
   "metadata": {},
   "outputs": [
    {
     "name": "stdout",
     "output_type": "stream",
     "text": [
      "Starting experimental run with id: 73. Using 'qcodes.utils.dataset.doNd.do1d'\n"
     ]
    },
    {
     "data": {
      "application/vnd.jupyter.widget-view+json": {
       "model_id": "f61484fddd304cd7b29b20a8772ea9d1",
       "version_major": 2,
       "version_minor": 0
      },
      "text/plain": [
       "  0%|          | 0/101 [00:00<?, ?it/s]"
      ]
     },
     "metadata": {},
     "output_type": "display_data"
    },
    {
     "data": {
      "text/plain": [
       "73"
      ]
     },
     "execution_count": 83,
     "metadata": {},
     "output_type": "execute_result"
    },
    {
     "data": {
      "image/png": "[encoded data removed]",
      "text/plain": [
       "<Figure size 432x288 with 2 Axes>"
      ]
     },
     "metadata": {
      "needs_background": "light"
     },
     "output_type": "display_data"
    },
    {
     "data": {
      "image/png": "[encoded data removed]",
      "text/plain": [
       "<Figure size 432x288 with 2 Axes>"
      ]
     },
     "metadata": {
      "needs_background": "light"
     },
     "output_type": "display_data"
    }
   ],
   "source": [
    "experiment_name = 's21_vs_power'\n",
    "exp = load_or_create_experiment(experiment_name=experiment_name, sample_name=sample_name)\n",
    "\n",
    "frequencies = [ 3.20e9, 4.04e9, 5.45e9, 6.11e9, 6.46e9 ]\n",
    "powers = [ -11.1, -5.1, 2.9, 3.6, 3.8 ]\n",
    "\n",
    "# for index in range( len(frequencies) ):\n",
    "#     # mw\n",
    "#     f = frequencies[index]\n",
    "#     p_low = powers[index] - 20\n",
    "#     p_high = powers[index] + 5\n",
    "    \n",
    "\n",
    "# voltage adwin\n",
    "v_ad = 0\n",
    "ad.go_to_zero()\n",
    "adwin_target = np.array([v_ad, v_ad])\n",
    "ad.outputs(adwin_target)\n",
    "ad.launch_measurement()\n",
    "ad.clear_fifos()\n",
    "time.sleep(1)\n",
    "\n",
    "# f=3.882e9\n",
    "p_low = -20\n",
    "p_high = 5\n",
    "    # vna\n",
    "# s21.center(f)\n",
    "# s21.span(2e8)\n",
    "s21.start(3e9)\n",
    "s21.stop(8e9)\n",
    "s21.power(-20)\n",
    "s21.npts(3001)\n",
    "s21.bandwidth(1e3)\n",
    "s21.averaging_enabled(True)\n",
    "s21.avg(2)\n",
    "# 30dB of attenuation added at the output\n",
    "I_source.current(0.0e-3)\n",
    "\n",
    "f = 9.5e9\n",
    "mw_source.frequency(f)\n",
    "\n",
    "measurement_name = 'vna_2dtrce_adV' + str(v_ad) + '_f' + str(int(f/1e7)) + '_phigh'  + str(int(p_high)) + 'dBm'\n",
    "vna.rf_on()\n",
    "\n",
    "mw_source.status('on')\n",
    "res = do1d(mw_source.power, p_low, p_high, 101, 0.01, s21.trace_mag_phase, measurement_name=measurement_name);\n",
    "mw_source.status('off')\n",
    "vna.rf_off()\n",
    "I_source.current(0e-3)\n",
    "\n",
    "res[0].captured_run_id"
   ]
  },
  {
   "cell_type": "markdown",
   "id": "5834a4ec-b631-43f2-b937-65c3795b6b2c",
   "metadata": {
    "jp-MarkdownHeadingCollapsed": true,
    "tags": []
   },
   "source": [
    "<h4  style=\"color:#4697E8\";>Phase and magnitude of traces with mw tone vs DC bias</h4>"
   ]
  },
  {
   "cell_type": "code",
   "execution_count": null,
   "id": "117b4783-a9a7-4bfa-b934-b2d6b3c7547a",
   "metadata": {},
   "outputs": [],
   "source": [
    "experiment_name = 'vna_bloch_osc'\n",
    "measurement_name = 'vna_2dtrace_mwon_dcbias'\n",
    "exp = load_or_create_experiment(experiment_name=experiment_name, sample_name=sample_name)"
   ]
  },
  {
   "cell_type": "code",
   "execution_count": null,
   "id": "ecc6c05c-9429-4059-b959-7a5f983e1412",
   "metadata": {},
   "outputs": [],
   "source": [
    "adVbias = Parameter(name='adwin_output1',\n",
    "                    label='Adwin output voltage',\n",
    "                    unit= 'V',\n",
    "                    vals=validators.Numbers(-10,10),\n",
    "                    get_cmd=None,\n",
    "                    set_cmd=None\n",
    "                   )"
   ]
  },
  {
   "cell_type": "code",
   "execution_count": null,
   "id": "37b73f27-9982-497e-8620-36977c16db8e",
   "metadata": {},
   "outputs": [],
   "source": [
    "\n",
    "# mw\n",
    "f = 4.04e9\n",
    "p = -5.1\n",
    "mw_source.frequency(f)\n",
    "mw_source.power(p)\n",
    "\n",
    "s21.center(4.75e9)\n",
    "s21.span(500e6)\n",
    "s21.npts(2501)\n",
    "s21.bandwidth(1e4)\n",
    "s21.averaging_enabled(True)\n",
    "s21.avg(10)\n",
    "# 30dB of attenuation added at the output\n",
    "s21.power(0)\n",
    "\n",
    "# s21.set_electrical_delay_auto()\n",
    "s21.average_clear()\n",
    "\n",
    "ad.input_mask(0b1)\n",
    "ad.output_mask(0b11)\n",
    "ad.adwin_mode(0b0)\n",
    "ad.clear_fifos()\n",
    "ad.go_to_zero()\n",
    "\n",
    "VT = 0.5\n",
    "I = 0e-3\n",
    "offset = 2.5\n",
    "I_source.current(I)\n",
    "ad_Vs = np.linspace(-VT+offset,VT+offset, num=100)\n",
    "\n",
    "meas_name = 'vna_trace_500MHzspan_center4.75Ghz_mwON_vs_dc_bias_pm5'\n",
    "meas = qc.Measurement(exp=exp, station=STATION, name=meas_name)\n",
    "\n",
    "meas.register_parameter(adVbias)\n",
    "meas.register_parameter(s21.trace_mag_phase, setpoints=[adVbias])\n",
    "\n",
    "vna.rf_on()\n",
    "mw_source.status('ON')\n",
    "\n",
    "with meas.run() as datasaver :\n",
    "    for v_ad in tqdm.tqdm(ad_Vs):\n",
    "        adwin_target = np.array([v_ad, v_ad])\n",
    "        ad.outputs(adwin_target)\n",
    "        ad.launch_measurement()\n",
    "        ad.clear_fifos()\n",
    "        \n",
    "        trace = s21.trace_mag_phase()\n",
    "        datasaver.add_result((adVbias, v_ad),\n",
    "                             (s21.trace_mag_phase, trace))\n",
    "\n",
    "mw_source.status('OFF')\n",
    "vna.rf_off()\n",
    "ad.clear_fifos()\n",
    "ad.go_to_zero()\n",
    "I_source.current(0.0)\n",
    "\n",
    "# res[0].captured_run_id"
   ]
  },
  {
   "cell_type": "markdown",
   "id": "d82f5a6b-ec5c-491d-84ba-96b0285beb79",
   "metadata": {
    "jp-MarkdownHeadingCollapsed": true,
    "tags": []
   },
   "source": [
    "<h4  style=\"color:#4697E8\";>Phase and magnitude of traces with mw tone vs flux</h4>"
   ]
  },
  {
   "cell_type": "code",
   "execution_count": null,
   "id": "ef0d86b7-6851-48e3-9d76-0c56fe8ca5bb",
   "metadata": {},
   "outputs": [],
   "source": [
    "experiment_name = 's21_with_tone_vs_flux'\n",
    "exp = load_or_create_experiment(experiment_name=experiment_name, sample_name=sample_name)\n",
    "\n",
    "# mw\n",
    "f = 6.015e9\n",
    "p = -14.7\n",
    "measurement_name = 'vna_2dtrce_fluxsweep_f' + str(int(f/1e7)) + '_p'  + str(int(p)) + 'dBm'\n",
    "\n",
    "# vna\n",
    "s21.center(f)\n",
    "s21.span(200e6)\n",
    "s21.power(-20)\n",
    "s21.npts(2501)\n",
    "s21.bandwidth(1e3)\n",
    "s21.averaging_enabled(True)\n",
    "s21.avg(5)\n",
    "# 30dB of attenuation added at the output\n",
    "I_source.current(0.0)\n",
    "\n",
    "vna.rf_on()\n",
    "mw_source.frequency(f)\n",
    "mw_source.power(p)\n",
    "mw_source.status('ON')\n",
    "res = do1d(I_source.current, -2.5e-3, 2.5e-3 , 81, 0.01, s21.trace_mag_phase, measurement_name=measurement_name);\n",
    "mw_source.status('OFF')\n",
    "vna.rf_off()\n",
    "\n",
    "res[0].captured_run_id"
   ]
  },
  {
   "cell_type": "markdown",
   "id": "78b1b92f-5da3-40e3-a624-b08e635e1b83",
   "metadata": {
    "jp-MarkdownHeadingCollapsed": true,
    "tags": []
   },
   "source": [
    "<h3  style=\"color:#418FDB\";>IV curves voltage bias</h3>"
   ]
  },
  {
   "cell_type": "markdown",
   "id": "20d8e0f1-0e3a-409f-8f8a-2bde3e175918",
   "metadata": {
    "jp-MarkdownHeadingCollapsed": true,
    "tags": []
   },
   "source": [
    "<h4 style=\"color:#4697E8\";>Simple IV</h4>"
   ]
  },
  {
   "cell_type": "code",
   "execution_count": null,
   "id": "f988f02d-24e0-4f66-8f74-516a4db7f6e0",
   "metadata": {},
   "outputs": [],
   "source": [
    "experiment_name = 'iv_curves_smallV_smallCurrent'\n",
    "# measurement_name = \"iv_mwon_5cnoavg_step_zoom_p002_1501pts\"\n",
    "exp = load_or_create_experiment(experiment_name=experiment_name, sample_name=sample_name)"
   ]
  },
  {
   "cell_type": "code",
   "execution_count": null,
   "id": "023012a6-d0ce-499b-81db-8ea7293375c8",
   "metadata": {
    "tags": []
   },
   "outputs": [],
   "source": [
    "ad.input_mask(0b11)\n",
    "ad.output_mask(0b11)\n",
    "ad.adwin_mode(0b0)\n",
    "ad.clear_fifos()\n",
    "ad.go_to_zero()\n",
    "VT = 10\n",
    "offset = 0\n",
    "\n",
    "voltage_divider = 1e3 * 30\n",
    "current_coef = 1e11\n",
    "\n",
    "\n",
    "ramp_param = ADwin_averagedRamp('simple_iv0',\n",
    "                        ad, \n",
    "                        period=0.5, \n",
    "                        n_pts=10001,\n",
    "                        N_ramp=100,\n",
    "                        Vs_high=np.array([VT+offset, -VT+offset]),\n",
    "                        Vs_low=np.array([-VT+offset, VT+offset]),\n",
    "                        progress= True)\n",
    "\n",
    "easy_iv = ADwin_IV(ramp_param.name+'_iv', ramp_param,\n",
    "                  voltage_input=2,\n",
    "                  current_input=1,\n",
    "                  voltage_divider_value=voltage_divider,\n",
    "                  current_coefficient=current_coef)"
   ]
  },
  {
   "cell_type": "code",
   "execution_count": null,
   "id": "8e0be542-f458-4767-b951-7066bd894c63",
   "metadata": {
    "tags": []
   },
   "outputs": [],
   "source": [
    "\n",
    "# frequencies = [ 3.20e9, 4.04e9, 5.45e9, 6.11e9, 6.46e9 ]\n",
    "# powers = [ -11.1, -5.1, 2.9, 3.6, 3.8 ]\n",
    "\n",
    "\n",
    "# # mw\n",
    "# k = 4\n",
    "# f =frequencies[k]\n",
    "# p = powers[k]\n",
    "\n",
    "Ib = 0e-3\n",
    "    \n",
    "measurement_name = 'iv_period%.2f_V%.1f_N%i' % (ramp_param.half_period*2, VT+offset, ramp_param.N_ramp)\n",
    "meas = qc.Measurement(exp=exp, station=STATION, name = measurement_name)\n",
    "\n",
    "# flux\n",
    "I_source.current(Ib)\n",
    "\n",
    "# turn off\n",
    "# mw_source.status('OFF')\n",
    "ad.go_to_zero()\n",
    "I_source.current(0.0)\n",
    "\n",
    "# logging\n",
    "meas.register_parameter(easy_iv)\n",
    "meas.write_period = 10\n",
    "\n",
    "# measurement\n",
    "with meas.run() as datasaver:\n",
    "    get_iv = easy_iv() \n",
    "    datasaver.add_result((easy_iv, get_iv))\n",
    "\n",
    "# turn off\n",
    "# mw_source.status('OFF')\n",
    "ad.go_to_zero()\n",
    "I_source.current(0.0)"
   ]
  },
  {
   "cell_type": "markdown",
   "id": "00c65c47-8e1b-4aeb-8e8c-a4a7aa8391c8",
   "metadata": {
    "jp-MarkdownHeadingCollapsed": true,
    "tags": []
   },
   "source": [
    "<h4 style=\"color:#4697E8\";>Adwin and fixed tone</h4>"
   ]
  },
  {
   "cell_type": "code",
   "execution_count": null,
   "id": "b89dc2c3-76ae-45ef-9c54-b3fe40aca9bb",
   "metadata": {},
   "outputs": [],
   "source": [
    "experiment_name = 'iv_curves'\n",
    "# measurement_name = \"iv_mwon_5cnoavg_step_zoom_p002_1501pts\"\n",
    "exp = load_or_create_experiment(experiment_name=experiment_name, sample_name=sample_name)"
   ]
  },
  {
   "cell_type": "code",
   "execution_count": null,
   "id": "fec1ad2f-b8e2-4c04-ba5a-681237ce8d64",
   "metadata": {
    "tags": []
   },
   "outputs": [],
   "source": [
    "ad.input_mask(0b11)\n",
    "ad.output_mask(0b11)\n",
    "ad.adwin_mode(0b0)\n",
    "ad.clear_fifos()\n",
    "ad.go_to_zero()\n",
    "VT = 3.0\n",
    "offset = 0\n",
    "ramp_param = ADwin_averagedRamp('simple_iv8',\n",
    "                        ad, \n",
    "                        period=0.2, \n",
    "                        n_pts=10001,\n",
    "                        N_ramp=10,\n",
    "                        Vs_high=np.array([VT+offset, -VT+offset]),\n",
    "                        Vs_low=np.array([-VT+offset, VT+offset]),\n",
    "                        progress= True)\n",
    "\n",
    "easy_iv = ADwin_IV(ramp_param.name+'_iv', ramp_param,\n",
    "                  voltage_input=2,\n",
    "                  current_input=1,\n",
    "                  voltage_divider_value=1e3,\n",
    "                  current_coefficient=1e8)"
   ]
  },
  {
   "cell_type": "code",
   "execution_count": null,
   "id": "5bfc4850-fcaf-4b48-ab6e-6b659cfa3a69",
   "metadata": {
    "tags": []
   },
   "outputs": [],
   "source": [
    "\n",
    "# frequencies = [ 3.20e9, 4.04e9, 5.45e9, 6.11e9, 6.46e9 ]\n",
    "# powers = [ -11.1, -5.1, 2.9, 3.6, 3.8 ]\n",
    "\n",
    "\n",
    "# # mw\n",
    "# k = 4\n",
    "# f =frequencies[k]\n",
    "# p = powers[k]\n",
    "\n",
    "f = 3.829e9\n",
    "p = -18.5\n",
    "Ib = 0e-3\n",
    "    \n",
    "measurement_name = 'iv_mwon_f%.2e_pm%.2f_standard' % (f, p)\n",
    "meas = qc.Measurement(exp=exp, station=STATION, name = measurement_name)\n",
    "\n",
    "# flux\n",
    "I_source.current(Ib)\n",
    "\n",
    "# mw\n",
    "mw_source.power(p)\n",
    "mw_source.frequency(f)\n",
    "mw_source.status('ON')\n",
    "\n",
    "# logging\n",
    "meas.register_parameter(mw_source.frequency)\n",
    "meas.register_parameter(mw_source.power)\n",
    "meas.register_parameter(easy_iv)\n",
    "meas.write_period = 10\n",
    "\n",
    "# measurement\n",
    "with meas.run() as datasaver:\n",
    "    get_iv = easy_iv() \n",
    "    datasaver.add_result((easy_iv, get_iv))\n",
    "\n",
    "# turn off\n",
    "mw_source.status('OFF')\n",
    "ad.go_to_zero()\n",
    "I_source.current(0.0)"
   ]
  },
  {
   "cell_type": "markdown",
   "id": "d28b7a5d-f1ff-456c-a9d8-48b7631874b8",
   "metadata": {
    "jp-MarkdownHeadingCollapsed": true,
    "tags": []
   },
   "source": [
    "<h4 style=\"color:#4697E8\";>Adwin vs flux</h4>"
   ]
  },
  {
   "cell_type": "code",
   "execution_count": null,
   "id": "94767a63-3554-48ee-a090-cc5d0a1f5fd3",
   "metadata": {},
   "outputs": [],
   "source": [
    "experiment_name = 'iv_curves_vs_flux'\n",
    "measurement_name = 'iv_phimp_0to15ma_300mV_scale_10avg'\n",
    "exp = load_or_create_experiment(experiment_name=experiment_name, sample_name=sample_name)"
   ]
  },
  {
   "cell_type": "code",
   "execution_count": null,
   "id": "d21e307a-3e65-4d46-a018-05fa03231e1e",
   "metadata": {},
   "outputs": [],
   "source": [
    "ad.input_mask(0b11)\n",
    "ad.output_mask(0b11)\n",
    "ad.adwin_mode(0b0)\n",
    "ad.clear_fifos()\n",
    "ad.go_to_zero()\n",
    "VT = 10\n",
    "offset = 0\n",
    "\n",
    "voltage_divider = 30\n",
    "current_coef = 1e8\n",
    "\n",
    "\n",
    "ramp_param = ADwin_averagedRamp('simple_iv_vs_flux2',\n",
    "                        ad, \n",
    "                        period=0.2, \n",
    "                        n_pts=5001,\n",
    "                        N_ramp=10,\n",
    "                        Vs_high=np.array([VT+offset, -VT+offset]),\n",
    "                        Vs_low=np.array([-VT+offset, VT+offset]),\n",
    "                        progress= True)\n",
    "\n",
    "easy_iv = ADwin_IV(ramp_param.name+'_iv', ramp_param,\n",
    "                  voltage_input=2,\n",
    "                  current_input=1,\n",
    "                  voltage_divider_value=voltage_divider,\n",
    "                  current_coefficient=current_coef)"
   ]
  },
  {
   "cell_type": "code",
   "execution_count": null,
   "id": "f7268eff-4a0b-4bfa-b022-57bfc9045d36",
   "metadata": {},
   "outputs": [],
   "source": [
    "meas = qc.Measurement(exp=exp, station=STATION, name=measurement_name)\n",
    "\n",
    "# p=0\n",
    "# f=6e8\n",
    "\n",
    "#MW source\n",
    "# mw_source.power(p)\n",
    "# mw_source.frequency(f)\n",
    "\n",
    "# flux\n",
    "I_min = 0e-3\n",
    "I_max = 15e-3\n",
    "I_num = 201\n",
    "currents = np.linspace(I_min, I_max, I_num)\n",
    "\n",
    "# logging\n",
    "meas.register_parameter(I_source.current)\n",
    "meas.register_parameter(easy_iv, setpoints=[I_source.current])\n",
    "meas.write_period = 10\n",
    "\n",
    "# measurement\n",
    "# mw_source.status('OFF')\n",
    "with meas.run() as datasaver:\n",
    "    for I in tqdm.tqdm(currents):\n",
    "        I_source.current(I)\n",
    "        get_iv = easy_iv() \n",
    "\n",
    "        datasaver.add_result((easy_iv, get_iv),\n",
    "                             (I_source.current, I))\n",
    "\n",
    "# mw_source.status('OFF')\n",
    "I_source.current(0)"
   ]
  },
  {
   "cell_type": "markdown",
   "id": "d2401dc0-e92b-440d-9dd7-4fedab378999",
   "metadata": {
    "jp-MarkdownHeadingCollapsed": true,
    "tags": []
   },
   "source": [
    "<h4 style=\"color:#4697E8\";>Adwin vs tone frequency</h4>"
   ]
  },
  {
   "cell_type": "code",
   "execution_count": null,
   "id": "da21d0f6-5e93-407a-9495-d544c9466e0d",
   "metadata": {},
   "outputs": [],
   "source": [
    "experiment_name = 'iv_curves'\n",
    "measurement_name = \"iv_step3ghz_p008_7001pts_201avg\"\n",
    "exp = load_or_create_experiment(experiment_name=experiment_name, sample_name=sample_name)"
   ]
  },
  {
   "cell_type": "code",
   "execution_count": null,
   "id": "7fb4cbba-1ae5-49ce-881d-23765d282b92",
   "metadata": {},
   "outputs": [],
   "source": [
    "ad.input_mask(0b11)\n",
    "ad.output_mask(0b11)\n",
    "ad.adwin_mode(0b0)\n",
    "ad.clear_fifos()\n",
    "ad.go_to_zero()\n",
    "VT = 0.2\n",
    "offset = 2\n",
    "ramp_param = ADwin_averagedRamp(measurement_name, \n",
    "                        ad, \n",
    "                        period=0.08, \n",
    "                        n_pts=7001,\n",
    "                        N_ramp=201,\n",
    "                        Vs_high=np.array([VT+offset, -VT+offset]),\n",
    "                        Vs_low=np.array([-VT+offset, VT+offset]),\n",
    "                        progress= False)\n",
    "\n",
    "easy_iv = ADwin_IV(ramp_param.name+'_iv', ramp_param,\n",
    "                  voltage_input=2,\n",
    "                  current_input=1,\n",
    "                  voltage_divider_value=1e3,\n",
    "                  current_coefficient=1e9)"
   ]
  },
  {
   "cell_type": "code",
   "execution_count": null,
   "id": "f9acc9b9-3073-45cc-8b43-fc108cabb928",
   "metadata": {},
   "outputs": [],
   "source": [
    "meas = qc.Measurement(exp=exp, station=STATION, name = measurement_name)\n",
    "\n",
    "# flux\n",
    "I_source.current(0e-3)\n",
    "\n",
    "# mw power and frequency sweep\n",
    "pwr = -11\n",
    "# frequency = 3.16e9\n",
    "# frequency_array = np.linspace(frequency - 50e6, frequency + 50e6, num=101)\n",
    "frequency_array = np.linspace( 4.04e9, 4.1e9,  num=101)\n",
    "mw_source.status('ON')\n",
    "\n",
    "# logging\n",
    "meas.register_parameter(mw_source.frequency)\n",
    "meas.register_parameter(mw_source.power)\n",
    "meas.register_parameter(easy_iv, setpoints=[mw_source.frequency, mw_source.power])\n",
    "meas.write_period = 10\n",
    "\n",
    "with meas.run() as datasaver:\n",
    "\n",
    "    for frq in tqdm.tqdm(frequency_array):\n",
    "        # VNA.channels.S21.power(pow)\n",
    "        mw_source.frequency(frq)\n",
    "        mw_source.power(pwr)\n",
    "        get_iv = easy_iv() \n",
    "\n",
    "        datasaver.add_result((easy_iv, get_iv),\n",
    "                             (mw_source.frequency, frq),\n",
    "                             (mw_source.power, pwr))\n",
    "\n",
    "    I_source.current(0)\n",
    "    \n",
    "mw_source.status('OFF')"
   ]
  },
  {
   "cell_type": "markdown",
   "id": "fd881802-2644-4930-9cde-09b79b2a08a3",
   "metadata": {
    "jp-MarkdownHeadingCollapsed": true,
    "tags": []
   },
   "source": [
    "<h4 style=\"color:#4697E8\";>Adwin vs tone power</h4>"
   ]
  },
  {
   "cell_type": "code",
   "execution_count": 68,
   "id": "77f0eaf8-0260-4cdc-85ca-4f17fb0be7b0",
   "metadata": {},
   "outputs": [],
   "source": [
    "experiment_name = 'iv_lowV_tone_9.5GHz_vs_pwr'\n",
    "exp = load_or_create_experiment(experiment_name=experiment_name, sample_name=sample_name)"
   ]
  },
  {
   "cell_type": "code",
   "execution_count": 69,
   "id": "994d495a-89d7-46b9-8a98-a95c83ca2236",
   "metadata": {},
   "outputs": [],
   "source": [
    "ad.input_mask(0b11)\n",
    "ad.output_mask(0b11)\n",
    "ad.adwin_mode(0b0)\n",
    "ad.clear_fifos()\n",
    "ad.go_to_zero()\n",
    "VT = 10\n",
    "offset = 0.0\n",
    "ramp_param = ADwin_averagedRamp(\"iv_steps_pwr_sweep_10\", \n",
    "                        ad, \n",
    "                        period=5, \n",
    "                        n_pts=10001,\n",
    "                        N_ramp=1,\n",
    "                        Vs_high=np.array([VT+offset, -VT+offset]),\n",
    "                        Vs_low=np.array([-VT+offset, VT+offset]),\n",
    "                        progress= False)\n",
    "\n",
    "easy_iv = ADwin_IV(ramp_param.name+'_iv', ramp_param,\n",
    "                  voltage_input=2,\n",
    "                  current_input=1,\n",
    "                  voltage_divider_value=1e3*30,\n",
    "                  current_coefficient=1e11)"
   ]
  },
  {
   "cell_type": "code",
   "execution_count": 70,
   "id": "b805b478-c30e-4a1f-9e0b-3ae98b70cd57",
   "metadata": {
    "tags": []
   },
   "outputs": [
    {
     "name": "stdout",
     "output_type": "stream",
     "text": [
      "Starting experimental run with id: 25. \n"
     ]
    },
    {
     "data": {
      "application/vnd.jupyter.widget-view+json": {
       "model_id": "ec12ba5a3ef34f89b27a6166b6af2410",
       "version_major": 2,
       "version_minor": 0
      },
      "text/plain": [
       "  0%|          | 0/100 [00:00<?, ?it/s]"
      ]
     },
     "metadata": {},
     "output_type": "display_data"
    }
   ],
   "source": [
    "f = 9.5e9\n",
    "p_number = 100\n",
    "\n",
    "measurement_name = 'iv_steps_f' + str(int(f/1e7)) + '_pwr_sweep'\n",
    "meas = qc.Measurement(exp=exp, station=STATION, name = measurement_name)\n",
    "\n",
    "# flux\n",
    "I_source.current(0.0e-3)\n",
    "\n",
    "# mw power and frequency sweep\n",
    "frequency = f \n",
    "# pmin = p - dp\n",
    "# pmax = p + dp\n",
    "pmin = -20\n",
    "pmax = 5\n",
    "\n",
    "\n",
    "power_array = np.linspace(pmin, pmax, num=p_number)\n",
    "mw_source.status('on')\n",
    "\n",
    "# logging\n",
    "meas.register_parameter(mw_source.frequency)\n",
    "meas.register_parameter(mw_source.power)\n",
    "meas.register_parameter(easy_iv, setpoints=[mw_source.frequency, mw_source.power])\n",
    "meas.write_period = 10\n",
    "\n",
    "with meas.run() as datasaver:\n",
    "\n",
    "    for pwr in tqdm.tqdm(power_array):\n",
    "        # VNA.channels.S21.power(pow)\n",
    "        mw_source.frequency(frequency)\n",
    "        mw_source.power(pwr)\n",
    "        time.sleep(0.05)\n",
    "        get_iv = easy_iv() \n",
    "\n",
    "        datasaver.add_result((easy_iv, get_iv),\n",
    "                             (mw_source.frequency, frequency),\n",
    "                             (mw_source.power, pwr))\n",
    "\n",
    "        \n",
    "I_source.current(0)\n",
    "mw_source.status('off')"
   ]
  },
  {
   "cell_type": "markdown",
   "id": "cee2d5ea-d3fc-468a-90b7-faface4a83ee",
   "metadata": {
    "jp-MarkdownHeadingCollapsed": true,
    "tags": []
   },
   "source": [
    "<h4 style=\"color:#4697E8\";>Adwin with mw tone vs flux</h4>"
   ]
  },
  {
   "cell_type": "code",
   "execution_count": 39,
   "id": "9fba0fe3-b253-4294-ae90-7b9a534f2ee1",
   "metadata": {},
   "outputs": [],
   "source": [
    "ad.input_mask(0b11)\n",
    "ad.output_mask(0b11)\n",
    "ad.adwin_mode(0b0)\n",
    "ad.clear_fifos()\n",
    "ad.go_to_zero()\n",
    "VT = 10\n",
    "offset = 0\n",
    "ramp_param = ADwin_averagedRamp(measurement_name, \n",
    "                        ad, \n",
    "                        period=5, \n",
    "                        n_pts=10001,\n",
    "                        N_ramp=1,\n",
    "                        Vs_high=np.array([VT+offset, -VT+offset]),\n",
    "                        Vs_low=np.array([-VT+offset, VT+offset]),\n",
    "                        progress= False)\n",
    "\n",
    "easy_iv = ADwin_IV(ramp_param.name+'_iv', ramp_param,\n",
    "                  voltage_input=2,\n",
    "                  current_input=1,\n",
    "                  voltage_divider_value=1e3*30,\n",
    "                  current_coefficient=1e11)"
   ]
  },
  {
   "cell_type": "code",
   "execution_count": 42,
   "id": "d171f922-b538-48c6-8c58-28f8afb560fc",
   "metadata": {},
   "outputs": [
    {
     "name": "stdout",
     "output_type": "stream",
     "text": [
      "Starting experimental run with id: 28. \n"
     ]
    },
    {
     "data": {
      "application/vnd.jupyter.widget-view+json": {
       "model_id": "36a90eb38b1d42738d5623770a3d0fc6",
       "version_major": 2,
       "version_minor": 0
      },
      "text/plain": [
       "  0%|          | 0/151 [00:00<?, ?it/s]"
      ]
     },
     "metadata": {},
     "output_type": "display_data"
    }
   ],
   "source": [
    "\n",
    "experiment_name = 'iv_curves_with_mwtone_flux_2'\n",
    "measurement_name = \"iv_tone_600mhz_pm20_vs_flux\"\n",
    "exp = load_or_create_experiment(experiment_name=experiment_name, sample_name=sample_name)\n",
    "\n",
    "meas = qc.Measurement(exp=exp, station=STATION, name=measurement_name)\n",
    "\n",
    "# flux\n",
    "currents = np.linspace(0,  12e-3, num=151)\n",
    "\n",
    "# mw\n",
    "# f = 3.882e9\n",
    "# p = -20.5\n",
    "f = 6e8\n",
    "p = -20\n",
    "mw_source.frequency(f)\n",
    "mw_source.power(p)\n",
    "mw_source.status('on')\n",
    "\n",
    "# logging\n",
    "meas.register_parameter(I_source.current)\n",
    "meas.register_parameter(easy_iv, setpoints=[I_source.current])\n",
    "meas.write_period = 10\n",
    "\n",
    "# measurement\n",
    "with meas.run() as datasaver:\n",
    "    for I in tqdm.tqdm(currents):\n",
    "        I_source.current(I)\n",
    "        get_iv = easy_iv() \n",
    "\n",
    "        datasaver.add_result((easy_iv, get_iv),\n",
    "                             (I_source.current, I))\n",
    "        \n",
    "mw_source.status('off')\n",
    "I_source.current(0)"
   ]
  },
  {
   "cell_type": "markdown",
   "id": "0e990fcf-dd3f-4e2e-bb6c-adc7dedc0616",
   "metadata": {
    "jp-MarkdownHeadingCollapsed": true,
    "tags": []
   },
   "source": [
    "<h4 style=\"color:#4697E8\";>Adwin ramp statistics</h4>"
   ]
  },
  {
   "cell_type": "code",
   "execution_count": null,
   "id": "1dd99e84-4400-43a9-bd4a-4eb817943156",
   "metadata": {},
   "outputs": [],
   "source": [
    "ad.input_mask(0b11)\n",
    "ad.output_mask(0b11)\n",
    "ad.adwin_mode(0b0)\n",
    "ad.clear_fifos()\n",
    "ad.go_to_zero()\n",
    "VT = 2\n",
    "offset = 3\n",
    "ramp_param = ADwin_averagedRamp(\"avg_ramp_statistics2\",\n",
    "                        ad, \n",
    "                        period=0.2, \n",
    "                        n_pts=501,\n",
    "                        N_ramp=11,\n",
    "                        Vs_high=np.array([VT+offset, -VT+offset]),\n",
    "                        Vs_low=np.array([-VT+offset, VT+offset]),\n",
    "                        progress= False)\n",
    "\n",
    "easy_iv = ADwin_IV(ramp_param.name+'_iv', ramp_param,\n",
    "                  voltage_input=2,\n",
    "                  current_input=1,\n",
    "                  voltage_divider_value=1e3,\n",
    "                  current_coefficient=1e9)\n",
    "\n",
    "tokenParameter = Parameter(name='ramp_number2',\n",
    "                    label='Number of the ramp',\n",
    "                    unit= '',\n",
    "                    vals=validators.Numbers(0,1e5),\n",
    "                    get_cmd=None,\n",
    "                    set_cmd=None\n",
    "                   )\n",
    "\n",
    "\n",
    "experiment_name = 'iv_curves'\n",
    "exp = load_or_create_experiment(experiment_name=experiment_name, sample_name=sample_name)"
   ]
  },
  {
   "cell_type": "code",
   "execution_count": null,
   "id": "fb0601c3-1f69-418b-a4dd-6d5db3c5be50",
   "metadata": {},
   "outputs": [],
   "source": [
    "f = 4.04e9\n",
    "p = -5.1\n",
    "\n",
    "Ib = 0.0\n",
    "N_avg_ramps = 10000\n",
    "\n",
    "\n",
    "meas = qc.Measurement(exp=exp, station=STATION, name='iv_mwon_f404p-55_stat_sweep')\n",
    "\n",
    "mw_source.frequency(f)\n",
    "mw_source.power(p)\n",
    "mw_source.status('ON')\n",
    "\n",
    "I_source.current(Ib)\n",
    "\n",
    "\n",
    "# logging\n",
    "\n",
    "meas.register_parameter(tokenParameter)\n",
    "meas.register_parameter(easy_iv, setpoints=[tokenParameter])\n",
    "meas.write_period = 10\n",
    "\n",
    "# measurement\n",
    "with meas.run() as datasaver:\n",
    "    for k in tqdm.tqdm(range(N_avg_ramps)):\n",
    "        # I_source.current(I)\n",
    "        get_iv = easy_iv() \n",
    "\n",
    "        datasaver.add_result((easy_iv, get_iv),\n",
    "                             (tokenParameter, k))\n",
    "        \n",
    "mw_source.status('OFF')\n",
    "I_source.current(0)"
   ]
  },
  {
   "cell_type": "markdown",
   "id": "9c145c0e-3613-4ca0-a87a-3d9d968ebeae",
   "metadata": {
    "jp-MarkdownHeadingCollapsed": true,
    "tags": []
   },
   "source": [
    "<h3  style=\"color:#4697E8\";>Spectrum analyser</h3>"
   ]
  },
  {
   "cell_type": "markdown",
   "id": "dcb3d5a1-b7ae-43b6-b728-58f2aab8e592",
   "metadata": {
    "jp-MarkdownHeadingCollapsed": true,
    "tags": []
   },
   "source": [
    "<h4 style=\"color:#4697E8\";>Simple spectrum</h4>"
   ]
  },
  {
   "cell_type": "code",
   "execution_count": null,
   "id": "2342cc7f-3d72-4f89-8056-307cd2a34296",
   "metadata": {},
   "outputs": [],
   "source": [
    "experiment_name = 'tone_sidebands'\n",
    "measurement_name = 'voltage_sideband_modulation_f400kHz'\n",
    "exp = load_or_create_experiment(experiment_name=experiment_name, sample_name=sample_name)"
   ]
  },
  {
   "cell_type": "code",
   "execution_count": null,
   "id": "585d3603-c102-4fe2-beae-994a22b90988",
   "metadata": {},
   "outputs": [],
   "source": [
    "f = 3.7521e9\n",
    "\n",
    "sh.frequency(f)\n",
    "sh.span(6e6) # rbw?\n",
    "sh.rbw(75)\n",
    "sh.vbw(75)\n",
    "sh.avg(10)\n",
    "sh.configure()\n",
    "\n",
    "afg.voltage_amplitude2(5)\n",
    "afg.voltage_offset2(0.144)\n",
    "afg.freq_cw2(400e3)\n",
    "\n",
    "mw_source.frequency(f)\n",
    "mw_source.power(-55)\n",
    "\n",
    "afg.state_output2('ON')\n",
    "mw_source.status('on')\n",
    "\n",
    "res = do0d(sh.trace, measurement_name=measurement_name);\n",
    "\n",
    "mw_source.status('off')\n",
    "afg.state_output2('OFF')"
   ]
  },
  {
   "cell_type": "markdown",
   "id": "421eafa7-8e5a-433e-b6b6-4c38b835a33e",
   "metadata": {
    "jp-MarkdownHeadingCollapsed": true,
    "tags": []
   },
   "source": [
    "<h4 style=\"color:#4697E8\";>Spectrum vs DC bias (searching sidebands)</h4>"
   ]
  },
  {
   "cell_type": "code",
   "execution_count": null,
   "id": "73b98f80-f693-4e13-87d1-16fa9392d697",
   "metadata": {},
   "outputs": [],
   "source": [
    "experiment_name = 'power_spectra_vs_dc'\n",
    "exp = load_or_create_experiment(experiment_name=experiment_name, sample_name=sample_name)"
   ]
  },
  {
   "cell_type": "code",
   "execution_count": null,
   "id": "554da50b-8a40-4097-b8e3-7a16b4c8c002",
   "metadata": {},
   "outputs": [],
   "source": [
    "adVbias = Parameter(name='adwin_output1',\n",
    "                    label='Adwin output voltage',\n",
    "                    unit= 'V',\n",
    "                    vals=validators.Numbers(-10,10),\n",
    "                    get_cmd=None,\n",
    "                    set_cmd=None\n",
    "                   )"
   ]
  },
  {
   "cell_type": "code",
   "execution_count": null,
   "id": "29a04d98-9207-46a1-af2f-88fe6baf4743",
   "metadata": {},
   "outputs": [],
   "source": [
    "experiment_name = 'power_spectrum_vs_dc_3.7to4.2ghz_pm.3mV'\n",
    "measurement_name = '1dtrace_sa'\n",
    "exp = load_or_create_experiment(experiment_name=experiment_name, sample_name=sample_name)\n",
    "\n",
    "meas = qc.Measurement(exp=exp, station=STATION, name=measurement_name)\n",
    "\n",
    "\n",
    "# spectrum analyser setup\n",
    "# spectrum_analyser.center_freq(3.95e9)\n",
    "# spectrum_analyser.span(0.5e9)\n",
    "# spectrum_analyser.n_points(256e3)\n",
    "# spectrum_analyser.res_BW(6.5e3)\n",
    "\n",
    "# spectrum_analyser.average_type('pow')\n",
    "# spectrum_analyser.averages(5)\n",
    "\n",
    "sh.frequency(3.95e9)\n",
    "sh.span(500e6) # rbw?\n",
    "sh.rbw(6.5e3)\n",
    "sh.vbw(6.5e3)\n",
    "sh.avg(10)\n",
    "sh.configure()\n",
    "\n",
    "# adwin setup\n",
    "ad.input_mask(0b1)\n",
    "ad.output_mask(0b11)\n",
    "ad.adwin_mode(0b0)\n",
    "ad.clear_fifos()\n",
    "ad.go_to_zero()\n",
    "VT = 0.3\n",
    "I = 0e-3\n",
    "offset = 0\n",
    "\n",
    "# # mw source\n",
    "# mw_source.power(-30)\n",
    "# mw_source.frequency(4.113e9)\n",
    "\n",
    "I_source.current(I)\n",
    "ad_Vs = np.linspace(-VT+offset,VT+offset, num=151)\n",
    "background = sh.trace()\n",
    "\n",
    "meas.register_parameter(adVbias)\n",
    "meas.register_parameter(sh.trace, setpoints=[adVbias])\n",
    "\n",
    "# mw_source.status('ON')\n",
    "\n",
    "with meas.run() as datasaver :\n",
    "    for v_ad in tqdm.tqdm(ad_Vs):\n",
    "        adwin_target = np.array([v_ad, v_ad])\n",
    "        ad.outputs(adwin_target)\n",
    "        ad.launch_measurement()\n",
    "        ad.clear_fifos()\n",
    "        \n",
    "        trace = sh.trace() - background\n",
    "        datasaver.add_result((adVbias, v_ad),\n",
    "                             (sh.trace, trace))\n",
    "\n",
    "ad.clear_fifos()\n",
    "ad.go_to_zero()\n",
    "# mw_source.status('OFF')\n",
    "\n",
    "I_source.current(0.0)"
   ]
  },
  {
   "cell_type": "markdown",
   "id": "029309ad-fc3f-492e-a569-7be952a5e28f",
   "metadata": {
    "jp-MarkdownHeadingCollapsed": true,
    "tags": []
   },
   "source": [
    "<h4 style=\"color:#4697E8\";>Spectrum VS MW power</h4>"
   ]
  },
  {
   "cell_type": "code",
   "execution_count": null,
   "id": "1a7e3ce3-4f38-48ed-bd4a-833741942628",
   "metadata": {},
   "outputs": [],
   "source": [
    "experiment_name = 'bo_sidebands_pump'\n",
    "\n",
    "exp = load_or_create_experiment(experiment_name=experiment_name, sample_name=sample_name)"
   ]
  },
  {
   "cell_type": "code",
   "execution_count": null,
   "id": "5e37cabe-3ddf-4b89-845b-c9c422dd17ef",
   "metadata": {},
   "outputs": [],
   "source": [
    "adVbias = Parameter(name='adwin_output1',\n",
    "                    label='Adwin output voltage in current',\n",
    "                    unit= 'A',\n",
    "                    vals=validators.Numbers(-10,10),\n",
    "                    get_cmd=None,\n",
    "                    set_cmd=None\n",
    "                   )"
   ]
  },
  {
   "cell_type": "code",
   "execution_count": null,
   "id": "a2684999-b3f0-4ef6-9dbc-4b0d233868eb",
   "metadata": {},
   "outputs": [],
   "source": [
    "f = 4.04e9\n",
    "\n",
    "sh.frequency(f)\n",
    "sh.span(2e6) # rbw?\n",
    "sh.rbw(300)\n",
    "sh.vbw(300)\n",
    "sh.avg(10)\n",
    "\n",
    "# voltage adwin\n",
    "v_ad = 1.7\n",
    "ad.go_to_zero()\n",
    "adwin_target = np.array([v_ad, v_ad])\n",
    "ad.ouvtputs(adwin_target)\n",
    "ad.launch_measurement()\n",
    "ad.clear_fifos()\n",
    "time.sleep(1)\n",
    "\n",
    "p_low = -8\n",
    "p_high = -2\n",
    "mw_source.frequency(f)\n",
    "\n",
    "# lock-in source parameters\n",
    "# li.frequency(100.1)  # Hz\n",
    "# li.amplitude(0.4) # V\n",
    "measurement_name = 'mw_tone_powersweep_f4.04ghz_vAd' + str(v_ad)\n",
    "sh.configure()\n",
    "\n",
    "\n",
    "mw_source.status('ON')\n",
    "res = do1d(mw_source.power, p_low, p_high, 100, 0.01, sh.trace, measurement_name=measurement_name);\n",
    "mw_source.status('OFF')"
   ]
  },
  {
   "cell_type": "markdown",
   "id": "e97d6c2e-b0b3-4a73-bb98-fa3ab596edfe",
   "metadata": {
    "jp-MarkdownHeadingCollapsed": true,
    "tags": []
   },
   "source": [
    "<h4 style=\"color:#4697E8\";>Sidebands modulation VS AFG frequency</h4>"
   ]
  },
  {
   "cell_type": "code",
   "execution_count": null,
   "id": "4bddc940-e2ea-43f9-9c95-3ade8fb2f6fb",
   "metadata": {},
   "outputs": [],
   "source": [
    "experiment_name = 'sidebands_mod_AFG_freq'\n",
    "\n",
    "exp = load_or_create_experiment(experiment_name=experiment_name, sample_name=sample_name)"
   ]
  },
  {
   "cell_type": "code",
   "execution_count": null,
   "id": "81ce63dd-5651-4255-aa8d-4e68fa41ea21",
   "metadata": {},
   "outputs": [],
   "source": [
    "adVbias = Parameter(name='adwin_output1',\n",
    "                    label='Adwin output voltage in current',\n",
    "                    unit= 'A',\n",
    "                    vals=validators.Numbers(-10,10),\n",
    "                    get_cmd=None,\n",
    "                    set_cmd=None\n",
    "                   )"
   ]
  },
  {
   "cell_type": "code",
   "execution_count": null,
   "id": "fdedb1a0-4a8c-44df-9c3e-70ea2bac66f1",
   "metadata": {},
   "outputs": [],
   "source": [
    "f = 3.7521e9\n",
    "\n",
    "sh.frequency(f)\n",
    "sh.span(6e6) # rbw?\n",
    "sh.rbw(60)\n",
    "sh.vbw(60)\n",
    "sh.avg(10)\n",
    "\n",
    "ad.go_to_zero()\n",
    "time.sleep(1)\n",
    "\n",
    "f_low = 1e5\n",
    "f_high = 3e6\n",
    "\n",
    "afg.voltage_amplitude2(5)\n",
    "afg.voltage_offset2(0.144)\n",
    "\n",
    "mw_source.frequency(f)\n",
    "mw_source.power(-55)\n",
    "# lock-in source parameters\n",
    "# li.frequency(100.1)  # Hz\n",
    "# li.amplitude(0.4) # V\n",
    "# measurement_name = 'mw_tone_powersweep_f4.04ghz_vAd' + str(v_ad)\n",
    "\n",
    "measurement_name = 'sidebands_f3.7521ghz_afg_frange_0.1Mhz_3Mhz' \n",
    "sh.configure()\n",
    "\n",
    "\n",
    "afg.state_output2('ON')\n",
    "mw_source.status('on')\n",
    "\n",
    "res = do1d(afg.freq_cw2, f_low, f_high, 60, 0.01, sh.trace, measurement_name=measurement_name);\n",
    "\n",
    "mw_source.status('off')\n",
    "afg.state_output2('OFF')"
   ]
  },
  {
   "cell_type": "markdown",
   "id": "200cba15-7542-4108-ab16-3789db6afe3b",
   "metadata": {
    "jp-MarkdownHeadingCollapsed": true,
    "tags": []
   },
   "source": [
    "<h4 style=\"color:#4697E8\";>Spectrum vs DC bias (searching BO)</h4>"
   ]
  },
  {
   "cell_type": "code",
   "execution_count": 42,
   "id": "0dc94e09-36cb-48da-9e65-c695ad106db6",
   "metadata": {},
   "outputs": [
    {
     "name": "stdout",
     "output_type": "stream",
     "text": [
      "Starting experimental run with id: 16. \n"
     ]
    },
    {
     "data": {
      "application/vnd.jupyter.widget-view+json": {
       "model_id": "93eccd0ac9d841a9a5f3f53cd6ceb266",
       "version_major": 2,
       "version_minor": 0
      },
      "text/plain": [
       "  0%|          | 0/100 [00:00<?, ?it/s]"
      ]
     },
     "metadata": {},
     "output_type": "display_data"
    }
   ],
   "source": [
    "experiment_name = 'trace_spectrum_analyser_VS_DCvoltage'\n",
    "measurement_name = '1dtrace_sa'\n",
    "exp = load_or_create_experiment(experiment_name=experiment_name, sample_name=sample_name)\n",
    "\n",
    "meas = qc.Measurement(exp=exp, station=STATION, name=measurement_name)\n",
    "\n",
    "\n",
    "# spectrum analyser setup\n",
    "sh.frequency(5e9)\n",
    "sh.span(5e9) # rbw?\n",
    "sh.rbw(1e5)\n",
    "sh.vbw(1e5)\n",
    "sh.avg(10)\n",
    "sh.configure()\n",
    "# adwin setup\n",
    "ad.input_mask(0b1)\n",
    "ad.output_mask(0b11)\n",
    "ad.adwin_mode(0b0)\n",
    "ad.clear_fifos()\n",
    "ad.go_to_zero()\n",
    "\n",
    "\n",
    "VT = 8\n",
    "v_divider = 30*1e3\n",
    "I = 0e-3\n",
    "offset =  0.04*30\n",
    "e = 1.602e-19\n",
    "\n",
    "I_source.current(I)\n",
    "ad_Vs = np.linspace(-VT+offset,VT+offset, num=100)\n",
    "\n",
    "meas.register_parameter(adVbias)\n",
    "meas.register_parameter(sh.trace, setpoints=[adVbias])\n",
    "\n",
    "mw_source.status('off')\n",
    "\n",
    "\n",
    "adwin_target = np.array([offset, offset])\n",
    "ad.outputs(adwin_target)\n",
    "ad.launch_measurement()\n",
    "ad.clear_fifos()\n",
    "\n",
    "\n",
    "background = sh.trace()\n",
    "\n",
    "\n",
    "with meas.run() as datasaver :\n",
    "    for v_ad in tqdm.tqdm(ad_Vs):\n",
    "        \n",
    "#         current = v_ad/30/1e8\n",
    "        \n",
    "#         sh.frequency(current/2/e)\n",
    "#         sh.configure()\n",
    "        \n",
    "        \n",
    "        \n",
    "        adwin_target = np.array([v_ad, v_ad])\n",
    "        ad.outputs(adwin_target)\n",
    "        ad.launch_measurement()\n",
    "        ad.clear_fifos()\n",
    "        \n",
    "        trace = sh.trace() - background\n",
    "        datasaver.add_result((adVbias, v_ad/v_divider),\n",
    "                             (sh.trace, trace))\n",
    "\n",
    "ad.clear_fifos()\n",
    "ad.go_to_zero()\n",
    "mw_source.status('off')\n",
    "\n",
    "I_source.current(0.0)"
   ]
  },
  {
   "cell_type": "markdown",
   "id": "eb9ca74f-3b7d-4db0-91ac-f19fe976eccb",
   "metadata": {
    "jp-MarkdownHeadingCollapsed": true,
    "tags": []
   },
   "source": [
    "<h3 style=\"color:#4697E8\";>Lock-in amplifier</h3>"
   ]
  },
  {
   "cell_type": "markdown",
   "id": "213d4fdb-22e4-4afa-92a4-e43819f324d8",
   "metadata": {
    "jp-MarkdownHeadingCollapsed": true,
    "tags": []
   },
   "source": [
    "<h4 style=\"color:#4697E8\";>IV curve</h4>"
   ]
  },
  {
   "cell_type": "code",
   "execution_count": null,
   "id": "62b3dc6d-71f3-42b6-a5e5-5adf809e7691",
   "metadata": {},
   "outputs": [],
   "source": [
    "experiment_name = 'dIdV'\n",
    "measurement_name = 'dIdV_pm3V_f211_tau0.1s_0flux_rampdown'\n",
    "exp = load_or_create_experiment(experiment_name=experiment_name, sample_name=sample_name)"
   ]
  },
  {
   "cell_type": "code",
   "execution_count": null,
   "id": "35744210-7e93-4d25-956e-9c1ba8178e0a",
   "metadata": {},
   "outputs": [],
   "source": [
    "frequency = 211\n",
    "\n",
    "# first output used to modulate the signal sent to the sample\n",
    "afg.voltage_amplitude1(0.01)\n",
    "afg.voltage_offset1(0)\n",
    "afg.impedance_output1(10e3)\n",
    "\n",
    "# second output used to trigger the lock-in\n",
    "afg.voltage_amplitude2(1)\n",
    "afg.voltage_offset2(0)\n",
    "\n",
    "afg.freq_cw1(frequency)\n",
    "afg.freq_cw2(frequency)\n",
    "\n",
    "# synch the two\n",
    "afg.synchronize_phase(0)"
   ]
  },
  {
   "cell_type": "code",
   "execution_count": null,
   "id": "8a9dd533-10bc-4e2a-948a-761c06e8046e",
   "metadata": {},
   "outputs": [],
   "source": [
    "tau = 100e-3\n",
    "vmin = -3\n",
    "vmax = 3\n",
    "n_points = 2001\n",
    "I_source.current(0.0)\n",
    "\n",
    "li.time_constant(tau)  # s\n",
    "\n",
    "afg.state_output1('ON')\n",
    "afg.state_output2('ON')\n",
    "do1d(afg.voltage_offset1, vmax, vmin, n_points, tau, li.R)\n",
    "afg.state_output1('OFF')\n",
    "afg.state_output2('OFF')"
   ]
  },
  {
   "cell_type": "markdown",
   "id": "aec86670-bf8a-471b-8bc1-94cf59727819",
   "metadata": {
    "jp-MarkdownHeadingCollapsed": true,
    "tags": []
   },
   "source": [
    "<h4 style=\"color:#4697E8\";>IV curve and flux</h4>"
   ]
  },
  {
   "cell_type": "code",
   "execution_count": null,
   "id": "b43e66b7-d825-408b-b222-be9c7fd22e13",
   "metadata": {},
   "outputs": [],
   "source": [
    "experiment_name = 'dVdI_flux'\n",
    "measurement_name = 'dVdI_flux_p100pA_f211_tau0.1s'\n",
    "exp = load_or_create_experiment(experiment_name=experiment_name, sample_name=sample_name)"
   ]
  },
  {
   "cell_type": "code",
   "execution_count": null,
   "id": "cce088e6-c51a-47d3-a17e-b1f2e1dd722f",
   "metadata": {},
   "outputs": [],
   "source": [
    "# measurement frequency\n",
    "frequency = 211\n",
    "\n",
    "# first output used to modulate the signal sent to the sample\n",
    "afg.voltage_amplitude1(0.1)\n",
    "afg.voltage_offset1(0)\n",
    "afg.impedance_output1(10e3)\n",
    "\n",
    "# second output used to trigger the lock-in\n",
    "afg.voltage_amplitude2(1)\n",
    "afg.voltage_offset2(0)\n",
    "\n",
    "afg.freq_cw1(frequency)\n",
    "afg.freq_cw2(frequency)\n",
    "\n",
    "# synch the two\n",
    "afg.synchronize_phase(0)"
   ]
  },
  {
   "cell_type": "code",
   "execution_count": null,
   "id": "99df966c-b076-4eb8-a09e-1ab94339bd10",
   "metadata": {},
   "outputs": [],
   "source": [
    "tau = 100e-3\n",
    "vmin = -6\n",
    "vmax = 6\n",
    "n_points = 301\n",
    "\n",
    "phimin = -2e-3\n",
    "phimax = 2e-3\n",
    "Ipoints = 201\n",
    "I_source.current(phimin)\n",
    "\n",
    "li.time_constant(tau)  # s\n",
    "\n",
    "afg.state_output1('ON')\n",
    "afg.state_output2('ON')\n",
    "\n",
    "do2d(I_source.current, phimin, phimax, Ipoints, 0.01, afg.voltage_offset1, vmin, vmax, n_points, tau, li.R)\n",
    "\n",
    "afg.state_output1('OFF')\n",
    "afg.state_output2('OFF')\n",
    "I_source.current(0.0)"
   ]
  },
  {
   "cell_type": "code",
   "execution_count": null,
   "id": "b50608c3-2551-4103-b916-bd7629386fec",
   "metadata": {},
   "outputs": [],
   "source": [
    "experiment_name = 'dIdV_flux'\n",
    "measurement_name = 'dIdV_flux_pm05V_mwon_f211_tau0.1s_rampup'\n",
    "exp = load_or_create_experiment(experiment_name=experiment_name, sample_name=sample_name)"
   ]
  },
  {
   "cell_type": "code",
   "execution_count": null,
   "id": "677e663d-0ec8-405b-a13c-ebf3ec627c3b",
   "metadata": {},
   "outputs": [],
   "source": [
    "# measurement frequency\n",
    "frequency = 211\n",
    "\n",
    "# first output used to modulate the signal sent to the sample\n",
    "afg.voltage_amplitude1(0.1)\n",
    "afg.voltage_offset1(0)\n",
    "afg.impedance_output1(10e3)\n",
    "\n",
    "# second output used to trigger the lock-in\n",
    "afg.voltage_amplitude2(1)\n",
    "afg.voltage_offset2(0)\n",
    "\n",
    "afg.freq_cw1(frequency)\n",
    "afg.freq_cw2(frequency)\n",
    "\n",
    "# synch the two\n",
    "afg.synchronize_phase(0)"
   ]
  },
  {
   "cell_type": "code",
   "execution_count": null,
   "id": "6c524139-73c3-497e-86fe-0c683003f7ea",
   "metadata": {},
   "outputs": [],
   "source": [
    "f = 3.88e9\n",
    "p = -20.9\n",
    "Ib = 0.e-3\n",
    "\n",
    "mw_source.frequency(f)\n",
    "mw_source.power(p)\n",
    "I_source.current(Ib)\n",
    "\n",
    "phimin = -2.5e-3\n",
    "phimax = 2.5e-3\n",
    "Ipoints = 101\n",
    "\n",
    "vmin = -0.4\n",
    "vmax = 0.4\n",
    "n_points = 201\n",
    "I_source.current(Ib)\n",
    "\n",
    "mw_source.status('ON')\n",
    "\n",
    "afg.state_output1('ON')\n",
    "afg.state_output2('ON')\n",
    "do2d(I_source.current, phimin, phimax, Ipoints, 0.01, afg.voltage_offset1, vmin, vmax, n_points, tau, li.R)\n",
    "afg.state_output1('OFF')\n",
    "afg.state_output2('OFF')\n",
    "\n",
    "mw_source.status('OFF')"
   ]
  },
  {
   "cell_type": "markdown",
   "id": "e5c1a4ea-fbe1-49d6-a122-d21fc405627d",
   "metadata": {
    "jp-MarkdownHeadingCollapsed": true,
    "tags": []
   },
   "source": [
    "<h4 style=\"color:#4697E8\";>IV with microwave modulation</h4>"
   ]
  },
  {
   "cell_type": "code",
   "execution_count": null,
   "id": "73ca5453-4ca1-4c30-b303-250fdb280a65",
   "metadata": {},
   "outputs": [],
   "source": [
    "experiment_name = 'dIdP'\n",
    "measurement_name = 'dIdp_adV2.13V_f11_tau10ms_mwf3.20'\n",
    "exp = load_or_create_experiment(experiment_name=experiment_name, sample_name=sample_name)"
   ]
  },
  {
   "cell_type": "code",
   "execution_count": null,
   "id": "86af110c-a8f1-4793-a7ab-8ec18e8b4e1f",
   "metadata": {},
   "outputs": [],
   "source": [
    "# lock-in parameters\n",
    "# the tau is long and the frequency is low because the measurement suffers from \n",
    "# low-frequency instability, so to average them out we need to make a looong run.\n",
    "\n",
    "tau = 10e-3\n",
    "\n",
    "li.frequency(211)  # Hz\n",
    "li.amplitude(0.4) # V\n",
    "li.time_constant(tau)  # s"
   ]
  },
  {
   "cell_type": "code",
   "execution_count": null,
   "id": "bc20bcfa-46cc-402c-9f3e-9d61e2d6ab25",
   "metadata": {},
   "outputs": [],
   "source": [
    "# fixed voltage set with the adwin\n",
    "v_ad = 0.15\n",
    "\n",
    "# frequency and power of the microwave tone\n",
    "# f = 3.882e9\n",
    "\n",
    "# p = -15.4\n",
    "f = 6.012e9\n",
    "\n",
    "pmin = -18\n",
    "pmax = -10\n",
    "n_power = 1501\n",
    "mw_source.frequency(f)\n",
    "\n",
    "\n",
    "Ib = 0.65e-3\n",
    "I_source.current(Ib)\n",
    "# mw_source.power(p)\n",
    "\n",
    "# turn on the adwin voltage\n",
    "adwin_target = np.array([v_ad, v_ad])\n",
    "ad.outputs(adwin_target)\n",
    "ad.launch_measurement()\n",
    "\n",
    "mw_source.status('ON')\n",
    "do1d(mw_source.power, pmin, pmax, n_power, tau, li.R)\n",
    "mw_source.status('OFF')\n",
    "\n",
    "ad.clear_fifos()\n",
    "ad.go_to_zero()"
   ]
  },
  {
   "cell_type": "markdown",
   "id": "14aa8e07-b9a7-46f2-8fb1-1038ac40339c",
   "metadata": {
    "jp-MarkdownHeadingCollapsed": true,
    "tags": []
   },
   "source": [
    "<h4 style=\"color:#4697E8\";>Microwave tone modulation VS DC</h4>"
   ]
  },
  {
   "cell_type": "code",
   "execution_count": null,
   "id": "ac0e0375-0e78-4cbf-bb39-94fce87f7180",
   "metadata": {},
   "outputs": [],
   "source": [
    "experiment_name = 'mwMod_vs_dc'\n",
    "exp = load_or_create_experiment(experiment_name=experiment_name, sample_name=sample_name)"
   ]
  },
  {
   "cell_type": "code",
   "execution_count": null,
   "id": "6c47b9f5-7952-491b-ae36-2962795c5c9e",
   "metadata": {},
   "outputs": [],
   "source": [
    "adVbias = Parameter(name='adwin_output1',\n",
    "                    label='Adwin output voltage',\n",
    "                    unit= 'V',\n",
    "                    vals=validators.Numbers(-10,10),\n",
    "                    get_cmd=None,\n",
    "                    set_cmd=None\n",
    "                   )"
   ]
  },
  {
   "cell_type": "code",
   "execution_count": null,
   "id": "b21c61d2-d06e-4226-b84d-326adc9e9d12",
   "metadata": {},
   "outputs": [],
   "source": [
    "meas = qc.Measurement(exp=exp, station=STATION, name=measurement_name)\n",
    "\n",
    "# flux\n",
    "ad.input_mask(0b1)\n",
    "ad.output_mask(0b11)\n",
    "ad.adwin_mode(0b0)\n",
    "ad.clear_fifos()\n",
    "ad.go_to_zero()\n",
    "\n",
    "VT = 0.3\n",
    "Ib = 0.65e-3\n",
    "offset = 0.3\n",
    "\n",
    "\n",
    "f = 6.012e9\n",
    "pmin = -20\n",
    "pmax = -10\n",
    "nb_power = 101\n",
    "\n",
    "\n",
    "tau = 100e-3\n",
    "\n",
    "li.frequency(111)  # Hz\n",
    "li.amplitude(0.4) # V\n",
    "li.time_constant(tau)  # s\n",
    "\n",
    "ad_Vs = np.linspace(-VT+offset,VT+offset, num=101)\n",
    "powers = np.linspace(pmin , pmax, num=nb_power)\n",
    "\n",
    "\n",
    "meas.register_parameter(adVbias)\n",
    "meas.register_parameter(mw_source.power)\n",
    "meas.register_parameter(li.R, setpoints=[adVbias, mw_source.power])\n",
    "\n",
    "\n",
    "# turn off\n",
    "mw_source.frequency(f)\n",
    "mw_source.status('ON')\n",
    "\n",
    "ad.go_to_zero()\n",
    "I_source.current(Ib)\n",
    "\n",
    "\n",
    "with meas.run() as datasaver :\n",
    "    for v_ad in tqdm.tqdm(ad_Vs):\n",
    "        adwin_target = np.array([v_ad, v_ad])\n",
    "        ad.outputs(adwin_target)\n",
    "        ad.launch_measurement()\n",
    "        \n",
    "        \n",
    "        for p in powers :\n",
    "            mw_source.power(p)\n",
    "            \n",
    "            time.sleep(tau)\n",
    "            \n",
    "            trace = li.R()\n",
    "            datasaver.add_result((adVbias, v_ad),\n",
    "                                 (mw_source.power, p),\n",
    "                                 (li.R, trace))\n",
    "        ad.clear_fifos()\n",
    "\n",
    "\n",
    "mw_source.status('OFF')\n",
    "ad.clear_fifos()\n",
    "ad.go_to_zero()\n",
    "I_source.current(0.0)"
   ]
  },
  {
   "cell_type": "markdown",
   "id": "bd5eafef-0c54-40a0-93a5-083313ef9a78",
   "metadata": {
    "jp-MarkdownHeadingCollapsed": true,
    "tags": []
   },
   "source": [
    "<h4 style=\"color:#4697E8\";>Microwave tone modulation VS flux</h4>"
   ]
  },
  {
   "cell_type": "code",
   "execution_count": null,
   "id": "5dd19406-f632-4eac-b3d0-cfae106cc503",
   "metadata": {},
   "outputs": [],
   "source": [
    "experiment_name = 'mwMod_vs_flux'\n",
    "exp = load_or_create_experiment(experiment_name=experiment_name, sample_name=sample_name)"
   ]
  },
  {
   "cell_type": "code",
   "execution_count": null,
   "id": "1489c9a9-1c73-45cc-aa30-fb05ae2e5b48",
   "metadata": {},
   "outputs": [],
   "source": [
    "# lock-in parameters\n",
    "# the tau is long and the frequency is low because the measurement suffers from \n",
    "# low-frequency instability, so to average them out we need to make a looong run.\n",
    "\n",
    "tau = 100e-3\n",
    "\n",
    "li.frequency(111)  # Hz\n",
    "li.amplitude(0.4) # V\n",
    "li.time_constant(tau)  # s\n",
    "\n",
    "# fixed voltage set with the adwin\n",
    "v_ad = 0.3\n",
    "\n",
    "# frequency and power of the microwave tone\n",
    "# f = 3.882e9\n",
    "\n",
    "# p = -15.4\n",
    "f = 6.012e9\n",
    "\n",
    "pmin = -18\n",
    "pmax = -5\n",
    "n_power = 101\n",
    "mw_source.frequency(f)\n",
    "\n",
    "\n",
    "Ib = 0\n",
    "I_source.current(Ib)\n",
    "I_start = -2.2e-3\n",
    "I_end = 2.2e-3\n",
    "I_points = 151\n",
    "# mw_source.power(p)\n",
    "\n",
    "# turn on the adwin voltage\n",
    "adwin_target = np.array([v_ad, v_ad])\n",
    "ad.outputs(adwin_target)\n",
    "ad.launch_measurement()\n",
    "\n",
    "mw_source.status('ON')\n",
    "do2d(I_source.current, I_start, I_end, I_points, 0.01, mw_source.power, pmin, pmax, n_power, tau, li.R)\n",
    "mw_source.status('OFF')\n",
    "\n",
    "ad.clear_fifos()\n",
    "ad.go_to_zero()"
   ]
  },
  {
   "cell_type": "markdown",
   "id": "36c9f32d-76d8-42c7-85bc-5f524a5a9ba8",
   "metadata": {
    "jp-MarkdownHeadingCollapsed": true,
    "tags": []
   },
   "source": [
    "<h4 style=\"color:#4697E8\";>$dI/dV$ vs. $V$ vs. $p$</h4>"
   ]
  },
  {
   "cell_type": "code",
   "execution_count": null,
   "id": "6c64bdb9-e870-407c-8cf0-a66a6fa738cc",
   "metadata": {},
   "outputs": [],
   "source": [
    "experiment_name = 'dIdV_vs_p'\n",
    "measurement_name = 'dIdV_pm04_m2on_f6_tau100msf1hz'\n",
    "exp = load_or_create_experiment(experiment_name=experiment_name, sample_name=sample_name)"
   ]
  },
  {
   "cell_type": "code",
   "execution_count": null,
   "id": "fa9d4ba0-0ad2-496f-acfa-e2ec07a6528b",
   "metadata": {},
   "outputs": [],
   "source": [
    "# lock-in parameters\n",
    "# the tau is long and the frequency is low because the measurement suffers from \n",
    "# low-frequency instability, so to average them out we need to make a looong run.\n",
    "\n",
    "frequency = 11\n",
    "\n",
    "# first output used to modulate the signal sent to the sample\n",
    "afg.voltage_amplitude1(0.1)\n",
    "afg.voltage_offset1(0)\n",
    "afg.impedance_output1(10e3)\n",
    "\n",
    "# second output used to trigger the lock-in\n",
    "afg.voltage_amplitude2(1)\n",
    "afg.voltage_offset2(0)\n",
    "\n",
    "afg.freq_cw1(frequency)\n",
    "afg.freq_cw2(frequency)\n",
    "\n",
    "# synch the two\n",
    "afg.synchronize_phase(0)\n",
    "\n",
    "tau = 100e-3\n",
    "li.time_constant(tau)  # s"
   ]
  },
  {
   "cell_type": "code",
   "execution_count": null,
   "id": "7dc2a975-02a9-407a-9f16-688f8cf21150",
   "metadata": {},
   "outputs": [],
   "source": [
    "# frequency and power of the microwave tone\n",
    "# p = -14.5\n",
    "f = 6.012e9\n",
    "Ib = 0.65e-3\n",
    "\n",
    "mw_source.frequency(f)\n",
    "# mw_source.power(p)\n",
    "\n",
    "I_source.current(Ib)\n",
    "\n",
    "vmin = -0.6\n",
    "vmax = 0.6\n",
    "n_points = 501\n",
    "\n",
    "pmin = -20\n",
    "pmax = 0\n",
    "n_power = 501\n",
    "\n",
    "I_source.current(Ib)\n",
    "\n",
    "mw_source.status('ON')\n",
    "\n",
    "afg.state_output1('ON')\n",
    "afg.state_output2('ON')\n",
    "meas = do2d(mw_source.power, pmin, pmax, n_power, 0.01, afg.voltage_offset1, vmin, vmax, n_points, tau, li.R)\n",
    "afg.state_output1('OFF')\n",
    "afg.state_output2('OFF')\n",
    "\n",
    "mw_source.status('OFF')\n",
    "\n",
    "# ad.clear_fifos()\n",
    "# ad.go_to_zero()"
   ]
  },
  {
   "cell_type": "markdown",
   "id": "1fc0b496-54d7-4041-b50c-ed94284cf3e3",
   "metadata": {
    "tags": []
   },
   "source": [
    "<h3  style=\"color:#4697E8\";>IV curves current biasing</h3>"
   ]
  },
  {
   "cell_type": "markdown",
   "id": "1b4267fa-0b70-4e0e-b9bb-5c9a5ed01ac8",
   "metadata": {
    "jp-MarkdownHeadingCollapsed": true,
    "tags": []
   },
   "source": [
    "<h4 style=\"color:#4697E8\";>Simple IV</h4>"
   ]
  },
  {
   "cell_type": "code",
   "execution_count": null,
   "id": "473b0cef-d575-4f4f-9a57-3599bfe11347",
   "metadata": {},
   "outputs": [],
   "source": [
    "experiment_name = 'VI_curves'\n",
    "measurement_name = 'VI_base'\n",
    "exp = load_or_create_experiment(experiment_name=experiment_name, sample_name=sample_name)"
   ]
  },
  {
   "cell_type": "code",
   "execution_count": null,
   "id": "dfdbf981-b21b-47b2-902e-e6c9883bd666",
   "metadata": {
    "tags": []
   },
   "outputs": [],
   "source": [
    "ad.input_mask(0b11)\n",
    "ad.output_mask(0b11)\n",
    "ad.adwin_mode(0b0)\n",
    "ad.clear_fifos()\n",
    "ad.go_to_zero()\n",
    "# c = cm.get_cmap('tab10')\n",
    "\n",
    "VT = 4\n",
    "offset = 0\n",
    "ramp_param = ADwin_averagedRamp(\"a2wrgj35nk5a\", \n",
    "                        ad, \n",
    "                        period=10,\n",
    "                        n_pts=100001,\n",
    "                        N_ramp=201,\n",
    "                        Vs_high=np.array([VT+offset, VT+offset]),\n",
    "                        Vs_low=np.array([-VT+offset, -VT+offset]),\n",
    "                        progress= True)\n",
    "\n",
    "easy_iv = ADwin_VI(ramp_param.name+'vi', ramp_param,\n",
    "                  voltage_input=1,\n",
    "                  current_input=2,\n",
    "                  current_divider_value = 1e7 * 1e3,\n",
    "                  voltage_coefficient = 1e4) # actually voltage coefficient here\n",
    "\n",
    "\n",
    "# easy_iv = ADwin_IV(ramp_param.name+'_iv', ramp_param,\n",
    "#                   voltage_input=2,\n",
    "#                   current_input=1,\n",
    "#                   voltage_divider_value=1e3,\n",
    "#                   current_coefficient=1e9)\n",
    "\n",
    "ad.clear_fifos()\n",
    "ad.go_to_zero()"
   ]
  },
  {
   "cell_type": "code",
   "execution_count": null,
   "id": "c8cae22a-f808-4210-b8ec-7f930dcc0c24",
   "metadata": {},
   "outputs": [],
   "source": [
    "measurement_name = 'iv_period%.2f_V%.1f_N%i' % (ramp_param.half_period*2, VT+offset, ramp_param.N_ramp)\n",
    "meas = qc.Measurement(exp=exp, station=STATION, name = measurement_name)\n",
    "\n",
    "# flux\n",
    "Ib = 0.0e-3\n",
    "I_source.current(Ib)\n",
    "\n",
    "# turn off\n",
    "# mw_source.status('OFF')\n",
    "ad.go_to_zero()\n",
    "I_source.current(0.0)\n",
    "\n",
    "# logging\n",
    "meas.register_parameter(easy_iv)\n",
    "meas.write_period = 10\n",
    "\n",
    "# measurement\n",
    "with meas.run() as datasaver:\n",
    "    get_iv = easy_iv() \n",
    "    datasaver.add_result((easy_iv, get_iv))\n",
    "\n",
    "# turn off\n",
    "# mw_source.status('OFF')\n",
    "ad.go_to_zero()\n",
    "I_source.current(0.0)"
   ]
  },
  {
   "cell_type": "markdown",
   "id": "a2362d57-89e5-4ac9-99f2-f15d00e977b0",
   "metadata": {
    "jp-MarkdownHeadingCollapsed": true,
    "tags": []
   },
   "source": [
    "<h4 style=\"color:#4697E8\";>VI versus flux</h4>"
   ]
  },
  {
   "cell_type": "code",
   "execution_count": null,
   "id": "1787fe1e-d6eb-4262-a68b-1e86345b5cf3",
   "metadata": {},
   "outputs": [],
   "source": [
    "experiment_name = 'iv_curves_vs_flux'\n",
    "measurement_name = 'iv_phimp_pm3pi'\n",
    "exp = load_or_create_experiment(experiment_name=experiment_name, sample_name=sample_name)"
   ]
  },
  {
   "cell_type": "code",
   "execution_count": null,
   "id": "be021fa9-35e0-4b5a-a2fb-5a17ec0eef9a",
   "metadata": {
    "tags": []
   },
   "outputs": [],
   "source": [
    "ad.input_mask(0b11)\n",
    "ad.output_mask(0b11)\n",
    "ad.adwin_mode(0b0)\n",
    "ad.clear_fifos()\n",
    "ad.go_to_zero()\n",
    "# c = cm.get_cmap('tab10')\n",
    "\n",
    "VT = 2\n",
    "offset = 0\n",
    "ramp_param = ADwin_averagedRamp(\"a2wrg5nk5a\", \n",
    "                        ad, \n",
    "                        period=10,\n",
    "                        n_pts=100001,\n",
    "                        N_ramp=5,\n",
    "                        Vs_high=np.array([VT+offset, VT+offset]),\n",
    "                        Vs_low=np.array([-VT+offset, -VT+offset]),\n",
    "                        progress= True)\n",
    "\n",
    "easy_iv = ADwin_VI(ramp_param.name+'vi', ramp_param,\n",
    "                  voltage_input=1,\n",
    "                  current_input=2,\n",
    "                  current_divider_value = 1e7 * 1e3,\n",
    "                  voltage_coefficient = 1e4) # actually voltage coefficient here\n",
    "\n",
    "\n",
    "# easy_iv = ADwin_IV(ramp_param.name+'_iv', ramp_param,\n",
    "#                   voltage_input=2,\n",
    "#                   current_input=1,\n",
    "#                   voltage_divider_value=1e3,\n",
    "#                   current_coefficient=1e9)\n",
    "\n",
    "ad.clear_fifos()\n",
    "ad.go_to_zero()"
   ]
  },
  {
   "cell_type": "code",
   "execution_count": null,
   "id": "e04928f1-9943-4700-92d4-8ab8796d87c7",
   "metadata": {},
   "outputs": [],
   "source": [
    "meas = qc.Measurement(exp=exp, station=STATION, name=measurement_name)\n",
    "\n",
    "pif = 0.74e-3\n",
    "\n",
    "# flux\n",
    "I_min = -3*pif\n",
    "I_max = 3*pif\n",
    "I_num = 51\n",
    "currents = np.linspace(I_min, I_max, I_num)\n",
    "\n",
    "# logging\n",
    "meas.register_parameter(I_source.current)\n",
    "meas.register_parameter(easy_iv, setpoints=[I_source.current])\n",
    "meas.write_period = 10\n",
    "\n",
    "# measurement\n",
    "# mw_source.status('OFF')\n",
    "with meas.run() as datasaver:\n",
    "    for I in tqdm.tqdm(currents):\n",
    "        I_source.current(I)\n",
    "        get_iv = easy_iv() \n",
    "\n",
    "        datasaver.add_result((easy_iv, get_iv),\n",
    "                             (I_source.current, I))\n",
    "\n",
    "# mw_source.status('OFF')\n",
    "I_source.current(0)"
   ]
  },
  {
   "cell_type": "markdown",
   "id": "d6666543-2a56-42c1-b3aa-0820fee7ef97",
   "metadata": {
    "jp-MarkdownHeadingCollapsed": true,
    "tags": []
   },
   "source": [
    "<h4 style=\"color:#4697E8\";>VNA versus current bias</h4>"
   ]
  },
  {
   "cell_type": "code",
   "execution_count": null,
   "id": "c78e7532-1730-47e4-a9a9-29ff3f089d83",
   "metadata": {},
   "outputs": [],
   "source": [
    "experiment_name = 's21'\n",
    "measurement_name = 's21_vs_current_dc'\n",
    "exp = load_or_create_experiment(experiment_name=experiment_name, sample_name=sample_name)"
   ]
  },
  {
   "cell_type": "code",
   "execution_count": null,
   "id": "59144fda-d230-428b-a04e-cff4b2d6dfbd",
   "metadata": {},
   "outputs": [],
   "source": [
    "adVbias = Parameter(name='adwin_output1',\n",
    "                    label='Adwin output voltage converted to current',\n",
    "                    unit= 'A',\n",
    "                    vals=validators.Numbers(-10,10),\n",
    "                    get_cmd=None,\n",
    "                    set_cmd=None\n",
    "                   )"
   ]
  },
  {
   "cell_type": "code",
   "execution_count": null,
   "id": "d59dea40-b173-472b-8954-1f7f8be0accd",
   "metadata": {},
   "outputs": [],
   "source": [
    "meas = qc.Measurement(exp=exp, station=STATION, name='vna_trace_vs_current_bias_4.04GHzmode' )\n",
    "\n",
    "# mw\n",
    "f = 4.04e9\n",
    "p = -5.5\n",
    "# mw_source.frequency(f)\n",
    "# mw_source.power(p)\n",
    "\n",
    "s21.center(f)\n",
    "s21.span(5e8)\n",
    "s21.npts(2001)\n",
    "s21.bandwidth(1e3)\n",
    "s21.averaging_enabled(True)\n",
    "s21.avg(1)\n",
    "# 30dB of attenuation added at the output\n",
    "s21.power(0)\n",
    "\n",
    "# s21.set_electrical_delay_auto()\n",
    "s21.average_clear()\n",
    "\n",
    "ad.input_mask(0b1)\n",
    "ad.output_mask(0b11)\n",
    "ad.adwin_mode(0b0)\n",
    "ad.clear_fifos()\n",
    "ad.go_to_zero()\n",
    "\n",
    "VT = 0.01\n",
    "I = 0e-3\n",
    "offset = 0.05\n",
    "# I_source.current(I)\n",
    "ad_Vs = np.linspace(offset-VT,VT+offset, num=201)\n",
    "\n",
    "meas.register_parameter(adVbias)\n",
    "meas.register_parameter(s21.trace_mag_phase, setpoints=[adVbias])\n",
    "\n",
    "vna.rf_on()\n",
    "\n",
    "with meas.run() as datasaver :\n",
    "    for v_ad in tqdm.tqdm(ad_Vs):\n",
    "        adwin_target = np.array([v_ad, v_ad])\n",
    "        ad.outputs(adwin_target)\n",
    "        ad.launch_measurement()\n",
    "        ad.clear_fifos()\n",
    "        \n",
    "        trace = s21.trace_mag_phase()\n",
    "        datasaver.add_result((adVbias, v_ad/1e8),\n",
    "                             (s21.trace_mag_phase, trace))\n",
    "\n",
    "vna.rf_off()\n",
    "ad.clear_fifos()\n",
    "ad.go_to_zero()\n",
    "# I_source.current(0.0)\n",
    "\n",
    "# res[0].captured_run_id"
   ]
  },
  {
   "cell_type": "markdown",
   "id": "7f6780d4-dd3d-4f9e-b370-3cdb09c61398",
   "metadata": {
    "jp-MarkdownHeadingCollapsed": true,
    "tags": []
   },
   "source": [
    "<h3  style=\"color:#418FDB\";>IV curves with AFG biasing</h3>"
   ]
  },
  {
   "cell_type": "markdown",
   "id": "0b786b8a-8a26-4c9d-978c-bf0c3f405881",
   "metadata": {
    "jp-MarkdownHeadingCollapsed": true,
    "tags": []
   },
   "source": [
    "<h4 style=\"color:#4697E8\";>Simple IV</h4>"
   ]
  },
  {
   "cell_type": "code",
   "execution_count": null,
   "id": "efddb7f7-6785-4385-83e7-ed432ffb06f7",
   "metadata": {},
   "outputs": [],
   "source": [
    "experiment_name = 'iv_curves_withAFG'\n",
    "# measurement_name = \"iv_mwon_5cnoavg_step_zoom_p002_1501pts\"\n",
    "exp = load_or_create_experiment(experiment_name=experiment_name, sample_name=sample_name)"
   ]
  },
  {
   "cell_type": "code",
   "execution_count": null,
   "id": "c188bc7e-b35b-46c3-90db-2463f1be90bb",
   "metadata": {},
   "outputs": [],
   "source": [
    "adI = Parameter(name='adwin_input1',\n",
    "                    label='Adwin input voltage converted to current',\n",
    "                    unit= 'A',\n",
    "                    vals=validators.Numbers(-10,10),\n",
    "                    get_cmd=None,\n",
    "                    set_cmd=None\n",
    "                   )"
   ]
  },
  {
   "cell_type": "code",
   "execution_count": null,
   "id": "a5ee345f-c052-48d4-8065-b265218561fe",
   "metadata": {},
   "outputs": [],
   "source": [
    "measurement_name = 'iv_withAFG_pm2.5V'\n",
    "meas = qc.Measurement(exp=exp, station=STATION, name=measurement_name)\n",
    "\n",
    "current_coef = 1e9\n",
    "voltage_div = 1e3 \n",
    "\n",
    "Vmin = -2.5\n",
    "Vmax = 2.5\n",
    "Vpts = 500\n",
    "\n",
    "ad.rs = 10000\n",
    "ad.clear_fifos()\n",
    "\n",
    "Is = []\n",
    "Vs = np.linspace(Vmin, Vmax, Vpts)\n",
    "Ib = 0*0.74e-3\n",
    "I_source.current(Ib)\n",
    "\n",
    "\n",
    "afg.voltage_amplitude2(25e-3)\n",
    "afg.voltage_offset2(Vs[0])\n",
    "\n",
    "afg.impedance_output2(10e3)\n",
    "\n",
    "afg.state_output2('ON')\n",
    "\n",
    "\n",
    "# logging\n",
    "meas.register_parameter(afg.voltage_offset2)\n",
    "meas.register_parameter(adI, setpoints=[afg.voltage_offset2])\n",
    "meas.write_period = 10\n",
    "\n",
    "# measurement\n",
    "# mw_source.status('OFF')\n",
    "with meas.run() as datasaver:\n",
    "    for Vafg in tqdm.tqdm(Vs):\n",
    "    \n",
    "        afg.voltage_offset2(Vafg)\n",
    "\n",
    "        adwin_target = np.array([0, 0])\n",
    "        ad.outputs(adwin_target)\n",
    "        ad.launch_measurement()\n",
    "        u = ad.inputs.get()\n",
    "\n",
    "        ad.clear_fifos()\n",
    "        current = np.mean(u)\n",
    "        \n",
    "        \n",
    "        datasaver.add_result((adI, current/current_coef),\n",
    "                             (afg.voltage_offset2, Vafg/voltage_div))\n",
    "    \n"
   ]
  },
  {
   "cell_type": "markdown",
   "id": "53e655c5-e3d3-449c-9d59-fe4a2c18c146",
   "metadata": {
    "jp-MarkdownHeadingCollapsed": true,
    "tags": []
   },
   "source": [
    "<h4 style=\"color:#4697E8\";>IV vs flux</h4>"
   ]
  },
  {
   "cell_type": "code",
   "execution_count": null,
   "id": "b9469f53-e22a-4b02-b22b-ac66fa49ba1c",
   "metadata": {},
   "outputs": [],
   "source": [
    "experiment_name = 'iv_curves_withAFG_vs_flux'\n",
    "# measurement_name = \"iv_mwon_5cnoavg_step_zoom_p002_1501pts\"\n",
    "exp = load_or_create_experiment(experiment_name=experiment_name, sample_name=sample_name)"
   ]
  },
  {
   "cell_type": "code",
   "execution_count": null,
   "id": "f426f801-63f1-47cc-a732-a1d3afa82aef",
   "metadata": {},
   "outputs": [],
   "source": [
    "adI = Parameter(name='adwin_input1',\n",
    "                    label='Adwin input voltage converted to current',\n",
    "                    unit= 'A',\n",
    "                    vals=validators.Numbers(-10,10),\n",
    "                    get_cmd=None,\n",
    "                    set_cmd=None\n",
    "                   )"
   ]
  },
  {
   "cell_type": "code",
   "execution_count": null,
   "id": "3a147a8c-9db2-4f28-99ea-4c4f6178f746",
   "metadata": {},
   "outputs": [],
   "source": [
    "measurement_name = 'iv_withAFG_pm2.5V_phi15_to_phi22'\n",
    "meas = qc.Measurement(exp=exp, station=STATION, name=measurement_name)\n",
    "\n",
    "current_coef = 1e11\n",
    "voltage_div = 1e3 * 30\n",
    "\n",
    "Vmin = -2.5\n",
    "Vmax = 2.5\n",
    "Vpts = 81\n",
    "\n",
    "ad.rs = 5001\n",
    "ad.clear_fifos()\n",
    "\n",
    "Vs = np.linspace(Vmin, Vmax, Vpts)\n",
    "\n",
    "\n",
    "\n",
    "\n",
    "# flux\n",
    "cPhi0 = 0.74e-3\n",
    "currents = np.linspace(0*cPhi0,  20*cPhi0, num=201)\n",
    "\n",
    "###############################\n",
    "afg.voltage_amplitude2(25e-3)\n",
    "afg.voltage_offset2(Vs[0])\n",
    "\n",
    "afg.impedance_output2(10e3)\n",
    "\n",
    "afg.state_output2('ON')\n",
    "\n",
    "\n",
    "# logging\n",
    "meas.register_parameter(afg.voltage_offset2)\n",
    "meas.register_parameter(I_source.current)\n",
    "\n",
    "meas.register_parameter(adI, setpoints=[afg.voltage_offset2, I_source.current])\n",
    "meas.write_period = 10\n",
    "\n",
    "# measurement\n",
    "# mw_source.status('OFF')\n",
    "with meas.run() as datasaver:\n",
    "    for Ib in tqdm.tqdm(currents):\n",
    "        I_source.current(Ib)\n",
    "        for Vafg in Vs:\n",
    "\n",
    "            afg.voltage_offset2(Vafg)\n",
    "\n",
    "            adwin_target = np.array([0, 0])\n",
    "            ad.outputs(adwin_target)\n",
    "            ad.launch_measurement()\n",
    "            u = ad.inputs.get()\n",
    "\n",
    "            ad.clear_fifos()\n",
    "            current = np.mean(u)\n",
    "\n",
    "\n",
    "            datasaver.add_result((adI, current/current_coef),\n",
    "                                 (afg.voltage_offset2, Vafg/voltage_div),\n",
    "                                 (I_source.current, Ib))\n",
    "    \n",
    "afg.state_output2('OFF')\n",
    "\n",
    "I_source.current(0.0)"
   ]
  },
  {
   "cell_type": "code",
   "execution_count": null,
   "id": "e205a3c7-d830-4890-ad3d-73960e1f5c15",
   "metadata": {
    "tags": []
   },
   "outputs": [],
   "source": [
    "experiment_name = 'iv_curves_withAFG'\n",
    "measurement_name = 'iv_curves_afg_pm2.5V'\n",
    "exp = load_or_create_experiment(experiment_name=experiment_name, sample_name=sample_name)\n",
    "\n",
    "meas = qc.Measurement(exp=exp, station=STATION, name=measurement_name)\n",
    "\n",
    "\n",
    "current_coef = 1e11\n",
    "voltage_div = 1e3 * 30\n",
    "\n",
    "Vmin = -2.5\n",
    "Vmax = 2.5\n",
    "Vpts = 100\n",
    "\n",
    "ad.rs = 10000\n",
    "ad.clear_fifos()\n",
    "\n",
    "Is = []\n",
    "Vs = np.linspace(Vmin, Vmax, Vpts)\n",
    "Ib = 0*0.74e-3\n",
    "I_source.current(Ib)\n",
    "\n",
    "\n",
    "afg.voltage_amplitude2(50e-3)\n",
    "afg.voltage_offset2(Vs[0])\n",
    "\n",
    "afg.impedance_output2(10e3)\n",
    "\n",
    "afg.state_output2('ON')\n",
    "\n",
    "\n",
    "# logging\n",
    "meas.register_parameter(afg.voltage_offset2)\n",
    "meas.register_parameter(ad.inputs, setpoints=[afg.voltage_offset2])\n",
    "meas.write_period = 10\n",
    "\n",
    "# measurement\n",
    "# mw_source.status('OFF')\n",
    "with meas.run() as datasaver:\n",
    "    for Vafg in tqdm.tqdm(Vs):\n",
    "\n",
    "        afg.voltage_offset2(Vafg)\n",
    "\n",
    "        adwin_target = np.array([0, 0])\n",
    "        ad.outputs(adwin_target)\n",
    "        ad.launch_measurement()\n",
    "        u = ad.inputs.get()\n",
    "\n",
    "        ad.clear_fifos()\n",
    "        current = np.mean(u)\n",
    "        \n",
    "        datasaver.add_result((afg.voltage_offset2, Vafg/voltage_div),\n",
    "                             (ad.inputs, current/current_coef))\n",
    "        \n",
    "afg.state_output2('OFF')\n",
    "\n",
    "res[0].captured_run_id"
   ]
  },
  {
   "cell_type": "code",
   "execution_count": null,
   "id": "ba5227e9-4a4c-41da-93e0-d5a161bf542e",
   "metadata": {
    "tags": []
   },
   "outputs": [],
   "source": [
    "\n",
    "# frequencies = [ 3.20e9, 4.04e9, 5.45e9, 6.11e9, 6.46e9 ]\n",
    "# powers = [ -11.1, -5.1, 2.9, 3.6, 3.8 ]\n",
    "\n",
    "\n",
    "# # mw\n",
    "# k = 4\n",
    "# f =frequencies[k]\n",
    "# p = powers[k]\n",
    "\n",
    "Ib = 0e-3\n",
    "    \n",
    "measurement_name = 'iv_period%.2f_V%.1f_N%i' % (ramp_param.half_period*2, VT+offset, ramp_param.N_ramp)\n",
    "meas = qc.Measurement(exp=exp, station=STATION, name = measurement_name)\n",
    "\n",
    "# flux\n",
    "I_source.current(Ib)\n",
    "\n",
    "# turn off\n",
    "# mw_source.status('OFF')\n",
    "ad.go_to_zero()\n",
    "I_source.current(0.0)\n",
    "\n",
    "# logging\n",
    "meas.register_parameter(easy_iv)\n",
    "meas.write_period = 10\n",
    "\n",
    "# measurement\n",
    "with meas.run() as datasaver:\n",
    "    get_iv = easy_iv() \n",
    "    datasaver.add_result((easy_iv, get_iv))\n",
    "\n",
    "# turn off\n",
    "# mw_source.status('OFF')\n",
    "ad.go_to_zero()\n",
    "I_source.current(0.0)"
   ]
  },
  {
   "cell_type": "markdown",
   "id": "a18e9f55-5666-4f4f-b806-5e0c79aaf4ba",
   "metadata": {
    "tags": []
   },
   "source": [
    "<h2 style=\"color:#1C3C5C\";>Data preview</h2>\n",
    "Using the experiments widget to look at all the measurements in the database, or filter them by experiment."
   ]
  },
  {
   "cell_type": "code",
   "execution_count": 24,
   "id": "b3b3996c-aae4-4f58-ae53-e1f4dbe09e93",
   "metadata": {
    "tags": []
   },
   "outputs": [
    {
     "data": {
      "application/vnd.jupyter.widget-view+json": {
       "model_id": "40420ec7229a4c399e1a24f9b939edf3",
       "version_major": 2,
       "version_minor": 0
      },
      "text/plain": [
       "VBox(children=(HTML(value='<h1>QCoDeS experiments widget</h1>'), Tab(children=(Output(),), _titles={'0': 'Info…"
      ]
     },
     "metadata": {},
     "output_type": "display_data"
    }
   ],
   "source": [
    "#experiments = qc.experiments()                       # define the experiments\n",
    "#data_sets = experiments[1].data_sets()               # select only one experiment\n",
    "#experiments_widget(data_sets=data_sets)              # start the widget on the selected experiment\n",
    "\n",
    "experiments_widget(db=qc.config.core.db_location)  # start the widget on the whole database"
   ]
  },
  {
   "cell_type": "code",
   "execution_count": null,
   "id": "12239273-6a1d-4501-8b1c-00db07422d11",
   "metadata": {},
   "outputs": [],
   "source": []
  }
 ],
 "metadata": {
  "kernelspec": {
   "display_name": "Python 3 (ipykernel)",
   "language": "python",
   "name": "python3"
  },
  "language_info": {
   "codemirror_mode": {
    "name": "ipython",
    "version": 3
   },
   "file_extension": ".py",
   "mimetype": "text/x-python",
   "name": "python",
   "nbconvert_exporter": "python",
   "pygments_lexer": "ipython3",
   "version": "3.8.11"
  }
 },
 "nbformat": 4,
 "nbformat_minor": 5
}
