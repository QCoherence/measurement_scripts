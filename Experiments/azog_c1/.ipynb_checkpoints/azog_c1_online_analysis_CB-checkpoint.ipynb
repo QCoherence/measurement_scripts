{
 "cells": [
  {
   "cell_type": "markdown",
   "id": "2921f569-bd1b-4024-8540-2a89cf90686f",
   "metadata": {},
   "source": [
    "<h1>Analysis of Azog C1 chip: current bias</h1>\n",
    "Online analysis script used to pre-analyse the data collected during the cooldown of the chip."
   ]
  },
  {
   "cell_type": "code",
   "execution_count": 1,
   "id": "588e1634-e097-45b1-972e-634272749718",
   "metadata": {},
   "outputs": [],
   "source": [
    "sample_name = 'azog_c1'                    # name of the chip in the fridge"
   ]
  },
  {
   "cell_type": "markdown",
   "id": "1cac69ea-fcb5-49b0-ba21-0ff3517c4540",
   "metadata": {
    "tags": []
   },
   "source": [
    "<h3>Basic imports</h3>"
   ]
  },
  {
   "cell_type": "code",
   "execution_count": 2,
   "id": "0aecb499-66ac-4085-853d-8c653b70a94e",
   "metadata": {
    "tags": []
   },
   "outputs": [],
   "source": [
    "import sys, os\n",
    "import numpy as np\n",
    "import matplotlib.pyplot as plt\n",
    "from matplotlib import ticker\n",
    "import pandas as pd\n",
    "\n",
    "sys.path.append('/home/ncr/Programs/Anaconda/lib/python3.9/site-packages/resonator_tools-0.1-py3.9.egg')\n",
    "from resonator_tools import circuit\n",
    "\n",
    "import qcodes as qc\n",
    "from qcodes import initialise_database, load_by_run_spec\n",
    "from qcodes.dataset.plotting import plot_by_id\n",
    "\n",
    "import scipy.optimize\n",
    "\n",
    "import ipywidgets as widgets\n",
    "from ipywidgets import interact, interact_manual"
   ]
  },
  {
   "cell_type": "code",
   "execution_count": 3,
   "id": "252336f6-ca98-4d1d-b98d-ec7139b0315e",
   "metadata": {},
   "outputs": [],
   "source": [
    "# plot options\n",
    "plt.rc('text', usetex = True)\n",
    "plt.rc('font', family = 'serif', size=24)"
   ]
  },
  {
   "cell_type": "code",
   "execution_count": 4,
   "id": "b10596ff-989b-464e-b036-09935c9989e3",
   "metadata": {},
   "outputs": [],
   "source": [
    "db_name = '20220207_ncr_current_bias_v1.db'   # name of the database\n",
    "db_path  = os.path.join(db_name)"
   ]
  },
  {
   "cell_type": "markdown",
   "id": "b06e4a02-ae30-4239-988a-bfd2047f12f6",
   "metadata": {},
   "source": [
    "<h2>Data analysis and plotting</h2>"
   ]
  },
  {
   "cell_type": "markdown",
   "id": "c500d729-3c48-4ec7-9279-a8ec260906e0",
   "metadata": {},
   "source": [
    "<h4>IV of the Bloch array as a function of the applied flux</h4>"
   ]
  },
  {
   "cell_type": "code",
   "execution_count": 5,
   "id": "d2d29eba-2802-450b-ba50-5aa5ced2b9e1",
   "metadata": {},
   "outputs": [],
   "source": [
    "# loading 2tones\n",
    "qc.initialise_or_create_database_at(db_path)\n",
    "\n",
    "RUN_ID = 1\n",
    "dataset = qc.load_by_run_spec(captured_run_id=RUN_ID)\n",
    "vi_dict = dataset.to_pandas_dataframe_dict()"
   ]
  },
  {
   "cell_type": "markdown",
   "id": "3f1a2b41-98e6-405e-ac50-e090bc143c7b",
   "metadata": {
    "tags": []
   },
   "source": [
    "<h5>Data shaping</h5>"
   ]
  },
  {
   "cell_type": "code",
   "execution_count": 6,
   "id": "20cc1572-ed1b-448e-8884-8e7010b593c5",
   "metadata": {},
   "outputs": [],
   "source": [
    "# up ramp\n",
    "vi_up_0 = vi_dict['adwin_up_ramp']\n",
    "vi_up_1 = vi_up_0.reset_index()\n",
    "\n",
    "Ib_up = vi_up_1['current_source_current'].to_numpy()\n",
    "v_up = vi_up_1['adwin_input_2_voltage_up'].to_numpy()\n",
    "i_up = vi_up_1['adwin_up_ramp'].to_numpy()\n",
    "\n",
    "# down ramp\n",
    "vi_down_0 = vi_dict['adwin_down_ramp']\n",
    "vi_down_1 = vi_down_0.reset_index()\n",
    "\n",
    "Ib_down = vi_down_1['current_source_current'].to_numpy()\n",
    "v_down = vi_down_1['adwin_input_2_voltage_down'].to_numpy()\n",
    "i_down = vi_down_1['adwin_down_ramp'].to_numpy()"
   ]
  },
  {
   "cell_type": "code",
   "execution_count": 7,
   "id": "95bb50f4-2cf8-412c-8cce-85a69aa05107",
   "metadata": {},
   "outputs": [],
   "source": [
    "# reshape to form a 2D array\n",
    "N = 5040 # hardcoded for now\n",
    "size = (-1, N)\n",
    "\n",
    "Ib_up = np.reshape(Ib_up, size)\n",
    "i_up = np.reshape(i_up, size)\n",
    "v_up = np.reshape(v_up, size)\n",
    "Ib_down = np.reshape(Ib_down, size)\n",
    "i_down = np.reshape(i_down, size)\n",
    "v_down = np.reshape(v_down, size)\n",
    "\n",
    "# divide into low-to-high and high-to-low\n",
    "M = len(i_up)\n",
    "zero_index_up = 2595\n",
    "zero_index_down = 2525\n",
    "\n",
    "v_lh = np.zeros((M, 2*N - zero_index_down - zero_index_up))\n",
    "v_hl = np.zeros((M, zero_index_down + zero_index_up))\n",
    "i_lh = np.zeros((M, 2*N - zero_index_down - zero_index_up))\n",
    "i_hl = np.zeros((M, zero_index_down + zero_index_up))\n",
    "\n",
    "for i in range(M):\n",
    "    v_lh[i] = np.concatenate(( np.flip(v_down[i][zero_index_down:]), v_up[i][zero_index_up:] ))\n",
    "    v_hl[i] = np.concatenate(( v_up[i][:zero_index_up], np.flip(v_down[i][:zero_index_down]) ))\n",
    "    i_lh[i] = np.concatenate(( np.flip(i_down[i][zero_index_down:]), i_up[i][zero_index_up:] ))\n",
    "    i_hl[i] = np.concatenate(( i_up[i][:zero_index_up], np.flip(i_down[i][:zero_index_down]) ))"
   ]
  },
  {
   "cell_type": "markdown",
   "id": "93f6fb3c-803e-4e1e-bdda-284b7cb78643",
   "metadata": {
    "tags": []
   },
   "source": [
    "<h5>Plotting</h5>"
   ]
  },
  {
   "cell_type": "code",
   "execution_count": 8,
   "id": "a32d9747-5f77-4076-a10b-74e7c0f2ab41",
   "metadata": {},
   "outputs": [
    {
     "ename": "NameError",
     "evalue": "name 'iflux_lh' is not defined",
     "output_type": "error",
     "traceback": [
      "\u001b[0;31m---------------------------------------------------------------------------\u001b[0m",
      "\u001b[0;31mNameError\u001b[0m                                 Traceback (most recent call last)",
      "Input \u001b[0;32mIn [8]\u001b[0m, in \u001b[0;36m<module>\u001b[0;34m\u001b[0m\n\u001b[1;32m      2\u001b[0m voltage_scale \u001b[38;5;241m=\u001b[39m \u001b[38;5;241m1e3\u001b[39m\n\u001b[1;32m      3\u001b[0m current_scale \u001b[38;5;241m=\u001b[39m \u001b[38;5;241m1e9\u001b[39m\n\u001b[1;32m      5\u001b[0m fplot \u001b[38;5;241m=\u001b[39m ax[\u001b[38;5;241m0\u001b[39m]\u001b[38;5;241m.\u001b[39mimshow(v_lh[::\u001b[38;5;241m-\u001b[39m\u001b[38;5;241m1\u001b[39m]\u001b[38;5;241m*\u001b[39mcurrent_scale, aspect\u001b[38;5;241m=\u001b[39m\u001b[38;5;124m'\u001b[39m\u001b[38;5;124mauto\u001b[39m\u001b[38;5;124m'\u001b[39m, cmap\u001b[38;5;241m=\u001b[39m\u001b[38;5;124m'\u001b[39m\u001b[38;5;124mRdBu\u001b[39m\u001b[38;5;124m'\u001b[39m,\n\u001b[0;32m----> 6\u001b[0m              extent \u001b[38;5;241m=\u001b[39m [ current_scale\u001b[38;5;241m*\u001b[39mnp\u001b[38;5;241m.\u001b[39mmin(\u001b[43miflux_lh\u001b[49m[\u001b[38;5;241m0\u001b[39m]), current_scale\u001b[38;5;241m*\u001b[39mnp\u001b[38;5;241m.\u001b[39mmax(iflux_lh[\u001b[38;5;241m0\u001b[39m]), \u001b[38;5;241m-\u001b[39m\u001b[38;5;241m2\u001b[39m, \u001b[38;5;241m2\u001b[39m ] )\n\u001b[1;32m      7\u001b[0m ax[\u001b[38;5;241m0\u001b[39m]\u001b[38;5;241m.\u001b[39mset_xlabel(\u001b[38;5;124m'\u001b[39m\u001b[38;5;124m$V_0$ (mV)\u001b[39m\u001b[38;5;124m'\u001b[39m)\n\u001b[1;32m      8\u001b[0m ax[\u001b[38;5;241m0\u001b[39m]\u001b[38;5;241m.\u001b[39mset_ylabel(\u001b[38;5;124m'\u001b[39m\u001b[38;5;124mFlux ($\u001b[39m\u001b[38;5;124m\\\u001b[39m\u001b[38;5;124mpi$)\u001b[39m\u001b[38;5;124m'\u001b[39m)\n",
      "\u001b[0;31mNameError\u001b[0m: name 'iflux_lh' is not defined"
     ]
    },
    {
     "data": {
      "image/png": "[encoded data removed]",
      "text/plain": [
       "<Figure size 1152x432 with 2 Axes>"
      ]
     },
     "metadata": {
      "needs_background": "light"
     },
     "output_type": "display_data"
    }
   ],
   "source": [
    "fig, ax = plt.subplots(1,2,figsize=(16,6), constrained_layout=True)\n",
    "voltage_scale = 1e3\n",
    "current_scale = 1e9\n",
    "\n",
    "fplot = ax[0].imshow(v_lh[::-1]*current_scale, aspect='auto', cmap='RdBu',\n",
    "             extent = [ current_scale*np.min(iflux_lh[0]), current_scale*np.max(iflux_lh[0]), -2, 2 ] )\n",
    "ax[0].set_xlabel('$V_0$ (mV)')\n",
    "ax[0].set_ylabel('Flux ($\\pi$)')\n",
    "\n",
    "ax[1].imshow(v_hl[::-1]*current_scale, aspect='auto', cmap='RdBu',\n",
    "             extent = [ voltage_scale*np.min(vflux_lh[0]), voltage_scale*np.max(vflux_lh[0]), -2, 2 ] )\n",
    "ax[1].set_xlabel('$V_0$ (mV)')\n",
    "ax[1].set_ylabel('Flux ($\\pi$)')\n",
    "\n",
    "cbar_flux = fig.colorbar(fplot, ax=ax[0:], label='$I_0$ (nA)', cmap='RdBu', shrink=0.8)"
   ]
  },
  {
   "cell_type": "code",
   "execution_count": null,
   "id": "8b666561-eee6-4a7e-88f3-f00d569ff322",
   "metadata": {},
   "outputs": [],
   "source": [
    "plt.figure(figsize=(12,5))\n",
    "\n",
    "ind = 50\n",
    "ind2 = 25\n",
    "plt.plot(i_lh[ind]/1e6, v_lh[ind])\n",
    "plt.plot(i_lh[ind2]/1e6, v_lh[ind2])\n",
    "\n",
    "#plt.plot(i_hl[ind]/1e6, v_hl[ind])\n",
    "#plt.xlim([-0.2e-8, 0.2e-8])\n",
    "Ib_up[ind]"
   ]
  },
  {
   "cell_type": "code",
   "execution_count": null,
   "id": "0449cb90-f6e2-4dcb-920f-861784d4cdf5",
   "metadata": {},
   "outputs": [],
   "source": [
    "ind=50\n",
    "plt.plot(i_up[ind]*1e3, 1e6*v_up[ind])\n",
    "plt.plot(i_up[25]*1e3, 1e6*v_up[25])\n",
    "plt.grid()\n",
    "plt.xlim([0.2,1.5])\n",
    "0.00056*1e-6"
   ]
  },
  {
   "cell_type": "code",
   "execution_count": null,
   "id": "592e5167-9fce-41d5-a705-71863ea964e6",
   "metadata": {},
   "outputs": [],
   "source": []
  },
  {
   "cell_type": "code",
   "execution_count": null,
   "id": "f8495a5a-4e6b-43a1-b09c-c8c43e9e9704",
   "metadata": {},
   "outputs": [],
   "source": []
  },
  {
   "cell_type": "markdown",
   "id": "96dcf1f5-f953-4e11-b15e-2f088415491f",
   "metadata": {},
   "source": [
    "<h5>Distribution of the current peaks not at $2\\Delta$</h5>"
   ]
  },
  {
   "cell_type": "code",
   "execution_count": null,
   "id": "f01da603-39df-4375-881b-cac233de6a3c",
   "metadata": {},
   "outputs": [],
   "source": [
    "n = np.linspace(1, 6, 6)\n",
    "peaks = [37, 100, 186, 424, 800, 1100]\n",
    "\n",
    "fit_par = np.polyfit(n, peaks, 2)\n",
    "fit = np.poly1d(fit_par)\n",
    "\n",
    "plt.plot( n, peaks, 'o' )\n",
    "plt.plot( np.linspace(1,6,1001), fit(np.linspace(1,6,1001)) )"
   ]
  },
  {
   "cell_type": "code",
   "execution_count": null,
   "id": "c40d09f6-34db-45ef-82f6-301471f1796e",
   "metadata": {},
   "outputs": [],
   "source": []
  }
 ],
 "metadata": {
  "kernelspec": {
   "display_name": "Python 3 (ipykernel)",
   "language": "python",
   "name": "python3"
  },
  "language_info": {
   "codemirror_mode": {
    "name": "ipython",
    "version": 3
   },
   "file_extension": ".py",
   "mimetype": "text/x-python",
   "name": "python",
   "nbconvert_exporter": "python",
   "pygments_lexer": "ipython3",
   "version": "3.9.10"
  }
 },
 "nbformat": 4,
 "nbformat_minor": 5
}
