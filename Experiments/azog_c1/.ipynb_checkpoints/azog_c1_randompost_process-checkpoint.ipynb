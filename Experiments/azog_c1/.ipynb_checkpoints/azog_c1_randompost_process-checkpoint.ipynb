{
 "cells": [
  {
   "cell_type": "code",
   "execution_count": null,
   "id": "6dcc8b08-3531-4c14-8de2-b6608752c3b0",
   "metadata": {},
   "outputs": [],
   "source": []
  },
  {
   "cell_type": "code",
   "execution_count": 1,
   "id": "8c09a90b-5041-4d39-aebf-f6828c7f74c6",
   "metadata": {},
   "outputs": [],
   "source": [
    "sample_name = 'azog_c1'                    # name of the chip in the fridge"
   ]
  },
  {
   "cell_type": "markdown",
   "id": "58355bc5-3b31-4cdf-95c6-2f49d2b0a395",
   "metadata": {
    "tags": []
   },
   "source": [
    "<h3>Basic imports and database loading</h3>"
   ]
  },
  {
   "cell_type": "code",
   "execution_count": 2,
   "id": "c8313b8e-01cc-4f6f-b3d7-1c0d8923bafa",
   "metadata": {},
   "outputs": [],
   "source": [
    "import os\n",
    "import numpy as np\n",
    "import matplotlib.pyplot as plt\n",
    "from matplotlib import ticker\n",
    "import pandas as pd\n",
    "from resonator_tools import circuit\n",
    "\n",
    "import qcodes as qc\n",
    "from qcodes import initialise_database, load_by_run_spec\n",
    "from qcodes.dataset.plotting import plot_by_id\n",
    "\n",
    "import scipy.stats\n",
    "\n",
    "import ipywidgets as widgets\n",
    "from ipywidgets import interact, interact_manual"
   ]
  },
  {
   "cell_type": "code",
   "execution_count": 3,
   "id": "5c0d767a-f438-42df-a943-49a15b412e24",
   "metadata": {},
   "outputs": [],
   "source": [
    "db_name = '20220203_ncr_frequency_dependance_v1.db'  \n",
    "db_path  = os.path.join(r'D:\\QMET' + '\\\\' + sample_name + '\\\\',db_name)\n",
    "\n",
    "qc.initialise_or_create_database_at(db_path)"
   ]
  },
  {
   "cell_type": "markdown",
   "id": "2eff831d-a2df-4032-bf37-a21270eb7fef",
   "metadata": {},
   "source": [
    "<h2>Data analysis and plotting</h2>"
   ]
  },
  {
   "cell_type": "markdown",
   "id": "45babee9-570e-436a-961f-46f303e96e9b",
   "metadata": {
    "tags": []
   },
   "source": [
    "<h4>First four steps as a function of the tone power</h4>"
   ]
  },
  {
   "cell_type": "code",
   "execution_count": 7,
   "id": "14c23bc0-ed4e-4b7e-bf18-e4d5d8495914",
   "metadata": {},
   "outputs": [],
   "source": [
    "# loading\n",
    "RUN_ID = 22\n",
    "dataset = qc.load_by_run_spec(captured_run_id=RUN_ID)\n",
    "vnadc_vna_dict = dataset.to_pandas_dataframe_dict()"
   ]
  },
  {
   "cell_type": "code",
   "execution_count": 8,
   "id": "5553a7fe-a34b-41ff-83ac-1b5b776ef412",
   "metadata": {},
   "outputs": [],
   "source": [
    "# # IV curve\n",
    "# vnadc_dc_up_0 = vnadc_dc_dict['adwin_up_ramp']\n",
    "# vnadc_dc_up_1 = vnadc_dc_up_0.reset_index()\n",
    "# v_up = vnadc_dc_up_1['adwin_input_2_voltage_up'].to_numpy()\n",
    "# i_up = vnadc_dc_up_1['adwin_up_ramp'].to_numpy()\n",
    "\n",
    "# # down ramp\n",
    "# vnadc_dc_down_0 = vnadc_dc_dict['adwin_down_ramp']\n",
    "# vnadc_dc_down_1 = vnadc_dc_down_0.reset_index()\n",
    "# v_down = vnadc_dc_down_1['adwin_input_2_voltage_down'].to_numpy()\n",
    "# i_down = vnadc_dc_down_1['adwin_down_ramp'].to_numpy()\n",
    "\n",
    "# # divide into low-to-high and high-to-low\n",
    "# N = len(v_up)\n",
    "# zero_index_up = np.argmin(np.abs(i_up))\n",
    "# zero_index_down = np.argmin(np.abs(i_down))\n",
    "\n",
    "# v_dc_lh = np.concatenate(( np.flip(v_down[zero_index_down:]), v_up[zero_index_up:] ))\n",
    "# i_dc_lh = np.concatenate(( np.flip(i_down[zero_index_down:]), i_up[zero_index_up:] ))\n",
    "# v_dc_hl = np.concatenate(( v_up[:zero_index_up], np.flip(v_down[:zero_index_down]) ))\n",
    "# i_dc_hl = np.concatenate(( i_up[:zero_index_up], np.flip(i_down[:zero_index_down]) ))\n",
    "\n",
    "# VNA spectra\n",
    "vnadc_vna_0 = vnadc_vna_dict['ZNB20_S21_magnitude']\n",
    "vnadc_vna_1 = vnadc_vna_0.reset_index()\n",
    "\n",
    "frq = vnadc_vna_1['ZNB20_S21_S21_frequency'].to_numpy()\n",
    "v_bias = vnadc_vna_1['adwin_output1'].to_numpy()\n",
    "mag = vnadc_vna_1['ZNB20_S21_magnitude'].to_numpy()\n",
    "\n",
    "m_size = (-1, np.unique(frq).size)\n",
    "frq = np.reshape(frq, m_size)\n",
    "v_bias = np.reshape(v_bias, m_size)\n",
    "mag = np.reshape(mag, m_size)"
   ]
  },
  {
   "cell_type": "code",
   "execution_count": null,
   "id": "a8f23333-9d42-483c-a2df-90b89956f369",
   "metadata": {},
   "outputs": [],
   "source": []
  }
 ],
 "metadata": {
  "kernelspec": {
   "display_name": "Python 3 (ipykernel)",
   "language": "python",
   "name": "python3"
  },
  "language_info": {
   "codemirror_mode": {
    "name": "ipython",
    "version": 3
   },
   "file_extension": ".py",
   "mimetype": "text/x-python",
   "name": "python",
   "nbconvert_exporter": "python",
   "pygments_lexer": "ipython3",
   "version": "3.8.11"
  }
 },
 "nbformat": 4,
 "nbformat_minor": 5
}
