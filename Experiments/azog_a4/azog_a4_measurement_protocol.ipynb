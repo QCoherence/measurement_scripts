{
 "cells": [
  {
   "cell_type": "markdown",
   "id": "4939aeb4-f71d-48af-a7b5-adfe0f530ffa",
   "metadata": {
    "tags": []
   },
   "source": [
    "<h1 style=\"color:#2F659C\";>Azog A4 measurement script</h1>\n",
    "The cooled down chip is azog_a4, a resonators made of 1000 Dolan bridge junctions."
   ]
  },
  {
   "cell_type": "code",
   "execution_count": 38,
   "id": "a81ea71e-e98a-4cb2-8521-3f501bbc8009",
   "metadata": {},
   "outputs": [],
   "source": [
    "sample_name = 'azog_a4'              # name of the chip in the fridge\n",
    "\n",
    "user = 'ncr'                         # who is performing measurements\n",
    "date = '20211025'                    # when did the measurements started\n",
    "description = 'resonator_dc'         # super short description of what you are doing"
   ]
  },
  {
   "cell_type": "markdown",
   "id": "6934e032-76a1-4bed-adff-f86d2755182c",
   "metadata": {
    "tags": []
   },
   "source": [
    "<h3 style=\"color:#418FDB\";>QCodes imports</h3>\n",
    "Import the QCodes functions used in the measurement of this sample."
   ]
  },
  {
   "cell_type": "code",
   "execution_count": 39,
   "id": "02fb3f10-4374-434d-979c-e39fcfabbad5",
   "metadata": {},
   "outputs": [],
   "source": [
    "import os\n",
    "import sys\n",
    "from time import sleep, perf_counter\n",
    "\n",
    "import matplotlib.pyplot as plt\n",
    "import numpy as np\n",
    "import qcodes as qc\n",
    "from qcodes import (\n",
    "    Measurement,\n",
    "    experiments,\n",
    "    initialise_database,\n",
    "    initialise_or_create_database_at,\n",
    "    load_by_guid,\n",
    "    load_by_run_spec,\n",
    "    load_experiment,\n",
    "    load_last_experiment,\n",
    "    load_or_create_experiment,\n",
    "    new_experiment,\n",
    ")\n",
    "\n",
    "#from qcodes.utils.dataset.doNd import do0d, do1d, do2d, dond, plot, LinSweep, LogSweep\n",
    "\n",
    "from qcodes.dataset.plotting import plot_dataset\n",
    "from qcodes.logger.logger import start_all_logging, start_command_history_logger\n",
    "from qcodes.tests.instrument_mocks import DummyInstrument, DummyInstrumentWithMeasurement\n",
    "from qcodes.interactive_widget import experiments_widget"
   ]
  },
  {
   "cell_type": "code",
   "execution_count": 40,
   "id": "4d8e7c02-b087-43f3-87db-ac9f6ff903df",
   "metadata": {},
   "outputs": [],
   "source": [
    "sys.path.append(r'C:\\Users\\nicolas.roch\\Measurements\\Scripts')\n",
    "\n",
    "from QMETfunc.QMET_measurement import do0d, do1d, do2d, dond, LinSweep, LogSweep"
   ]
  },
  {
   "cell_type": "markdown",
   "id": "13937d64-19e3-4758-8335-923bcf7e3503",
   "metadata": {
    "tags": []
   },
   "source": [
    "<h2 style=\"color:#1C3C5C\";>Station and database setup</h2>\n",
    "Add the instruments to the station and start all the loggings related to the measurement. Then create or initialise the database where all the data will be saved."
   ]
  },
  {
   "cell_type": "code",
   "execution_count": 41,
   "id": "8f806aa0-4b82-40ca-922b-015f11a8bef3",
   "metadata": {},
   "outputs": [],
   "source": [
    "data_dir = os.path.join(r'D:\\QMET' + '\\\\' + sample_name)"
   ]
  },
  {
   "cell_type": "markdown",
   "id": "3fd1ca37-75f8-41b0-b0f4-e0bc60c4b75a",
   "metadata": {
    "tags": []
   },
   "source": [
    "<h3 style=\"color:#418FDB\";>Station initialization</h3>"
   ]
  },
  {
   "cell_type": "code",
   "execution_count": 42,
   "id": "9bb01d3d-7e10-44d7-8791-e016abe35de1",
   "metadata": {},
   "outputs": [
    {
     "name": "stdout",
     "output_type": "stream",
     "text": [
      "Activating auto-logging. Current session state plus future input saved.\n",
      "Filename       : C:\\Users\\nicolas.roch\\.qcodes\\logs\\command_history.log\n",
      "Mode           : append\n",
      "Output logging : True\n",
      "Raw input log  : False\n",
      "Timestamping   : True\n",
      "State          : active\n",
      "Qcodes Logfile : C:\\Users\\nicolas.roch\\.qcodes\\logs\\211025-22512-qcodes.log\n",
      "Activating auto-logging. Current session state plus future input saved.\n",
      "Filename       : D:\\QMET\\azog_a4\\command_history.log\n",
      "Mode           : append\n",
      "Output logging : True\n",
      "Raw input log  : False\n",
      "Timestamping   : True\n",
      "State          : active\n"
     ]
    }
   ],
   "source": [
    "STATION = qc.Station()\n",
    "\n",
    "start_all_logging()\n",
    "start_command_history_logger(data_dir)"
   ]
  },
  {
   "cell_type": "markdown",
   "id": "015d42dc-3ef6-40d1-8bf0-0567b417072f",
   "metadata": {
    "tags": []
   },
   "source": [
    "<h3 style=\"color:#418FDB\";>Database initialization</h3>"
   ]
  },
  {
   "cell_type": "code",
   "execution_count": 43,
   "id": "8909d4f9-6098-42a6-bc3c-736c11884cc7",
   "metadata": {},
   "outputs": [
    {
     "name": "stdout",
     "output_type": "stream",
     "text": [
      "Upgrading database; v0 -> v1: : 0it [00:00, ?it/s]\n",
      "Upgrading database; v1 -> v2: 100%|█████████████████████████████████████████████████████| 1/1 [00:00<00:00, 509.02it/s]\n",
      "Upgrading database; v2 -> v3: : 0it [00:00, ?it/s]\n",
      "Upgrading database; v3 -> v4: : 0it [00:00, ?it/s]\n",
      "Upgrading database; v4 -> v5: 100%|█████████████████████████████████████████████████████| 1/1 [00:00<00:00, 334.26it/s]\n",
      "Upgrading database; v5 -> v6: : 0it [00:00, ?it/s]\n",
      "Upgrading database; v6 -> v7: 100%|██████████████████████████████████████████████████████| 1/1 [00:00<00:00, 13.85it/s]\n",
      "Upgrading database; v7 -> v8: 100%|█████████████████████████████████████████████████████| 1/1 [00:00<00:00, 505.34it/s]\n",
      "Upgrading database; v8 -> v9: 100%|█████████████████████████████████████████████████████| 1/1 [00:00<00:00, 602.20it/s]\n"
     ]
    },
    {
     "data": {
      "text/plain": [
       "'D:\\\\QMET\\\\azog_a4\\\\20211025_ncr_resonator_dc.db'"
      ]
     },
     "execution_count": 43,
     "metadata": {},
     "output_type": "execute_result"
    }
   ],
   "source": [
    "database_name = date + '_' + user + '_' + description\n",
    "try :\n",
    "    os.mkdir(data_dir)\n",
    "except FileExistsError:\n",
    "    pass\n",
    "\n",
    "qc.initialise_or_create_database_at(data_dir + '\\\\' + database_name + '.db')\n",
    "qc.config.core.db_location"
   ]
  },
  {
   "cell_type": "markdown",
   "id": "cf879c4e-9232-4dd5-a128-4f32d83faa74",
   "metadata": {
    "tags": []
   },
   "source": [
    "<h3 style=\"color:#418FDB\";>Instruments initialisation</h3>\n",
    "Add to path the folder containing the drivers. Then import and connect to the used instruments, while delete the unused ones."
   ]
  },
  {
   "cell_type": "code",
   "execution_count": 44,
   "id": "0504fe5e-c06f-45e5-a8a8-3762ca88a243",
   "metadata": {},
   "outputs": [],
   "source": [
    "sys.path.append(r'C:\\Users\\nicolas.roch\\Measurements\\Drivers')"
   ]
  },
  {
   "cell_type": "markdown",
   "id": "da800d16-ab64-4330-944e-9844a29bd89d",
   "metadata": {
    "tags": []
   },
   "source": [
    "<h4  style=\"color:#4697E8\";>Connect to the Rohde&Schwartz VNA</h4>"
   ]
  },
  {
   "cell_type": "code",
   "execution_count": 45,
   "id": "a890cf48-3488-4744-a232-c61488645ef0",
   "metadata": {},
   "outputs": [
    {
     "name": "stdout",
     "output_type": "stream",
     "text": [
      "Connected to: Rohde-Schwarz ZNB20-2Port (serial:1311601062101579, firmware:2.94) in 0.06s\n"
     ]
    }
   ],
   "source": [
    "from VNA_RS import ZNB\n",
    "#from VNA_ZNB20 import ZNB\n",
    "#from VNA_ZNB20 import ZNBChannel\n",
    "\n",
    "try:\n",
    "    vna = ZNB('ZNB20', 'TCPIP0::192.168.0.9::inst0::INSTR',\n",
    "               init_s_params=False,terminator='\\n')\n",
    "except KeyError as er:\n",
    "    ZNB.close_all() # Disconnect and irreversibly tear down the instrument\n",
    "    vna = ZNB('ZNB20', 'TCPIP0::192.168.0.9::inst0::INSTR',\n",
    "               init_s_params=False,terminator='\\n')\n",
    "    \n",
    "vna.clear_channels()\n",
    "\n",
    "vna.add_channel('S21', vna_parameter='S21');\n",
    "s21 = vna.channels.S21\n",
    "\n",
    "#vna.add_channel('S11', vna_parameter='S11');\n",
    "#s11 = vna.channels.S11"
   ]
  },
  {
   "cell_type": "markdown",
   "id": "3b8d112c-4c15-4d0a-b2d5-2e6aa2423ac9",
   "metadata": {
    "tags": []
   },
   "source": [
    "<h4 style=\"color:#4697E8\";>Connect to the ADwin</h4>"
   ]
  },
  {
   "cell_type": "code",
   "execution_count": 30,
   "id": "83511b60-266d-466d-9504-7b8fc70a67b9",
   "metadata": {},
   "outputs": [
    {
     "name": "stdout",
     "output_type": "stream",
     "text": [
      "Connected to: None adwin (serial:None, firmware:None) in 0.25s\n"
     ]
    }
   ],
   "source": [
    "from ADwin_Gold2 import ADwin_Gold2, adwin_Nramp\n",
    "\n",
    "ad = ADwin_Gold2(\"adwin\",\n",
    "                 r\"C:\\Users\\nicolas.roch\\Measurements\\Drivers\\adwin\\nanoqt\\ressources\\ADwin11.btl\",\n",
    "                 r\"C:\\Users\\nicolas.roch\\Measurements\\Drivers\\adwin\\nanoqt\\ressources\\acquisition-gold2.TB1\")"
   ]
  },
  {
   "cell_type": "markdown",
   "id": "ff387b6b-7b8e-4d87-be23-e4402b6e9c46",
   "metadata": {
    "tags": []
   },
   "source": [
    "<h4 style=\"color:#4697E8\";>Connect to the Agilent signal generator</h4>"
   ]
  },
  {
   "cell_type": "code",
   "execution_count": 46,
   "id": "ae9da875-4c06-4c5e-89d0-c64a6c824b78",
   "metadata": {},
   "outputs": [
    {
     "name": "stdout",
     "output_type": "stream",
     "text": [
      "Connected to: Agilent Technologies E8257D (serial:US45470698, firmware:C.06.28) in 0.03s\n"
     ]
    }
   ],
   "source": [
    "from Agilent_E8257D import E8257D\n",
    "\n",
    "try:\n",
    "    mw_source = E8257D('mw_source','TCPIP0::192.168.0.70::inst0::INSTR')\n",
    "except KeyError as er:\n",
    "    E8257D.close_all()\n",
    "    mw_source = E8257D('mw_source','TCPIP0::192.168.0.70::inst0::INSTR')"
   ]
  },
  {
   "cell_type": "markdown",
   "id": "2f23125f-73ed-4014-afeb-f7019d962c52",
   "metadata": {
    "tags": []
   },
   "source": [
    "<h4 style=\"color:#4697E8\";>Connect to the Rohde&Schwartz signal generator</h4>"
   ]
  },
  {
   "cell_type": "code",
   "execution_count": 47,
   "id": "acbb4361-7e6a-45f1-9f28-d6f058814bd7",
   "metadata": {},
   "outputs": [],
   "source": [
    "from RS_SMB_100A import SMB100A\n",
    "\n",
    "#try:\n",
    "#    mw_source_rs = SGS100A('pump_source','USB0::0x0AAD::0x0088::112061::INSTR')\n",
    "#except KeyError as er:\n",
    "#    SGS100A.close_all()\n",
    "#    mw_source_rs = SGS100A('pump_source','USB0::0x0AAD::0x0088::112061::INSTR')"
   ]
  },
  {
   "cell_type": "markdown",
   "id": "5ed34147-4e80-47cf-ae87-32b140066da8",
   "metadata": {
    "tags": []
   },
   "source": [
    "<h4 style=\"color:#4697E8\";>Dummies</h4>"
   ]
  },
  {
   "cell_type": "code",
   "execution_count": 48,
   "id": "4de1e7fb-cb0e-4c4c-b3e2-2ef2f9177d87",
   "metadata": {},
   "outputs": [],
   "source": [
    "dac = DummyInstrument('dac', gates=['ch1', 'ch2'])\n",
    "dmm = DummyInstrumentWithMeasurement('dmm', setter_instr=dac)"
   ]
  },
  {
   "cell_type": "markdown",
   "id": "0f95fc5b-8b18-4e79-9198-2d25b95ac6bb",
   "metadata": {
    "tags": []
   },
   "source": [
    "<h3 style=\"color:#418FDB\";>Adding the instruments to the station</h3>"
   ]
  },
  {
   "cell_type": "code",
   "execution_count": 49,
   "id": "cefb9a5f-45be-45bb-a59d-832ed5c3032f",
   "metadata": {},
   "outputs": [
    {
     "name": "stderr",
     "output_type": "stream",
     "text": [
      "2021-10-25 18:01:05,529 ¦ qcodes.instrument.base ¦ WARNING ¦ base ¦ snapshot_base ¦ 259 ¦ [ZNB20_S21(VNAChannel)] Snapshot: Could not update parameter: trigger_link\n",
      "2021-10-25 18:01:10,660 ¦ qcodes.instrument.base ¦ WARNING ¦ base ¦ snapshot_base ¦ 259 ¦ [mw_source(E8257D)] Snapshot: Could not update parameter: sweepmode\n"
     ]
    },
    {
     "data": {
      "text/plain": [
       "{'ZNB20_S21': <VNAChannel: ZNB20_S21 of ZNB: ZNB20>,\n",
       " 'mw_source': <E8257D: mw_source>}"
      ]
     },
     "execution_count": 49,
     "metadata": {},
     "output_type": "execute_result"
    }
   ],
   "source": [
    "STATION.add_component(s21)         # VNA channel s21\n",
    "STATION.add_component(mw_source)   # Signal generator\n",
    "STATION.add_component(ad)          # ADwin\n",
    "#STATION.add_component(daq)        # Dummy signal\n",
    "#STATION.add_component(dmm)        # Dummy multimeter\n",
    "\n",
    "STATION.snapshot();\n",
    "STATION.components"
   ]
  },
  {
   "cell_type": "markdown",
   "id": "c6b5899d-bb2c-486e-987b-d61da8079c9d",
   "metadata": {
    "tags": []
   },
   "source": [
    "<h2 style=\"color:#1C3C5C\";>Measurements</h2>\n",
    "Here the idea is to create a new cell and a new experiment every time something more that just ranges and parameters are changed. Every new measurement will be stored in the database with a different experiment name, so it's easyer to retrive. Note that the used instruments must be initialised before, in the Instrument Initialisation section."
   ]
  },
  {
   "cell_type": "markdown",
   "id": "ddda1ce0-4a23-473f-8a56-c3be372932c8",
   "metadata": {
    "tags": []
   },
   "source": [
    "<h3 style=\"color:#418FDB\";>Microwave measurements with the VNA</h3>"
   ]
  },
  {
   "cell_type": "markdown",
   "id": "139432d0-d41c-42ec-b7ff-c42c62b0464e",
   "metadata": {
    "tags": []
   },
   "source": [
    "<h4  style=\"color:#4697E8\";>Phase and magnitude of the current trace</h4>"
   ]
  },
  {
   "cell_type": "code",
   "execution_count": 51,
   "id": "25e15721-f7af-4b57-8fa9-3f14af59426c",
   "metadata": {},
   "outputs": [
    {
     "name": "stdout",
     "output_type": "stream",
     "text": [
      "Starting experimental run with id: 2. Using 'qcodes.utils.dataset.doNd.do0d'\n"
     ]
    },
    {
     "data": {
      "text/plain": [
       "2"
      ]
     },
     "execution_count": 51,
     "metadata": {},
     "output_type": "execute_result"
    },
    {
     "data": {
      "image/png": "[encoded data removed]",
      "text/plain": [
       "<Figure size 432x288 with 1 Axes>"
      ]
     },
     "metadata": {
      "needs_background": "light"
     },
     "output_type": "display_data"
    },
    {
     "data": {
      "image/png": "[encoded data removed]",
      "text/plain": [
       "<Figure size 432x288 with 1 Axes>"
      ]
     },
     "metadata": {
      "needs_background": "light"
     },
     "output_type": "display_data"
    }
   ],
   "source": [
    "experiment_name = 'res_7.033GHz'\n",
    "measurement_name = 'vna_s21_trace'\n",
    "exp = load_or_create_experiment(experiment_name=experiment_name, sample_name=sample_name)\n",
    "\n",
    "s21.center(7.038e9)\n",
    "s21.npts(1001)\n",
    "s21.span(10e6)\n",
    "s21.bandwidth(1e3)\n",
    "s21.averaging_enabled(True)\n",
    "s21.avg(10)\n",
    "s21.power(-30)\n",
    "\n",
    "s21.set_electrical_delay_auto()\n",
    "s21.average_clear()\n",
    "\n",
    "vna.rf_on()\n",
    "res = do0d(s21.trace_mag_phase, measurement_name=measurement_name);\n",
    "vna.rf_off()\n",
    "\n",
    "res[0].captured_run_id"
   ]
  },
  {
   "cell_type": "markdown",
   "id": "7905ee55-1450-468d-b2d6-fb06687fe2a7",
   "metadata": {
    "tags": []
   },
   "source": [
    "<h4  style=\"color:#4697E8\";>Phase and magnitude of traces corresponding to different power levels</h4>"
   ]
  },
  {
   "cell_type": "code",
   "execution_count": 53,
   "id": "3aa6d65d-7f9a-4e8c-9330-476a1aedba87",
   "metadata": {},
   "outputs": [
    {
     "name": "stdout",
     "output_type": "stream",
     "text": [
      "Starting experimental run with id: 4. Using 'qcodes.utils.dataset.doNd.do1d'\n"
     ]
    },
    {
     "data": {
      "application/vnd.jupyter.widget-view+json": {
       "model_id": "f2e14d20bcfb4a3b8dba7d62c94ddc46",
       "version_major": 2,
       "version_minor": 0
      },
      "text/plain": [
       "  0%|          | 0/10 [00:00<?, ?it/s]"
      ]
     },
     "metadata": {},
     "output_type": "display_data"
    },
    {
     "data": {
      "text/plain": [
       "4"
      ]
     },
     "execution_count": 53,
     "metadata": {},
     "output_type": "execute_result"
    },
    {
     "data": {
      "image/png": "[encoded data removed]",
      "text/plain": [
       "<Figure size 432x288 with 2 Axes>"
      ]
     },
     "metadata": {
      "needs_background": "light"
     },
     "output_type": "display_data"
    },
    {
     "data": {
      "image/png": "[encoded data removed]",
      "text/plain": [
       "<Figure size 432x288 with 2 Axes>"
      ]
     },
     "metadata": {
      "needs_background": "light"
     },
     "output_type": "display_data"
    }
   ],
   "source": [
    "experiment_name = 'res_7.038GHz_p'\n",
    "measurement_name = 'supercool_2d_vna'\n",
    "exp = load_or_create_experiment(experiment_name=experiment_name, sample_name=sample_name)\n",
    "\n",
    "s21.center(7.0381e9)\n",
    "s21.npts(1001)\n",
    "s21.span(10e6)\n",
    "s21.bandwidth(1e3)\n",
    "s21.averaging_enabled(False)\n",
    "s21.avg(2)\n",
    "s21.power(-30)\n",
    "s21.set_electrical_delay_auto()\n",
    "\n",
    "vna.rf_on()\n",
    "res = do1d(s21.power, -40, -20, 10, 0.01, s21.trace_mag_phase, measurement_name=measurement_name);\n",
    "vna.rf_off()\n",
    "\n",
    "res[0].captured_run_id"
   ]
  },
  {
   "cell_type": "markdown",
   "id": "8afd57eb-aaa2-4d58-ad34-0c630531aa9d",
   "metadata": {
    "tags": []
   },
   "source": [
    "<h3 style=\"color:#418FDB\";>Microwave measurement with VNA and signal generator</h3>"
   ]
  },
  {
   "cell_type": "code",
   "execution_count": 17,
   "id": "7af21056-18e4-42ae-ae3d-bb3bf9726f3c",
   "metadata": {},
   "outputs": [
    {
     "name": "stdout",
     "output_type": "stream",
     "text": [
      "Starting experimental run with id: 123. Using 'qcodes.utils.dataset.doNd.do1d'\n"
     ]
    },
    {
     "data": {
      "application/vnd.jupyter.widget-view+json": {
       "model_id": "42f36733827c4369829ca8d5bc712c02",
       "version_major": 2,
       "version_minor": 0
      },
      "text/plain": [
       "  0%|          | 0/11 [00:00<?, ?it/s]"
      ]
     },
     "metadata": {},
     "output_type": "display_data"
    },
    {
     "data": {
      "text/plain": [
       "[<matplotlib.lines.Line2D at 0x1cf49c32970>]"
      ]
     },
     "execution_count": 17,
     "metadata": {},
     "output_type": "execute_result"
    },
    {
     "data": {
      "image/png": "[encoded data removed]",
      "text/plain": [
       "<Figure size 432x288 with 1 Axes>"
      ]
     },
     "metadata": {
      "needs_background": "light"
     },
     "output_type": "display_data"
    }
   ],
   "source": [
    "experiment_name = 'test_experiment_vna_mw'\n",
    "measurement_name = 'supercool_vna_cw'\n",
    "exp = load_or_create_experiment(experiment_name=experiment_name, sample_name=sample_name)\n",
    "\n",
    "#set the vna parameters\n",
    "s21.center(2e9)\n",
    "s21.npts(1)\n",
    "s21.bandwidth(1e3)\n",
    "#s21.span(1e3)\n",
    "s21.averaging_enabled(True)\n",
    "s21.avg(10)\n",
    "s21.power(-30)\n",
    "#s21.set_electrical_delay_auto()\n",
    "\n",
    "# set the signal generator parameters\n",
    "mw_source.sourcemode('CW')\n",
    "mw_source.power(-20)\n",
    "mw_source.phase(0)\n",
    "\n",
    "# WARNING! It takes too much time for some reasons\n",
    "vna.rf_on()\n",
    "mw_source.status('ON')\n",
    "res = do1d(mw_source.frequency, 1e9, 3e9, 11, 0.01, s21.trace_mag_phase, measurement_name=measurement_name, do_plot=False);\n",
    "mw_source.status('OFF')\n",
    "vna.rf_off()\n",
    "\n",
    "# maybe it would be good to improve the plotting of the results\n",
    "runID = res[0].captured_run_id\n",
    "x = res[0].get_parameter_data('mw_source_frequency')['mw_source_frequency']['mw_source_frequency']\n",
    "y = res[0].get_parameter_data('ZNB20_S21_phase')['ZNB20_S21_phase']['ZNB20_S21_phase']\n",
    "plt.plot(x[::2], y)\n",
    "\n",
    "# add function that creates a measurements log file"
   ]
  },
  {
   "cell_type": "markdown",
   "id": "a17db20f-2519-4778-91a7-e68d2cfaa30b",
   "metadata": {},
   "source": [
    "<h4  style=\"color:#4697E8\";>VNA CW and signal generator power and frequency sweep (two tones spectroscopy)</h4>"
   ]
  },
  {
   "cell_type": "code",
   "execution_count": 54,
   "id": "eb6c5a58-9169-4410-9f34-7739e56f2102",
   "metadata": {},
   "outputs": [
    {
     "name": "stdout",
     "output_type": "stream",
     "text": [
      "Starting experimental run with id: 5. Using 'qcodes.utils.dataset.doNd.do2d'\n"
     ]
    },
    {
     "data": {
      "application/vnd.jupyter.widget-view+json": {
       "model_id": "412e345a83704542b49f18fc835af70c",
       "version_major": 2,
       "version_minor": 0
      },
      "text/plain": [
       "  0%|          | 0/30 [00:00<?, ?it/s]"
      ]
     },
     "metadata": {},
     "output_type": "display_data"
    },
    {
     "data": {
      "application/vnd.jupyter.widget-view+json": {
       "model_id": "",
       "version_major": 2,
       "version_minor": 0
      },
      "text/plain": [
       "  0%|          | 0/20000 [00:00<?, ?it/s]"
      ]
     },
     "metadata": {},
     "output_type": "display_data"
    },
    {
     "data": {
      "application/vnd.jupyter.widget-view+json": {
       "model_id": "",
       "version_major": 2,
       "version_minor": 0
      },
      "text/plain": [
       "  0%|          | 0/20000 [00:00<?, ?it/s]"
      ]
     },
     "metadata": {},
     "output_type": "display_data"
    },
    {
     "data": {
      "application/vnd.jupyter.widget-view+json": {
       "model_id": "",
       "version_major": 2,
       "version_minor": 0
      },
      "text/plain": [
       "  0%|          | 0/20000 [00:00<?, ?it/s]"
      ]
     },
     "metadata": {},
     "output_type": "display_data"
    },
    {
     "data": {
      "application/vnd.jupyter.widget-view+json": {
       "model_id": "",
       "version_major": 2,
       "version_minor": 0
      },
      "text/plain": [
       "  0%|          | 0/20000 [00:00<?, ?it/s]"
      ]
     },
     "metadata": {},
     "output_type": "display_data"
    },
    {
     "data": {
      "application/vnd.jupyter.widget-view+json": {
       "model_id": "",
       "version_major": 2,
       "version_minor": 0
      },
      "text/plain": [
       "  0%|          | 0/20000 [00:00<?, ?it/s]"
      ]
     },
     "metadata": {},
     "output_type": "display_data"
    },
    {
     "data": {
      "application/vnd.jupyter.widget-view+json": {
       "model_id": "",
       "version_major": 2,
       "version_minor": 0
      },
      "text/plain": [
       "  0%|          | 0/20000 [00:00<?, ?it/s]"
      ]
     },
     "metadata": {},
     "output_type": "display_data"
    },
    {
     "data": {
      "application/vnd.jupyter.widget-view+json": {
       "model_id": "",
       "version_major": 2,
       "version_minor": 0
      },
      "text/plain": [
       "  0%|          | 0/20000 [00:00<?, ?it/s]"
      ]
     },
     "metadata": {},
     "output_type": "display_data"
    },
    {
     "data": {
      "application/vnd.jupyter.widget-view+json": {
       "model_id": "",
       "version_major": 2,
       "version_minor": 0
      },
      "text/plain": [
       "  0%|          | 0/20000 [00:00<?, ?it/s]"
      ]
     },
     "metadata": {},
     "output_type": "display_data"
    },
    {
     "data": {
      "application/vnd.jupyter.widget-view+json": {
       "model_id": "",
       "version_major": 2,
       "version_minor": 0
      },
      "text/plain": [
       "  0%|          | 0/20000 [00:00<?, ?it/s]"
      ]
     },
     "metadata": {},
     "output_type": "display_data"
    },
    {
     "data": {
      "application/vnd.jupyter.widget-view+json": {
       "model_id": "",
       "version_major": 2,
       "version_minor": 0
      },
      "text/plain": [
       "  0%|          | 0/20000 [00:00<?, ?it/s]"
      ]
     },
     "metadata": {},
     "output_type": "display_data"
    },
    {
     "data": {
      "application/vnd.jupyter.widget-view+json": {
       "model_id": "",
       "version_major": 2,
       "version_minor": 0
      },
      "text/plain": [
       "  0%|          | 0/20000 [00:00<?, ?it/s]"
      ]
     },
     "metadata": {},
     "output_type": "display_data"
    },
    {
     "data": {
      "application/vnd.jupyter.widget-view+json": {
       "model_id": "",
       "version_major": 2,
       "version_minor": 0
      },
      "text/plain": [
       "  0%|          | 0/20000 [00:00<?, ?it/s]"
      ]
     },
     "metadata": {},
     "output_type": "display_data"
    },
    {
     "data": {
      "application/vnd.jupyter.widget-view+json": {
       "model_id": "",
       "version_major": 2,
       "version_minor": 0
      },
      "text/plain": [
       "  0%|          | 0/20000 [00:00<?, ?it/s]"
      ]
     },
     "metadata": {},
     "output_type": "display_data"
    },
    {
     "data": {
      "application/vnd.jupyter.widget-view+json": {
       "model_id": "",
       "version_major": 2,
       "version_minor": 0
      },
      "text/plain": [
       "  0%|          | 0/20000 [00:00<?, ?it/s]"
      ]
     },
     "metadata": {},
     "output_type": "display_data"
    },
    {
     "data": {
      "application/vnd.jupyter.widget-view+json": {
       "model_id": "",
       "version_major": 2,
       "version_minor": 0
      },
      "text/plain": [
       "  0%|          | 0/20000 [00:00<?, ?it/s]"
      ]
     },
     "metadata": {},
     "output_type": "display_data"
    },
    {
     "data": {
      "application/vnd.jupyter.widget-view+json": {
       "model_id": "",
       "version_major": 2,
       "version_minor": 0
      },
      "text/plain": [
       "  0%|          | 0/20000 [00:00<?, ?it/s]"
      ]
     },
     "metadata": {},
     "output_type": "display_data"
    },
    {
     "data": {
      "application/vnd.jupyter.widget-view+json": {
       "model_id": "",
       "version_major": 2,
       "version_minor": 0
      },
      "text/plain": [
       "  0%|          | 0/20000 [00:00<?, ?it/s]"
      ]
     },
     "metadata": {},
     "output_type": "display_data"
    },
    {
     "data": {
      "application/vnd.jupyter.widget-view+json": {
       "model_id": "",
       "version_major": 2,
       "version_minor": 0
      },
      "text/plain": [
       "  0%|          | 0/20000 [00:00<?, ?it/s]"
      ]
     },
     "metadata": {},
     "output_type": "display_data"
    },
    {
     "data": {
      "application/vnd.jupyter.widget-view+json": {
       "model_id": "",
       "version_major": 2,
       "version_minor": 0
      },
      "text/plain": [
       "  0%|          | 0/20000 [00:00<?, ?it/s]"
      ]
     },
     "metadata": {},
     "output_type": "display_data"
    },
    {
     "data": {
      "application/vnd.jupyter.widget-view+json": {
       "model_id": "",
       "version_major": 2,
       "version_minor": 0
      },
      "text/plain": [
       "  0%|          | 0/20000 [00:00<?, ?it/s]"
      ]
     },
     "metadata": {},
     "output_type": "display_data"
    },
    {
     "data": {
      "application/vnd.jupyter.widget-view+json": {
       "model_id": "",
       "version_major": 2,
       "version_minor": 0
      },
      "text/plain": [
       "  0%|          | 0/20000 [00:00<?, ?it/s]"
      ]
     },
     "metadata": {},
     "output_type": "display_data"
    },
    {
     "data": {
      "application/vnd.jupyter.widget-view+json": {
       "model_id": "",
       "version_major": 2,
       "version_minor": 0
      },
      "text/plain": [
       "  0%|          | 0/20000 [00:00<?, ?it/s]"
      ]
     },
     "metadata": {},
     "output_type": "display_data"
    },
    {
     "data": {
      "application/vnd.jupyter.widget-view+json": {
       "model_id": "",
       "version_major": 2,
       "version_minor": 0
      },
      "text/plain": [
       "  0%|          | 0/20000 [00:00<?, ?it/s]"
      ]
     },
     "metadata": {},
     "output_type": "display_data"
    },
    {
     "data": {
      "application/vnd.jupyter.widget-view+json": {
       "model_id": "",
       "version_major": 2,
       "version_minor": 0
      },
      "text/plain": [
       "  0%|          | 0/20000 [00:00<?, ?it/s]"
      ]
     },
     "metadata": {},
     "output_type": "display_data"
    },
    {
     "data": {
      "application/vnd.jupyter.widget-view+json": {
       "model_id": "",
       "version_major": 2,
       "version_minor": 0
      },
      "text/plain": [
       "  0%|          | 0/20000 [00:00<?, ?it/s]"
      ]
     },
     "metadata": {},
     "output_type": "display_data"
    },
    {
     "data": {
      "application/vnd.jupyter.widget-view+json": {
       "model_id": "",
       "version_major": 2,
       "version_minor": 0
      },
      "text/plain": [
       "  0%|          | 0/20000 [00:00<?, ?it/s]"
      ]
     },
     "metadata": {},
     "output_type": "display_data"
    },
    {
     "data": {
      "application/vnd.jupyter.widget-view+json": {
       "model_id": "",
       "version_major": 2,
       "version_minor": 0
      },
      "text/plain": [
       "  0%|          | 0/20000 [00:00<?, ?it/s]"
      ]
     },
     "metadata": {},
     "output_type": "display_data"
    },
    {
     "data": {
      "application/vnd.jupyter.widget-view+json": {
       "model_id": "",
       "version_major": 2,
       "version_minor": 0
      },
      "text/plain": [
       "  0%|          | 0/20000 [00:00<?, ?it/s]"
      ]
     },
     "metadata": {},
     "output_type": "display_data"
    },
    {
     "data": {
      "application/vnd.jupyter.widget-view+json": {
       "model_id": "",
       "version_major": 2,
       "version_minor": 0
      },
      "text/plain": [
       "  0%|          | 0/20000 [00:00<?, ?it/s]"
      ]
     },
     "metadata": {},
     "output_type": "display_data"
    },
    {
     "data": {
      "application/vnd.jupyter.widget-view+json": {
       "model_id": "",
       "version_major": 2,
       "version_minor": 0
      },
      "text/plain": [
       "  0%|          | 0/20000 [00:00<?, ?it/s]"
      ]
     },
     "metadata": {},
     "output_type": "display_data"
    }
   ],
   "source": [
    "experiment_name = 'two_tones_7.038'\n",
    "measurement_name = 'meas_7.038_tone_0.1_30'\n",
    "exp = load_or_create_experiment(experiment_name=experiment_name, sample_name=sample_name)\n",
    "\n",
    "#set the vna parameters\n",
    "s21.npts(1)\n",
    "s21.bandwidth(1e2)\n",
    "s21.center(7.0381e9)\n",
    "#s21.span(1e3)\n",
    "s21.averaging_enabled(True)\n",
    "s21.avg(2)\n",
    "s21.power(-30)\n",
    "#s21.set_electrical_delay_auto()\n",
    "\n",
    "# set the signal generator parameters\n",
    "mw_source.sourcemode('CW')\n",
    "mw_source.phase(0)\n",
    "\n",
    "start_frequency = 10e9\n",
    "stop_frequency = 20e9\n",
    "step_frequency = .5e6\n",
    "frequency_points = int( (stop_frequency-start_frequency)/step_frequency )\n",
    "\n",
    "start_power = -30\n",
    "stop_power = 0\n",
    "step_power = 1.0\n",
    "power_points = int( (stop_power-start_power)/step_power )\n",
    "\n",
    "dwell_time = 0.005\n",
    "\n",
    "# WARNING! It takes too much time for some reasons\n",
    "vna.rf_on()\n",
    "mw_source.status('ON')\n",
    "res = do2d(mw_source.power, start_power, stop_power, power_points, 100*dwell_time,\n",
    "           mw_source.frequency, start_frequency, stop_frequency, frequency_points, dwell_time, \n",
    "           s21.trace_mag_phase, measurement_name=measurement_name, do_plot=False);\n",
    "mw_source.status('OFF')\n",
    "vna.rf_off()\n",
    "\n",
    "# maybe it would be good to improve the plotting of the results\n",
    "#runID = res[0].captured_run_id\n",
    "#x = res[0].get_parameter_data('mw_source_frequency')['mw_source_frequency']['mw_source_frequency']\n",
    "#y = res[0].get_parameter_data('ZNB20_S21_phase')['ZNB20_S21_phase']['ZNB20_S21_phase']\n",
    "#plt.plot(x[::2], y)\n",
    "\n",
    "# add function that creates a measurements log file"
   ]
  },
  {
   "cell_type": "markdown",
   "id": "78b1b92f-5da3-40e3-a624-b08e635e1b83",
   "metadata": {
    "tags": []
   },
   "source": [
    "<h3  style=\"color:#418FDB\";>Microwave and DC measurements</h3>"
   ]
  },
  {
   "cell_type": "markdown",
   "id": "1cb1bb67-83c0-41cb-bc61-9db66d487a63",
   "metadata": {
    "tags": []
   },
   "source": [
    "<h4 style=\"color:#4697E8\";>Only ADwin</h4>"
   ]
  },
  {
   "cell_type": "code",
   "execution_count": 18,
   "id": "c4b8afee-2f9a-45dc-8292-e158057aa2f4",
   "metadata": {},
   "outputs": [],
   "source": [
    "experiment_name = 'test_experiment_adwin'\n",
    "measurement_name = 'supercool_this_adwin'\n",
    "exp = load_or_create_experiment(experiment_name=experiment_name, sample_name=sample_name)\n",
    "\n",
    "#set the adwin parameters\n"
   ]
  },
  {
   "cell_type": "markdown",
   "id": "00c65c47-8e1b-4aeb-8e8c-a4a7aa8391c8",
   "metadata": {},
   "source": [
    "<h4  style=\"color:#4697E8\";>Adwin and microwave signal generator</h4>"
   ]
  },
  {
   "cell_type": "code",
   "execution_count": null,
   "id": "b89dc2c3-76ae-45ef-9c54-b3fe40aca9bb",
   "metadata": {},
   "outputs": [],
   "source": []
  },
  {
   "cell_type": "markdown",
   "id": "a18e9f55-5666-4f4f-b806-5e0c79aaf4ba",
   "metadata": {
    "tags": []
   },
   "source": [
    "<h2 style=\"color:#1C3C5C\";>Data preview</h2>\n",
    "Using the experiments widget to look at all the measurements in the database, or filter them by experiment."
   ]
  },
  {
   "cell_type": "code",
   "execution_count": null,
   "id": "b3b3996c-aae4-4f58-ae53-e1f4dbe09e93",
   "metadata": {
    "tags": []
   },
   "outputs": [],
   "source": [
    "experiments = qc.experiments()                       # define the experiments\n",
    "#data_sets = experiments[6].data_sets()               # selecto only one experiment\n",
    "#experiments_widget(data_sets=data_sets)              # start the widget on the selected experiment\n",
    "\n",
    "experiments_widget(db=qc.config.core.db_location)  # start the widget on the whole database"
   ]
  },
  {
   "cell_type": "code",
   "execution_count": null,
   "id": "c831bf94-1d93-4313-9002-ca8be72b07b8",
   "metadata": {},
   "outputs": [],
   "source": []
  },
  {
   "cell_type": "code",
   "execution_count": null,
   "id": "f066fef5-1985-440e-ad51-58b7070655f3",
   "metadata": {},
   "outputs": [],
   "source": []
  }
 ],
 "metadata": {
  "kernelspec": {
   "display_name": "Python 3 (ipykernel)",
   "language": "python",
   "name": "python3"
  },
  "language_info": {
   "codemirror_mode": {
    "name": "ipython",
    "version": 3
   },
   "file_extension": ".py",
   "mimetype": "text/x-python",
   "name": "python",
   "nbconvert_exporter": "python",
   "pygments_lexer": "ipython3",
   "version": "3.8.11"
  }
 },
 "nbformat": 4,
 "nbformat_minor": 5
}
