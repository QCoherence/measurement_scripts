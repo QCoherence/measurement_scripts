{
 "cells": [
  {
   "cell_type": "code",
   "execution_count": 1,
   "id": "61066d63-f589-407d-8bd5-8e473f7d0e18",
   "metadata": {},
   "outputs": [],
   "source": [
    "# Script to VNA trace vs power of SMB MW source\n",
    "#                            -- Dorian\n",
    "from qcodes.instrument.specialized_parameters import ElapsedTimeParameter\n",
    "from qcodes.dataset.plotting import plot_dataset,plot_by_id\n",
    "from qcodes.logger.logger import start_all_logging\n",
    "from qcodes.loops import Loop\n",
    "from time import sleep\n",
    "from tqdm import tqdm\n",
    "\n",
    "import matplotlib.pyplot as plt\n",
    "import qcodes as qc\n",
    "import numpy as np\n",
    "import datetime\n",
    "import time\n",
    "import json\n",
    "\n",
    "import sys\n",
    "import os\n"
   ]
  },
  {
   "cell_type": "markdown",
   "id": "73ee5878-3ed9-4228-9ca5-69d580e072e6",
   "metadata": {},
   "source": [
    "# IMPORTING THE INSTRUMENTS"
   ]
  },
  {
   "cell_type": "code",
   "execution_count": 2,
   "id": "49501262-b0e6-42ba-b3e8-4255c837bf3e",
   "metadata": {},
   "outputs": [
    {
     "name": "stdout",
     "output_type": "stream",
     "text": [
      "Connected to: Rohde-Schwarz ZNB20-2Port (serial:1311601062101578, firmware:2.80) in 0.07s\n",
      "Connected to: Rohde&Schwarz SMB100A (serial:1406.6000k03/177959, firmware:3.1.18.2-3.01.203.32) in 0.02s\n"
     ]
    }
   ],
   "source": [
    "\n",
    "sys.path.append('C:\\QCodes_Driver_And_Scripts\\Drivers')\n",
    "\n",
    "from RS_SMB_100A import SMB100A\n",
    "from RS_SGS_100A import SGS100A\n",
    "from HP3245A import HP3245A\n",
    "from RS_FSQ import RS_FSQ\n",
    "from VNA_RS import VNA\n",
    "\n",
    "\n",
    "try:\n",
    "    VNA = VNA('ZNB20', 'TCPIP0::192.168.10.2::inst0::INSTR',\n",
    "               init_s_params=False,terminator='\\n')\n",
    "\n",
    "except KeyError as er:\n",
    "\n",
    "\n",
    "    VNA.close_all() #Disconnect and irreversibly tear down the instrument\n",
    "    VNA = VNA('ZNB20', 'TCPIP0::192.168.10.2::inst0::INSTR',\n",
    "               init_s_params=False,terminator='\\n')\n",
    "try:\n",
    "\n",
    "    MW_source=SMB100A('mw_pump','TCPIP0::192.168.10.6::inst0::INSTR')\n",
    "\n",
    "except KeyError as er:\n",
    "\n",
    "    SMB100A.close_all()\n",
    "    MW_source=SMB100A('mw_pump','TCPIP0::192.168.10.6::inst0::INSTR')\n",
    "\n"
   ]
  },
  {
   "cell_type": "code",
   "execution_count": 3,
   "id": "bf5955d6-d589-49cb-81dd-b4ac0afccca4",
   "metadata": {},
   "outputs": [],
   "source": [
    "from qcodes.instrument_drivers.yokogawa.GS200 import GS200"
   ]
  },
  {
   "cell_type": "code",
   "execution_count": 4,
   "id": "6ba76cf4-098f-480a-b6e0-8a793c26c7fb",
   "metadata": {},
   "outputs": [
    {
     "ename": "VisaIOError",
     "evalue": "VI_ERROR_ALLOC (-1073807300): Insufficient system resources to perform necessary memory allocation.",
     "output_type": "error",
     "traceback": [
      "\u001b[1;31m---------------------------------------------------------------------------\u001b[0m",
      "\u001b[1;31mVisaIOError\u001b[0m                               Traceback (most recent call last)",
      "Input \u001b[1;32mIn [4]\u001b[0m, in \u001b[0;36m<cell line: 1>\u001b[1;34m()\u001b[0m\n\u001b[0;32m      1\u001b[0m \u001b[38;5;28;01mtry\u001b[39;00m:\n\u001b[1;32m----> 2\u001b[0m     I_source \u001b[38;5;241m=\u001b[39m \u001b[43mGS200\u001b[49m\u001b[43m(\u001b[49m\u001b[38;5;124;43m\"\u001b[39;49m\u001b[38;5;124;43mgs200\u001b[39;49m\u001b[38;5;124;43m\"\u001b[39;49m\u001b[43m,\u001b[49m\u001b[43m \u001b[49m\u001b[43maddress\u001b[49m\u001b[38;5;241;43m=\u001b[39;49m\u001b[38;5;124;43m'\u001b[39;49m\u001b[38;5;124;43mTCPIP::192.168.10.3::INSTR\u001b[39;49m\u001b[38;5;124;43m'\u001b[39;49m\u001b[43m,\u001b[49m\u001b[43m \u001b[49m\u001b[43mterminator\u001b[49m\u001b[38;5;241;43m=\u001b[39;49m\u001b[38;5;124;43m\"\u001b[39;49m\u001b[38;5;130;43;01m\\n\u001b[39;49;00m\u001b[38;5;124;43m\"\u001b[39;49m\u001b[43m)\u001b[49m\n\u001b[0;32m      5\u001b[0m \u001b[38;5;28;01mexcept\u001b[39;00m \u001b[38;5;167;01mKeyError\u001b[39;00m \u001b[38;5;28;01mas\u001b[39;00m er:\n\u001b[0;32m      7\u001b[0m     GS200\u001b[38;5;241m.\u001b[39mclose_all() \u001b[38;5;66;03m#Disconnect and irreversibly tear down the instrument\u001b[39;00m\n",
      "File \u001b[1;32m~\\Miniconda3\\envs\\qcodes\\lib\\site-packages\\qcodes\\instrument\\base.py:517\u001b[0m, in \u001b[0;36mAbstractInstrumentMeta.__call__\u001b[1;34m(cls, *args, **kwargs)\u001b[0m\n\u001b[0;32m    512\u001b[0m \u001b[38;5;28;01mdef\u001b[39;00m \u001b[38;5;21m__call__\u001b[39m(\u001b[38;5;28mcls\u001b[39m, \u001b[38;5;241m*\u001b[39margs: Any, \u001b[38;5;241m*\u001b[39m\u001b[38;5;241m*\u001b[39mkwargs: Any) \u001b[38;5;241m-\u001b[39m\u001b[38;5;241m>\u001b[39m Any:\n\u001b[0;32m    513\u001b[0m     \u001b[38;5;124;03m\"\"\"\u001b[39;00m\n\u001b[0;32m    514\u001b[0m \u001b[38;5;124;03m    Overloads `type.__call__` to add code that runs only if __init__ completes\u001b[39;00m\n\u001b[0;32m    515\u001b[0m \u001b[38;5;124;03m    successfully.\u001b[39;00m\n\u001b[0;32m    516\u001b[0m \u001b[38;5;124;03m    \"\"\"\u001b[39;00m\n\u001b[1;32m--> 517\u001b[0m     new_inst \u001b[38;5;241m=\u001b[39m \u001b[38;5;28msuper\u001b[39m()\u001b[38;5;241m.\u001b[39m\u001b[38;5;21m__call__\u001b[39m(\u001b[38;5;241m*\u001b[39margs, \u001b[38;5;241m*\u001b[39m\u001b[38;5;241m*\u001b[39mkwargs)\n\u001b[0;32m    518\u001b[0m     is_abstract \u001b[38;5;241m=\u001b[39m new_inst\u001b[38;5;241m.\u001b[39m_is_abstract()\n\u001b[0;32m    519\u001b[0m     \u001b[38;5;28;01mif\u001b[39;00m is_abstract:\n",
      "File \u001b[1;32m~\\Miniconda3\\envs\\qcodes\\lib\\site-packages\\qcodes\\instrument_drivers\\yokogawa\\GS200.py:241\u001b[0m, in \u001b[0;36mGS200.__init__\u001b[1;34m(self, name, address, terminator, **kwargs)\u001b[0m\n\u001b[0;32m    239\u001b[0m \u001b[38;5;28;01mdef\u001b[39;00m \u001b[38;5;21m__init__\u001b[39m(\u001b[38;5;28mself\u001b[39m, name: \u001b[38;5;28mstr\u001b[39m, address: \u001b[38;5;28mstr\u001b[39m, terminator: \u001b[38;5;28mstr\u001b[39m \u001b[38;5;241m=\u001b[39m \u001b[38;5;124m\"\u001b[39m\u001b[38;5;130;01m\\n\u001b[39;00m\u001b[38;5;124m\"\u001b[39m,\n\u001b[0;32m    240\u001b[0m              \u001b[38;5;241m*\u001b[39m\u001b[38;5;241m*\u001b[39mkwargs: Any) \u001b[38;5;241m-\u001b[39m\u001b[38;5;241m>\u001b[39m \u001b[38;5;28;01mNone\u001b[39;00m:\n\u001b[1;32m--> 241\u001b[0m     \u001b[38;5;28msuper\u001b[39m()\u001b[38;5;241m.\u001b[39m\u001b[38;5;21m__init__\u001b[39m(name, address, terminator\u001b[38;5;241m=\u001b[39mterminator, \u001b[38;5;241m*\u001b[39m\u001b[38;5;241m*\u001b[39mkwargs)\n\u001b[0;32m    243\u001b[0m     \u001b[38;5;28mself\u001b[39m\u001b[38;5;241m.\u001b[39madd_parameter(\u001b[38;5;124m'\u001b[39m\u001b[38;5;124moutput\u001b[39m\u001b[38;5;124m'\u001b[39m,\n\u001b[0;32m    244\u001b[0m                        label\u001b[38;5;241m=\u001b[39m\u001b[38;5;124m'\u001b[39m\u001b[38;5;124mOutput State\u001b[39m\u001b[38;5;124m'\u001b[39m,\n\u001b[0;32m    245\u001b[0m                        get_cmd\u001b[38;5;241m=\u001b[39m\u001b[38;5;28mself\u001b[39m\u001b[38;5;241m.\u001b[39mstate,\n\u001b[1;32m   (...)\u001b[0m\n\u001b[0;32m    249\u001b[0m                            \u001b[38;5;124m'\u001b[39m\u001b[38;5;124mon\u001b[39m\u001b[38;5;124m'\u001b[39m: \u001b[38;5;241m1\u001b[39m,\n\u001b[0;32m    250\u001b[0m                        })\n\u001b[0;32m    252\u001b[0m     \u001b[38;5;28mself\u001b[39m\u001b[38;5;241m.\u001b[39madd_parameter(\u001b[38;5;124m'\u001b[39m\u001b[38;5;124msource_mode\u001b[39m\u001b[38;5;124m'\u001b[39m,\n\u001b[0;32m    253\u001b[0m                        label\u001b[38;5;241m=\u001b[39m\u001b[38;5;124m'\u001b[39m\u001b[38;5;124mSource Mode\u001b[39m\u001b[38;5;124m'\u001b[39m,\n\u001b[0;32m    254\u001b[0m                        get_cmd\u001b[38;5;241m=\u001b[39m\u001b[38;5;124m'\u001b[39m\u001b[38;5;124m:SOUR:FUNC?\u001b[39m\u001b[38;5;124m'\u001b[39m,\n\u001b[0;32m    255\u001b[0m                        set_cmd\u001b[38;5;241m=\u001b[39m\u001b[38;5;28mself\u001b[39m\u001b[38;5;241m.\u001b[39m_set_source_mode,\n\u001b[0;32m    256\u001b[0m                        vals\u001b[38;5;241m=\u001b[39mEnum(\u001b[38;5;124m'\u001b[39m\u001b[38;5;124mVOLT\u001b[39m\u001b[38;5;124m'\u001b[39m, \u001b[38;5;124m'\u001b[39m\u001b[38;5;124mCURR\u001b[39m\u001b[38;5;124m'\u001b[39m))\n",
      "File \u001b[1;32m~\\Miniconda3\\envs\\qcodes\\lib\\site-packages\\qcodes\\instrument\\visa.py:89\u001b[0m, in \u001b[0;36mVisaInstrument.__init__\u001b[1;34m(self, name, address, timeout, terminator, device_clear, visalib, **kwargs)\u001b[0m\n\u001b[0;32m     87\u001b[0m     \u001b[38;5;28mself\u001b[39m\u001b[38;5;241m.\u001b[39mvisa_log\u001b[38;5;241m.\u001b[39minfo(\u001b[38;5;124mf\u001b[39m\u001b[38;5;124m\"\u001b[39m\u001b[38;5;124mCould not connect at \u001b[39m\u001b[38;5;132;01m{\u001b[39;00maddress\u001b[38;5;132;01m}\u001b[39;00m\u001b[38;5;124m\"\u001b[39m)\n\u001b[0;32m     88\u001b[0m     \u001b[38;5;28mself\u001b[39m\u001b[38;5;241m.\u001b[39mclose()\n\u001b[1;32m---> 89\u001b[0m     \u001b[38;5;28;01mraise\u001b[39;00m e\n\u001b[0;32m     91\u001b[0m \u001b[38;5;28;01mif\u001b[39;00m device_clear:\n\u001b[0;32m     92\u001b[0m     \u001b[38;5;28mself\u001b[39m\u001b[38;5;241m.\u001b[39mdevice_clear()\n",
      "File \u001b[1;32m~\\Miniconda3\\envs\\qcodes\\lib\\site-packages\\qcodes\\instrument\\visa.py:85\u001b[0m, in \u001b[0;36mVisaInstrument.__init__\u001b[1;34m(self, name, address, timeout, terminator, device_clear, visalib, **kwargs)\u001b[0m\n\u001b[0;32m     82\u001b[0m     \u001b[38;5;28mself\u001b[39m\u001b[38;5;241m.\u001b[39mvisalib \u001b[38;5;241m=\u001b[39m visalib\n\u001b[0;32m     84\u001b[0m \u001b[38;5;28;01mtry\u001b[39;00m:\n\u001b[1;32m---> 85\u001b[0m     \u001b[38;5;28;43mself\u001b[39;49m\u001b[38;5;241;43m.\u001b[39;49m\u001b[43mset_address\u001b[49m\u001b[43m(\u001b[49m\u001b[43maddress\u001b[49m\u001b[43m)\u001b[49m\n\u001b[0;32m     86\u001b[0m \u001b[38;5;28;01mexcept\u001b[39;00m \u001b[38;5;167;01mException\u001b[39;00m \u001b[38;5;28;01mas\u001b[39;00m e:\n\u001b[0;32m     87\u001b[0m     \u001b[38;5;28mself\u001b[39m\u001b[38;5;241m.\u001b[39mvisa_log\u001b[38;5;241m.\u001b[39minfo(\u001b[38;5;124mf\u001b[39m\u001b[38;5;124m\"\u001b[39m\u001b[38;5;124mCould not connect at \u001b[39m\u001b[38;5;132;01m{\u001b[39;00maddress\u001b[38;5;132;01m}\u001b[39;00m\u001b[38;5;124m\"\u001b[39m)\n",
      "File \u001b[1;32m~\\Miniconda3\\envs\\qcodes\\lib\\site-packages\\qcodes\\instrument\\visa.py:124\u001b[0m, in \u001b[0;36mVisaInstrument.set_address\u001b[1;34m(self, address)\u001b[0m\n\u001b[0;32m    121\u001b[0m     \u001b[38;5;28mself\u001b[39m\u001b[38;5;241m.\u001b[39mvisabackend \u001b[38;5;241m=\u001b[39m \u001b[38;5;124m'\u001b[39m\u001b[38;5;124mni\u001b[39m\u001b[38;5;124m'\u001b[39m\n\u001b[0;32m    123\u001b[0m \u001b[38;5;28mself\u001b[39m\u001b[38;5;241m.\u001b[39mvisa_log\u001b[38;5;241m.\u001b[39minfo(\u001b[38;5;124mf\u001b[39m\u001b[38;5;124m'\u001b[39m\u001b[38;5;124mOpening PyVISA resource at address: \u001b[39m\u001b[38;5;132;01m{\u001b[39;00maddress\u001b[38;5;132;01m}\u001b[39;00m\u001b[38;5;124m'\u001b[39m)\n\u001b[1;32m--> 124\u001b[0m resource \u001b[38;5;241m=\u001b[39m \u001b[43mresource_manager\u001b[49m\u001b[38;5;241;43m.\u001b[39;49m\u001b[43mopen_resource\u001b[49m\u001b[43m(\u001b[49m\u001b[43maddress\u001b[49m\u001b[43m)\u001b[49m\n\u001b[0;32m    125\u001b[0m \u001b[38;5;28;01mif\u001b[39;00m \u001b[38;5;129;01mnot\u001b[39;00m \u001b[38;5;28misinstance\u001b[39m(resource, visa\u001b[38;5;241m.\u001b[39mresources\u001b[38;5;241m.\u001b[39mMessageBasedResource):\n\u001b[0;32m    126\u001b[0m     \u001b[38;5;28;01mraise\u001b[39;00m \u001b[38;5;167;01mTypeError\u001b[39;00m(\u001b[38;5;124m\"\u001b[39m\u001b[38;5;124mQCoDeS only support MessageBasedResource \u001b[39m\u001b[38;5;124m\"\u001b[39m\n\u001b[0;32m    127\u001b[0m                     \u001b[38;5;124m\"\u001b[39m\u001b[38;5;124mVisa resources\u001b[39m\u001b[38;5;124m\"\u001b[39m)\n",
      "File \u001b[1;32m~\\Miniconda3\\envs\\qcodes\\lib\\site-packages\\pyvisa\\highlevel.py:3304\u001b[0m, in \u001b[0;36mResourceManager.open_resource\u001b[1;34m(self, resource_name, access_mode, open_timeout, resource_pyclass, **kwargs)\u001b[0m\n\u001b[0;32m   3298\u001b[0m     \u001b[38;5;28;01mif\u001b[39;00m \u001b[38;5;129;01mnot\u001b[39;00m present:\n\u001b[0;32m   3299\u001b[0m         \u001b[38;5;28;01mraise\u001b[39;00m \u001b[38;5;167;01mValueError\u001b[39;00m(\n\u001b[0;32m   3300\u001b[0m             \u001b[38;5;124m\"\u001b[39m\u001b[38;5;132;01m%r\u001b[39;00m\u001b[38;5;124m is not a valid attribute for type \u001b[39m\u001b[38;5;132;01m%s\u001b[39;00m\u001b[38;5;124m\"\u001b[39m\n\u001b[0;32m   3301\u001b[0m             \u001b[38;5;241m%\u001b[39m (key, res\u001b[38;5;241m.\u001b[39m\u001b[38;5;18m__class__\u001b[39m\u001b[38;5;241m.\u001b[39m\u001b[38;5;18m__name__\u001b[39m)\n\u001b[0;32m   3302\u001b[0m         )\n\u001b[1;32m-> 3304\u001b[0m \u001b[43mres\u001b[49m\u001b[38;5;241;43m.\u001b[39;49m\u001b[43mopen\u001b[49m\u001b[43m(\u001b[49m\u001b[43maccess_mode\u001b[49m\u001b[43m,\u001b[49m\u001b[43m \u001b[49m\u001b[43mopen_timeout\u001b[49m\u001b[43m)\u001b[49m\n\u001b[0;32m   3306\u001b[0m \u001b[38;5;28;01mfor\u001b[39;00m key, value \u001b[38;5;129;01min\u001b[39;00m kwargs\u001b[38;5;241m.\u001b[39mitems():\n\u001b[0;32m   3307\u001b[0m     \u001b[38;5;28msetattr\u001b[39m(res, key, value)\n",
      "File \u001b[1;32m~\\Miniconda3\\envs\\qcodes\\lib\\site-packages\\pyvisa\\resources\\resource.py:297\u001b[0m, in \u001b[0;36mResource.open\u001b[1;34m(self, access_mode, open_timeout)\u001b[0m\n\u001b[0;32m    293\u001b[0m logger\u001b[38;5;241m.\u001b[39mdebug(\u001b[38;5;124m\"\u001b[39m\u001b[38;5;132;01m%s\u001b[39;00m\u001b[38;5;124m - opening ...\u001b[39m\u001b[38;5;124m\"\u001b[39m, \u001b[38;5;28mself\u001b[39m\u001b[38;5;241m.\u001b[39m_resource_name, extra\u001b[38;5;241m=\u001b[39m\u001b[38;5;28mself\u001b[39m\u001b[38;5;241m.\u001b[39m_logging_extra)\n\u001b[0;32m    294\u001b[0m \u001b[38;5;28;01mwith\u001b[39;00m \u001b[38;5;28mself\u001b[39m\u001b[38;5;241m.\u001b[39m_resource_manager\u001b[38;5;241m.\u001b[39mignore_warning(\n\u001b[0;32m    295\u001b[0m     constants\u001b[38;5;241m.\u001b[39mStatusCode\u001b[38;5;241m.\u001b[39msuccess_device_not_present\n\u001b[0;32m    296\u001b[0m ):\n\u001b[1;32m--> 297\u001b[0m     \u001b[38;5;28mself\u001b[39m\u001b[38;5;241m.\u001b[39msession, status \u001b[38;5;241m=\u001b[39m \u001b[38;5;28;43mself\u001b[39;49m\u001b[38;5;241;43m.\u001b[39;49m\u001b[43m_resource_manager\u001b[49m\u001b[38;5;241;43m.\u001b[39;49m\u001b[43mopen_bare_resource\u001b[49m\u001b[43m(\u001b[49m\n\u001b[0;32m    298\u001b[0m \u001b[43m        \u001b[49m\u001b[38;5;28;43mself\u001b[39;49m\u001b[38;5;241;43m.\u001b[39;49m\u001b[43m_resource_name\u001b[49m\u001b[43m,\u001b[49m\u001b[43m \u001b[49m\u001b[43maccess_mode\u001b[49m\u001b[43m,\u001b[49m\u001b[43m \u001b[49m\u001b[43mopen_timeout\u001b[49m\n\u001b[0;32m    299\u001b[0m \u001b[43m    \u001b[49m\u001b[43m)\u001b[49m\n\u001b[0;32m    301\u001b[0m     \u001b[38;5;28;01mif\u001b[39;00m status \u001b[38;5;241m==\u001b[39m constants\u001b[38;5;241m.\u001b[39mStatusCode\u001b[38;5;241m.\u001b[39msuccess_device_not_present:\n\u001b[0;32m    302\u001b[0m         \u001b[38;5;66;03m# The device was not ready when we opened the session.\u001b[39;00m\n\u001b[0;32m    303\u001b[0m         \u001b[38;5;66;03m# Now it gets five seconds more to become ready.\u001b[39;00m\n\u001b[0;32m    304\u001b[0m         \u001b[38;5;66;03m# Every 0.1 seconds we probe it with viClear.\u001b[39;00m\n\u001b[0;32m    305\u001b[0m         start_time \u001b[38;5;241m=\u001b[39m time\u001b[38;5;241m.\u001b[39mtime()\n",
      "File \u001b[1;32m~\\Miniconda3\\envs\\qcodes\\lib\\site-packages\\pyvisa\\highlevel.py:3232\u001b[0m, in \u001b[0;36mResourceManager.open_bare_resource\u001b[1;34m(self, resource_name, access_mode, open_timeout)\u001b[0m\n\u001b[0;32m   3203\u001b[0m \u001b[38;5;28;01mdef\u001b[39;00m \u001b[38;5;21mopen_bare_resource\u001b[39m(\n\u001b[0;32m   3204\u001b[0m     \u001b[38;5;28mself\u001b[39m,\n\u001b[0;32m   3205\u001b[0m     resource_name: \u001b[38;5;28mstr\u001b[39m,\n\u001b[0;32m   3206\u001b[0m     access_mode: constants\u001b[38;5;241m.\u001b[39mAccessModes \u001b[38;5;241m=\u001b[39m constants\u001b[38;5;241m.\u001b[39mAccessModes\u001b[38;5;241m.\u001b[39mno_lock,\n\u001b[0;32m   3207\u001b[0m     open_timeout: \u001b[38;5;28mint\u001b[39m \u001b[38;5;241m=\u001b[39m constants\u001b[38;5;241m.\u001b[39mVI_TMO_IMMEDIATE,\n\u001b[0;32m   3208\u001b[0m ) \u001b[38;5;241m-\u001b[39m\u001b[38;5;241m>\u001b[39m Tuple[VISASession, StatusCode]:\n\u001b[0;32m   3209\u001b[0m     \u001b[38;5;124;03m\"\"\"Open the specified resource without wrapping into a class.\u001b[39;00m\n\u001b[0;32m   3210\u001b[0m \n\u001b[0;32m   3211\u001b[0m \u001b[38;5;124;03m    Parameters\u001b[39;00m\n\u001b[1;32m   (...)\u001b[0m\n\u001b[0;32m   3230\u001b[0m \n\u001b[0;32m   3231\u001b[0m \u001b[38;5;124;03m    \"\"\"\u001b[39;00m\n\u001b[1;32m-> 3232\u001b[0m     \u001b[38;5;28;01mreturn\u001b[39;00m \u001b[38;5;28;43mself\u001b[39;49m\u001b[38;5;241;43m.\u001b[39;49m\u001b[43mvisalib\u001b[49m\u001b[38;5;241;43m.\u001b[39;49m\u001b[43mopen\u001b[49m\u001b[43m(\u001b[49m\u001b[38;5;28;43mself\u001b[39;49m\u001b[38;5;241;43m.\u001b[39;49m\u001b[43msession\u001b[49m\u001b[43m,\u001b[49m\u001b[43m \u001b[49m\u001b[43mresource_name\u001b[49m\u001b[43m,\u001b[49m\u001b[43m \u001b[49m\u001b[43maccess_mode\u001b[49m\u001b[43m,\u001b[49m\u001b[43m \u001b[49m\u001b[43mopen_timeout\u001b[49m\u001b[43m)\u001b[49m\n",
      "File \u001b[1;32m~\\Miniconda3\\envs\\qcodes\\lib\\site-packages\\pyvisa\\ctwrapper\\functions.py:1851\u001b[0m, in \u001b[0;36mopen\u001b[1;34m(library, session, resource_name, access_mode, open_timeout)\u001b[0m\n\u001b[0;32m   1847\u001b[0m out_session \u001b[38;5;241m=\u001b[39m ViSession()\n\u001b[0;32m   1849\u001b[0m \u001b[38;5;66;03m# [ViSession, ViRsrc, ViAccessMode, ViUInt32, ViPSession]\u001b[39;00m\n\u001b[0;32m   1850\u001b[0m \u001b[38;5;66;03m# ViRsrc converts from (str, unicode, bytes) to bytes\u001b[39;00m\n\u001b[1;32m-> 1851\u001b[0m ret \u001b[38;5;241m=\u001b[39m \u001b[43mlibrary\u001b[49m\u001b[38;5;241;43m.\u001b[39;49m\u001b[43mviOpen\u001b[49m\u001b[43m(\u001b[49m\n\u001b[0;32m   1852\u001b[0m \u001b[43m    \u001b[49m\u001b[43msession\u001b[49m\u001b[43m,\u001b[49m\u001b[43m \u001b[49m\u001b[43mresource_name\u001b[49m\u001b[43m,\u001b[49m\u001b[43m \u001b[49m\u001b[43maccess_mode\u001b[49m\u001b[43m,\u001b[49m\u001b[43m \u001b[49m\u001b[43mopen_timeout\u001b[49m\u001b[43m,\u001b[49m\u001b[43m \u001b[49m\u001b[43mbyref\u001b[49m\u001b[43m(\u001b[49m\u001b[43mout_session\u001b[49m\u001b[43m)\u001b[49m\n\u001b[0;32m   1853\u001b[0m \u001b[43m\u001b[49m\u001b[43m)\u001b[49m\n\u001b[0;32m   1854\u001b[0m \u001b[38;5;28;01mreturn\u001b[39;00m out_session\u001b[38;5;241m.\u001b[39mvalue, ret\n",
      "File \u001b[1;32m~\\Miniconda3\\envs\\qcodes\\lib\\site-packages\\pyvisa\\ctwrapper\\highlevel.py:222\u001b[0m, in \u001b[0;36mIVIVisaLibrary._return_handler\u001b[1;34m(self, ret_value, func, arguments)\u001b[0m\n\u001b[0;32m    219\u001b[0m         \u001b[38;5;66;03m# Set session back to a safe value\u001b[39;00m\n\u001b[0;32m    220\u001b[0m         session \u001b[38;5;241m=\u001b[39m \u001b[38;5;28;01mNone\u001b[39;00m\n\u001b[1;32m--> 222\u001b[0m \u001b[38;5;28;01mreturn\u001b[39;00m \u001b[38;5;28;43mself\u001b[39;49m\u001b[38;5;241;43m.\u001b[39;49m\u001b[43mhandle_return_value\u001b[49m\u001b[43m(\u001b[49m\u001b[43msession\u001b[49m\u001b[43m,\u001b[49m\u001b[43m \u001b[49m\u001b[43mret_value\u001b[49m\u001b[43m)\u001b[49m\n",
      "File \u001b[1;32m~\\Miniconda3\\envs\\qcodes\\lib\\site-packages\\pyvisa\\highlevel.py:251\u001b[0m, in \u001b[0;36mVisaLibraryBase.handle_return_value\u001b[1;34m(self, session, status_code)\u001b[0m\n\u001b[0;32m    248\u001b[0m     \u001b[38;5;28mself\u001b[39m\u001b[38;5;241m.\u001b[39m_last_status_in_session[session] \u001b[38;5;241m=\u001b[39m rv\n\u001b[0;32m    250\u001b[0m \u001b[38;5;28;01mif\u001b[39;00m rv \u001b[38;5;241m<\u001b[39m \u001b[38;5;241m0\u001b[39m:\n\u001b[1;32m--> 251\u001b[0m     \u001b[38;5;28;01mraise\u001b[39;00m errors\u001b[38;5;241m.\u001b[39mVisaIOError(rv)\n\u001b[0;32m    253\u001b[0m \u001b[38;5;28;01mif\u001b[39;00m rv \u001b[38;5;129;01min\u001b[39;00m \u001b[38;5;28mself\u001b[39m\u001b[38;5;241m.\u001b[39missue_warning_on:\n\u001b[0;32m    254\u001b[0m     \u001b[38;5;28;01mif\u001b[39;00m session \u001b[38;5;129;01mand\u001b[39;00m rv \u001b[38;5;129;01mnot\u001b[39;00m \u001b[38;5;129;01min\u001b[39;00m \u001b[38;5;28mself\u001b[39m\u001b[38;5;241m.\u001b[39m_ignore_warning_in_session[session]:\n",
      "\u001b[1;31mVisaIOError\u001b[0m: VI_ERROR_ALLOC (-1073807300): Insufficient system resources to perform necessary memory allocation."
     ]
    }
   ],
   "source": [
    "try:\n",
    "    I_source = GS200(\"gs200\", address='TCPIP::192.168.10.3::INSTR', terminator=\"\\n\")\n",
    "\n",
    "\n",
    "except KeyError as er:\n",
    "\n",
    "    GS200.close_all() #Disconnect and irreversibly tear down the instrument\n",
    "    I_source = GS200(\"gs200\", address='TCPIP::192.168.10.3::INSTR', terminator=\"\\n\")"
   ]
  },
  {
   "cell_type": "markdown",
   "id": "da33ac23-f38d-4eb1-9a67-1ac25d67cbb2",
   "metadata": {},
   "source": [
    "# FUNCTION USED TO RUN THE MEASUREMENT"
   ]
  },
  {
   "cell_type": "code",
   "execution_count": 5,
   "id": "e02a5f69-a249-44ad-aa63-3879c7b0d7f2",
   "metadata": {},
   "outputs": [],
   "source": [
    "def measure_single_trace(exp,station):\n",
    "\n",
    "    VNA.rf_on()\n",
    "\n",
    "    meas = qc.Measurement(exp=exp, station=station)\n",
    "    meas.register_parameter(VNA.channels.S21.trace_mag_phase)\n",
    "\n",
    "    with meas.run() as datasaver:\n",
    "\n",
    "        id=datasaver.dataset.run_id\n",
    "        qc.load_by_run_spec( captured_run_id=id).add_metadata('parameter_snap',\n",
    "                             json.dumps(parameter_snap))\n",
    "\n",
    "        get_v = VNA.channels.S21.trace_mag_phase.get()\n",
    "        datasaver.add_result((VNA.channels.S21.trace_mag_phase, get_v))"
   ]
  },
  {
   "cell_type": "markdown",
   "id": "56ff2467-9bca-437a-a284-da57c82b8299",
   "metadata": {},
   "source": [
    "# INITIALIZE QCODES EXPERIMENT"
   ]
  },
  {
   "cell_type": "code",
   "execution_count": 6,
   "id": "eb07b562-5f7d-4dc2-85cb-c0d4ef3a53b5",
   "metadata": {},
   "outputs": [
    {
     "name": "stdout",
     "output_type": "stream",
     "text": [
      "Logging hadn't been started.\n",
      "Activating auto-logging. Current session state plus future input saved.\n",
      "Filename       : C:\\Users\\nicolas.ROCH\\.qcodes\\logs\\command_history.log\n",
      "Mode           : append\n",
      "Output logging : True\n",
      "Raw input log  : False\n",
      "Timestamping   : True\n",
      "State          : active\n",
      "Qcodes Logfile : C:\\Users\\nicolas.ROCH\\.qcodes\\logs\\220613-15352-qcodes.log\n"
     ]
    },
    {
     "ename": "NameError",
     "evalue": "name 'I_source' is not defined",
     "output_type": "error",
     "traceback": [
      "\u001b[1;31m---------------------------------------------------------------------------\u001b[0m",
      "\u001b[1;31mNameError\u001b[0m                                 Traceback (most recent call last)",
      "Input \u001b[1;32mIn [6]\u001b[0m, in \u001b[0;36m<cell line: 6>\u001b[1;34m()\u001b[0m\n\u001b[0;32m      4\u001b[0m station \u001b[38;5;241m=\u001b[39m qc\u001b[38;5;241m.\u001b[39mStation()\n\u001b[0;32m      5\u001b[0m station\u001b[38;5;241m.\u001b[39madd_component(VNA)\n\u001b[1;32m----> 6\u001b[0m station\u001b[38;5;241m.\u001b[39madd_component(\u001b[43mI_source\u001b[49m)\n\u001b[0;32m      7\u001b[0m station\u001b[38;5;241m.\u001b[39madd_component(MW_source)\n\u001b[0;32m      9\u001b[0m station\u001b[38;5;241m.\u001b[39msnapshot()\n",
      "\u001b[1;31mNameError\u001b[0m: name 'I_source' is not defined"
     ]
    }
   ],
   "source": [
    "start_all_logging()\n",
    "\n",
    "# Create a station\n",
    "station = qc.Station()\n",
    "station.add_component(VNA)\n",
    "station.add_component(I_source)\n",
    "station.add_component(MW_source)\n",
    "\n",
    "station.snapshot()\n",
    "station.components\n",
    "\n",
    "# Experiment details\n",
    "user='DF'\n",
    "date=datetime.datetime.today().strftime('%Y_%m_%d')\n",
    "description='VNA_single_trace'\n",
    "database_name = date+\"_\"+user+\"_\"+description\n"
   ]
  },
  {
   "cell_type": "markdown",
   "id": "7c3eacf3-f922-4c09-b3e7-45212e247739",
   "metadata": {},
   "source": [
    "# DATA FOLDER CREATION"
   ]
  },
  {
   "cell_type": "code",
   "execution_count": 7,
   "id": "a45f1702-7fdd-490c-a31a-86df8de30833",
   "metadata": {},
   "outputs": [],
   "source": [
    "script_dir=os.path.dirname(os.path.abspath(\"__file__\"))\n",
    "data_dir=os.path.join('C:\\\\QCodes_Driver_And_Scripts\\\\Data_QCodes\\\\Dorian\\\\'+date)\n",
    "\n",
    "try :\n",
    "    os.mkdir(data_dir)\n",
    "except FileExistsError:\n",
    "    pass\n",
    "\n",
    "data_dir=data_dir +'\\\\'+description\n",
    "\n",
    "try :\n",
    "    os.mkdir(data_dir)\n",
    "except FileExistsError:\n",
    "    pass"
   ]
  },
  {
   "cell_type": "markdown",
   "id": "9a0076a3-59ac-4d7b-a44c-9996d805360e",
   "metadata": {},
   "source": [
    "# CREATE OR INITIALIZE DATABASE"
   ]
  },
  {
   "cell_type": "code",
   "execution_count": 8,
   "id": "48721b1f-0adc-487b-8f21-7c8e125860f9",
   "metadata": {},
   "outputs": [],
   "source": [
    "qc.initialise_or_create_database_at(data_dir+'\\\\'+database_name+'.db')\n",
    "qc.config.core.db_location\n",
    "\n",
    "parameter_snap={}"
   ]
  },
  {
   "cell_type": "markdown",
   "id": "ed1c354d-fb0d-41cd-8917-6f8782b6a838",
   "metadata": {},
   "source": [
    "# INSTRUMENTS PARAMETERS"
   ]
  },
  {
   "cell_type": "code",
   "execution_count": 9,
   "id": "9eb38bca-a054-4950-9352-8e049680d442",
   "metadata": {},
   "outputs": [],
   "source": [
    "current = -0.\n",
    "# Snapshot parameters\n",
    "parameter_snap['flux']={'current': current}"
   ]
  },
  {
   "cell_type": "code",
   "execution_count": 10,
   "id": "7d81b961-84cc-44e8-8f1a-6d206c2ea608",
   "metadata": {},
   "outputs": [
    {
     "name": "stdout",
     "output_type": "stream",
     "text": [
      "\n",
      "time for one trace : 0:00:01.001000 s\n"
     ]
    }
   ],
   "source": [
    "center_freq  = 3.8625\n",
    "span_freq    = 0.5\n",
    "start_freq   = center_freq - 0.5*span_freq\n",
    "end_freq     = center_freq + 0.5*span_freq\n",
    "# start_freq = 2.\n",
    "# end_freq   = 12.\n",
    "step_freq    = 1*1.e-3\n",
    "VNA_power    = -4\n",
    "IF_bandwidth =  300\n",
    "Averages     =  1\n",
    "points_VNA   = int(abs(end_freq - start_freq)/step_freq)+1\n",
    "# points_VNA = 2001\n",
    "trace_time=points_VNA / IF_bandwidth * Averages\n",
    "\n",
    "print('\\ntime for one trace : {} s'.format(datetime.timedelta(seconds = trace_time)))\n",
    "\n",
    "# Snapshot parameters\n",
    "parameter_snap['vna'] = {'start_freq':start_freq, 'end_freq':end_freq,\n",
    "                         'VNA_power':VNA_power, 'IF_bandwidth':IF_bandwidth,\n",
    "                         'Averages':Averages, 'points':points_VNA}"
   ]
  },
  {
   "cell_type": "code",
   "execution_count": 11,
   "id": "5fb2cb44-9717-4eb7-bc4c-afc29c8775eb",
   "metadata": {},
   "outputs": [
    {
     "name": "stdout",
     "output_type": "stream",
     "text": [
      "\n",
      "total time : 0:00:10.010000\n"
     ]
    }
   ],
   "source": [
    "src_frequency  =  8.92695                #GHz\n",
    "src_power      = -45.                    #dBm\n",
    "src_status     = 'off'\n",
    "\n",
    "# Snapshot parameters\n",
    "parameter_snap['MW_source'] = {'freq':src_frequency,'power':src_power,'status':src_status}"
   ]
  },
  {
   "cell_type": "markdown",
   "id": "a7e2940d-9870-4eaa-be47-b886da94de4a",
   "metadata": {},
   "source": [
    "# SETTING UP INSTRUMENTS"
   ]
  },
  {
   "cell_type": "code",
   "execution_count": 12,
   "id": "a2b596e9-9836-400c-8648-1bde321c3f3e",
   "metadata": {},
   "outputs": [],
   "source": [
    "if I_source.output()=='on':\n",
    "    I_source.output('off')\n",
    "    \n",
    "I_source.source_mode('CURR')\n",
    "I_source.range(10e-3)\n",
    "\n",
    "I_source.current(current*1.e-3)\n",
    "\n",
    "I_source.output('on')"
   ]
  },
  {
   "cell_type": "code",
   "execution_count": 13,
   "id": "ac401522-b423-4746-ac72-36743bf12624",
   "metadata": {
    "tags": []
   },
   "outputs": [
    {
     "name": "stderr",
     "output_type": "stream",
     "text": [
      "2022-06-10 16:30:00,246 ¦ py.warnings ¦ WARNING ¦ warnings ¦ _showwarnmsg ¦ 109 ¦ C:\\Users\\nicolas.ROCH\\Miniconda3\\envs\\qcodes\\lib\\site-packages\\qcodes\\instrument\\base.py:130: QCoDeSDeprecationWarning: Parameter trace_mag_phase on instrument ZNB20_S21 does not correctly pass kwargs to its baseclass. A Parameter class must take `**kwargs` and forward them to its baseclass.\n",
      "  warnings.warn(\n",
      "\n",
      "2022-06-10 16:30:00,253 ¦ py.warnings ¦ WARNING ¦ warnings ¦ _showwarnmsg ¦ 109 ¦ C:\\Users\\nicolas.ROCH\\Miniconda3\\envs\\qcodes\\lib\\site-packages\\qcodes\\instrument\\base.py:130: QCoDeSDeprecationWarning: Parameter trace on instrument ZNB20_S21 does not correctly pass kwargs to its baseclass. A Parameter class must take `**kwargs` and forward them to its baseclass.\n",
      "  warnings.warn(\n",
      "\n",
      "2022-06-10 16:30:00,259 ¦ py.warnings ¦ WARNING ¦ warnings ¦ _showwarnmsg ¦ 109 ¦ C:\\Users\\nicolas.ROCH\\Miniconda3\\envs\\qcodes\\lib\\site-packages\\qcodes\\instrument\\base.py:130: QCoDeSDeprecationWarning: Parameter trace_fixed_frequency on instrument ZNB20_S21 does not correctly pass kwargs to its baseclass. A Parameter class must take `**kwargs` and forward them to its baseclass.\n",
      "  warnings.warn(\n",
      "\n",
      "2022-06-10 16:30:00,260 ¦ py.warnings ¦ WARNING ¦ warnings ¦ _showwarnmsg ¦ 109 ¦ C:\\Users\\nicolas.ROCH\\Miniconda3\\envs\\qcodes\\lib\\site-packages\\qcodes\\instrument\\base.py:130: QCoDeSDeprecationWarning: Parameter point_fixed_frequency on instrument ZNB20_S21 does not correctly pass kwargs to its baseclass. A Parameter class must take `**kwargs` and forward them to its baseclass.\n",
      "  warnings.warn(\n",
      "\n",
      "2022-06-10 16:30:00,261 ¦ py.warnings ¦ WARNING ¦ warnings ¦ _showwarnmsg ¦ 109 ¦ C:\\Users\\nicolas.ROCH\\Miniconda3\\envs\\qcodes\\lib\\site-packages\\qcodes\\instrument\\base.py:130: QCoDeSDeprecationWarning: Parameter point_fixed_frequency_mag_phase on instrument ZNB20_S21 does not correctly pass kwargs to its baseclass. A Parameter class must take `**kwargs` and forward them to its baseclass.\n",
      "  warnings.warn(\n",
      "\n",
      "2022-06-10 16:30:00,261 ¦ py.warnings ¦ WARNING ¦ warnings ¦ _showwarnmsg ¦ 109 ¦ C:\\Users\\nicolas.ROCH\\Miniconda3\\envs\\qcodes\\lib\\site-packages\\qcodes\\instrument\\base.py:130: QCoDeSDeprecationWarning: Parameter point_fixed_frequency_mag_phase_trace on instrument ZNB20_S21 does not correctly pass kwargs to its baseclass. A Parameter class must take `**kwargs` and forward them to its baseclass.\n",
      "  warnings.warn(\n",
      "\n"
     ]
    }
   ],
   "source": [
    "VNA.add_channel('S21',vna_parameter='S21')\n",
    "\n",
    "VNA.channels.S21.format('dB')\n",
    "VNA.channels.S21.bandwidth(IF_bandwidth)\n",
    "VNA.channels.S21.power(VNA_power)\n",
    "VNA.channels.S21.avg(Averages)\n",
    "VNA.channels.npts(points_VNA)\n",
    "VNA.channels.start(start_freq*1e9)\n",
    "VNA.channels.stop(end_freq*1e9)"
   ]
  },
  {
   "cell_type": "code",
   "execution_count": 14,
   "id": "a76eec7f-d1e5-43e9-8f91-dbc23b5600a0",
   "metadata": {},
   "outputs": [],
   "source": [
    "MW_source.frequency(src_frequency*1e9)\n",
    "MW_source.power(src_power)\n",
    "MW_source.status(src_status)"
   ]
  },
  {
   "cell_type": "markdown",
   "id": "e1180a16-bd78-4b16-a867-ed4ad53d30e7",
   "metadata": {},
   "source": [
    "#  MEASUREMENT"
   ]
  },
  {
   "cell_type": "code",
   "execution_count": 15,
   "id": "3e76a87a-b2b6-4828-9fb2-3f2d5650f652",
   "metadata": {},
   "outputs": [
    {
     "name": "stdout",
     "output_type": "stream",
     "text": [
      "Starting experimental run with id: 8. \n"
     ]
    },
    {
     "name": "stderr",
     "output_type": "stream",
     "text": [
      "100%|██████████████████████████████████████████████████████████████████████████████████| 10/10 [00:10<00:00,  1.07s/it]\n"
     ]
    }
   ],
   "source": [
    "# Load experiment\n",
    "exp_name = 'VNA_single_trace'\n",
    "\n",
    "sample_name = 'B5_G3_GALV_SQ200_1ST'\n",
    "\n",
    "exp=qc.load_or_create_experiment(experiment_name=exp_name,\n",
    "                          sample_name=sample_name)\n",
    "\n",
    "measure_VNA_vs_SMB_power(src_power_vec,exp=exp, station=station,current_point=current)\n",
    "\n"
   ]
  },
  {
   "cell_type": "code",
   "execution_count": 16,
   "id": "38913eb4-ee23-480e-bd9d-5022b6e4916d",
   "metadata": {},
   "outputs": [],
   "source": [
    "VNA.rf_off()\n",
    "VNA.cont_meas_off()\n",
    "MW_source.status('off')\n",
    "I_source.output('off')"
   ]
  },
  {
   "cell_type": "code",
   "execution_count": null,
   "id": "f48555b3-f67c-4e22-a5dc-ebdab423bc05",
   "metadata": {},
   "outputs": [],
   "source": []
  }
 ],
 "metadata": {
  "kernelspec": {
   "display_name": "Python 3 (ipykernel)",
   "language": "python",
   "name": "python3"
  },
  "language_info": {
   "codemirror_mode": {
    "name": "ipython",
    "version": 3
   },
   "file_extension": ".py",
   "mimetype": "text/x-python",
   "name": "python",
   "nbconvert_exporter": "python",
   "pygments_lexer": "ipython3",
   "version": "3.10.4"
  }
 },
 "nbformat": 4,
 "nbformat_minor": 5
}
