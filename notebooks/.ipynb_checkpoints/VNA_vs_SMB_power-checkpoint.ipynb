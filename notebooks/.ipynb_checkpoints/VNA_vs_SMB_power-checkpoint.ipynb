{
 "cells": [
  {
   "cell_type": "code",
   "execution_count": 1,
   "id": "3497e02e-c4fe-4767-9c36-87ca14663389",
   "metadata": {},
   "outputs": [],
   "source": [
    "# Script to VNA trace vs power of SMB MW source\n",
    "#                            -- Dorian\n",
    "from qcodes.instrument.specialized_parameters import ElapsedTimeParameter\n",
    "from qcodes.dataset.plotting import plot_dataset,plot_by_id\n",
    "from qcodes.logger.logger import start_all_logging\n",
    "from qcodes.loops import Loop\n",
    "from time import sleep\n",
    "from tqdm import tqdm\n",
    "\n",
    "import matplotlib.pyplot as plt\n",
    "import qcodes as qc\n",
    "import numpy as np\n",
    "import datetime\n",
    "import time\n",
    "import json\n",
    "\n",
    "import sys\n",
    "import os\n"
   ]
  },
  {
   "cell_type": "markdown",
   "id": "cc52c5fd-2e70-47e6-b8d0-9e6e0da5e9e8",
   "metadata": {},
   "source": [
    "# IMPORTING THE INSTRUMENTS"
   ]
  },
  {
   "cell_type": "code",
   "execution_count": 2,
   "id": "b7237c35-2d9a-41b0-bd10-77506cf2ee25",
   "metadata": {},
   "outputs": [
    {
     "name": "stdout",
     "output_type": "stream",
     "text": [
      "Connected to: Rohde-Schwarz ZNB20-2Port (serial:1311601062101578, firmware:2.80) in 0.06s\n",
      "Connected to: Rohde&Schwarz SMB100A (serial:1406.6000k03/177959, firmware:3.1.18.2-3.01.203.32) in 0.02s\n"
     ]
    }
   ],
   "source": [
    "\n",
    "sys.path.append('C:\\QCodes_Driver_And_Scripts\\Drivers')\n",
    "\n",
    "from RS_SMB_100A import SMB100A\n",
    "from RS_SGS_100A import SGS100A\n",
    "from HP3245A import HP3245A\n",
    "from RS_FSQ import RS_FSQ\n",
    "from VNA_RS import VNA\n",
    "\n",
    "\n",
    "try:\n",
    "    VNA = VNA('ZNB20', 'TCPIP0::192.168.10.2::inst0::INSTR',\n",
    "               init_s_params=False,terminator='\\n')\n",
    "\n",
    "except KeyError as er:\n",
    "\n",
    "\n",
    "    VNA.close_all() #Disconnect and irreversibly tear down the instrument\n",
    "    VNA = VNA('ZNB20', 'TCPIP0::192.168.10.2::inst0::INSTR',\n",
    "               init_s_params=False,terminator='\\n')\n",
    "try:\n",
    "\n",
    "    MW_source=SMB100A('mw_pump','TCPIP0::192.168.10.6::inst0::INSTR')\n",
    "\n",
    "except KeyError as er:\n",
    "\n",
    "    SMB100A.close_all()\n",
    "    MW_source=SMB100A('mw_pump','TCPIP0::192.168.10.6::inst0::INSTR')\n",
    "\n"
   ]
  },
  {
   "cell_type": "code",
   "execution_count": 3,
   "id": "f7154c1c-ef8b-425c-8fe5-bc6079ab56d3",
   "metadata": {},
   "outputs": [],
   "source": [
    "from qcodes.instrument_drivers.yokogawa.GS200 import GS200"
   ]
  },
  {
   "cell_type": "code",
   "execution_count": 4,
   "id": "ff80ff5e-8c01-4f88-a449-4d452f27104e",
   "metadata": {},
   "outputs": [
    {
     "name": "stdout",
     "output_type": "stream",
     "text": [
      "Connected to: YOKOGAWA GS210 (serial:90Y438440, firmware:2.02) in 0.02s\n"
     ]
    }
   ],
   "source": [
    "try:\n",
    "    I_source = GS200(\"gs200\", address='TCPIP::192.168.10.3::INSTR', terminator=\"\\n\")\n",
    "\n",
    "\n",
    "except KeyError as er:\n",
    "\n",
    "    GS200.close_all() #Disconnect and irreversibly tear down the instrument\n",
    "    I_source = GS200(\"gs200\", address='TCPIP::192.168.10.3::INSTR', terminator=\"\\n\")"
   ]
  },
  {
   "cell_type": "markdown",
   "id": "40eb9917-5268-41eb-8bd3-0f80fc80d782",
   "metadata": {},
   "source": [
    "# FUNCTION USED TO RUN THE MEASUREMENT"
   ]
  },
  {
   "cell_type": "code",
   "execution_count": 5,
   "id": "63a148d8-a516-4d6a-b9da-e4edfc3be2c2",
   "metadata": {},
   "outputs": [],
   "source": [
    "def measure_VNA_vs_SMB_power(power_vec,exp,station,current_point=0):\n",
    "\n",
    "    VNA.rf_on()\n",
    "    \n",
    "    # I_source.output('on')\n",
    "    MW_source.status('on')\n",
    "\n",
    "    # I_source.reset()\n",
    "    # I_source.current(current_point*1.e-3)\n",
    "\n",
    "    meas = qc.Measurement(exp=exp, station=station)\n",
    "    meas.register_parameter(MW_source.power)\n",
    "    meas.register_parameter(VNA.channels.S21.trace_mag_phase, setpoints=[MW_source.power])\n",
    "\n",
    "\n",
    "    with meas.run() as datasaver:\n",
    "\n",
    "        id=datasaver.dataset.run_id\n",
    "        qc.load_by_run_spec( captured_run_id=id).add_metadata('parameter_snap',\n",
    "                             json.dumps(parameter_snap))\n",
    "\n",
    "        for pow in tqdm(power_vec):\n",
    "\n",
    "            MW_source.power(pow)\n",
    "\n",
    "            get_p = MW_source.power.get()\n",
    "            datasaver.add_result((MW_source.power,get_p))\n",
    "            get_v = VNA.channels.S21.trace_mag_phase.get()\n",
    "            datasaver.add_result((VNA.channels.S21.trace_mag_phase, get_v),(MW_source.power,get_p))\n"
   ]
  },
  {
   "cell_type": "markdown",
   "id": "2fa2d614-a752-4ef9-8ed1-c1c54b5e08a3",
   "metadata": {},
   "source": [
    "# INITIALIZE QCODES EXPERIMENT"
   ]
  },
  {
   "cell_type": "code",
   "execution_count": 6,
   "id": "eb07b562-5f7d-4dc2-85cb-c0d4ef3a53b5",
   "metadata": {},
   "outputs": [
    {
     "name": "stdout",
     "output_type": "stream",
     "text": [
      "Logging hadn't been started.\n",
      "Activating auto-logging. Current session state plus future input saved.\n",
      "Filename       : C:\\Users\\nicolas.ROCH\\.qcodes\\logs\\command_history.log\n",
      "Mode           : append\n",
      "Output logging : True\n",
      "Raw input log  : False\n",
      "Timestamping   : True\n",
      "State          : active\n",
      "Qcodes Logfile : C:\\Users\\nicolas.ROCH\\.qcodes\\logs\\220610-17404-qcodes.log\n"
     ]
    },
    {
     "name": "stderr",
     "output_type": "stream",
     "text": [
      "2022-06-10 16:29:17,616 ¦ qcodes.instrument.base ¦ WARNING ¦ base ¦ snapshot_base ¦ 269 ¦ [gs200_program(GS200Program)] Snapshot: Could not update parameter: trigger\n"
     ]
    }
   ],
   "source": [
    "start_all_logging()\n",
    "\n",
    "# Create a station\n",
    "station = qc.Station()\n",
    "station.add_component(VNA)\n",
    "station.add_component(I_source)\n",
    "station.add_component(MW_source)\n",
    "\n",
    "\n",
    "# Experiment details\n",
    "user='DF'\n",
    "date=datetime.datetime.today().strftime('%Y_%m_%d')\n",
    "description='VNA_vs_SMB_power'\n",
    "database_name = date+\"_\"+user+\"_\"+description"
   ]
  },
  {
   "cell_type": "markdown",
   "id": "481d62e0-27f9-4bc3-bcab-ff8c9017d7aa",
   "metadata": {},
   "source": [
    "# DATA FOLDER CREATION"
   ]
  },
  {
   "cell_type": "code",
   "execution_count": 7,
   "id": "a45f1702-7fdd-490c-a31a-86df8de30833",
   "metadata": {},
   "outputs": [],
   "source": [
    "script_dir=os.path.dirname(os.path.abspath(\"__file__\"))\n",
    "data_dir=os.path.join('C:\\\\QCodes_Driver_And_Scripts\\\\Data_QCodes\\\\Dorian\\\\'+date)\n",
    "\n",
    "try :\n",
    "    os.mkdir(data_dir)\n",
    "except FileExistsError:\n",
    "    pass\n",
    "\n",
    "data_dir=data_dir +'\\\\'+description\n",
    "\n",
    "try :\n",
    "    os.mkdir(data_dir)\n",
    "except FileExistsError:\n",
    "    pass"
   ]
  },
  {
   "cell_type": "markdown",
   "id": "539b45e0-f540-4cf6-893a-173d5bac0fec",
   "metadata": {},
   "source": [
    "# CREATE OR INITIALIZE DATABASE"
   ]
  },
  {
   "cell_type": "code",
   "execution_count": 8,
   "id": "48721b1f-0adc-487b-8f21-7c8e125860f9",
   "metadata": {},
   "outputs": [],
   "source": [
    "qc.initialise_or_create_database_at(data_dir+'\\\\'+database_name+'.db')\n",
    "qc.config.core.db_location\n",
    "\n",
    "parameter_snap={}"
   ]
  },
  {
   "cell_type": "markdown",
   "id": "a64a40f2-514a-448f-bc6b-14247a9ae64f",
   "metadata": {},
   "source": [
    "# INSTRUMENTS PARAMETERS"
   ]
  },
  {
   "cell_type": "code",
   "execution_count": 9,
   "id": "9eb38bca-a054-4950-9352-8e049680d442",
   "metadata": {},
   "outputs": [],
   "source": [
    "# current = -0.694 #mA\n",
    "current = -0.52\n",
    "# Snapshot parameters\n",
    "parameter_snap['flux']={'current': current}"
   ]
  },
  {
   "cell_type": "code",
   "execution_count": 10,
   "id": "7d81b961-84cc-44e8-8f1a-6d206c2ea608",
   "metadata": {},
   "outputs": [
    {
     "name": "stdout",
     "output_type": "stream",
     "text": [
      "\n",
      "time for one trace : 0:00:01.001000 s\n"
     ]
    }
   ],
   "source": [
    "center_freq  = 3.2727\n",
    "span_freq    = 0.5\n",
    "start_freq   = center_freq - 0.5*span_freq\n",
    "end_freq     = center_freq + 0.5*span_freq\n",
    "# start_freq = 3.03\n",
    "# end_freq   = 3.09\n",
    "# step_freq    = 250*1.e-6\n",
    "VNA_power    = -15.\n",
    "IF_bandwidth =  1000.\n",
    "Averages     = 1\n",
    "# points_VNA   = int(abs(end_freq - start_freq)/step_freq)+1\n",
    "points_VNA = 1001\n",
    "trace_time=points_VNA / IF_bandwidth * Averages\n",
    "\n",
    "\n",
    "print('\\ntime for one trace : {} s'.format(datetime.timedelta(seconds = trace_time)))\n",
    "\n",
    "# Snapshot parameters\n",
    "parameter_snap['vna'] = {'start_freq':start_freq, 'end_freq':end_freq,\n",
    "                         'VNA_power':VNA_power, 'IF_bandwidth':IF_bandwidth,\n",
    "                         'Averages':Averages, 'points':points_VNA}"
   ]
  },
  {
   "cell_type": "code",
   "execution_count": 11,
   "id": "5fb2cb44-9717-4eb7-bc4c-afc29c8775eb",
   "metadata": {},
   "outputs": [
    {
     "name": "stdout",
     "output_type": "stream",
     "text": [
      "\n",
      "total time : 0:00:10.010000\n"
     ]
    }
   ],
   "source": [
    "src_frequency =  3.2727 #GHz\n",
    "P_start       = -35.\n",
    "P_stop        =  -20.\n",
    "P_point       =  10\n",
    "# P_point       = int(abs(P_stop - P_start)/P_step)+1\n",
    "\n",
    "src_power_vec = np.linspace(P_start, P_stop, P_point)\n",
    "\n",
    "src_status     = 'on'\n",
    "\n",
    "# Snapshot parameters\n",
    "parameter_snap['MW_source'] = {'freq':src_frequency,'p_start':P_start,\n",
    "                               'P_stop':P_stop,'points':P_point}\n",
    "\n",
    "print('\\ntotal time : {}'.format(datetime.timedelta(seconds = P_point*trace_time)))"
   ]
  },
  {
   "cell_type": "markdown",
   "id": "b1212061-a956-41cd-b0ca-73434df15363",
   "metadata": {},
   "source": [
    "# SETTING UP INSTRUMENTS"
   ]
  },
  {
   "cell_type": "code",
   "execution_count": 12,
   "id": "a2b596e9-9836-400c-8648-1bde321c3f3e",
   "metadata": {},
   "outputs": [],
   "source": [
    "if I_source.output()=='on':\n",
    "    I_source.output('off')\n",
    "    \n",
    "I_source.source_mode('CURR')\n",
    "I_source.range(10e-3)\n",
    "\n",
    "I_source.current(current*1.e-3)\n",
    "\n",
    "I_source.output('on')"
   ]
  },
  {
   "cell_type": "code",
   "execution_count": 13,
   "id": "ac401522-b423-4746-ac72-36743bf12624",
   "metadata": {
    "tags": []
   },
   "outputs": [
    {
     "name": "stderr",
     "output_type": "stream",
     "text": [
      "2022-06-10 16:29:17,815 ¦ py.warnings ¦ WARNING ¦ warnings ¦ _showwarnmsg ¦ 109 ¦ C:\\Users\\nicolas.ROCH\\Miniconda3\\envs\\qcodes\\lib\\site-packages\\qcodes\\instrument\\base.py:130: QCoDeSDeprecationWarning: Parameter trace_mag_phase on instrument ZNB20_S21 does not correctly pass kwargs to its baseclass. A Parameter class must take `**kwargs` and forward them to its baseclass.\n",
      "  warnings.warn(\n",
      "\n",
      "2022-06-10 16:29:17,821 ¦ py.warnings ¦ WARNING ¦ warnings ¦ _showwarnmsg ¦ 109 ¦ C:\\Users\\nicolas.ROCH\\Miniconda3\\envs\\qcodes\\lib\\site-packages\\qcodes\\instrument\\base.py:130: QCoDeSDeprecationWarning: Parameter trace on instrument ZNB20_S21 does not correctly pass kwargs to its baseclass. A Parameter class must take `**kwargs` and forward them to its baseclass.\n",
      "  warnings.warn(\n",
      "\n",
      "2022-06-10 16:29:17,827 ¦ py.warnings ¦ WARNING ¦ warnings ¦ _showwarnmsg ¦ 109 ¦ C:\\Users\\nicolas.ROCH\\Miniconda3\\envs\\qcodes\\lib\\site-packages\\qcodes\\instrument\\base.py:130: QCoDeSDeprecationWarning: Parameter trace_fixed_frequency on instrument ZNB20_S21 does not correctly pass kwargs to its baseclass. A Parameter class must take `**kwargs` and forward them to its baseclass.\n",
      "  warnings.warn(\n",
      "\n",
      "2022-06-10 16:29:17,828 ¦ py.warnings ¦ WARNING ¦ warnings ¦ _showwarnmsg ¦ 109 ¦ C:\\Users\\nicolas.ROCH\\Miniconda3\\envs\\qcodes\\lib\\site-packages\\qcodes\\instrument\\base.py:130: QCoDeSDeprecationWarning: Parameter point_fixed_frequency on instrument ZNB20_S21 does not correctly pass kwargs to its baseclass. A Parameter class must take `**kwargs` and forward them to its baseclass.\n",
      "  warnings.warn(\n",
      "\n",
      "2022-06-10 16:29:17,828 ¦ py.warnings ¦ WARNING ¦ warnings ¦ _showwarnmsg ¦ 109 ¦ C:\\Users\\nicolas.ROCH\\Miniconda3\\envs\\qcodes\\lib\\site-packages\\qcodes\\instrument\\base.py:130: QCoDeSDeprecationWarning: Parameter point_fixed_frequency_mag_phase on instrument ZNB20_S21 does not correctly pass kwargs to its baseclass. A Parameter class must take `**kwargs` and forward them to its baseclass.\n",
      "  warnings.warn(\n",
      "\n",
      "2022-06-10 16:29:17,829 ¦ py.warnings ¦ WARNING ¦ warnings ¦ _showwarnmsg ¦ 109 ¦ C:\\Users\\nicolas.ROCH\\Miniconda3\\envs\\qcodes\\lib\\site-packages\\qcodes\\instrument\\base.py:130: QCoDeSDeprecationWarning: Parameter point_fixed_frequency_mag_phase_trace on instrument ZNB20_S21 does not correctly pass kwargs to its baseclass. A Parameter class must take `**kwargs` and forward them to its baseclass.\n",
      "  warnings.warn(\n",
      "\n"
     ]
    }
   ],
   "source": [
    "VNA.add_channel('S21',vna_parameter='S21')\n",
    "\n",
    "VNA.channels.S21.format('dB')\n",
    "VNA.channels.S21.bandwidth(IF_bandwidth)\n",
    "VNA.channels.S21.power(VNA_power)\n",
    "VNA.channels.S21.avg(Averages)\n",
    "VNA.channels.npts(points_VNA)\n",
    "VNA.channels.start(start_freq*1e9)\n",
    "VNA.channels.stop(end_freq*1e9)"
   ]
  },
  {
   "cell_type": "code",
   "execution_count": 14,
   "id": "a76eec7f-d1e5-43e9-8f91-dbc23b5600a0",
   "metadata": {},
   "outputs": [],
   "source": [
    "MW_source.frequency(src_frequency*1e9)\n",
    "MW_source.power(src_power_vec[0])\n",
    "MW_source.status(src_status)"
   ]
  },
  {
   "cell_type": "markdown",
   "id": "b3f4d4c0-214f-4bf8-a637-4c0649f26f6a",
   "metadata": {},
   "source": [
    "#  MEASUREMENT"
   ]
  },
  {
   "cell_type": "code",
   "execution_count": 15,
   "id": "3e76a87a-b2b6-4828-9fb2-3f2d5650f652",
   "metadata": {},
   "outputs": [
    {
     "name": "stdout",
     "output_type": "stream",
     "text": [
      "Starting experimental run with id: 7. \n"
     ]
    },
    {
     "name": "stderr",
     "output_type": "stream",
     "text": [
      "100%|██████████████████████████████████████████████████████████████████████████████████| 10/10 [00:10<00:00,  1.08s/it]\n"
     ]
    }
   ],
   "source": [
    "# Load experiment\n",
    "exp_name = 'VNA_vs_SMB_power'\n",
    "\n",
    "sample_name = 'B5_G3_GALV_SQ200_1ST'\n",
    "\n",
    "exp=qc.load_or_create_experiment(experiment_name=exp_name,\n",
    "                          sample_name=sample_name)\n",
    "\n",
    "measure_VNA_vs_SMB_power(src_power_vec,exp=exp, station=station,current_point=current)\n",
    "\n"
   ]
  },
  {
   "cell_type": "code",
   "execution_count": 16,
   "id": "38913eb4-ee23-480e-bd9d-5022b6e4916d",
   "metadata": {},
   "outputs": [],
   "source": [
    "VNA.rf_off()\n",
    "VNA.cont_meas_off()\n",
    "MW_source.status('off')\n",
    "I_source.output('off')"
   ]
  }
 ],
 "metadata": {
  "kernelspec": {
   "display_name": "Python 3 (ipykernel)",
   "language": "python",
   "name": "python3"
  },
  "language_info": {
   "codemirror_mode": {
    "name": "ipython",
    "version": 3
   },
   "file_extension": ".py",
   "mimetype": "text/x-python",
   "name": "python",
   "nbconvert_exporter": "python",
   "pygments_lexer": "ipython3",
   "version": "3.10.4"
  }
 },
 "nbformat": 4,
 "nbformat_minor": 5
}
