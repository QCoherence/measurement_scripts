{
 "cells": [
  {
   "cell_type": "code",
   "execution_count": 68,
   "id": "9a2ad8b2-e77c-48e3-9eb9-965ef842f44c",
   "metadata": {},
   "outputs": [],
   "source": [
    "from qcodes.instrument.specialized_parameters import ElapsedTimeParameter\n",
    "from qcodes.dataset.plotting import plot_dataset,plot_by_id\n",
    "from qcodes.logger.logger import start_all_logging\n",
    "from mpl_toolkits.mplot3d import Axes3D\n",
    "from tqdm.notebook import tqdm \n",
    "from qcodes.loops import Loop \n",
    "from matplotlib import cm\n",
    "from cycler import cycler\n",
    "from pprint import pprint\n",
    "from time import sleep\n",
    "\n",
    "import matplotlib.pyplot as plt\n",
    "import scipy.constants as cst\n",
    "import plotly.express as px\n",
    "import pickle as pk\n",
    "import qcodes as qc\n",
    "import pandas as pd\n",
    "import numpy as np\n",
    "import datetime\n",
    "import warnings\n",
    "import time\n",
    "import json\n",
    "import sys\n",
    "import os"
   ]
  },
  {
   "cell_type": "code",
   "execution_count": 69,
   "id": "b54a2e5d-9d6f-4b15-bf6b-c5d1d5f3d792",
   "metadata": {},
   "outputs": [],
   "source": [
    "%matplotlib widget"
   ]
  },
  {
   "cell_type": "code",
   "execution_count": 70,
   "id": "697d28f2-017e-44bd-ab3f-3d5b5d9a778f",
   "metadata": {},
   "outputs": [],
   "source": [
    "import warnings\n",
    "warnings.filterwarnings('ignore')"
   ]
  },
  {
   "cell_type": "code",
   "execution_count": 71,
   "id": "5fbaf65b-c2f4-41f1-93b7-30f7a62893a1",
   "metadata": {},
   "outputs": [
    {
     "name": "stdout",
     "output_type": "stream",
     "text": [
      "Connected to: Rohde&Schwarz SMB100A (serial:1406.6000k03/177959, firmware:3.1.18.2-3.01.203.32) in 0.02s\n",
      "Connected to: Rohde&Schwarz SMB100A (serial:1406.6000k03/177959, firmware:3.1.18.2-3.01.203.32) in 0.02s\n",
      "Connected to: Rohde&Schwarz SGS100A (serial:1416.0505k02/114047, firmware:4.2.76.0-4.30.046.295) in 0.03s\n",
      "Connected to: YOKOGAWA GS210 (serial:90Y438440, firmware:2.02) in 0.03s\n"
     ]
    }
   ],
   "source": [
    "sys.path.append('C:\\QCodes_Driver_And_Scripts\\drivers')\n",
    "# sys.path.append('C:\\QCodes_Driver_And_Scripts\\drivers\\rfsoc\\RFSoC')\n",
    "\n",
    "\n",
    "from qcodes.instrument_drivers.yokogawa.GS200 import GS200\n",
    "\n",
    "from RS_SGS_100A import SGS100A\n",
    "from RS_SMB_100A import SMB100A\n",
    "from RFSoC import RFSoC\n",
    "    \n",
    "try:\n",
    "    lo_adc=SMB100A('lo_adc','TCPIP0::192.168.10.6::inst0::INSTR')\n",
    "\n",
    "except KeyError as er:\n",
    "    SMB100A.close_all()\n",
    "    lo_adc=SMB100A('lo_adc','TCPIP0::192.168.10.6::inst0::INSTR')\n",
    "\n",
    "\n",
    "try:\n",
    "    lo_dac=SGS100A('lo_dac','TCPIP0::192.168.10.55::inst0::INSTR')\n",
    "\n",
    "except KeyError as er:\n",
    "    SGS100A.close_all()\n",
    "    lo_dac=SGS100A('lo_dac','TCPIP0::192.168.10.55::inst0::INSTR')\n",
    "    \n",
    "# try:\n",
    "#     seed_source=SGS100A('lo_dac','TCPIP0::192.168.10.56::inst0::INSTR')\n",
    "\n",
    "# except KeyError as er:\n",
    "#     SGS100A.close_all()\n",
    "#     seed_source=SGS100A('lo_dac','TCPIP0::192.168.10.56::inst0::INSTR')\n",
    "    \n",
    "try:\n",
    "    rfsoc = RFSoC('RFSoC', 'TCPIP::{}::{}::SOCKET'.format('192.168.10.123',5001))\n",
    "except KeyError as er:\n",
    "    rfsoc.close_all()\n",
    "    \n",
    "try:\n",
    "    I_source = GS200(\"gs200\", address='TCPIP::192.168.10.3::INSTR', terminator=\"\\n\")\n",
    "except KeyError as er:\n",
    "    GS200.close_all() #Disconnect and irreversibly tear down the instrument\n",
    "    I_source = GS200(\"gs200\", address='TCPIP::192.168.10.3::INSTR', terminator=\"\\n\")\n",
    "\n"
   ]
  },
  {
   "cell_type": "code",
   "execution_count": 72,
   "id": "a63380b4-78ac-4d0a-945e-a63c16507ef3",
   "metadata": {},
   "outputs": [],
   "source": [
    "rfsoc.compute_full_sequence = False\n",
    "rfsoc.debug_mode = False\n",
    "rfsoc.debug_mode_plot_waveforms = False\n",
    "rfsoc.display_IQ_progress = False \n",
    "# rfsoc.DAC_amplitude_calib = [1.02233566,1.02233566,1.02233566,1.02233566,1.02233566,1.02233566,1.02233566,1.02233566]"
   ]
  },
  {
   "cell_type": "code",
   "execution_count": 73,
   "id": "a5f123aa-0f05-43d4-b336-1e4cbc7d4d89",
   "metadata": {},
   "outputs": [],
   "source": [
    "# rfsoc.reset_PLL()"
   ]
  },
  {
   "cell_type": "code",
   "execution_count": 74,
   "id": "f938cc13-e8c5-4ebb-9dde-d6d3338db974",
   "metadata": {},
   "outputs": [],
   "source": [
    "def powtov(power) :\n",
    "    poww = 10**(power/10)/1000\n",
    "    v = np.sqrt(50*poww*2)\n",
    "    return v\n",
    "def vtopow(v) :\n",
    "    poww = v**2/(100)\n",
    "    power = 10*np.log10(poww/0.001)\n",
    "    return power\n",
    "def vtopowlin(v) :\n",
    "    poww = v**2/(100)\n",
    "    return poww"
   ]
  },
  {
   "cell_type": "code",
   "execution_count": 75,
   "id": "f8a10bf3-f5cb-42ae-9b83-0d36d0527d54",
   "metadata": {},
   "outputs": [],
   "source": [
    "\n",
    "def measure(lo_dac_freq,adc_amp, exp, station):\n",
    "  \n",
    "    meas = qc.Measurement(exp=exp, station=station)\n",
    "    meas.register_parameter(lo_dac.frequency)\n",
    "    meas.register_parameter(lo_adc.freq_vec)\n",
    "    meas.register_custom_parameter(name='spectrum_mw_on',paramtype='array',setpoints=[lo_dac.frequency])\n",
    "    meas.register_custom_parameter(name='spectrum_mw_off',paramtype='array',setpoints=[lo_dac.frequency])\n",
    "\n",
    "    # meas.write_period = 10\n",
    "\n",
    "    with meas.run() as datasaver:\n",
    "    \n",
    "        id=datasaver.dataset.run_id\n",
    "        qc.load_by_run_spec( captured_run_id=id).add_metadata('parameter_snap',\n",
    "                             json.dumps(parameter_snap))\n",
    "\n",
    "        for f in tqdm(lo_dac_freq):\n",
    "            \n",
    "            lo_dac.frequency(f*1.e6)\n",
    "            \n",
    "            get_s_off  = np.zeros(int(lo_adc.freq_points())-1)\n",
    "            get_s      = np.zeros(int(lo_adc.freq_points())-1)\n",
    "            \n",
    "            # print(len(get_s))\n",
    "            \n",
    "            for n in tqdm(range(trace_average),leave=False):\n",
    "                \n",
    "                lo_adc.restartsweep()\n",
    "\n",
    "                res=rfsoc.IQINT_ALL.get()\n",
    "                I_no_avg = res[0][channel_ro-1].reshape(rfsoc.n_points(), 2*average)[:,2:] #we trash the first average point \n",
    "                Q_no_avg = res[1][channel_ro-1].reshape(rfsoc.n_points(), 2*average)[:,2:] #we trash the first average point \n",
    "\n",
    "                # print(I_no_avg[:,::2].shape)\n",
    "                # print(I_no_avg.shape)\n",
    "\n",
    "                I_no_avg_on  = I_no_avg[:,::2]\n",
    "                I_no_avg_off = I_no_avg[:,1::2]\n",
    "\n",
    "                Q_no_avg_on  = Q_no_avg[:,::2]\n",
    "                Q_no_avg_off = Q_no_avg[:,1::2]\n",
    "                \n",
    "                P_off = (1/adc_amp*2)**2*np.average(I_no_avg_off**2+Q_no_avg_off**2,axis=1) / 2 / 50\n",
    "                P_on = (1/adc_amp*2)**2*np.average(I_no_avg_on**2+Q_no_avg_on**2,axis=1) / 2 / 50\n",
    "\n",
    "                # print(len(P_off))\n",
    "                # print(len(P_on))\n",
    "                get_s_off  += P_off\n",
    "                get_s      += P_on\n",
    "\n",
    "            datasaver.add_result(('spectrum_mw_on', get_s/trace_average),('spectrum_mw_off',get_s_off/trace_average),(lo_dac.frequency,float(lo_dac.frequency())),\n",
    "                                 (lo_adc.freq_vec,lo_adc.freq_vec()))"
   ]
  },
  {
   "cell_type": "code",
   "execution_count": 76,
   "id": "fd1e8028-4b90-44a4-8ce3-d1ce8cd2f384",
   "metadata": {},
   "outputs": [],
   "source": [
    "a = np.zeros(10)\n",
    "b=np.random.normal(0,10,10)"
   ]
  },
  {
   "cell_type": "code",
   "execution_count": 77,
   "id": "24bc6e92-17aa-45cd-8be0-6b151eebdc82",
   "metadata": {},
   "outputs": [
    {
     "name": "stdout",
     "output_type": "stream",
     "text": [
      "Activating auto-logging. Current session state plus future input saved.\n",
      "Filename       : C:\\Users\\nicolas.ROCH\\.qcodes\\logs\\command_history.log\n",
      "Mode           : append\n",
      "Output logging : True\n",
      "Raw input log  : False\n",
      "Timestamping   : True\n",
      "State          : active\n",
      "Qcodes Logfile : C:\\Users\\nicolas.ROCH\\.qcodes\\logs\\221104-15432-qcodes.log\n"
     ]
    },
    {
     "name": "stderr",
     "output_type": "stream",
     "text": [
      "2022-11-04 11:31:38,803 ¦ qcodes.instrument.base ¦ WARNING ¦ base ¦ snapshot_base ¦ 269 ¦ [gs200_program(GS200Program)] Snapshot: Could not update parameter: trigger\n"
     ]
    }
   ],
   "source": [
    "start_all_logging()\n",
    "\n",
    "# Create a station\n",
    "station = qc.Station()\n",
    "station.add_component(rfsoc)\n",
    "station.add_component(lo_adc)\n",
    "station.add_component(lo_dac)\n",
    "station.add_component(I_source)\n",
    "\n",
    "station.snapshot()\n",
    "station.components\n",
    "\n",
    "# Experiment details\n",
    "date=datetime.datetime.today().strftime('%Y_%m_%d')\n",
    "user='DF'\n",
    "description='rfsoc_fluorescence'\n",
    "database_name = date+\"_\"+user+\"_\"+description"
   ]
  },
  {
   "cell_type": "code",
   "execution_count": 78,
   "id": "4009de00-b039-4641-b9b4-5eaad14dce3b",
   "metadata": {},
   "outputs": [],
   "source": [
    "script_dir=os.path.dirname(os.path.abspath(\"__file__\"))\n",
    "data_dir=os.path.join('C:\\\\QCodes_Driver_And_Scripts\\\\Data_QCodes\\\\Dorian\\\\'+date)\n",
    "\n",
    "try :\n",
    "    os.mkdir(data_dir)\n",
    "except FileExistsError:\n",
    "    pass\n",
    "\n",
    "data_dir=data_dir +'\\\\'+description\n",
    "\n",
    "try :\n",
    "    os.mkdir(data_dir)\n",
    "except FileExistsError:\n",
    "    pass"
   ]
  },
  {
   "cell_type": "code",
   "execution_count": 79,
   "id": "9c47eaa1-1fe7-48a3-86ec-fda66dfed3aa",
   "metadata": {},
   "outputs": [],
   "source": [
    "qc.initialise_or_create_database_at(data_dir+'\\\\'+database_name+'.db')\n",
    "qc.config.core.db_location\n",
    "\n",
    "parameter_snap={}"
   ]
  },
  {
   "cell_type": "code",
   "execution_count": 80,
   "id": "16e05d66-f483-44db-87ec-b753a364ecdc",
   "metadata": {},
   "outputs": [],
   "source": [
    "current = -14.856#mA\n",
    "# current = 0 #mA\n",
    "\n",
    "\n",
    "# Snapshot parameters\n",
    "parameter_snap['flux']={'current': current}"
   ]
  },
  {
   "cell_type": "code",
   "execution_count": 81,
   "id": "85f1d734-5772-47c9-8b2e-9eb3e2f2f6f0",
   "metadata": {},
   "outputs": [
    {
     "name": "stdout",
     "output_type": "stream",
     "text": [
      "0.31622776601683794\n"
     ]
    }
   ],
   "source": [
    "#rfsoc dac parameters\n",
    "amp_sig   = powtov(0)\n",
    "print(amp_sig)\n",
    "freq_if   = 100                #MHz\n",
    "dc_off    = 0\n",
    "phase_if  = 0\n",
    "phase_off = 258.6842 #deg\n",
    "\n",
    "# parameter_snap['rfsoc']={'amp_sig':amp_sig,'freq_if':freq_if,'dc_off':dc_off,'phase_if':phase_if,'phase_off':phase_off}\n",
    "\n",
    "#input tone \n",
    "freq_in_center = 2902 #MHz\n",
    "freq_in_span   = 400  #MHz\n",
    "freq_in_points = 50\n",
    "freq_in_points = 1\n",
    "freq_in_vec    = np.linspace(freq_in_center-0.5*freq_in_span,freq_in_center + 0.5*freq_in_span,freq_in_points)\n",
    "freq_in_vec    = np.array([freq_in_center])\n",
    "#lo dac parameters\n",
    "lo_dac_vec   = freq_in_vec - freq_if #USB\n",
    "lo_dac_power = 15 + 1.5          #adding the cable att \n",
    "\n",
    "parameter_snap['lo_dac']={'center':freq_in_center - freq_if, 'span':freq_in_span,'points':freq_in_points,'power':lo_dac_power}\n",
    "\n",
    "#output probe\n",
    "freq_out_center = 8460 #MHz\n",
    "freq_out_span   = 200#MHz\n",
    "# freq_out_points = 200\n",
    "freq_out_points = 100\n",
    "freq_out_vec    = np.linspace(freq_out_center-0.5*freq_out_span,freq_out_center + 0.5*freq_out_span,freq_out_points)\n",
    "#lo adc parameters\n",
    "lo_adc_vec    = freq_out_vec + freq_if # f_if = |f_lo - f_rf| \n",
    "lo_adc_power  = 20.5 + 1.5\n",
    "lo_adc_points = len(lo_adc_vec)\n",
    "parameter_snap['lo_adc']={'center':freq_out_center + freq_if, 'span':freq_out_span,'points':freq_out_points,'power':lo_adc_power}"
   ]
  },
  {
   "cell_type": "code",
   "execution_count": 82,
   "id": "0995c2b5-bf36-4d3d-b6ae-f44cf4fe7a75",
   "metadata": {},
   "outputs": [],
   "source": [
    "#pulse sequence definition\n",
    "#trigger \n",
    "time_start_trigger = rfsoc.time_conversion(0)\n",
    "trigger_length     = rfsoc.time_conversion(1) \n",
    "wait_after_trig    = rfsoc.time_conversion(10e3)\n",
    "#generation\n",
    "time_start_dac     = wait_after_trig + trigger_length\n",
    "#acquisition\n",
    "time_shift         = rfsoc.time_conversion(.5)\n",
    "time_start_adc     = time_start_dac + time_shift\n",
    "acq_length         = rfsoc.time_conversion(0.1)\n",
    "dead_time          = rfsoc.time_conversion(4.)\n",
    "\n",
    "#number of averages\n",
    "average = 500\n",
    "trace_average  = 1\n",
    "\n",
    "parameter_snap['pulse_seq']={'time_start_trig':time_start_trigger,'trigger_length':trigger_length,'time_start_dac':time_start_dac,'time_shift':time_shift,\n",
    "                             'time_start_adc':time_start_adc,'acq_length':acq_length,'dead_time':dead_time,'average':average,'trace_average':trace_average}"
   ]
  },
  {
   "cell_type": "code",
   "execution_count": null,
   "id": "62b6e4b9-417f-402a-8941-006e10f3265e",
   "metadata": {},
   "outputs": [],
   "source": []
  },
  {
   "cell_type": "code",
   "execution_count": 83,
   "id": "345ca17b-77c2-452d-94b9-9ae3950f34a6",
   "metadata": {},
   "outputs": [
    {
     "data": {
      "text/plain": [
       "50.0"
      ]
     },
     "execution_count": 83,
     "metadata": {},
     "output_type": "execute_result"
    }
   ],
   "source": [
    "2_500_000 / 50_000"
   ]
  },
  {
   "cell_type": "code",
   "execution_count": 84,
   "id": "57f3b6bd-e806-4a88-83cc-12110191b0c4",
   "metadata": {},
   "outputs": [],
   "source": [
    "channel_ro = 2 \n",
    "channel_demod = [2]"
   ]
  },
  {
   "cell_type": "code",
   "execution_count": 85,
   "id": "6922ed33-6eec-44ab-bad8-b1c55745cb5a",
   "metadata": {},
   "outputs": [],
   "source": [
    "#rfsoc mix ADC\n",
    "param_sin_1 = {'amp':1.0,\n",
    "               'freq':freq_if,\n",
    "               'dc_offset':0,\n",
    "               'phase_offset':0*np.pi/180}\n",
    "#rfsoc IQ DAC\n",
    "param_sin_I = {'amp':amp_sig,\n",
    "               'freq':freq_if,\n",
    "               'dc_offset':0.02653,\n",
    "               'phase_offset':0}\n",
    "\n",
    "param_sin_Q = {'amp':amp_sig*0.9417,\n",
    "               'freq':freq_if,\n",
    "               'dc_offset':0.01447,\n",
    "               'phase_offset':phase_off*np.pi/180}\n",
    "\n",
    "param_sin_I_off = {'amp':0,\n",
    "               'freq':freq_if,\n",
    "                'dc_offset':0.02653,\n",
    "               'phase_offset':0}\n",
    "\n",
    "param_sin_Q_off = {'amp':0,\n",
    "               'freq':freq_if,\n",
    "              'dc_offset':0.01447,\n",
    "               'phase_offset':phase_off*np.pi/180}\n",
    "\n",
    "pulse_sin_I = dict(label='signal_I', \n",
    "                      module='DAC', \n",
    "                      channel=1, \n",
    "                      mode='sin', \n",
    "                      start=time_start_dac, \n",
    "                      length=acq_length+2*time_shift,\n",
    "                      dead_time = acq_length +2*dead_time + 2*time_shift,\n",
    "                      repetitions=average,\n",
    "                      param=param_sin_I, \n",
    "                      LUT=True,\n",
    "                      starting_pointer=0,\n",
    "                      parent=None)\n",
    "\n",
    "pulse_sin_Q = dict(label='signal_Q', \n",
    "                      module='DAC', \n",
    "                      channel=2, \n",
    "                      mode='sin', \n",
    "                      start=time_start_dac, \n",
    "                      length=acq_length+2*time_shift,\n",
    "                      dead_time = acq_length +2*dead_time + 2*time_shift,\n",
    "                      repetitions=average,\n",
    "                      param=param_sin_Q, \n",
    "                      LUT=True,\n",
    "                      starting_pointer=0,\n",
    "                      parent=None)\n",
    "\n",
    "pulse_sin_I_off = dict(label='signal_I_off', \n",
    "                      module='DAC', \n",
    "                      channel=1, \n",
    "                      mode='sin', \n",
    "                      start=pulse_sin_I['start'] + pulse_sin_I['length']+dead_time, \n",
    "                      length=acq_length+2*time_shift,\n",
    "                      dead_time = dead_time,\n",
    "                      repetitions=average,\n",
    "                      param=param_sin_I_off, \n",
    "                      LUT=True,\n",
    "                      starting_pointer=0,\n",
    "                      parent=None)\n",
    "\n",
    "pulse_sin_Q_off = dict(label='signal_Q_off', \n",
    "                      module='DAC', \n",
    "                      channel=2, \n",
    "                      mode='sin', \n",
    "                      start=pulse_sin_Q['start'] + pulse_sin_Q['length']+dead_time, \n",
    "                      length=acq_length+2*time_shift,\n",
    "                      dead_time = dead_time,\n",
    "                      repetitions=average,\n",
    "                      param=param_sin_Q_off, \n",
    "                      LUT=True,\n",
    "                      starting_pointer=0,\n",
    "                      parent=None)\n",
    "\n",
    "# pulse_wait = dict(label='wait_after_trigger',\n",
    "#                       module='DAC', \n",
    "#                       channel=1, \n",
    "#                       mode='DC',\n",
    "#                       start=time_start_trigger + trigger_length,\n",
    "#                       length = time_start_dac - (time_start_trigger + trigger_length),\n",
    "#                       repetitions=1, \n",
    "#                       param={'amp':0},\n",
    "#                       LUT=True,\n",
    "#                       parent=None)\n",
    "\n",
    "record_sin_on = dict(label='record_signal_on', \n",
    "                      module='ADC', \n",
    "                      channel=channel_ro,\n",
    "                      LUT = True,\n",
    "                      demodulation_channels=channel_demod,\n",
    "                      mode='sin', \n",
    "                      start=time_start_adc, \n",
    "                      length=acq_length, \n",
    "                      dead_time = pulse_sin_I['length']+2*(dead_time)+2*time_shift,\n",
    "                      repetitions=average,\n",
    "                      param=[param_sin_1], \n",
    "                      parent=None)\n",
    "\n",
    "record_sin_off = dict(label='record_signal_off', \n",
    "                      module='ADC', \n",
    "                      channel=channel_ro,\n",
    "                      LUT = True,\n",
    "                      mode='sin', \n",
    "                      demodulation_channels=channel_demod,\n",
    "                      start=pulse_sin_I['start'] + pulse_sin_I['length'] + dead_time + time_shift, \n",
    "                      length=acq_length, \n",
    "                      dead_time = dead_time,\n",
    "                      repetitions=average,\n",
    "                      param=[param_sin_1], \n",
    "                      parent=None)\n",
    "\n",
    "trigger_pulse = dict(label='trigger', \n",
    "                     module='DAC', \n",
    "                     channel=1, \n",
    "                     mode='trigger', \n",
    "                     start =time_start_trigger, \n",
    "                     length=trigger_length, \n",
    "                     repetitions=1,\n",
    "                     LUT=True,\n",
    "                     starting_pointer=0,\n",
    "                     param=None, \n",
    "                     parent=None)\n",
    "                     \n",
    "parameter_snap['RfSoc'] = {'amp_sig' : amp_sig, 'freq_sig': freq_if, \n",
    "                          'phase_sig': phase_if, 'offset' : [dc_off,phase_off],\n",
    "                          'start_sig': time_start_adc, 'sig_length' : acq_length,\n",
    "                          'record_start': time_start_dac}\n",
    "pulses = pd.DataFrame()\n",
    "pulses = pd.concat([pulses, pd.DataFrame.from_records([trigger_pulse])], ignore_index=True)\n",
    "# pulses = pd.concat([pulses, pd.DataFrame.from_records([pulse_wait])], ignore_index=True)  \n",
    "pulses = pd.concat([pulses, pd.DataFrame.from_records([pulse_sin_I])], ignore_index=True)\n",
    "pulses = pd.concat([pulses, pd.DataFrame.from_records([pulse_sin_Q])], ignore_index=True)\n",
    "pulses = pd.concat([pulses, pd.DataFrame.from_records([pulse_sin_I_off])], ignore_index=True)\n",
    "pulses = pd.concat([pulses, pd.DataFrame.from_records([pulse_sin_Q_off])], ignore_index=True)\n",
    "pulses = pd.concat([pulses, pd.DataFrame.from_records([record_sin_on])], ignore_index=True)\n",
    "pulses = pd.concat([pulses, pd.DataFrame.from_records([record_sin_off])], ignore_index=True)\n",
    "\n",
    "rfsoc.pulses = pulses"
   ]
  },
  {
   "cell_type": "code",
   "execution_count": 86,
   "id": "56d80625-2950-4a49-938e-1250809ba50a",
   "metadata": {
    "tags": []
   },
   "outputs": [
    {
     "data": {
      "application/vnd.plotly.v1+json": {
       "config": {
        "plotlyServerURL": "https://plot.ly"
       },
       "data": [
        {
         "customdata": [
          [
           "wait 0",
           0,
           10001.5
          ],
          [
           "record_signal_on",
           10001.5,
           10001.6
          ],
          [
           "wait 1",
           10001.6,
           10008.6
          ],
          [
           "record_signal_off",
           10008.6,
           10008.7
          ],
          [
           "wait 2",
           10008.7,
           10014.7
          ]
         ],
         "hovertemplate": "label: %{customdata[0]: s} <br>start: %{customdata[1]:.3f} <br>stop: %{customdata[2]:.3f}",
         "marker": {
          "color": [
           "#D3D3D3",
           "#913608",
           "#808080",
           "#913608",
           "#808080"
          ]
         },
         "orientation": "h",
         "text": [
          "wait 0",
          "record_signal_on",
          "wait 1",
          "record_signal_off",
          "wait 2"
         ],
         "type": "bar",
         "x": [
          10001.5,
          0.1000000000003638,
          7,
          0.1000000000003638,
          6
         ],
         "xaxis": "x",
         "y": [
          "ADC ch2",
          "ADC ch2",
          "ADC ch2",
          "ADC ch2",
          "ADC ch2"
         ],
         "yaxis": "y"
        },
        {
         "customdata": [
          [
           "wait 5",
           0,
           10001
          ],
          [
           "signal_Q",
           10001,
           10002.1
          ],
          [
           "wait 6",
           10002.1,
           10008.1
          ],
          [
           "signal_Q_off",
           10008.1,
           10009.2
          ],
          [
           "wait 8",
           10009.2,
           10015.2
          ]
         ],
         "hovertemplate": "label: %{customdata[0]: s} <br>start: %{customdata[1]:.3f} <br>stop: %{customdata[2]:.3f}",
         "marker": {
          "color": [
           "#D3D3D3",
           "#234E90",
           "#808080",
           "#234E90",
           "#808080"
          ]
         },
         "orientation": "h",
         "text": [
          "wait 5",
          "signal_Q",
          "wait 6",
          "signal_Q_off",
          "wait 8"
         ],
         "type": "bar",
         "x": [
          10001,
          1.1000000000003638,
          6,
          1.1000000000003638,
          6
         ],
         "xaxis": "x2",
         "y": [
          "DAC ch2",
          "DAC ch2",
          "DAC ch2",
          "DAC ch2",
          "DAC ch2"
         ],
         "yaxis": "y2"
        },
        {
         "customdata": [
          [
           "trigger",
           0,
           1
          ],
          [
           "wait 3",
           1,
           10001
          ],
          [
           "signal_I",
           10001,
           10002.1
          ],
          [
           "wait 4",
           10002.1,
           10008.1
          ],
          [
           "signal_I_off",
           10008.1,
           10009.2
          ],
          [
           "wait 7",
           10009.2,
           10015.2
          ]
         ],
         "hovertemplate": "label: %{customdata[0]: s} <br>start: %{customdata[1]:.3f} <br>stop: %{customdata[2]:.3f}",
         "marker": {
          "color": [
           "#306CC7",
           "#D3D3D3",
           "#234E90",
           "#808080",
           "#234E90",
           "#808080"
          ]
         },
         "orientation": "h",
         "text": [
          "trigger",
          "wait 3",
          "signal_I",
          "wait 4",
          "signal_I_off",
          "wait 7"
         ],
         "type": "bar",
         "x": [
          1,
          10000,
          1.1000000000003638,
          6,
          1.1000000000003638,
          6
         ],
         "xaxis": "x3",
         "y": [
          "DAC ch1",
          "DAC ch1",
          "DAC ch1",
          "DAC ch1",
          "DAC ch1",
          "DAC ch1"
         ],
         "yaxis": "y3"
        }
       ],
       "layout": {
        "autosize": true,
        "showlegend": false,
        "template": {
         "data": {
          "bar": [
           {
            "error_x": {
             "color": "#2a3f5f"
            },
            "error_y": {
             "color": "#2a3f5f"
            },
            "marker": {
             "line": {
              "color": "#E5ECF6",
              "width": 0.5
             },
             "pattern": {
              "fillmode": "overlay",
              "size": 10,
              "solidity": 0.2
             }
            },
            "type": "bar"
           }
          ],
          "barpolar": [
           {
            "marker": {
             "line": {
              "color": "#E5ECF6",
              "width": 0.5
             },
             "pattern": {
              "fillmode": "overlay",
              "size": 10,
              "solidity": 0.2
             }
            },
            "type": "barpolar"
           }
          ],
          "carpet": [
           {
            "aaxis": {
             "endlinecolor": "#2a3f5f",
             "gridcolor": "white",
             "linecolor": "white",
             "minorgridcolor": "white",
             "startlinecolor": "#2a3f5f"
            },
            "baxis": {
             "endlinecolor": "#2a3f5f",
             "gridcolor": "white",
             "linecolor": "white",
             "minorgridcolor": "white",
             "startlinecolor": "#2a3f5f"
            },
            "type": "carpet"
           }
          ],
          "choropleth": [
           {
            "colorbar": {
             "outlinewidth": 0,
             "ticks": ""
            },
            "type": "choropleth"
           }
          ],
          "contour": [
           {
            "colorbar": {
             "outlinewidth": 0,
             "ticks": ""
            },
            "colorscale": [
             [
              0,
              "#0d0887"
             ],
             [
              0.1111111111111111,
              "#46039f"
             ],
             [
              0.2222222222222222,
              "#7201a8"
             ],
             [
              0.3333333333333333,
              "#9c179e"
             ],
             [
              0.4444444444444444,
              "#bd3786"
             ],
             [
              0.5555555555555556,
              "#d8576b"
             ],
             [
              0.6666666666666666,
              "#ed7953"
             ],
             [
              0.7777777777777778,
              "#fb9f3a"
             ],
             [
              0.8888888888888888,
              "#fdca26"
             ],
             [
              1,
              "#f0f921"
             ]
            ],
            "type": "contour"
           }
          ],
          "contourcarpet": [
           {
            "colorbar": {
             "outlinewidth": 0,
             "ticks": ""
            },
            "type": "contourcarpet"
           }
          ],
          "heatmap": [
           {
            "colorbar": {
             "outlinewidth": 0,
             "ticks": ""
            },
            "colorscale": [
             [
              0,
              "#0d0887"
             ],
             [
              0.1111111111111111,
              "#46039f"
             ],
             [
              0.2222222222222222,
              "#7201a8"
             ],
             [
              0.3333333333333333,
              "#9c179e"
             ],
             [
              0.4444444444444444,
              "#bd3786"
             ],
             [
              0.5555555555555556,
              "#d8576b"
             ],
             [
              0.6666666666666666,
              "#ed7953"
             ],
             [
              0.7777777777777778,
              "#fb9f3a"
             ],
             [
              0.8888888888888888,
              "#fdca26"
             ],
             [
              1,
              "#f0f921"
             ]
            ],
            "type": "heatmap"
           }
          ],
          "heatmapgl": [
           {
            "colorbar": {
             "outlinewidth": 0,
             "ticks": ""
            },
            "colorscale": [
             [
              0,
              "#0d0887"
             ],
             [
              0.1111111111111111,
              "#46039f"
             ],
             [
              0.2222222222222222,
              "#7201a8"
             ],
             [
              0.3333333333333333,
              "#9c179e"
             ],
             [
              0.4444444444444444,
              "#bd3786"
             ],
             [
              0.5555555555555556,
              "#d8576b"
             ],
             [
              0.6666666666666666,
              "#ed7953"
             ],
             [
              0.7777777777777778,
              "#fb9f3a"
             ],
             [
              0.8888888888888888,
              "#fdca26"
             ],
             [
              1,
              "#f0f921"
             ]
            ],
            "type": "heatmapgl"
           }
          ],
          "histogram": [
           {
            "marker": {
             "pattern": {
              "fillmode": "overlay",
              "size": 10,
              "solidity": 0.2
             }
            },
            "type": "histogram"
           }
          ],
          "histogram2d": [
           {
            "colorbar": {
             "outlinewidth": 0,
             "ticks": ""
            },
            "colorscale": [
             [
              0,
              "#0d0887"
             ],
             [
              0.1111111111111111,
              "#46039f"
             ],
             [
              0.2222222222222222,
              "#7201a8"
             ],
             [
              0.3333333333333333,
              "#9c179e"
             ],
             [
              0.4444444444444444,
              "#bd3786"
             ],
             [
              0.5555555555555556,
              "#d8576b"
             ],
             [
              0.6666666666666666,
              "#ed7953"
             ],
             [
              0.7777777777777778,
              "#fb9f3a"
             ],
             [
              0.8888888888888888,
              "#fdca26"
             ],
             [
              1,
              "#f0f921"
             ]
            ],
            "type": "histogram2d"
           }
          ],
          "histogram2dcontour": [
           {
            "colorbar": {
             "outlinewidth": 0,
             "ticks": ""
            },
            "colorscale": [
             [
              0,
              "#0d0887"
             ],
             [
              0.1111111111111111,
              "#46039f"
             ],
             [
              0.2222222222222222,
              "#7201a8"
             ],
             [
              0.3333333333333333,
              "#9c179e"
             ],
             [
              0.4444444444444444,
              "#bd3786"
             ],
             [
              0.5555555555555556,
              "#d8576b"
             ],
             [
              0.6666666666666666,
              "#ed7953"
             ],
             [
              0.7777777777777778,
              "#fb9f3a"
             ],
             [
              0.8888888888888888,
              "#fdca26"
             ],
             [
              1,
              "#f0f921"
             ]
            ],
            "type": "histogram2dcontour"
           }
          ],
          "mesh3d": [
           {
            "colorbar": {
             "outlinewidth": 0,
             "ticks": ""
            },
            "type": "mesh3d"
           }
          ],
          "parcoords": [
           {
            "line": {
             "colorbar": {
              "outlinewidth": 0,
              "ticks": ""
             }
            },
            "type": "parcoords"
           }
          ],
          "pie": [
           {
            "automargin": true,
            "type": "pie"
           }
          ],
          "scatter": [
           {
            "fillpattern": {
             "fillmode": "overlay",
             "size": 10,
             "solidity": 0.2
            },
            "type": "scatter"
           }
          ],
          "scatter3d": [
           {
            "line": {
             "colorbar": {
              "outlinewidth": 0,
              "ticks": ""
             }
            },
            "marker": {
             "colorbar": {
              "outlinewidth": 0,
              "ticks": ""
             }
            },
            "type": "scatter3d"
           }
          ],
          "scattercarpet": [
           {
            "marker": {
             "colorbar": {
              "outlinewidth": 0,
              "ticks": ""
             }
            },
            "type": "scattercarpet"
           }
          ],
          "scattergeo": [
           {
            "marker": {
             "colorbar": {
              "outlinewidth": 0,
              "ticks": ""
             }
            },
            "type": "scattergeo"
           }
          ],
          "scattergl": [
           {
            "marker": {
             "colorbar": {
              "outlinewidth": 0,
              "ticks": ""
             }
            },
            "type": "scattergl"
           }
          ],
          "scattermapbox": [
           {
            "marker": {
             "colorbar": {
              "outlinewidth": 0,
              "ticks": ""
             }
            },
            "type": "scattermapbox"
           }
          ],
          "scatterpolar": [
           {
            "marker": {
             "colorbar": {
              "outlinewidth": 0,
              "ticks": ""
             }
            },
            "type": "scatterpolar"
           }
          ],
          "scatterpolargl": [
           {
            "marker": {
             "colorbar": {
              "outlinewidth": 0,
              "ticks": ""
             }
            },
            "type": "scatterpolargl"
           }
          ],
          "scatterternary": [
           {
            "marker": {
             "colorbar": {
              "outlinewidth": 0,
              "ticks": ""
             }
            },
            "type": "scatterternary"
           }
          ],
          "surface": [
           {
            "colorbar": {
             "outlinewidth": 0,
             "ticks": ""
            },
            "colorscale": [
             [
              0,
              "#0d0887"
             ],
             [
              0.1111111111111111,
              "#46039f"
             ],
             [
              0.2222222222222222,
              "#7201a8"
             ],
             [
              0.3333333333333333,
              "#9c179e"
             ],
             [
              0.4444444444444444,
              "#bd3786"
             ],
             [
              0.5555555555555556,
              "#d8576b"
             ],
             [
              0.6666666666666666,
              "#ed7953"
             ],
             [
              0.7777777777777778,
              "#fb9f3a"
             ],
             [
              0.8888888888888888,
              "#fdca26"
             ],
             [
              1,
              "#f0f921"
             ]
            ],
            "type": "surface"
           }
          ],
          "table": [
           {
            "cells": {
             "fill": {
              "color": "#EBF0F8"
             },
             "line": {
              "color": "white"
             }
            },
            "header": {
             "fill": {
              "color": "#C8D4E3"
             },
             "line": {
              "color": "white"
             }
            },
            "type": "table"
           }
          ]
         },
         "layout": {
          "annotationdefaults": {
           "arrowcolor": "#2a3f5f",
           "arrowhead": 0,
           "arrowwidth": 1
          },
          "autotypenumbers": "strict",
          "coloraxis": {
           "colorbar": {
            "outlinewidth": 0,
            "ticks": ""
           }
          },
          "colorscale": {
           "diverging": [
            [
             0,
             "#8e0152"
            ],
            [
             0.1,
             "#c51b7d"
            ],
            [
             0.2,
             "#de77ae"
            ],
            [
             0.3,
             "#f1b6da"
            ],
            [
             0.4,
             "#fde0ef"
            ],
            [
             0.5,
             "#f7f7f7"
            ],
            [
             0.6,
             "#e6f5d0"
            ],
            [
             0.7,
             "#b8e186"
            ],
            [
             0.8,
             "#7fbc41"
            ],
            [
             0.9,
             "#4d9221"
            ],
            [
             1,
             "#276419"
            ]
           ],
           "sequential": [
            [
             0,
             "#0d0887"
            ],
            [
             0.1111111111111111,
             "#46039f"
            ],
            [
             0.2222222222222222,
             "#7201a8"
            ],
            [
             0.3333333333333333,
             "#9c179e"
            ],
            [
             0.4444444444444444,
             "#bd3786"
            ],
            [
             0.5555555555555556,
             "#d8576b"
            ],
            [
             0.6666666666666666,
             "#ed7953"
            ],
            [
             0.7777777777777778,
             "#fb9f3a"
            ],
            [
             0.8888888888888888,
             "#fdca26"
            ],
            [
             1,
             "#f0f921"
            ]
           ],
           "sequentialminus": [
            [
             0,
             "#0d0887"
            ],
            [
             0.1111111111111111,
             "#46039f"
            ],
            [
             0.2222222222222222,
             "#7201a8"
            ],
            [
             0.3333333333333333,
             "#9c179e"
            ],
            [
             0.4444444444444444,
             "#bd3786"
            ],
            [
             0.5555555555555556,
             "#d8576b"
            ],
            [
             0.6666666666666666,
             "#ed7953"
            ],
            [
             0.7777777777777778,
             "#fb9f3a"
            ],
            [
             0.8888888888888888,
             "#fdca26"
            ],
            [
             1,
             "#f0f921"
            ]
           ]
          },
          "colorway": [
           "#636efa",
           "#EF553B",
           "#00cc96",
           "#ab63fa",
           "#FFA15A",
           "#19d3f3",
           "#FF6692",
           "#B6E880",
           "#FF97FF",
           "#FECB52"
          ],
          "font": {
           "color": "#2a3f5f"
          },
          "geo": {
           "bgcolor": "white",
           "lakecolor": "white",
           "landcolor": "#E5ECF6",
           "showlakes": true,
           "showland": true,
           "subunitcolor": "white"
          },
          "hoverlabel": {
           "align": "left"
          },
          "hovermode": "closest",
          "mapbox": {
           "style": "light"
          },
          "paper_bgcolor": "white",
          "plot_bgcolor": "#E5ECF6",
          "polar": {
           "angularaxis": {
            "gridcolor": "white",
            "linecolor": "white",
            "ticks": ""
           },
           "bgcolor": "#E5ECF6",
           "radialaxis": {
            "gridcolor": "white",
            "linecolor": "white",
            "ticks": ""
           }
          },
          "scene": {
           "xaxis": {
            "backgroundcolor": "#E5ECF6",
            "gridcolor": "white",
            "gridwidth": 2,
            "linecolor": "white",
            "showbackground": true,
            "ticks": "",
            "zerolinecolor": "white"
           },
           "yaxis": {
            "backgroundcolor": "#E5ECF6",
            "gridcolor": "white",
            "gridwidth": 2,
            "linecolor": "white",
            "showbackground": true,
            "ticks": "",
            "zerolinecolor": "white"
           },
           "zaxis": {
            "backgroundcolor": "#E5ECF6",
            "gridcolor": "white",
            "gridwidth": 2,
            "linecolor": "white",
            "showbackground": true,
            "ticks": "",
            "zerolinecolor": "white"
           }
          },
          "shapedefaults": {
           "line": {
            "color": "#2a3f5f"
           }
          },
          "ternary": {
           "aaxis": {
            "gridcolor": "white",
            "linecolor": "white",
            "ticks": ""
           },
           "baxis": {
            "gridcolor": "white",
            "linecolor": "white",
            "ticks": ""
           },
           "bgcolor": "#E5ECF6",
           "caxis": {
            "gridcolor": "white",
            "linecolor": "white",
            "ticks": ""
           }
          },
          "title": {
           "x": 0.05
          },
          "xaxis": {
           "automargin": true,
           "gridcolor": "white",
           "linecolor": "white",
           "ticks": "",
           "title": {
            "standoff": 15
           },
           "zerolinecolor": "white",
           "zerolinewidth": 2
          },
          "yaxis": {
           "automargin": true,
           "gridcolor": "white",
           "linecolor": "white",
           "ticks": "",
           "title": {
            "standoff": 15
           },
           "zerolinecolor": "white",
           "zerolinewidth": 2
          }
         }
        },
        "xaxis": {
         "anchor": "y",
         "autorange": true,
         "domain": [
          0,
          1
         ],
         "matches": "x3",
         "range": [
          0,
          10542.315789473685
         ],
         "showticklabels": false,
         "type": "linear"
        },
        "xaxis2": {
         "anchor": "y2",
         "autorange": true,
         "domain": [
          0,
          1
         ],
         "matches": "x3",
         "range": [
          0,
          10542.315789473685
         ],
         "showticklabels": false,
         "type": "linear"
        },
        "xaxis3": {
         "anchor": "y3",
         "autorange": true,
         "domain": [
          0,
          1
         ],
         "range": [
          0,
          10542.315789473685
         ],
         "type": "linear"
        },
        "yaxis": {
         "anchor": "x",
         "autorange": true,
         "domain": [
          0.7333333333333333,
          1
         ],
         "range": [
          -0.5,
          0.5
         ],
         "type": "category"
        },
        "yaxis2": {
         "anchor": "x2",
         "autorange": true,
         "domain": [
          0.36666666666666664,
          0.6333333333333333
         ],
         "range": [
          -0.5,
          0.5
         ],
         "type": "category"
        },
        "yaxis3": {
         "anchor": "x3",
         "autorange": true,
         "domain": [
          0,
          0.26666666666666666
         ],
         "range": [
          -0.5,
          0.5
         ],
         "type": "category"
        }
       }
      },
      "text/html": [
       "<div>                            <div id=\"b2112801-b705-47b2-bf00-4b33b4f8c851\" class=\"plotly-graph-div\" style=\"height:525px; width:100%;\"></div>            <script type=\"text/javascript\">                require([\"plotly\"], function(Plotly) {                    window.PLOTLYENV=window.PLOTLYENV || {};                                    if (document.getElementById(\"b2112801-b705-47b2-bf00-4b33b4f8c851\")) {                    Plotly.newPlot(                        \"b2112801-b705-47b2-bf00-4b33b4f8c851\",                        [{\"customdata\":[[\"wait 0\",0.0,10001.5],[\"record_signal_on\",10001.5,10001.6],[\"wait 1\",10001.6,10008.6],[\"record_signal_off\",10008.6,10008.7],[\"wait 2\",10008.7,10014.7]],\"hovertemplate\":\"label: %{customdata[0]: s} <br>start: %{customdata[1]:.3f} <br>stop: %{customdata[2]:.3f}\",\"marker\":{\"color\":[\"#D3D3D3\",\"#913608\",\"#808080\",\"#913608\",\"#808080\"]},\"orientation\":\"h\",\"text\":[\"wait 0\",\"record_signal_on\",\"wait 1\",\"record_signal_off\",\"wait 2\"],\"x\":[10001.5,0.1000000000003638,7.0,0.1000000000003638,6.0],\"y\":[\"ADC ch2\",\"ADC ch2\",\"ADC ch2\",\"ADC ch2\",\"ADC ch2\"],\"type\":\"bar\",\"xaxis\":\"x\",\"yaxis\":\"y\"},{\"customdata\":[[\"wait 5\",0.0,10001.0],[\"signal_Q\",10001.0,10002.1],[\"wait 6\",10002.1,10008.1],[\"signal_Q_off\",10008.1,10009.2],[\"wait 8\",10009.2,10015.2]],\"hovertemplate\":\"label: %{customdata[0]: s} <br>start: %{customdata[1]:.3f} <br>stop: %{customdata[2]:.3f}\",\"marker\":{\"color\":[\"#D3D3D3\",\"#234E90\",\"#808080\",\"#234E90\",\"#808080\"]},\"orientation\":\"h\",\"text\":[\"wait 5\",\"signal_Q\",\"wait 6\",\"signal_Q_off\",\"wait 8\"],\"x\":[10001.0,1.1000000000003638,6.0,1.1000000000003638,6.0],\"y\":[\"DAC ch2\",\"DAC ch2\",\"DAC ch2\",\"DAC ch2\",\"DAC ch2\"],\"type\":\"bar\",\"xaxis\":\"x2\",\"yaxis\":\"y2\"},{\"customdata\":[[\"trigger\",0.0,1.0],[\"wait 3\",1.0,10001.0],[\"signal_I\",10001.0,10002.1],[\"wait 4\",10002.1,10008.1],[\"signal_I_off\",10008.1,10009.2],[\"wait 7\",10009.2,10015.2]],\"hovertemplate\":\"label: %{customdata[0]: s} <br>start: %{customdata[1]:.3f} <br>stop: %{customdata[2]:.3f}\",\"marker\":{\"color\":[\"#306CC7\",\"#D3D3D3\",\"#234E90\",\"#808080\",\"#234E90\",\"#808080\"]},\"orientation\":\"h\",\"text\":[\"trigger\",\"wait 3\",\"signal_I\",\"wait 4\",\"signal_I_off\",\"wait 7\"],\"x\":[1.0,10000.0,1.1000000000003638,6.0,1.1000000000003638,6.0],\"y\":[\"DAC ch1\",\"DAC ch1\",\"DAC ch1\",\"DAC ch1\",\"DAC ch1\",\"DAC ch1\"],\"type\":\"bar\",\"xaxis\":\"x3\",\"yaxis\":\"y3\"}],                        {\"template\":{\"data\":{\"histogram2dcontour\":[{\"type\":\"histogram2dcontour\",\"colorbar\":{\"outlinewidth\":0,\"ticks\":\"\"},\"colorscale\":[[0.0,\"#0d0887\"],[0.1111111111111111,\"#46039f\"],[0.2222222222222222,\"#7201a8\"],[0.3333333333333333,\"#9c179e\"],[0.4444444444444444,\"#bd3786\"],[0.5555555555555556,\"#d8576b\"],[0.6666666666666666,\"#ed7953\"],[0.7777777777777778,\"#fb9f3a\"],[0.8888888888888888,\"#fdca26\"],[1.0,\"#f0f921\"]]}],\"choropleth\":[{\"type\":\"choropleth\",\"colorbar\":{\"outlinewidth\":0,\"ticks\":\"\"}}],\"histogram2d\":[{\"type\":\"histogram2d\",\"colorbar\":{\"outlinewidth\":0,\"ticks\":\"\"},\"colorscale\":[[0.0,\"#0d0887\"],[0.1111111111111111,\"#46039f\"],[0.2222222222222222,\"#7201a8\"],[0.3333333333333333,\"#9c179e\"],[0.4444444444444444,\"#bd3786\"],[0.5555555555555556,\"#d8576b\"],[0.6666666666666666,\"#ed7953\"],[0.7777777777777778,\"#fb9f3a\"],[0.8888888888888888,\"#fdca26\"],[1.0,\"#f0f921\"]]}],\"heatmap\":[{\"type\":\"heatmap\",\"colorbar\":{\"outlinewidth\":0,\"ticks\":\"\"},\"colorscale\":[[0.0,\"#0d0887\"],[0.1111111111111111,\"#46039f\"],[0.2222222222222222,\"#7201a8\"],[0.3333333333333333,\"#9c179e\"],[0.4444444444444444,\"#bd3786\"],[0.5555555555555556,\"#d8576b\"],[0.6666666666666666,\"#ed7953\"],[0.7777777777777778,\"#fb9f3a\"],[0.8888888888888888,\"#fdca26\"],[1.0,\"#f0f921\"]]}],\"heatmapgl\":[{\"type\":\"heatmapgl\",\"colorbar\":{\"outlinewidth\":0,\"ticks\":\"\"},\"colorscale\":[[0.0,\"#0d0887\"],[0.1111111111111111,\"#46039f\"],[0.2222222222222222,\"#7201a8\"],[0.3333333333333333,\"#9c179e\"],[0.4444444444444444,\"#bd3786\"],[0.5555555555555556,\"#d8576b\"],[0.6666666666666666,\"#ed7953\"],[0.7777777777777778,\"#fb9f3a\"],[0.8888888888888888,\"#fdca26\"],[1.0,\"#f0f921\"]]}],\"contourcarpet\":[{\"type\":\"contourcarpet\",\"colorbar\":{\"outlinewidth\":0,\"ticks\":\"\"}}],\"contour\":[{\"type\":\"contour\",\"colorbar\":{\"outlinewidth\":0,\"ticks\":\"\"},\"colorscale\":[[0.0,\"#0d0887\"],[0.1111111111111111,\"#46039f\"],[0.2222222222222222,\"#7201a8\"],[0.3333333333333333,\"#9c179e\"],[0.4444444444444444,\"#bd3786\"],[0.5555555555555556,\"#d8576b\"],[0.6666666666666666,\"#ed7953\"],[0.7777777777777778,\"#fb9f3a\"],[0.8888888888888888,\"#fdca26\"],[1.0,\"#f0f921\"]]}],\"surface\":[{\"type\":\"surface\",\"colorbar\":{\"outlinewidth\":0,\"ticks\":\"\"},\"colorscale\":[[0.0,\"#0d0887\"],[0.1111111111111111,\"#46039f\"],[0.2222222222222222,\"#7201a8\"],[0.3333333333333333,\"#9c179e\"],[0.4444444444444444,\"#bd3786\"],[0.5555555555555556,\"#d8576b\"],[0.6666666666666666,\"#ed7953\"],[0.7777777777777778,\"#fb9f3a\"],[0.8888888888888888,\"#fdca26\"],[1.0,\"#f0f921\"]]}],\"mesh3d\":[{\"type\":\"mesh3d\",\"colorbar\":{\"outlinewidth\":0,\"ticks\":\"\"}}],\"scatter\":[{\"fillpattern\":{\"fillmode\":\"overlay\",\"size\":10,\"solidity\":0.2},\"type\":\"scatter\"}],\"parcoords\":[{\"type\":\"parcoords\",\"line\":{\"colorbar\":{\"outlinewidth\":0,\"ticks\":\"\"}}}],\"scatterpolargl\":[{\"type\":\"scatterpolargl\",\"marker\":{\"colorbar\":{\"outlinewidth\":0,\"ticks\":\"\"}}}],\"bar\":[{\"error_x\":{\"color\":\"#2a3f5f\"},\"error_y\":{\"color\":\"#2a3f5f\"},\"marker\":{\"line\":{\"color\":\"#E5ECF6\",\"width\":0.5},\"pattern\":{\"fillmode\":\"overlay\",\"size\":10,\"solidity\":0.2}},\"type\":\"bar\"}],\"scattergeo\":[{\"type\":\"scattergeo\",\"marker\":{\"colorbar\":{\"outlinewidth\":0,\"ticks\":\"\"}}}],\"scatterpolar\":[{\"type\":\"scatterpolar\",\"marker\":{\"colorbar\":{\"outlinewidth\":0,\"ticks\":\"\"}}}],\"histogram\":[{\"marker\":{\"pattern\":{\"fillmode\":\"overlay\",\"size\":10,\"solidity\":0.2}},\"type\":\"histogram\"}],\"scattergl\":[{\"type\":\"scattergl\",\"marker\":{\"colorbar\":{\"outlinewidth\":0,\"ticks\":\"\"}}}],\"scatter3d\":[{\"type\":\"scatter3d\",\"line\":{\"colorbar\":{\"outlinewidth\":0,\"ticks\":\"\"}},\"marker\":{\"colorbar\":{\"outlinewidth\":0,\"ticks\":\"\"}}}],\"scattermapbox\":[{\"type\":\"scattermapbox\",\"marker\":{\"colorbar\":{\"outlinewidth\":0,\"ticks\":\"\"}}}],\"scatterternary\":[{\"type\":\"scatterternary\",\"marker\":{\"colorbar\":{\"outlinewidth\":0,\"ticks\":\"\"}}}],\"scattercarpet\":[{\"type\":\"scattercarpet\",\"marker\":{\"colorbar\":{\"outlinewidth\":0,\"ticks\":\"\"}}}],\"carpet\":[{\"aaxis\":{\"endlinecolor\":\"#2a3f5f\",\"gridcolor\":\"white\",\"linecolor\":\"white\",\"minorgridcolor\":\"white\",\"startlinecolor\":\"#2a3f5f\"},\"baxis\":{\"endlinecolor\":\"#2a3f5f\",\"gridcolor\":\"white\",\"linecolor\":\"white\",\"minorgridcolor\":\"white\",\"startlinecolor\":\"#2a3f5f\"},\"type\":\"carpet\"}],\"table\":[{\"cells\":{\"fill\":{\"color\":\"#EBF0F8\"},\"line\":{\"color\":\"white\"}},\"header\":{\"fill\":{\"color\":\"#C8D4E3\"},\"line\":{\"color\":\"white\"}},\"type\":\"table\"}],\"barpolar\":[{\"marker\":{\"line\":{\"color\":\"#E5ECF6\",\"width\":0.5},\"pattern\":{\"fillmode\":\"overlay\",\"size\":10,\"solidity\":0.2}},\"type\":\"barpolar\"}],\"pie\":[{\"automargin\":true,\"type\":\"pie\"}]},\"layout\":{\"autotypenumbers\":\"strict\",\"colorway\":[\"#636efa\",\"#EF553B\",\"#00cc96\",\"#ab63fa\",\"#FFA15A\",\"#19d3f3\",\"#FF6692\",\"#B6E880\",\"#FF97FF\",\"#FECB52\"],\"font\":{\"color\":\"#2a3f5f\"},\"hovermode\":\"closest\",\"hoverlabel\":{\"align\":\"left\"},\"paper_bgcolor\":\"white\",\"plot_bgcolor\":\"#E5ECF6\",\"polar\":{\"bgcolor\":\"#E5ECF6\",\"angularaxis\":{\"gridcolor\":\"white\",\"linecolor\":\"white\",\"ticks\":\"\"},\"radialaxis\":{\"gridcolor\":\"white\",\"linecolor\":\"white\",\"ticks\":\"\"}},\"ternary\":{\"bgcolor\":\"#E5ECF6\",\"aaxis\":{\"gridcolor\":\"white\",\"linecolor\":\"white\",\"ticks\":\"\"},\"baxis\":{\"gridcolor\":\"white\",\"linecolor\":\"white\",\"ticks\":\"\"},\"caxis\":{\"gridcolor\":\"white\",\"linecolor\":\"white\",\"ticks\":\"\"}},\"coloraxis\":{\"colorbar\":{\"outlinewidth\":0,\"ticks\":\"\"}},\"colorscale\":{\"sequential\":[[0.0,\"#0d0887\"],[0.1111111111111111,\"#46039f\"],[0.2222222222222222,\"#7201a8\"],[0.3333333333333333,\"#9c179e\"],[0.4444444444444444,\"#bd3786\"],[0.5555555555555556,\"#d8576b\"],[0.6666666666666666,\"#ed7953\"],[0.7777777777777778,\"#fb9f3a\"],[0.8888888888888888,\"#fdca26\"],[1.0,\"#f0f921\"]],\"sequentialminus\":[[0.0,\"#0d0887\"],[0.1111111111111111,\"#46039f\"],[0.2222222222222222,\"#7201a8\"],[0.3333333333333333,\"#9c179e\"],[0.4444444444444444,\"#bd3786\"],[0.5555555555555556,\"#d8576b\"],[0.6666666666666666,\"#ed7953\"],[0.7777777777777778,\"#fb9f3a\"],[0.8888888888888888,\"#fdca26\"],[1.0,\"#f0f921\"]],\"diverging\":[[0,\"#8e0152\"],[0.1,\"#c51b7d\"],[0.2,\"#de77ae\"],[0.3,\"#f1b6da\"],[0.4,\"#fde0ef\"],[0.5,\"#f7f7f7\"],[0.6,\"#e6f5d0\"],[0.7,\"#b8e186\"],[0.8,\"#7fbc41\"],[0.9,\"#4d9221\"],[1,\"#276419\"]]},\"xaxis\":{\"gridcolor\":\"white\",\"linecolor\":\"white\",\"ticks\":\"\",\"title\":{\"standoff\":15},\"zerolinecolor\":\"white\",\"automargin\":true,\"zerolinewidth\":2},\"yaxis\":{\"gridcolor\":\"white\",\"linecolor\":\"white\",\"ticks\":\"\",\"title\":{\"standoff\":15},\"zerolinecolor\":\"white\",\"automargin\":true,\"zerolinewidth\":2},\"scene\":{\"xaxis\":{\"backgroundcolor\":\"#E5ECF6\",\"gridcolor\":\"white\",\"linecolor\":\"white\",\"showbackground\":true,\"ticks\":\"\",\"zerolinecolor\":\"white\",\"gridwidth\":2},\"yaxis\":{\"backgroundcolor\":\"#E5ECF6\",\"gridcolor\":\"white\",\"linecolor\":\"white\",\"showbackground\":true,\"ticks\":\"\",\"zerolinecolor\":\"white\",\"gridwidth\":2},\"zaxis\":{\"backgroundcolor\":\"#E5ECF6\",\"gridcolor\":\"white\",\"linecolor\":\"white\",\"showbackground\":true,\"ticks\":\"\",\"zerolinecolor\":\"white\",\"gridwidth\":2}},\"shapedefaults\":{\"line\":{\"color\":\"#2a3f5f\"}},\"annotationdefaults\":{\"arrowcolor\":\"#2a3f5f\",\"arrowhead\":0,\"arrowwidth\":1},\"geo\":{\"bgcolor\":\"white\",\"landcolor\":\"#E5ECF6\",\"subunitcolor\":\"white\",\"showland\":true,\"showlakes\":true,\"lakecolor\":\"white\"},\"title\":{\"x\":0.05},\"mapbox\":{\"style\":\"light\"}}},\"xaxis\":{\"anchor\":\"y\",\"domain\":[0.0,1.0],\"matches\":\"x3\",\"showticklabels\":false},\"yaxis\":{\"anchor\":\"x\",\"domain\":[0.7333333333333333,1.0]},\"xaxis2\":{\"anchor\":\"y2\",\"domain\":[0.0,1.0],\"matches\":\"x3\",\"showticklabels\":false},\"yaxis2\":{\"anchor\":\"x2\",\"domain\":[0.36666666666666664,0.6333333333333333]},\"xaxis3\":{\"anchor\":\"y3\",\"domain\":[0.0,1.0]},\"yaxis3\":{\"anchor\":\"x3\",\"domain\":[0.0,0.26666666666666666]},\"showlegend\":false},                        {\"responsive\": true}                    ).then(function(){\n",
       "                            \n",
       "var gd = document.getElementById('b2112801-b705-47b2-bf00-4b33b4f8c851');\n",
       "var x = new MutationObserver(function (mutations, observer) {{\n",
       "        var display = window.getComputedStyle(gd).display;\n",
       "        if (!display || display === 'none') {{\n",
       "            console.log([gd, 'removed!']);\n",
       "            Plotly.purge(gd);\n",
       "            observer.disconnect();\n",
       "        }}\n",
       "}});\n",
       "\n",
       "// Listen for the removal of the full notebook cells\n",
       "var notebookContainer = gd.closest('#notebook-container');\n",
       "if (notebookContainer) {{\n",
       "    x.observe(notebookContainer, {childList: true});\n",
       "}}\n",
       "\n",
       "// Listen for the clearing of the current output cell\n",
       "var outputEl = gd.closest('.output');\n",
       "if (outputEl) {{\n",
       "    x.observe(outputEl, {childList: true});\n",
       "}}\n",
       "\n",
       "                        })                };                });            </script>        </div>"
      ]
     },
     "metadata": {},
     "output_type": "display_data"
    }
   ],
   "source": [
    "# rfsoc.stop_play()\n",
    "rfsoc.acquisition_mode('INT')\n",
    "# rfsoc.ADC1.fmixer(0)\n",
    "# rfsoc.freq_sync(10e6)\n",
    "# rfsoc.ADC1.status('ON')\n",
    "# rfsoc.output_format('BIN')\n",
    "rfsoc.n_points(freq_out_points)\n",
    "rfsoc.process_sequencing_IQ_table()"
   ]
  },
  {
   "cell_type": "code",
   "execution_count": 19,
   "id": "1afdefad-4c1e-4aa2-ac2a-8af4a7e0f279",
   "metadata": {},
   "outputs": [
    {
     "name": "stderr",
     "output_type": "stream",
     "text": [
      "2022-11-03 17:32:58,517 ¦ RS_SMB_100A ¦ WARNING ¦ RS_SMB_100A ¦ warn_over_range ¦ 198 ¦ Power over range (limit to 16 dBm).\n"
     ]
    },
    {
     "name": "stdout",
     "output_type": "stream",
     "text": [
      "2.0202020202013955\n",
      "2.020202021\n"
     ]
    }
   ],
   "source": [
    "#set up sources \n",
    "# dac source \n",
    "lo_dac.frequency(lo_dac_vec[0]*1.e6)\n",
    "lo_dac.power(lo_dac_power)\n",
    "\n",
    "#adc source\n",
    "lo_adc.freq_points(len(lo_adc_vec))\n",
    "lo_adc.set_gui_update('off')\n",
    "lo_adc.power(lo_adc_power)\n",
    "lo_adc.sourcemode('sweep')\n",
    "lo_adc.sweepmode('STEP')\n",
    "lo_adc.trigger_mode('EXT')\n",
    "lo_adc.spacing_freq('LIN')\n",
    "\n",
    "freq_step = lo_adc_vec[1]-lo_adc_vec[0]\n",
    "print(freq_step)\n",
    "\n",
    "lo_adc.freq_start((lo_adc_vec[0]-freq_step)*1e6) # Hack to take into account that the first frequency point of MW_source doesn't send a trigger to the VNA\n",
    "lo_adc.freq_stop(lo_adc_vec[-1]*1e6)\n",
    "lo_adc.freq_step(freq_step*1e6)\n",
    "lo_adc.freq_points(len(lo_adc_vec)+1)\n",
    "lo_adc.restartsweep()\n",
    "print(lo_adc.freq_step()*1.e-6)\n",
    "lo_dac.status('on')\n",
    "lo_adc.status('on')"
   ]
  },
  {
   "cell_type": "code",
   "execution_count": 20,
   "id": "002cccf4-b890-4bd2-853b-fa77a37df7e4",
   "metadata": {},
   "outputs": [
    {
     "data": {
      "text/plain": [
       "100"
      ]
     },
     "execution_count": 20,
     "metadata": {},
     "output_type": "execute_result"
    }
   ],
   "source": [
    "len(lo_adc_vec)"
   ]
  },
  {
   "cell_type": "code",
   "execution_count": 21,
   "id": "d20b2557-467a-493d-8f1e-6f29e23bc022",
   "metadata": {},
   "outputs": [],
   "source": [
    "if I_source.output()=='on':\n",
    "    I_source.output('off')\n",
    "\n",
    "I_source.source_mode('CURR')\n",
    "I_source.range(100e-3)\n",
    "  \n",
    "I_source.current(current*1.e-3)\n",
    "\n",
    "I_source.output('on')\n"
   ]
  },
  {
   "cell_type": "code",
   "execution_count": 22,
   "id": "17711249-ed41-430a-8378-98152e0fd135",
   "metadata": {
    "tags": []
   },
   "outputs": [
    {
     "name": "stdout",
     "output_type": "stream",
     "text": [
      "Starting experimental run with id: 12. \n"
     ]
    },
    {
     "data": {
      "application/vnd.jupyter.widget-view+json": {
       "model_id": "ea2adf74eb554e659caf3858baf0a4e4",
       "version_major": 2,
       "version_minor": 0
      },
      "text/plain": [
       "  0%|          | 0/1 [00:00<?, ?it/s]"
      ]
     },
     "metadata": {},
     "output_type": "display_data"
    },
    {
     "data": {
      "application/vnd.jupyter.widget-view+json": {
       "model_id": "80a1aae5478b4411b6de0041fd335cfe",
       "version_major": 2,
       "version_minor": 0
      },
      "text/plain": [
       "  0%|          | 0/2000 [00:00<?, ?it/s]"
      ]
     },
     "metadata": {},
     "output_type": "display_data"
    }
   ],
   "source": [
    "# Load experiment\n",
    "exp_name = 'rfsoc_fluorescence'\n",
    "\n",
    "sample_name = 'B5_G3_GALV_SQ200_1ST'\n",
    "\n",
    "exp=qc.load_or_create_experiment(experiment_name=exp_name,sample_name=sample_name)\n",
    "\n",
    "measure(lo_dac_freq=lo_dac_vec,adc_amp=param_sin_1['amp'], exp=exp, station=station)\n",
    "\n",
    "# Shutdown devices\n",
    "lo_adc.status('off')\n",
    "lo_dac.status('off')\n",
    "I_source.reset()\n",
    "rfsoc.stop_play()\n"
   ]
  },
  {
   "cell_type": "code",
   "execution_count": 23,
   "id": "c317c68f-6d1e-4b51-bc1f-1881441da18d",
   "metadata": {},
   "outputs": [],
   "source": [
    "lo_adc.status('off')\n",
    "lo_dac.status('off')\n",
    "I_source.reset()"
   ]
  },
  {
   "cell_type": "code",
   "execution_count": null,
   "id": "df84cb17-9331-4d40-badc-c2b037828087",
   "metadata": {},
   "outputs": [],
   "source": []
  },
  {
   "cell_type": "code",
   "execution_count": null,
   "id": "92fd4419-5121-4ff5-8c3a-a1a18a2ed008",
   "metadata": {},
   "outputs": [],
   "source": []
  },
  {
   "cell_type": "code",
   "execution_count": 87,
   "id": "d4d46a77-7ef4-47f9-98dd-28e9724bbcd6",
   "metadata": {},
   "outputs": [],
   "source": [
    "trace_avg_vec = np.unique(np.logspace(0,3,15,dtype=int))[11:]"
   ]
  },
  {
   "cell_type": "code",
   "execution_count": 88,
   "id": "d1a24267-294e-4de1-b754-3f63513ee7aa",
   "metadata": {},
   "outputs": [
    {
     "data": {
      "text/plain": [
       "array([ 372,  610, 1000])"
      ]
     },
     "execution_count": 88,
     "metadata": {},
     "output_type": "execute_result"
    }
   ],
   "source": [
    "trace_avg_vec"
   ]
  },
  {
   "cell_type": "code",
   "execution_count": 89,
   "id": "d57c1061-2c3a-485b-9190-0c1c367ddfbb",
   "metadata": {
    "tags": []
   },
   "outputs": [
    {
     "name": "stderr",
     "output_type": "stream",
     "text": [
      "2022-11-04 11:31:47,131 ¦ RS_SMB_100A ¦ WARNING ¦ RS_SMB_100A ¦ warn_over_range ¦ 198 ¦ Power over range (limit to 16 dBm).\n"
     ]
    },
    {
     "name": "stdout",
     "output_type": "stream",
     "text": [
      "2.0202020202013955\n",
      "2.020202021\n",
      "Starting experimental run with id: 44. \n"
     ]
    },
    {
     "data": {
      "application/vnd.jupyter.widget-view+json": {
       "model_id": "3dae9c7d7f0a4c23bd194f2344a4ae50",
       "version_major": 2,
       "version_minor": 0
      },
      "text/plain": [
       "  0%|          | 0/1 [00:00<?, ?it/s]"
      ]
     },
     "metadata": {},
     "output_type": "display_data"
    },
    {
     "data": {
      "application/vnd.jupyter.widget-view+json": {
       "model_id": "",
       "version_major": 2,
       "version_minor": 0
      },
      "text/plain": [
       "  0%|          | 0/372 [00:00<?, ?it/s]"
      ]
     },
     "metadata": {},
     "output_type": "display_data"
    },
    {
     "name": "stderr",
     "output_type": "stream",
     "text": [
      "2022-11-04 11:45:44,697 ¦ RS_SMB_100A ¦ WARNING ¦ RS_SMB_100A ¦ warn_over_range ¦ 198 ¦ Power over range (limit to 16 dBm).\n"
     ]
    },
    {
     "name": "stdout",
     "output_type": "stream",
     "text": [
      "2.0202020202013955\n",
      "2.020202021\n",
      "Starting experimental run with id: 45. \n"
     ]
    },
    {
     "data": {
      "application/vnd.jupyter.widget-view+json": {
       "model_id": "b1e07022b9db4687ab5ca4343dce2182",
       "version_major": 2,
       "version_minor": 0
      },
      "text/plain": [
       "  0%|          | 0/1 [00:00<?, ?it/s]"
      ]
     },
     "metadata": {},
     "output_type": "display_data"
    },
    {
     "data": {
      "application/vnd.jupyter.widget-view+json": {
       "model_id": "",
       "version_major": 2,
       "version_minor": 0
      },
      "text/plain": [
       "  0%|          | 0/610 [00:00<?, ?it/s]"
      ]
     },
     "metadata": {},
     "output_type": "display_data"
    },
    {
     "name": "stderr",
     "output_type": "stream",
     "text": [
      "2022-11-04 12:08:39,351 ¦ RS_SMB_100A ¦ WARNING ¦ RS_SMB_100A ¦ warn_over_range ¦ 198 ¦ Power over range (limit to 16 dBm).\n"
     ]
    },
    {
     "name": "stdout",
     "output_type": "stream",
     "text": [
      "2.0202020202013955\n",
      "2.020202021\n",
      "Starting experimental run with id: 46. \n"
     ]
    },
    {
     "data": {
      "application/vnd.jupyter.widget-view+json": {
       "model_id": "0fcd4d2ded2946a0966edb38e7cbb9f4",
       "version_major": 2,
       "version_minor": 0
      },
      "text/plain": [
       "  0%|          | 0/1 [00:00<?, ?it/s]"
      ]
     },
     "metadata": {},
     "output_type": "display_data"
    },
    {
     "data": {
      "application/vnd.jupyter.widget-view+json": {
       "model_id": "cd531cb3565d400aa96d76cb608e5933",
       "version_major": 2,
       "version_minor": 0
      },
      "text/plain": [
       "  0%|          | 0/1000 [00:00<?, ?it/s]"
      ]
     },
     "metadata": {},
     "output_type": "display_data"
    },
    {
     "name": "stderr",
     "output_type": "stream",
     "text": [
      "2022-11-04 12:14:31,326 ¦ RFSoC ¦ ERROR ¦ RFSoC ¦ get_readout_pulse ¦ 2351 ¦ Data curruption: rfSoC did not send all data points(251112/100000).\n",
      "2022-11-04 12:14:38,219 ¦ qcodes.dataset.measurements ¦ WARNING ¦ measurements ¦ __exit__ ¦ 659 ¦ An exception occured in measurement with guid: aaaaaaaa-0000-0000-0000-018442541cb3;\n",
      "Traceback:\n",
      "Traceback (most recent call last):\n",
      "  File \"C:\\Users\\nicolas.ROCH\\AppData\\Local\\Temp\\ipykernel_15432\\3604105791.py\", line 30, in measure\n",
      "    res=rfsoc.IQINT_ALL.get()\n",
      "  File \"C:\\Users\\nicolas.ROCH\\Miniconda3\\envs\\qcodes\\lib\\site-packages\\qcodes\\instrument\\parameter.py\", line 661, in get_wrapper\n",
      "    raise e\n",
      "  File \"C:\\Users\\nicolas.ROCH\\Miniconda3\\envs\\qcodes\\lib\\site-packages\\qcodes\\instrument\\parameter.py\", line 648, in get_wrapper\n",
      "    raw_value = get_function(*args, **kwargs)\n",
      "  File \"C:\\QCodes_Driver_And_Scripts\\drivers\\RFSoC.py\", line 136, in get_raw\n",
      "    data_retI, data_retQ = self._instrument.get_readout_pulse()\n",
      "  File \"C:\\QCodes_Driver_And_Scripts\\drivers\\RFSoC.py\", line 2317, in get_readout_pulse\n",
      "    data_unsorted['{}'.format(run_num)] = r\n",
      "TypeError: ('list indices must be integers or slices, not str', 'getting RFSoC_IQINT_ALL')\n",
      "\n"
     ]
    },
    {
     "ename": "TypeError",
     "evalue": "('list indices must be integers or slices, not str', 'getting RFSoC_IQINT_ALL')",
     "output_type": "error",
     "traceback": [
      "\u001b[1;31m---------------------------------------------------------------------------\u001b[0m",
      "\u001b[1;31mTypeError\u001b[0m                                 Traceback (most recent call last)",
      "Cell \u001b[1;32mIn [89], line 50\u001b[0m\n\u001b[0;32m     46\u001b[0m sample_name \u001b[38;5;241m=\u001b[39m \u001b[38;5;124m'\u001b[39m\u001b[38;5;124mB5_G3_GALV_SQ200_1ST\u001b[39m\u001b[38;5;124m'\u001b[39m\n\u001b[0;32m     48\u001b[0m exp\u001b[38;5;241m=\u001b[39mqc\u001b[38;5;241m.\u001b[39mload_or_create_experiment(experiment_name\u001b[38;5;241m=\u001b[39mexp_name,sample_name\u001b[38;5;241m=\u001b[39msample_name)\n\u001b[1;32m---> 50\u001b[0m \u001b[43mmeasure\u001b[49m\u001b[43m(\u001b[49m\u001b[43mlo_dac_freq\u001b[49m\u001b[38;5;241;43m=\u001b[39;49m\u001b[43mlo_dac_vec\u001b[49m\u001b[43m,\u001b[49m\u001b[43madc_amp\u001b[49m\u001b[38;5;241;43m=\u001b[39;49m\u001b[43mparam_sin_1\u001b[49m\u001b[43m[\u001b[49m\u001b[38;5;124;43m'\u001b[39;49m\u001b[38;5;124;43mamp\u001b[39;49m\u001b[38;5;124;43m'\u001b[39;49m\u001b[43m]\u001b[49m\u001b[43m,\u001b[49m\u001b[43m \u001b[49m\u001b[43mexp\u001b[49m\u001b[38;5;241;43m=\u001b[39;49m\u001b[43mexp\u001b[49m\u001b[43m,\u001b[49m\u001b[43m \u001b[49m\u001b[43mstation\u001b[49m\u001b[38;5;241;43m=\u001b[39;49m\u001b[43mstation\u001b[49m\u001b[43m)\u001b[49m\n\u001b[0;32m     52\u001b[0m \u001b[38;5;66;03m# Shutdown devices\u001b[39;00m\n\u001b[0;32m     53\u001b[0m lo_adc\u001b[38;5;241m.\u001b[39mstatus(\u001b[38;5;124m'\u001b[39m\u001b[38;5;124moff\u001b[39m\u001b[38;5;124m'\u001b[39m)\n",
      "Cell \u001b[1;32mIn [75], line 30\u001b[0m, in \u001b[0;36mmeasure\u001b[1;34m(lo_dac_freq, adc_amp, exp, station)\u001b[0m\n\u001b[0;32m     26\u001b[0m \u001b[38;5;28;01mfor\u001b[39;00m n \u001b[38;5;129;01min\u001b[39;00m tqdm(\u001b[38;5;28mrange\u001b[39m(trace_average),leave\u001b[38;5;241m=\u001b[39m\u001b[38;5;28;01mFalse\u001b[39;00m):\n\u001b[0;32m     28\u001b[0m     lo_adc\u001b[38;5;241m.\u001b[39mrestartsweep()\n\u001b[1;32m---> 30\u001b[0m     res\u001b[38;5;241m=\u001b[39m\u001b[43mrfsoc\u001b[49m\u001b[38;5;241;43m.\u001b[39;49m\u001b[43mIQINT_ALL\u001b[49m\u001b[38;5;241;43m.\u001b[39;49m\u001b[43mget\u001b[49m\u001b[43m(\u001b[49m\u001b[43m)\u001b[49m\n\u001b[0;32m     31\u001b[0m     I_no_avg \u001b[38;5;241m=\u001b[39m res[\u001b[38;5;241m0\u001b[39m][channel_ro\u001b[38;5;241m-\u001b[39m\u001b[38;5;241m1\u001b[39m]\u001b[38;5;241m.\u001b[39mreshape(rfsoc\u001b[38;5;241m.\u001b[39mn_points(), \u001b[38;5;241m2\u001b[39m\u001b[38;5;241m*\u001b[39maverage)[:,\u001b[38;5;241m2\u001b[39m:] \u001b[38;5;66;03m#we trash the first average point \u001b[39;00m\n\u001b[0;32m     32\u001b[0m     Q_no_avg \u001b[38;5;241m=\u001b[39m res[\u001b[38;5;241m1\u001b[39m][channel_ro\u001b[38;5;241m-\u001b[39m\u001b[38;5;241m1\u001b[39m]\u001b[38;5;241m.\u001b[39mreshape(rfsoc\u001b[38;5;241m.\u001b[39mn_points(), \u001b[38;5;241m2\u001b[39m\u001b[38;5;241m*\u001b[39maverage)[:,\u001b[38;5;241m2\u001b[39m:] \u001b[38;5;66;03m#we trash the first average point \u001b[39;00m\n",
      "File \u001b[1;32m~\\Miniconda3\\envs\\qcodes\\lib\\site-packages\\qcodes\\instrument\\parameter.py:661\u001b[0m, in \u001b[0;36m_BaseParameter._wrap_get.<locals>.get_wrapper\u001b[1;34m(*args, **kwargs)\u001b[0m\n\u001b[0;32m    659\u001b[0m \u001b[38;5;28;01mexcept\u001b[39;00m \u001b[38;5;167;01mException\u001b[39;00m \u001b[38;5;28;01mas\u001b[39;00m e:\n\u001b[0;32m    660\u001b[0m     e\u001b[38;5;241m.\u001b[39margs \u001b[38;5;241m=\u001b[39m e\u001b[38;5;241m.\u001b[39margs \u001b[38;5;241m+\u001b[39m (\u001b[38;5;124mf\u001b[39m\u001b[38;5;124m'\u001b[39m\u001b[38;5;124mgetting \u001b[39m\u001b[38;5;132;01m{\u001b[39;00m\u001b[38;5;28mself\u001b[39m\u001b[38;5;132;01m}\u001b[39;00m\u001b[38;5;124m'\u001b[39m,)\n\u001b[1;32m--> 661\u001b[0m     \u001b[38;5;28;01mraise\u001b[39;00m e\n",
      "File \u001b[1;32m~\\Miniconda3\\envs\\qcodes\\lib\\site-packages\\qcodes\\instrument\\parameter.py:648\u001b[0m, in \u001b[0;36m_BaseParameter._wrap_get.<locals>.get_wrapper\u001b[1;34m(*args, **kwargs)\u001b[0m\n\u001b[0;32m    643\u001b[0m     \u001b[38;5;28;01mraise\u001b[39;00m \u001b[38;5;167;01mNotImplementedError\u001b[39;00m(\n\u001b[0;32m    644\u001b[0m         \u001b[38;5;124mf\u001b[39m\u001b[38;5;124m\"\u001b[39m\u001b[38;5;124mTrying to get an abstract parameter: \u001b[39m\u001b[38;5;132;01m{\u001b[39;00m\u001b[38;5;28mself\u001b[39m\u001b[38;5;241m.\u001b[39mfull_name\u001b[38;5;132;01m}\u001b[39;00m\u001b[38;5;124m\"\u001b[39m\n\u001b[0;32m    645\u001b[0m     )\n\u001b[0;32m    646\u001b[0m \u001b[38;5;28;01mtry\u001b[39;00m:\n\u001b[0;32m    647\u001b[0m     \u001b[38;5;66;03m# There might be cases where a .get also has args/kwargs\u001b[39;00m\n\u001b[1;32m--> 648\u001b[0m     raw_value \u001b[38;5;241m=\u001b[39m get_function(\u001b[38;5;241m*\u001b[39margs, \u001b[38;5;241m*\u001b[39m\u001b[38;5;241m*\u001b[39mkwargs)\n\u001b[0;32m    650\u001b[0m     value \u001b[38;5;241m=\u001b[39m \u001b[38;5;28mself\u001b[39m\u001b[38;5;241m.\u001b[39m_from_raw_value_to_value(raw_value)\n\u001b[0;32m    652\u001b[0m     \u001b[38;5;28;01mif\u001b[39;00m \u001b[38;5;28mself\u001b[39m\u001b[38;5;241m.\u001b[39m_validate_on_get:\n",
      "File \u001b[1;32mC:\\QCodes_Driver_And_Scripts\\drivers\\RFSoC.py:136\u001b[0m, in \u001b[0;36mIQINT_ALL.get_raw\u001b[1;34m(self)\u001b[0m\n\u001b[0;32m    133\u001b[0m \u001b[38;5;28;01mdef\u001b[39;00m \u001b[38;5;21mget_raw\u001b[39m(\u001b[38;5;28mself\u001b[39m):\n\u001b[0;32m    134\u001b[0m     time\u001b[38;5;241m.\u001b[39msleep(\u001b[38;5;241m0.2\u001b[39m)\n\u001b[1;32m--> 136\u001b[0m     data_retI, data_retQ \u001b[38;5;241m=\u001b[39m \u001b[38;5;28;43mself\u001b[39;49m\u001b[38;5;241;43m.\u001b[39;49m\u001b[43m_instrument\u001b[49m\u001b[38;5;241;43m.\u001b[39;49m\u001b[43mget_readout_pulse\u001b[49m\u001b[43m(\u001b[49m\u001b[43m)\u001b[49m\n\u001b[0;32m    138\u001b[0m     \u001b[38;5;28;01mreturn\u001b[39;00m data_retI, data_retQ\n",
      "File \u001b[1;32mC:\\QCodes_Driver_And_Scripts\\drivers\\RFSoC.py:2317\u001b[0m, in \u001b[0;36mRFSoC.get_readout_pulse\u001b[1;34m(self)\u001b[0m\n\u001b[0;32m   2313\u001b[0m     \u001b[38;5;28;01mcontinue\u001b[39;00m\n\u001b[0;32m   2315\u001b[0m \u001b[38;5;28;01melif\u001b[39;00m \u001b[38;5;28mlen\u001b[39m(r)\u001b[38;5;241m>\u001b[39m\u001b[38;5;241m1\u001b[39m:\n\u001b[1;32m-> 2317\u001b[0m     \u001b[43mdata_unsorted\u001b[49m\u001b[43m[\u001b[49m\u001b[38;5;124;43m'\u001b[39;49m\u001b[38;5;132;43;01m{}\u001b[39;49;00m\u001b[38;5;124;43m'\u001b[39;49m\u001b[38;5;241;43m.\u001b[39;49m\u001b[43mformat\u001b[49m\u001b[43m(\u001b[49m\u001b[43mrun_num\u001b[49m\u001b[43m)\u001b[49m\u001b[43m]\u001b[49m \u001b[38;5;241m=\u001b[39m r\n\u001b[0;32m   2318\u001b[0m     r_size \u001b[38;5;241m=\u001b[39m \u001b[38;5;28mlen\u001b[39m(r)\n\u001b[0;32m   2319\u001b[0m     count_meas \u001b[38;5;241m+\u001b[39m\u001b[38;5;241m=\u001b[39m r_size\n",
      "\u001b[1;31mTypeError\u001b[0m: ('list indices must be integers or slices, not str', 'getting RFSoC_IQINT_ALL')"
     ]
    }
   ],
   "source": [
    "# for avg in trace_avg_vec : \n",
    "    \n",
    "#     trace_average = avg\n",
    "#     #set up sources \n",
    "#     # dac source \n",
    "#     lo_dac.frequency(lo_dac_vec[0]*1.e6)\n",
    "#     lo_dac.power(lo_dac_power)\n",
    "\n",
    "#     #adc source\n",
    "#     lo_adc.freq_points(len(lo_adc_vec))\n",
    "#     lo_adc.set_gui_update('off')\n",
    "#     lo_adc.power(lo_adc_power)\n",
    "#     lo_adc.sourcemode('sweep')\n",
    "#     lo_adc.sweepmode('STEP')\n",
    "#     lo_adc.trigger_mode('EXT')\n",
    "#     lo_adc.spacing_freq('LIN')\n",
    "\n",
    "#     freq_step = lo_adc_vec[1]-lo_adc_vec[0]\n",
    "#     print(freq_step)\n",
    "\n",
    "#     lo_adc.freq_start((lo_adc_vec[0]-freq_step)*1e6) # Hack to take into account that the first frequency point of MW_source doesn't send a trigger to the VNA\n",
    "#     lo_adc.freq_stop(lo_adc_vec[-1]*1e6)\n",
    "#     lo_adc.freq_step(freq_step*1e6)\n",
    "#     lo_adc.freq_points(len(lo_adc_vec)+1)\n",
    "#     lo_adc.restartsweep()\n",
    "#     print(lo_adc.freq_step()*1.e-6)\n",
    "#     lo_dac.status('on')\n",
    "#     lo_adc.status('on')\n",
    "\n",
    "#     len(lo_adc_vec)\n",
    "\n",
    "#     if I_source.output()=='on':\n",
    "#         I_source.output('off')\n",
    "\n",
    "#     I_source.source_mode('CURR')\n",
    "#     I_source.range(100e-3)\n",
    "\n",
    "#     I_source.current(current*1.e-3)\n",
    "\n",
    "#     I_source.output('on')\n",
    "\n",
    "\n",
    "#     # Load experiment\n",
    "#     exp_name = 'rfsoc_fluorescence'\n",
    "\n",
    "#     sample_name = 'B5_G3_GALV_SQ200_1ST'\n",
    "\n",
    "#     exp=qc.load_or_create_experiment(experiment_name=exp_name,sample_name=sample_name)\n",
    "\n",
    "#     measure(lo_dac_freq=lo_dac_vec,adc_amp=param_sin_1['amp'], exp=exp, station=station)\n",
    "\n",
    "#     # Shutdown devices\n",
    "#     lo_adc.status('off')\n",
    "#     lo_dac.status('off')\n",
    "#     I_source.reset()\n",
    "#     rfsoc.stop_play()\n"
   ]
  },
  {
   "cell_type": "code",
   "execution_count": null,
   "id": "7a3d65d0-885a-44a9-a757-5736e2445cab",
   "metadata": {},
   "outputs": [],
   "source": [
    "trace_avg_vec = np.unique(np.logspace(3,4,4,dtype=int))"
   ]
  },
  {
   "cell_type": "code",
   "execution_count": null,
   "id": "48f142fc-0bec-482b-9f06-100a93a83434",
   "metadata": {},
   "outputs": [],
   "source": [
    "trace_avg_vec"
   ]
  },
  {
   "cell_type": "code",
   "execution_count": null,
   "id": "d650cda3-6477-4040-ad5b-a2c6defa09c2",
   "metadata": {},
   "outputs": [],
   "source": [
    "for avg in trace_avg_vec : \n",
    "    \n",
    "    trace_average = avg\n",
    "    #set up sources \n",
    "    # dac source \n",
    "    lo_dac.frequency(lo_dac_vec[0]*1.e6)\n",
    "    lo_dac.power(lo_dac_power)\n",
    "\n",
    "    #adc source\n",
    "    lo_adc.freq_points(len(lo_adc_vec))\n",
    "    lo_adc.set_gui_update('off')\n",
    "    lo_adc.power(lo_adc_power)\n",
    "    lo_adc.sourcemode('sweep')\n",
    "    lo_adc.sweepmode('STEP')\n",
    "    lo_adc.trigger_mode('EXT')\n",
    "    lo_adc.spacing_freq('LIN')\n",
    "\n",
    "    freq_step = lo_adc_vec[1]-lo_adc_vec[0]\n",
    "    print(freq_step)\n",
    "\n",
    "    lo_adc.freq_start((lo_adc_vec[0]-freq_step)*1e6) # Hack to take into account that the first frequency point of MW_source doesn't send a trigger to the VNA\n",
    "    lo_adc.freq_stop(lo_adc_vec[-1]*1e6)\n",
    "    lo_adc.freq_step(freq_step*1e6)\n",
    "    lo_adc.freq_points(len(lo_adc_vec)+1)\n",
    "    lo_adc.restartsweep()\n",
    "    print(lo_adc.freq_step()*1.e-6)\n",
    "    lo_dac.status('on')\n",
    "    lo_adc.status('on')\n",
    "\n",
    "    len(lo_adc_vec)\n",
    "\n",
    "    if I_source.output()=='on':\n",
    "        I_source.output('off')\n",
    "\n",
    "    I_source.source_mode('CURR')\n",
    "    I_source.range(100e-3)\n",
    "\n",
    "    I_source.current(current*1.e-3)\n",
    "\n",
    "    I_source.output('on')\n",
    "\n",
    "\n",
    "    # Load experiment\n",
    "    exp_name = 'rfsoc_fluorescence'\n",
    "\n",
    "    sample_name = 'B5_G3_GALV_SQ200_1ST'\n",
    "\n",
    "    exp=qc.load_or_create_experiment(experiment_name=exp_name,sample_name=sample_name)\n",
    "\n",
    "    measure(lo_dac_freq=lo_dac_vec,adc_amp=param_sin_1['amp'], exp=exp, station=station)\n",
    "\n",
    "    # Shutdown devices\n",
    "    lo_adc.status('off')\n",
    "    lo_dac.status('off')\n",
    "    I_source.reset()\n",
    "    rfsoc.stop_play()\n"
   ]
  },
  {
   "cell_type": "code",
   "execution_count": null,
   "id": "7a4dc45f-1a1a-476e-97e7-ca9a691156a4",
   "metadata": {},
   "outputs": [],
   "source": []
  }
 ],
 "metadata": {
  "kernelspec": {
   "display_name": "Python 3 (ipykernel)",
   "language": "python",
   "name": "python3"
  },
  "language_info": {
   "codemirror_mode": {
    "name": "ipython",
    "version": 3
   },
   "file_extension": ".py",
   "mimetype": "text/x-python",
   "name": "python",
   "nbconvert_exporter": "python",
   "pygments_lexer": "ipython3",
   "version": "3.10.6"
  }
 },
 "nbformat": 4,
 "nbformat_minor": 5
}
