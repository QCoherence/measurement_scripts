{
 "cells": [
  {
   "cell_type": "code",
   "execution_count": 1,
   "id": "0d823328-5b09-4c47-a227-b117334d7e0c",
   "metadata": {},
   "outputs": [],
   "source": [
    "# Script to VNA trace vs power of SMB MW source\n",
    "#                            -- Dorian\n",
    "from qcodes.instrument.specialized_parameters import ElapsedTimeParameter\n",
    "from qcodes.dataset.plotting import plot_dataset,plot_by_id\n",
    "from qcodes.logger.logger import start_all_logging\n",
    "from qcodes.loops import Loop\n",
    "from time import sleep\n",
    "from tqdm import tqdm\n",
    "\n",
    "import matplotlib.pyplot as plt\n",
    "import qcodes as qc\n",
    "import numpy as np\n",
    "import datetime\n",
    "import time\n",
    "import json\n",
    "\n",
    "import sys\n",
    "import os\n"
   ]
  },
  {
   "cell_type": "markdown",
   "id": "3a074e37-e309-4dab-97d8-98d5ec1f7241",
   "metadata": {},
   "source": [
    "# IMPORTING THE INSTRUMENTS"
   ]
  },
  {
   "cell_type": "code",
   "execution_count": 2,
   "id": "87be0740-ea25-45a6-b4b9-45a6394fd030",
   "metadata": {},
   "outputs": [
    {
     "name": "stdout",
     "output_type": "stream",
     "text": [
      "Connected to: Rohde-Schwarz ZNB20-2Port (serial:1311601062101578, firmware:2.80) in 0.09s\n",
      "Connected to: Rohde&Schwarz SMB100A (serial:1406.6000k03/177959, firmware:3.1.18.2-3.01.203.32) in 0.02s\n"
     ]
    }
   ],
   "source": [
    "\n",
    "sys.path.append('C:\\QCodes_Driver_And_Scripts\\Drivers')\n",
    "\n",
    "from RS_SMB_100A import SMB100A\n",
    "from RS_SGS_100A import SGS100A\n",
    "from HP3245A import HP3245A\n",
    "from RS_FSQ import RS_FSQ\n",
    "from VNA_RS import VNA\n",
    "\n",
    "\n",
    "try:\n",
    "    VNA = VNA('ZNB20', 'TCPIP0::192.168.10.2::inst0::INSTR',\n",
    "               init_s_params=False,terminator='\\n')\n",
    "\n",
    "except KeyError as er:\n",
    "\n",
    "\n",
    "    VNA.close_all() #Disconnect and irreversibly tear down the instrument\n",
    "    VNA = VNA('ZNB20', 'TCPIP0::192.168.10.2::inst0::INSTR',\n",
    "               init_s_params=False,terminator='\\n')\n",
    "try:\n",
    "\n",
    "    MW_source=SMB100A('mw_pump','TCPIP0::192.168.10.6::inst0::INSTR')\n",
    "\n",
    "except KeyError as er:\n",
    "\n",
    "    SMB100A.close_all()\n",
    "    MW_source=SMB100A('mw_pump','TCPIP0::192.168.10.6::inst0::INSTR')\n",
    "\n"
   ]
  },
  {
   "cell_type": "code",
   "execution_count": 3,
   "id": "fc9d9453-9a7f-45a9-bfc9-33cc47339407",
   "metadata": {},
   "outputs": [],
   "source": [
    "from qcodes.instrument_drivers.yokogawa.GS200 import GS200"
   ]
  },
  {
   "cell_type": "code",
   "execution_count": 4,
   "id": "510f68f0-4680-48df-8663-32e7d9126127",
   "metadata": {},
   "outputs": [
    {
     "name": "stdout",
     "output_type": "stream",
     "text": [
      "Connected to: YOKOGAWA GS210 (serial:90Y438440, firmware:2.02) in 0.02s\n"
     ]
    }
   ],
   "source": [
    "try:\n",
    "    I_source = GS200(\"gs200\", address='TCPIP::192.168.10.3::INSTR', terminator=\"\\n\")\n",
    "\n",
    "\n",
    "except KeyError as er:\n",
    "\n",
    "    GS200.close_all() #Disconnect and irreversibly tear down the instrument\n",
    "    I_source = GS200(\"gs200\", address='TCPIP::192.168.10.3::INSTR', terminator=\"\\n\")"
   ]
  },
  {
   "cell_type": "markdown",
   "id": "7805ea55-709f-4057-a924-67c2c40d96f8",
   "metadata": {},
   "source": [
    "# FUNCTION USED TO RUN THE MEASUREMENT"
   ]
  },
  {
   "cell_type": "code",
   "execution_count": 5,
   "id": "368e98cc-ac79-440a-bbe2-ed54ddfd1217",
   "metadata": {},
   "outputs": [],
   "source": [
    "def measure_VNA_vs_SMB_power(power_vec,exp,station,current_point=0):\n",
    "\n",
    "    VNA.rf_on()\n",
    "    \n",
    "    # I_source.output('on')\n",
    "    MW_source.status('on')\n",
    "\n",
    "    # I_source.reset()\n",
    "    # I_source.current(current_point*1.e-3)\n",
    "\n",
    "    meas = qc.Measurement(exp=exp, station=station)\n",
    "    meas.register_parameter(MW_source.frequency)\n",
    "    meas.register_parameter(VNA.channels.S21.trace_mag_phase, setpoints=[MW_source.frequency])\n",
    "\n",
    "\n",
    "    with meas.run() as datasaver:\n",
    "\n",
    "        id=datasaver.dataset.run_id\n",
    "        qc.load_by_run_spec( captured_run_id=id).add_metadata('parameter_snap',\n",
    "                             json.dumps(parameter_snap))\n",
    "\n",
    "        for freq in tqdm(src_freq_vec):\n",
    "\n",
    "            MW_source.frequency(freq*1.e9)\n",
    "\n",
    "            get_f = MW_source.frequency.get()\n",
    "            datasaver.add_result((MW_source.frequency,get_f))\n",
    "            get_v = VNA.channels.S21.trace_mag_phase.get()\n",
    "            datasaver.add_result((VNA.channels.S21.trace_mag_phase, get_v),(MW_source.frequency,get_f))\n",
    "\n"
   ]
  },
  {
   "cell_type": "markdown",
   "id": "2cc145de-5d10-43e4-a45b-a62479880139",
   "metadata": {},
   "source": [
    "# INITIALIZE QCODES EXPERIMENT"
   ]
  },
  {
   "cell_type": "code",
   "execution_count": 6,
   "id": "7cc9e52f-e9fc-4e4a-a504-20d28d42a46e",
   "metadata": {},
   "outputs": [
    {
     "name": "stdout",
     "output_type": "stream",
     "text": [
      "Logging hadn't been started.\n",
      "Activating auto-logging. Current session state plus future input saved.\n",
      "Filename       : C:\\Users\\nicolas.ROCH\\.qcodes\\logs\\command_history.log\n",
      "Mode           : append\n",
      "Output logging : True\n",
      "Raw input log  : False\n",
      "Timestamping   : True\n",
      "State          : active\n",
      "Qcodes Logfile : C:\\Users\\nicolas.ROCH\\.qcodes\\logs\\220613-9428-qcodes.log\n"
     ]
    },
    {
     "name": "stderr",
     "output_type": "stream",
     "text": [
      "2022-06-13 10:40:00,534 ¦ qcodes.instrument.base ¦ WARNING ¦ base ¦ snapshot_base ¦ 269 ¦ [gs200_program(GS200Program)] Snapshot: Could not update parameter: trigger\n"
     ]
    }
   ],
   "source": [
    "start_all_logging()\n",
    "\n",
    "# Create a station\n",
    "station = qc.Station()\n",
    "station.add_component(VNA)\n",
    "station.add_component(I_source)\n",
    "station.add_component(MW_source)\n",
    "\n",
    "\n",
    "# Experiment details\n",
    "user='DF'\n",
    "date=datetime.datetime.today().strftime('%Y_%m_%d')\n",
    "description='VNA_vs_SMB_frequency'\n",
    "database_name = date+\"_\"+user+\"_\"+description"
   ]
  },
  {
   "cell_type": "markdown",
   "id": "3843bc48-56c2-4f5f-9f1e-a46471dd5b86",
   "metadata": {},
   "source": [
    "# DATA FOLDER CREATION"
   ]
  },
  {
   "cell_type": "code",
   "execution_count": 7,
   "id": "f2a013a6-e512-4664-8963-3430d3ea1c8d",
   "metadata": {},
   "outputs": [],
   "source": [
    "script_dir=os.path.dirname(os.path.abspath(\"__file__\"))\n",
    "data_dir=os.path.join('C:\\\\QCodes_Driver_And_Scripts\\\\Data_QCodes\\\\Dorian\\\\'+date)\n",
    "\n",
    "try :\n",
    "    os.mkdir(data_dir)\n",
    "except FileExistsError:\n",
    "    pass\n",
    "\n",
    "data_dir=data_dir +'\\\\'+description\n",
    "\n",
    "try :\n",
    "    os.mkdir(data_dir)\n",
    "except FileExistsError:\n",
    "    pass"
   ]
  },
  {
   "cell_type": "markdown",
   "id": "7b3182df-6448-4990-b3ee-b9eda717e3a1",
   "metadata": {},
   "source": [
    "# CREATE OR INITIALIZE DATABASE"
   ]
  },
  {
   "cell_type": "code",
   "execution_count": 8,
   "id": "c398d410-a7fe-43e3-a2a2-19e00d0f1e37",
   "metadata": {},
   "outputs": [],
   "source": [
    "qc.initialise_or_create_database_at(data_dir+'\\\\'+database_name+'.db')\n",
    "qc.config.core.db_location\n",
    "\n",
    "parameter_snap={}"
   ]
  },
  {
   "cell_type": "markdown",
   "id": "22fa5a3a-4e44-461e-98f2-c8b6c905e51e",
   "metadata": {},
   "source": [
    "# INSTRUMENTS PARAMETERS"
   ]
  },
  {
   "cell_type": "code",
   "execution_count": 9,
   "id": "63ffcdce-4984-40be-9207-3a0019b2eeec",
   "metadata": {},
   "outputs": [],
   "source": [
    "# current = -0.694 #mA\n",
    "current = -0\n",
    "# Snapshot parameters\n",
    "parameter_snap['flux']={'current': current}"
   ]
  },
  {
   "cell_type": "code",
   "execution_count": 10,
   "id": "4b914e52-a003-48e6-8ab0-0d8e6befce53",
   "metadata": {},
   "outputs": [
    {
     "name": "stdout",
     "output_type": "stream",
     "text": [
      "\n",
      "time for one trace : 0:00:10.010000 s\n"
     ]
    }
   ],
   "source": [
    "center_freq  = 3.8625\n",
    "span_freq    = 0.5\n",
    "start_freq   = center_freq - 0.5*span_freq\n",
    "end_freq     = center_freq + 0.5*span_freq\n",
    "# start_freq = 3.03\n",
    "# end_freq   = 3.09\n",
    "# step_freq    = 250*1.e-6\n",
    "VNA_power    = -15.\n",
    "IF_bandwidth =  100\n",
    "Averages     = 1\n",
    "# points_VNA   = int(abs(end_freq - start_freq)/step_freq)+1\n",
    "points_VNA = 1001\n",
    "trace_time=points_VNA / IF_bandwidth * Averages\n",
    "\n",
    "\n",
    "print('\\ntime for one trace : {} s'.format(datetime.timedelta(seconds = trace_time)))\n",
    "\n",
    "# Snapshot parameters\n",
    "parameter_snap['vna'] = {'start_freq':start_freq, 'end_freq':end_freq,\n",
    "                         'VNA_power':VNA_power, 'IF_bandwidth':IF_bandwidth,\n",
    "                         'Averages':Averages, 'points':points_VNA}"
   ]
  },
  {
   "cell_type": "code",
   "execution_count": 11,
   "id": "4a85a4a4-ec3e-4b33-adf2-f0f429e16350",
   "metadata": {},
   "outputs": [
    {
     "name": "stdout",
     "output_type": "stream",
     "text": [
      "\n",
      "total time : 1:23:25\n"
     ]
    }
   ],
   "source": [
    "src_power     = -20 #dBm\n",
    "freq_start    = 3*(3.2727 - 0.5)\n",
    "freq_stop     = 3*(3.2727 + 0.5)\n",
    "# freq_step        =  5.\n",
    "# freq_point       = int(abs(freq_stop - freq_start)/freq_step)+1\n",
    "freq_point = 500\n",
    "\n",
    "src_freq_vec = np.linspace(freq_start, freq_stop, freq_point)\n",
    "\n",
    "src_status     = 'on'\n",
    "\n",
    "# Snapshot parameters\n",
    "parameter_snap['MW_source'] = {'power':src_power, 'freq_start' : freq_start,\n",
    "                               'freq_stop':freq_stop,'points':freq_point}\n",
    "\n",
    "print('\\ntotal time : {}'.format(datetime.timedelta(seconds = freq_point*trace_time)))"
   ]
  },
  {
   "cell_type": "markdown",
   "id": "a63c5b39-bba3-4c4f-b73a-e714cdb3379d",
   "metadata": {},
   "source": [
    "# SETTING UP INSTRUMENTS"
   ]
  },
  {
   "cell_type": "code",
   "execution_count": 12,
   "id": "f9c628ce-bc02-49e5-ba72-9ee5486c20e6",
   "metadata": {},
   "outputs": [],
   "source": [
    "if I_source.output()=='on':\n",
    "    I_source.output('off')\n",
    "    \n",
    "I_source.source_mode('CURR')\n",
    "I_source.range(10e-3)\n",
    "\n",
    "I_source.current(current*1.e-3)\n",
    "\n",
    "I_source.output('on')"
   ]
  },
  {
   "cell_type": "code",
   "execution_count": 13,
   "id": "a4fe1ad3-1bcd-451c-97ad-e8bc65bede97",
   "metadata": {
    "tags": []
   },
   "outputs": [
    {
     "name": "stderr",
     "output_type": "stream",
     "text": [
      "2022-06-13 10:40:10,173 ¦ py.warnings ¦ WARNING ¦ warnings ¦ _showwarnmsg ¦ 109 ¦ C:\\Users\\nicolas.ROCH\\Miniconda3\\envs\\qcodes\\lib\\site-packages\\qcodes\\instrument\\base.py:130: QCoDeSDeprecationWarning: Parameter trace_mag_phase on instrument ZNB20_S21 does not correctly pass kwargs to its baseclass. A Parameter class must take `**kwargs` and forward them to its baseclass.\n",
      "  warnings.warn(\n",
      "\n",
      "2022-06-13 10:40:10,186 ¦ py.warnings ¦ WARNING ¦ warnings ¦ _showwarnmsg ¦ 109 ¦ C:\\Users\\nicolas.ROCH\\Miniconda3\\envs\\qcodes\\lib\\site-packages\\qcodes\\instrument\\base.py:130: QCoDeSDeprecationWarning: Parameter trace on instrument ZNB20_S21 does not correctly pass kwargs to its baseclass. A Parameter class must take `**kwargs` and forward them to its baseclass.\n",
      "  warnings.warn(\n",
      "\n",
      "2022-06-13 10:40:10,191 ¦ py.warnings ¦ WARNING ¦ warnings ¦ _showwarnmsg ¦ 109 ¦ C:\\Users\\nicolas.ROCH\\Miniconda3\\envs\\qcodes\\lib\\site-packages\\qcodes\\instrument\\base.py:130: QCoDeSDeprecationWarning: Parameter trace_fixed_frequency on instrument ZNB20_S21 does not correctly pass kwargs to its baseclass. A Parameter class must take `**kwargs` and forward them to its baseclass.\n",
      "  warnings.warn(\n",
      "\n",
      "2022-06-13 10:40:10,192 ¦ py.warnings ¦ WARNING ¦ warnings ¦ _showwarnmsg ¦ 109 ¦ C:\\Users\\nicolas.ROCH\\Miniconda3\\envs\\qcodes\\lib\\site-packages\\qcodes\\instrument\\base.py:130: QCoDeSDeprecationWarning: Parameter point_fixed_frequency on instrument ZNB20_S21 does not correctly pass kwargs to its baseclass. A Parameter class must take `**kwargs` and forward them to its baseclass.\n",
      "  warnings.warn(\n",
      "\n",
      "2022-06-13 10:40:10,193 ¦ py.warnings ¦ WARNING ¦ warnings ¦ _showwarnmsg ¦ 109 ¦ C:\\Users\\nicolas.ROCH\\Miniconda3\\envs\\qcodes\\lib\\site-packages\\qcodes\\instrument\\base.py:130: QCoDeSDeprecationWarning: Parameter point_fixed_frequency_mag_phase on instrument ZNB20_S21 does not correctly pass kwargs to its baseclass. A Parameter class must take `**kwargs` and forward them to its baseclass.\n",
      "  warnings.warn(\n",
      "\n",
      "2022-06-13 10:40:10,193 ¦ py.warnings ¦ WARNING ¦ warnings ¦ _showwarnmsg ¦ 109 ¦ C:\\Users\\nicolas.ROCH\\Miniconda3\\envs\\qcodes\\lib\\site-packages\\qcodes\\instrument\\base.py:130: QCoDeSDeprecationWarning: Parameter point_fixed_frequency_mag_phase_trace on instrument ZNB20_S21 does not correctly pass kwargs to its baseclass. A Parameter class must take `**kwargs` and forward them to its baseclass.\n",
      "  warnings.warn(\n",
      "\n"
     ]
    }
   ],
   "source": [
    "VNA.add_channel('S21',vna_parameter='S21')\n",
    "\n",
    "VNA.channels.S21.format('dB')\n",
    "VNA.channels.S21.bandwidth(IF_bandwidth)\n",
    "VNA.channels.S21.power(VNA_power)\n",
    "VNA.channels.S21.avg(Averages)\n",
    "VNA.channels.npts(points_VNA)\n",
    "VNA.channels.start(start_freq*1e9)\n",
    "VNA.channels.stop(end_freq*1e9)"
   ]
  },
  {
   "cell_type": "code",
   "execution_count": 14,
   "id": "e2cc20de-ae77-4f3e-9c71-e4d24723ddb0",
   "metadata": {},
   "outputs": [],
   "source": [
    "MW_source.frequency(src_freq_vec[0]*1e9)\n",
    "MW_source.power(src_power)\n",
    "MW_source.status(src_status)"
   ]
  },
  {
   "cell_type": "markdown",
   "id": "6b5f3fdf-b4a6-472d-aca8-52759d04c7e1",
   "metadata": {},
   "source": [
    "#  MEASUREMENT"
   ]
  },
  {
   "cell_type": "code",
   "execution_count": 15,
   "id": "9389ce0b-cfb0-4d5f-97aa-d7c4429a3b0d",
   "metadata": {},
   "outputs": [
    {
     "name": "stdout",
     "output_type": "stream",
     "text": [
      "Starting experimental run with id: 2. \n"
     ]
    },
    {
     "name": "stderr",
     "output_type": "stream",
     "text": [
      "100%|██████████████████████████████████████████████████████████████████████████████| 500/500 [1:19:34<00:00,  9.55s/it]\n"
     ]
    }
   ],
   "source": [
    "# Load experiment\n",
    "exp_name = 'VNA_vs_SMB_power'\n",
    "\n",
    "sample_name = 'B5_G3_GALV_SQ200_1ST'\n",
    "\n",
    "exp=qc.load_or_create_experiment(experiment_name=exp_name,\n",
    "                          sample_name=sample_name)\n",
    "\n",
    "measure_VNA_vs_SMB_power(src_freq_vec,exp=exp, station=station,current_point=current)\n"
   ]
  },
  {
   "cell_type": "code",
   "execution_count": null,
   "id": "ccd10745-ef61-46cc-9a1b-67d672474e66",
   "metadata": {},
   "outputs": [],
   "source": [
    "VNA.rf_off()\n",
    "VNA.cont_meas_off()\n",
    "MW_source.status('off')\n",
    "I_source.output('off')"
   ]
  },
  {
   "cell_type": "markdown",
   "id": "b82b4c0a-f0e6-4951-929a-75d16ba7a7e4",
   "metadata": {},
   "source": [
    "# OTHER RUN "
   ]
  },
  {
   "cell_type": "code",
   "execution_count": null,
   "id": "fdd1a8ac-36d8-449a-94bc-2a51a90a3a27",
   "metadata": {},
   "outputs": [],
   "source": [
    "VNA_power    = -20.\n",
    "\n",
    "trace_time=points_VNA / IF_bandwidth * Averages\n",
    "\n",
    "print('\\ntime for one trace : {} s'.format(datetime.timedelta(seconds = trace_time)))\n",
    "\n",
    "# Snapshot parameters\n",
    "parameter_snap['vna'] = {'start_freq':start_freq, 'end_freq':end_freq,\n",
    "                         'VNA_power':VNA_power, 'IF_bandwidth':IF_bandwidth,\n",
    "                         'Averages':Averages, 'points':points_VNA}"
   ]
  },
  {
   "cell_type": "code",
   "execution_count": null,
   "id": "32c8c8ee-0b63-473d-8871-ce18829db2f4",
   "metadata": {},
   "outputs": [],
   "source": [
    "src_power     = -20 #dBm\n",
    "freq_start    = 3*(3.2727 - 0.5)\n",
    "freq_stop     = 3*(3.2727 + 0.5)\n",
    "# freq_step        =  5.\n",
    "# freq_point       = int(abs(freq_stop - freq_start)/freq_step)+1\n",
    "freq_point = 1000\n",
    "\n",
    "src_freq_vec = np.linspace(freq_start, freq_stop, freq_point)\n",
    "\n",
    "src_status     = 'on'\n",
    "\n",
    "# Snapshot parameters\n",
    "parameter_snap['MW_source'] = {'power':src_power, 'freq_start' : freq_start,\n",
    "                               'freq_stop':freq_stop,'points':freq_point}\n",
    "\n",
    "print('\\ntotal time : {}'.format(datetime.timedelta(seconds = freq_point*trace_time)))"
   ]
  },
  {
   "cell_type": "markdown",
   "id": "a69c8549-6d03-4979-b2ca-b08c6c7f92e3",
   "metadata": {},
   "source": [
    "# SETTING UP INSTRUMENTS"
   ]
  },
  {
   "cell_type": "code",
   "execution_count": null,
   "id": "8d4b3d3a-ba0b-401b-95dc-1864b33ad7ce",
   "metadata": {},
   "outputs": [],
   "source": [
    "if I_source.output()=='on':\n",
    "    I_source.output('off')\n",
    "    \n",
    "I_source.source_mode('CURR')\n",
    "I_source.range(10e-3)\n",
    "\n",
    "I_source.current(current*1.e-3)\n",
    "\n",
    "I_source.output('on')"
   ]
  },
  {
   "cell_type": "code",
   "execution_count": null,
   "id": "dbc54af9-e628-413c-9f2e-6e8682b552bf",
   "metadata": {
    "tags": []
   },
   "outputs": [],
   "source": [
    "\n",
    "VNA.channels.S21.format('dB')\n",
    "VNA.channels.S21.bandwidth(IF_bandwidth)\n",
    "VNA.channels.S21.power(VNA_power)\n",
    "VNA.channels.S21.avg(Averages)\n",
    "VNA.channels.npts(points_VNA)\n",
    "VNA.channels.start(start_freq*1e9)\n",
    "VNA.channels.stop(end_freq*1e9)"
   ]
  },
  {
   "cell_type": "code",
   "execution_count": null,
   "id": "9bc0795a-7614-4668-8e21-0256d08de517",
   "metadata": {},
   "outputs": [],
   "source": [
    "MW_source.frequency(src_freq_vec[0]*1e9)\n",
    "MW_source.power(src_power)\n",
    "MW_source.status(src_status)"
   ]
  },
  {
   "cell_type": "markdown",
   "id": "10fe0ae2-672a-4bb3-891d-a80c2666974e",
   "metadata": {},
   "source": [
    "#  MEASUREMENT"
   ]
  },
  {
   "cell_type": "code",
   "execution_count": null,
   "id": "dc06ab23-6988-4ab0-824d-13007ad31657",
   "metadata": {},
   "outputs": [],
   "source": [
    "# Load experiment\n",
    "exp_name = 'VNA_vs_SMB_power'\n",
    "\n",
    "sample_name = 'B5_G3_GALV_SQ200_1ST'\n",
    "\n",
    "exp=qc.load_or_create_experiment(experiment_name=exp_name,\n",
    "                          sample_name=sample_name)\n",
    "\n",
    "measure_VNA_vs_SMB_power(src_freq_vec,exp=exp, station=station,current_point=current)\n"
   ]
  },
  {
   "cell_type": "code",
   "execution_count": null,
   "id": "d7cad0e4-acd3-41db-abd6-953345a5a6a6",
   "metadata": {},
   "outputs": [],
   "source": [
    "VNA.rf_off()\n",
    "VNA.cont_meas_off()\n",
    "MW_source.status('off')\n",
    "I_source.output('off')"
   ]
  },
  {
   "cell_type": "markdown",
   "id": "89dafb70-5c99-4ca2-ad7d-f0f4fe61f2b8",
   "metadata": {},
   "source": [
    "# OTHER RUN"
   ]
  },
  {
   "cell_type": "code",
   "execution_count": null,
   "id": "c89ec450-6d5a-4190-85aa-6f457faf4c2f",
   "metadata": {},
   "outputs": [],
   "source": [
    "VNA_power    = -25.\n",
    "\n",
    "trace_time=points_VNA / IF_bandwidth * Averages\n",
    "\n",
    "print('\\ntime for one trace : {} s'.format(datetime.timedelta(seconds = trace_time)))\n",
    "\n",
    "# Snapshot parameters\n",
    "parameter_snap['vna'] = {'start_freq':start_freq, 'end_freq':end_freq,\n",
    "                         'VNA_power':VNA_power, 'IF_bandwidth':IF_bandwidth,\n",
    "                         'Averages':Averages, 'points':points_VNA}"
   ]
  },
  {
   "cell_type": "code",
   "execution_count": null,
   "id": "29edd490-df14-443f-a3db-e9c34d67a717",
   "metadata": {},
   "outputs": [],
   "source": [
    "src_power     = -20 #dBm\n",
    "freq_start    = 3*(3.2727 - 0.5)\n",
    "freq_stop     = 3*(3.2727 + 0.5)\n",
    "# freq_step        =  5.\n",
    "# freq_point       = int(abs(freq_stop - freq_start)/freq_step)+1\n",
    "freq_point = 1000\n",
    "\n",
    "src_freq_vec = np.linspace(freq_start, freq_stop, freq_point)\n",
    "\n",
    "src_status     = 'on'\n",
    "\n",
    "# Snapshot parameters\n",
    "parameter_snap['MW_source'] = {'power':src_power, 'freq_start' : freq_start,\n",
    "                               'freq_stop':freq_stop,'points':freq_point}\n",
    "\n",
    "print('\\ntotal time : {}'.format(datetime.timedelta(seconds = freq_point*trace_time)))"
   ]
  },
  {
   "cell_type": "markdown",
   "id": "571ba183-5e93-4f92-bb18-e6227a4259fb",
   "metadata": {},
   "source": [
    "# SETTING UP INSTRUMENTS"
   ]
  },
  {
   "cell_type": "code",
   "execution_count": null,
   "id": "d630bdeb-d19b-4a92-9206-c739fcbb1256",
   "metadata": {},
   "outputs": [],
   "source": [
    "if I_source.output()=='on':\n",
    "    I_source.output('off')\n",
    "    \n",
    "I_source.source_mode('CURR')\n",
    "I_source.range(10e-3)\n",
    "\n",
    "I_source.current(current*1.e-3)\n",
    "\n",
    "I_source.output('on')"
   ]
  },
  {
   "cell_type": "code",
   "execution_count": null,
   "id": "4858e669-6339-4cee-b0a3-a83ce8f5399e",
   "metadata": {
    "tags": []
   },
   "outputs": [],
   "source": [
    "\n",
    "VNA.channels.S21.format('dB')\n",
    "VNA.channels.S21.bandwidth(IF_bandwidth)\n",
    "VNA.channels.S21.power(VNA_power)\n",
    "VNA.channels.S21.avg(Averages)\n",
    "VNA.channels.npts(points_VNA)\n",
    "VNA.channels.start(start_freq*1e9)\n",
    "VNA.channels.stop(end_freq*1e9)"
   ]
  },
  {
   "cell_type": "code",
   "execution_count": null,
   "id": "68f6d7df-bf22-4c4f-9af8-eade3bbb140a",
   "metadata": {},
   "outputs": [],
   "source": [
    "MW_source.frequency(src_freq_vec[0]*1e9)\n",
    "MW_source.power(src_power)\n",
    "MW_source.status(src_status)"
   ]
  },
  {
   "cell_type": "markdown",
   "id": "258ee1b5-67f9-409e-8c93-dca88a9a62e4",
   "metadata": {},
   "source": [
    "#  MEASUREMENT"
   ]
  },
  {
   "cell_type": "code",
   "execution_count": null,
   "id": "656f9fba-7139-4bfe-ac57-b99e0e9cf31c",
   "metadata": {},
   "outputs": [],
   "source": [
    "# Load experiment\n",
    "exp_name = 'VNA_vs_SMB_power'\n",
    "\n",
    "sample_name = 'B5_G3_GALV_SQ200_1ST'\n",
    "\n",
    "exp=qc.load_or_create_experiment(experiment_name=exp_name,\n",
    "                          sample_name=sample_name)\n",
    "\n",
    "measure_VNA_vs_SMB_power(src_freq_vec,exp=exp, station=station,current_point=current)\n"
   ]
  },
  {
   "cell_type": "code",
   "execution_count": null,
   "id": "a83ef31c-c1e4-4672-b150-8069cd814294",
   "metadata": {},
   "outputs": [],
   "source": [
    "VNA.rf_off()\n",
    "VNA.cont_meas_off()\n",
    "MW_source.status('off')\n",
    "I_source.output('off')"
   ]
  },
  {
   "cell_type": "code",
   "execution_count": null,
   "id": "445e51d9-70f0-4ec4-9c68-7848b789564d",
   "metadata": {},
   "outputs": [],
   "source": []
  }
 ],
 "metadata": {
  "kernelspec": {
   "display_name": "Python 3 (ipykernel)",
   "language": "python",
   "name": "python3"
  },
  "language_info": {
   "codemirror_mode": {
    "name": "ipython",
    "version": 3
   },
   "file_extension": ".py",
   "mimetype": "text/x-python",
   "name": "python",
   "nbconvert_exporter": "python",
   "pygments_lexer": "ipython3",
   "version": "3.10.4"
  }
 },
 "nbformat": 4,
 "nbformat_minor": 5
}
