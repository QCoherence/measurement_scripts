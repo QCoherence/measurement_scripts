{
 "cells": [
  {
   "cell_type": "code",
   "execution_count": 1,
   "id": "1053b293-3aff-4671-b8f7-a776540b6f4f",
   "metadata": {},
   "outputs": [],
   "source": [
    "from qcodes.instrument.specialized_parameters import ElapsedTimeParameter\n",
    "from qcodes.dataset.plotting import plot_dataset,plot_by_id\n",
    "from qcodes.logger.logger import start_all_logging\n",
    "from tqdm.notebook import tqdm\n",
    "from qcodes.loops import Loop\n",
    "from time import sleep\n",
    "\n",
    "import matplotlib.pyplot as plt\n",
    "import qcodes as qc\n",
    "import numpy as np\n",
    "import datetime\n",
    "import time\n",
    "import json\n",
    "import sys\n",
    "import os"
   ]
  },
  {
   "cell_type": "code",
   "execution_count": 2,
   "id": "d158aac4-b247-4c46-9343-5122651b8a94",
   "metadata": {},
   "outputs": [],
   "source": [
    "import warnings\n",
    "warnings.filterwarnings('ignore')"
   ]
  },
  {
   "cell_type": "code",
   "execution_count": 3,
   "id": "0a9821e7-f9cb-4109-b1e3-fb09069042c0",
   "metadata": {
    "tags": []
   },
   "outputs": [
    {
     "name": "stdout",
     "output_type": "stream",
     "text": [
      "Connected to: Rohde-Schwarz ZNB20-2Port (serial:1311601062101578, firmware:2.80) in 0.06s\n",
      "Connected to: YOKOGAWA GS210 (serial:90Y438440, firmware:2.02) in 0.02s\n",
      "Connected to: Rohde&Schwarz SGS100A (serial:1416.0505k02/114045, firmware:4.2.76.0-4.30.046.295) in 0.06s\n",
      "Connected to: Agilent Technologies E8257D (serial:US45470698, firmware:C.06.28) in 0.04s\n"
     ]
    }
   ],
   "source": [
    "sys.path.append('C:\\QCodes_Driver_And_Scripts\\Qcodes-drivers')\n",
    "\n",
    "from qcodes.instrument_drivers.yokogawa.GS200 import GS200\n",
    "from Agilent_E8257D import E8257D\n",
    "from RS_SGS_100A import SGS100A\n",
    "from VNA_RS import VNA\n",
    "\n",
    "try:\n",
    "    VNA = VNA('ZNB20', 'TCPIP0::192.168.10.2::inst0::INSTR', init_s_params=False,terminator='\\n')\n",
    "except KeyError as er:\n",
    "    VNA.close_all() #Disconnect and irreversibly tear down the instrument\n",
    "    VNA = VNA('ZNB20', 'TCPIP0::192.168.10.2::inst0::INSTR',init_s_params=False,terminator='\\n')\n",
    "    \n",
    "try:\n",
    "    I_source = GS200(\"gs200\", address='TCPIP::192.168.10.3::INSTR', terminator=\"\\n\")\n",
    "except KeyError as er:\n",
    "    GS200.close_all() #Disconnect and irreversibly tear down the instrument\n",
    "    I_source = GS200(\"gs200\", address='TCPIP::192.168.10.3::INSTR', terminator=\"\\n\")\n",
    "\n",
    "try:\n",
    "    pump_source=SGS100A('pump_source','TCPIP0::192.168.10.56::inst0::INSTR')\n",
    "except KeyError as er:\n",
    "    SGS100A.close_all() #Disconnect and irreversibly tear down the instrument\n",
    "    pump_source=SGS100A('pump_source','TCPIP0::192.168.10.56::inst0::INSTR')\n",
    "\n",
    "try:\n",
    "    MW_source=E8257D('mw_source','TCPIP0::192.168.10.70::inst0::INSTR')\n",
    "except KeyError as er:\n",
    "    E8257D.close_all() #Disconnect and irreversibly tear down the instrument\n",
    "    MW_source=E8257D('mw_source','TCPIP0::192.168.10.70::inst0::INSTR')"
   ]
  },
  {
   "cell_type": "code",
   "execution_count": 4,
   "id": "f87cdfa3-6cf4-4879-859c-f93c9aa44020",
   "metadata": {},
   "outputs": [],
   "source": [
    "def measure(power_vec, exp, station):\n",
    "\n",
    "    VNA.rf_on()\n",
    "\n",
    "    meas = qc.Measurement(exp=exp, station=station)\n",
    "    meas.register_parameter(pump_source.power)\n",
    "    meas.register_custom_parameter(name='twpa_gain',paramtype='array',setpoints=[pump_source.power])\n",
    "    \n",
    "    \n",
    "    meas.write_period = 10\n",
    "\n",
    "    with meas.run() as datasaver:\n",
    "\n",
    "        run_id=datasaver.dataset.run_id\n",
    "        qc.load_by_run_spec(captured_run_id=run_id).add_metadata('parameter_snap',json.dumps(parameter_snap))\n",
    "\n",
    "        for power in tqdm(power_vec):\n",
    "            \n",
    "            pump_source.power(power)\n",
    "            \n",
    "            pump_source.status('on')\n",
    "            get_p = float(pump_source.power.get())\n",
    "            \n",
    "            get_v_on = VNA.channels.S21.trace_mag_phase.get()[0]\n",
    "            \n",
    "            pump_source.status('off')\n",
    "            \n",
    "            get_v_off = VNA.channels.S21.trace_mag_phase.get()[0]\n",
    "\n",
    "            datasaver.add_result(('twpa_gain', get_v_on/get_v_off),(pump_source.power,get_p))"
   ]
  },
  {
   "cell_type": "code",
   "execution_count": 5,
   "id": "29b398c5-0a33-409e-bea4-89421d671bf4",
   "metadata": {},
   "outputs": [
    {
     "name": "stdout",
     "output_type": "stream",
     "text": [
      "Logging hadn't been started.\n",
      "Activating auto-logging. Current session state plus future input saved.\n",
      "Filename       : C:\\Users\\nicolas.ROCH\\.qcodes\\logs\\command_history.log\n",
      "Mode           : append\n",
      "Output logging : True\n",
      "Raw input log  : False\n",
      "Timestamping   : True\n",
      "State          : active\n",
      "Qcodes Logfile : C:\\Users\\nicolas.ROCH\\.qcodes\\logs\\230110-26220-qcodes.log\n"
     ]
    },
    {
     "name": "stderr",
     "output_type": "stream",
     "text": [
      "2023-01-10 10:38:31,238 ¦ qcodes.instrument.instrument_base ¦ WARNING ¦ instrument_base ¦ snapshot_base ¦ 292 ¦ [mw_source(E8257D)] Snapshot: Could not update parameter: sweepmode\n",
      "2023-01-10 10:38:36,856 ¦ qcodes.instrument.instrument_base ¦ WARNING ¦ instrument_base ¦ snapshot_base ¦ 292 ¦ [gs200_program(GS200Program)] Snapshot: Could not update parameter: trigger\n"
     ]
    }
   ],
   "source": [
    "start_all_logging()\n",
    "\n",
    "# Create a station\n",
    "station = qc.Station()\n",
    "station.add_component(VNA)\n",
    "station.add_component(MW_source)\n",
    "station.add_component(pump_source)\n",
    "station.add_component(I_source)\n",
    "\n",
    "station.snapshot()\n",
    "station.components\n",
    "\n",
    "# Experiment details\n",
    "user='DF'\n",
    "date=datetime.datetime.today().strftime('%Y_%m_%d')\n",
    "description='twpa_on_off_vs_pump_power'\n",
    "database_name = date+\"_\"+user+\"_\"+description\n",
    "\n",
    "script_dir=os.path.dirname(os.path.abspath(\"__file__\"))\n",
    "data_dir=os.path.join('C:\\\\QCodes_Driver_And_Scripts\\\\Data_QCodes\\\\Dorian\\\\'+date)\n",
    "\n",
    "try :\n",
    "    os.mkdir(data_dir)\n",
    "except FileExistsError:\n",
    "    pass\n",
    "\n",
    "data_dir=data_dir +'\\\\'+description\n",
    "\n",
    "try :\n",
    "    os.mkdir(data_dir)\n",
    "except FileExistsError:\n",
    "    pass\n",
    "\n",
    "qc.initialise_or_create_database_at(data_dir+'\\\\'+database_name+'.db')\n",
    "qc.config.core.db_location\n",
    "\n",
    "parameter_snap={}"
   ]
  },
  {
   "cell_type": "code",
   "execution_count": 6,
   "id": "9caf3d5c-76ab-43da-82f9-5c352d3db8e0",
   "metadata": {},
   "outputs": [
    {
     "name": "stdout",
     "output_type": "stream",
     "text": [
      "\n",
      " time for one trace : 0:03:20.100000 s\n",
      "\n",
      "total time : 0:06:40.200000\n"
     ]
    }
   ],
   "source": [
    "# coil parameters\n",
    "current = -2.756#mA\n",
    "\n",
    "# Snapshot parameters\n",
    "parameter_snap['flux']={'current': current}\n",
    "\n",
    "#VNA parameters\n",
    "start_freq   = 2.\n",
    "end_freq     = 9.\n",
    "VNA_power    = -20\n",
    "IF_bandwidth = 10\n",
    "Averages     = 1\n",
    "points_VNA   = 2001\n",
    "trace_time   = points_VNA / IF_bandwidth * Averages\n",
    "\n",
    "print('\\n time for one trace : {} s'.format(datetime.timedelta(seconds = trace_time)))\n",
    "\n",
    "# Snapshot parameters\n",
    "parameter_snap['vna'] = {'start_freq':start_freq, 'end_freq':end_freq,'VNA_power':VNA_power, 'IF_bandwidth':IF_bandwidth,'Averages':Averages, 'points':points_VNA}\n",
    "\n",
    "# twpa pump parameters\n",
    "pump_freq    = 4.998              \n",
    "pump_power   = np.array([0.5])          \n",
    "twpa_current = -0.5      \n",
    "\n",
    "# Snapshot parameters\n",
    "parameter_snap['twpa_pump'] = {'freq':pump_freq,'current' : twpa_current}\n",
    "\n",
    "#MW source parameters\n",
    "src_frequency  = 9.155\n",
    "src_power      = -20 \n",
    "src_status     = 'off'\n",
    "\n",
    "# Snapshot parameters\n",
    "parameter_snap['MW_source'] = {'freq':src_frequency,'power':src_power,'status':src_status}\n",
    "\n",
    "print('\\ntotal time : {}'.format(datetime.timedelta(seconds = 2*len(pump_power)*trace_time)))"
   ]
  },
  {
   "cell_type": "markdown",
   "id": "7937420e-cfd0-4eb8-96f6-2eb348477e33",
   "metadata": {},
   "source": [
    "# setting up instruments"
   ]
  },
  {
   "cell_type": "code",
   "execution_count": 7,
   "id": "3b1f7391-accf-48c1-b604-41059a2d3917",
   "metadata": {},
   "outputs": [],
   "source": [
    "if I_source.output()=='on':\n",
    "    I_source.output('off')\n",
    "\n",
    "I_source.source_mode('CURR')\n",
    "I_source.range(10e-3)\n",
    "I_source.current(current*1.e-3)\n",
    "I_source.output('on')\n",
    "\n",
    "VNA.add_channel('S21',vna_parameter='S21')\n",
    "VNA.channels.S21.format('dB')\n",
    "VNA.channels.S21.bandwidth(IF_bandwidth)\n",
    "VNA.channels.S21.power(VNA_power)\n",
    "VNA.channels.S21.avg(Averages)\n",
    "VNA.channels.npts(points_VNA)\n",
    "VNA.channels.start(start_freq*1e9)\n",
    "VNA.channels.stop(end_freq*1e9)\n",
    "\n",
    "MW_source.frequency(src_frequency*1e9)\n",
    "MW_source.power(src_power)\n",
    "MW_source.status(src_status.upper())\n",
    "\n",
    "pump_source.frequency(pump_freq*1.e9)\n",
    "pump_source.power(pump_power[0])"
   ]
  },
  {
   "cell_type": "code",
   "execution_count": 8,
   "id": "542927c4-f1a8-49aa-afcf-fe24cb1f3bf7",
   "metadata": {
    "tags": []
   },
   "outputs": [
    {
     "name": "stdout",
     "output_type": "stream",
     "text": [
      "Starting experimental run with id: 1. \n"
     ]
    },
    {
     "data": {
      "application/vnd.jupyter.widget-view+json": {
       "model_id": "0076ab69f659484eaeca32df600af86d",
       "version_major": 2,
       "version_minor": 0
      },
      "text/plain": [
       "  0%|          | 0/1 [00:00<?, ?it/s]"
      ]
     },
     "metadata": {},
     "output_type": "display_data"
    }
   ],
   "source": [
    "# Load experiment\n",
    "exp_name = 'twpa_on_off_vs_pump_power'\n",
    "\n",
    "sample_name = 'B5_G3_GALV_SQ200_1ST'\n",
    "\n",
    "exp=qc.load_or_create_experiment(experiment_name=exp_name,sample_name=sample_name)\n",
    "\n",
    "measure(pump_power,exp=exp, station=station)\n",
    "\n",
    "# Shutdown devices\n",
    "VNA.rf_off()\n",
    "VNA.cont_meas_off()\n",
    "MW_source.status('OFF')\n",
    "pump_source.status('off')\n",
    "I_source.reset()"
   ]
  },
  {
   "cell_type": "code",
   "execution_count": 9,
   "id": "5e78b03b-a48f-458d-a812-fcf8122356cb",
   "metadata": {},
   "outputs": [
    {
     "data": {
      "text/plain": [
       "'0.5'"
      ]
     },
     "execution_count": 9,
     "metadata": {},
     "output_type": "execute_result"
    }
   ],
   "source": [
    "pump_source.power.get()"
   ]
  },
  {
   "cell_type": "code",
   "execution_count": null,
   "id": "1794fd47-ff13-4a14-b141-e239628b8e45",
   "metadata": {},
   "outputs": [],
   "source": []
  }
 ],
 "metadata": {
  "kernelspec": {
   "display_name": "Python 3 (ipykernel)",
   "language": "python",
   "name": "python3"
  },
  "language_info": {
   "codemirror_mode": {
    "name": "ipython",
    "version": 3
   },
   "file_extension": ".py",
   "mimetype": "text/x-python",
   "name": "python",
   "nbconvert_exporter": "python",
   "pygments_lexer": "ipython3",
   "version": "3.10.8"
  }
 },
 "nbformat": 4,
 "nbformat_minor": 5
}
