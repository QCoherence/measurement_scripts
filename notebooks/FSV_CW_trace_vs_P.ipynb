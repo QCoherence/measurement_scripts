{
 "cells": [
  {
   "cell_type": "code",
   "execution_count": 1,
   "id": "2ad4dd3e-bf9c-4334-9718-1640251f9050",
   "metadata": {},
   "outputs": [],
   "source": [
    "from qcodes.instrument.specialized_parameters import ElapsedTimeParameter\n",
    "from qcodes.dataset.plotting import plot_dataset,plot_by_id\n",
    "from qcodes.logger.logger import start_all_logging\n",
    "# from qcodes.plots.pyqtgraph import QtPlot\n",
    "from qcodes.loops import Loop\n",
    "from time import sleep\n",
    "from tqdm import tqdm\n",
    "\n",
    "import matplotlib.pyplot as plt\n",
    "import qcodes as qc\n",
    "import numpy as np\n",
    "import datetime\n",
    "import time\n",
    "import json\n",
    "import sys\n",
    "import os\n"
   ]
  },
  {
   "cell_type": "code",
   "execution_count": 2,
   "id": "de5cf61f-d1d2-4d05-8a36-f41f0bb71647",
   "metadata": {},
   "outputs": [
    {
     "name": "stdout",
     "output_type": "stream",
     "text": [
      "Connected to: Rohde-Schwarz ZNB20-2Port (serial:1311601062101578, firmware:2.80) in 0.06s\n",
      "Connected to: YOKOGAWA GS210 (serial:90Y438440, firmware:2.02) in 0.02s\n",
      "Connected to: Rohde&Schwarz SMB100A (serial:1406.6000k03/177959, firmware:3.1.18.2-3.01.203.32) in 0.01s\n",
      "Connected to: Rohde&Schwarz FSV3030 (serial:1330.5000K30/101857, firmware:1.80) in 0.01s\n"
     ]
    }
   ],
   "source": [
    "sys.path.append('C:\\QCodes_Driver_And_Scripts\\Drivers')\n",
    "\n",
    "from qcodes.instrument_drivers.yokogawa.GS200 import GS200\n",
    "\n",
    "from RS_SMB_100A import SMB100A\n",
    "from RS_SGS_100A import SGS100A\n",
    "from HP3245A import HP3245A\n",
    "from RS_FSV import RS_FSV\n",
    "from VNA_RS import VNA\n",
    "\n",
    "\n",
    "try:\n",
    "    VNA = VNA('ZNB20', 'TCPIP0::192.168.10.2::inst0::INSTR',\n",
    "               init_s_params=False,terminator='\\n')\n",
    "\n",
    "except KeyError as er:\n",
    "\n",
    "\n",
    "    VNA.close_all() #Disconnect and irreversibly tear down the instrument\n",
    "    VNA = VNA('ZNB20', 'TCPIP0::192.168.10.2::inst0::INSTR',\n",
    "               init_s_params=False,terminator='\\n')\n",
    "try:\n",
    "    I_source = GS200(\"gs200\", address='TCPIP::192.168.10.3::INSTR', terminator=\"\\n\")\n",
    "\n",
    "\n",
    "except KeyError as er:\n",
    "\n",
    "    GS200.close_all() #Disconnect and irreversibly tear down the instrument\n",
    "    I_source = GS200(\"gs200\", address='TCPIP::192.168.10.3::INSTR', terminator=\"\\n\")\n",
    "\n",
    "try:\n",
    "\n",
    "    MW_source=SMB100A('mw_pump','TCPIP0::192.168.10.6::inst0::INSTR')\n",
    "\n",
    "except KeyError as er:\n",
    "\n",
    "    SMB100A.close_all()\n",
    "    MW_source=SMB100A('mw_pump','TCPIP0::192.168.10.6::inst0::INSTR')\n",
    "\n",
    "try:\n",
    "    FSV = RS_FSV('rs_fsv', 'TCPIP0::192.168.10.66::inst0::INSTR')\n",
    "\n",
    "except KeyError as er:\n",
    "\n",
    "\n",
    "    RS_FSV.close_all() #Disconnect and irreversibly tear down the instrument\n",
    "    FSV =  RS_FSV('rs_fsv', 'TCPIP0::192.168.10.66::inst0::INSTR')\n"
   ]
  },
  {
   "cell_type": "code",
   "execution_count": 3,
   "id": "542bb233-c8fb-4c2e-8d7c-30dd71e96cee",
   "metadata": {},
   "outputs": [],
   "source": [
    "\n",
    "def measure(center_vec, exp, station):\n",
    "\n",
    "    meas = qc.Measurement(exp=exp, station=station)\n",
    "    meas.register_parameter(FSV.center_freq)\n",
    "    meas.register_parameter(FSV.spectrum,setpoints=[FSV.center_freq])\n",
    "    meas.register_custom_parameter(name='spectrum_mw_off',paramtype='array',setpoints=[FSV.center_freq])\n",
    "\n",
    "    with meas.run() as datasaver:\n",
    "        \n",
    "        run_id=datasaver.dataset.run_id\n",
    "        qc.load_by_run_spec(captured_run_id=run_id).add_metadata('parameter_snap',\n",
    "                                 json.dumps(parameter_snap))\n",
    "\n",
    "        for idx, center in tqdm(enumerate(center_vec)):\n",
    "\n",
    "            FSV.center_freq(center*1.e9)\n",
    "            # print(center)\n",
    "            MW_source.status('off')\n",
    "\n",
    "            get_s_off = FSV.spectrum.get()\n",
    "\n",
    "            MW_source.status(src_status)\n",
    "\n",
    "            get_c = float(FSV.center_freq.get())\n",
    "            get_s = FSV.spectrum.get()\n",
    "\n",
    "            sleep(0.01)\n",
    "\n",
    "            datasaver.add_result((FSV.center_freq, get_c),(FSV.spectrum,get_s),(\"spectrum_mw_off\",get_s_off))\n",
    "            \n",
    "          \n"
   ]
  },
  {
   "cell_type": "code",
   "execution_count": 4,
   "id": "44ab2c4f-e1fc-437e-8a41-35297514f42c",
   "metadata": {},
   "outputs": [
    {
     "name": "stdout",
     "output_type": "stream",
     "text": [
      "Logging hadn't been started.\n",
      "Activating auto-logging. Current session state plus future input saved.\n",
      "Filename       : C:\\Users\\nicolas.ROCH\\.qcodes\\logs\\command_history.log\n",
      "Mode           : append\n",
      "Output logging : True\n",
      "Raw input log  : False\n",
      "Timestamping   : True\n",
      "State          : active\n",
      "Qcodes Logfile : C:\\Users\\nicolas.ROCH\\.qcodes\\logs\\220718-39640-qcodes.log\n"
     ]
    },
    {
     "name": "stderr",
     "output_type": "stream",
     "text": [
      "2022-07-18 11:13:30,346 ¦ qcodes.instrument.base ¦ WARNING ¦ base ¦ snapshot_base ¦ 269 ¦ [gs200_program(GS200Program)] Snapshot: Could not update parameter: trigger\n"
     ]
    }
   ],
   "source": [
    "\n",
    "start_all_logging()\n",
    "\n",
    "# Create a station\n",
    "station = qc.Station()\n",
    "station.add_component(FSV)\n",
    "# station.add_component(pump_source)\n",
    "station.add_component(I_source)\n",
    "# station.add_component(I_twpa)\n",
    "station.add_component(MW_source)\n",
    "\n",
    "station.snapshot()\n",
    "station.components\n",
    "\n",
    "# Experiment details\n",
    "user='DF'\n",
    "date=datetime.datetime.today().strftime('%Y_%m_%d')\n",
    "description='FSV_CW_vs_CWfreq'\n",
    "database_name = date+\"_\"+user+\"_\"+description\n"
   ]
  },
  {
   "cell_type": "code",
   "execution_count": 5,
   "id": "453cb05b-1029-4a2f-87c1-e7213147b5f0",
   "metadata": {},
   "outputs": [],
   "source": [
    "script_dir=os.path.dirname(os.path.abspath(\"__file__\"))\n",
    "data_dir=os.path.join('C:\\\\QCodes_Driver_And_Scripts\\\\Data_QCodes\\\\Dorian\\\\'+date)\n",
    "\n",
    "try :\n",
    "    os.mkdir(data_dir)\n",
    "except FileExistsError:\n",
    "    pass\n",
    "\n",
    "data_dir=data_dir +'\\\\'+description\n",
    "\n",
    "try :\n",
    "    os.mkdir(data_dir)\n",
    "except FileExistsError:\n",
    "    pass"
   ]
  },
  {
   "cell_type": "code",
   "execution_count": 6,
   "id": "c9ca8688-f0c5-4621-aade-3d796700c517",
   "metadata": {},
   "outputs": [
    {
     "data": {
      "text/plain": [
       "'C:\\\\QCodes_Driver_And_Scripts\\\\Data_QCodes\\\\Dorian\\\\2022_07_18\\\\FSV_CW_vs_CWfreq\\\\2022_07_18_DF_FSV_CW_vs_CWfreq'"
      ]
     },
     "execution_count": 6,
     "metadata": {},
     "output_type": "execute_result"
    }
   ],
   "source": [
    "\n",
    "qc.initialise_or_create_database_at(data_dir+'\\\\'+database_name)\n",
    "qc.config.core.db_location\n"
   ]
  },
  {
   "cell_type": "code",
   "execution_count": 7,
   "id": "f59c44c2-885e-4c90-8bdf-f35be99138e4",
   "metadata": {},
   "outputs": [
    {
     "name": "stdout",
     "output_type": "stream",
     "text": [
      "\n",
      "Measurement with TWPA off\n"
     ]
    }
   ],
   "source": [
    "\n",
    "current = -0.7688 #mA\n",
    "\n",
    "# TWPA PUMP PARAMETERS\n",
    "pump_freq    = 5.209                #GHz\n",
    "pump_power   = -0.28                #dBm\n",
    "pump_status  = 'off'\n",
    "twpa_current = 2.7474747            #mA\n",
    "\n",
    "print('\\nMeasurement with TWPA {}'.format(pump_status))\n",
    "\n",
    "\n",
    "# MW SOURCE\n",
    "\n",
    "src_frequency  =  9.244                 #GHz\n",
    "src_power      = np.linspace(-20,-10,1) #dBm\n",
    "# src_power = np.array([-20])\n",
    "src_status     = 'on'\n",
    "\n",
    "# Spectral Analyser parameters\n",
    "\n",
    "FSV_rbw         = 40*1.e6 #Hz\n",
    "FSV_ref         = -20     #dB\n",
    "FSV_avg         = 0\n",
    "FSV_att         = 0       #dB\n",
    "FSV_npt         = 625\n",
    "FSV_center      = 3.129   #GHz\n",
    "FSV_center_span = 1       #GHz\n",
    "# FSV_cw_vec      = np.arange(FSV_center-0.5*FSV_center_span,FSV_center+0.5*FSV_center_span,FSV_rbw*1.e-9)\n",
    "FSC_cw_step     = 10*1.e6\n",
    "FSV_cw_vec      = np.arange(FSV_center-0.5*FSV_center_span,FSV_center+0.5*FSV_center_span,FSC_cw_step*1.e-9)\n",
    "FSV_span        = 0       #0 span mode\n",
    "\n",
    "sweep_time_min = FSV_npt / FSV_rbw\n",
    "\n",
    "FSV_time_sweep  = 0.25*3600/2/len(FSV_cw_vec)\n",
    "FSV_time_sweep  = max(sweep_time_min,FSV_time_sweep)\n",
    "\n",
    "\n",
    "if FSV_time_sweep < sweep_time_min :\n",
    "    raise ValueError(\"sweeptime to small with respect to the sweep points and rbw\")"
   ]
  },
  {
   "cell_type": "code",
   "execution_count": 8,
   "id": "5f115dd0-de16-4a6d-98c7-4d5511ef0d2e",
   "metadata": {},
   "outputs": [
    {
     "name": "stdout",
     "output_type": "stream",
     "text": [
      "\n",
      "time estimation for all measurement : 0:15:00 \n",
      "Starting experimental run with id: 4. \n"
     ]
    },
    {
     "name": "stderr",
     "output_type": "stream",
     "text": [
      "100it [16:55, 10.16s/it]\n"
     ]
    }
   ],
   "source": [
    "for power in src_power :\n",
    "\n",
    "    if I_source.output()=='on':\n",
    "        I_source.output('off')\n",
    "\n",
    "    I_source.source_mode('CURR')\n",
    "    I_source.range(10e-3)\n",
    "\n",
    "    I_source.current(current*1.e-3)\n",
    "\n",
    "    I_source.output('on')\n",
    "    \n",
    "    \n",
    "    FSV.res_BW(FSV_rbw)\n",
    "    FSV.center_freq(FSV_cw_vec[0]*1.e9)\n",
    "    FSV.averages(FSV_avg)\n",
    "    FSV.n_points(FSV_npt)\n",
    "    FSV.span(FSV_span)\n",
    "    FSV.ref_level(FSV_ref)\n",
    "    FSV.input_att(FSV_att)\n",
    "    FSV.sweep_time(FSV_time_sweep)\n",
    "\n",
    "    FSV.detector('rms')\n",
    "\n",
    "    print('\\ntime estimation for all measurement : {} '\n",
    "          .format(datetime.timedelta(seconds=2*len(FSV_cw_vec)*FSV_time_sweep)))\n",
    "    \n",
    "    \n",
    "    MW_source.frequency(src_frequency*1.e9)\n",
    "    MW_source.power(power)\n",
    "    MW_source.status(src_status)\n",
    "    \n",
    "    VNA.rf_off()\n",
    "    VNA.cont_meas_off()\n",
    "\n",
    "    \n",
    "    parameter_snap={}\n",
    "    # Snapshot parameters\n",
    "    parameter_snap['twpa_pump'] = {'freq':pump_freq,'pump_power':pump_power,'pump_status' : pump_status,\n",
    "                                'current' : twpa_current}\n",
    "    \n",
    "    parameter_snap['MW_source'] = {'freq':src_frequency,'power':float(power)}\n",
    "    \n",
    "    parameter_snap['FSV']={'center_freq':FSV_center,'average':FSV_avg,'res_bandwidth':FSV_rbw,\n",
    "                      'Npoints':int(FSV.n_points()),'ref':FSV_ref,'att':FSV_att,'span':FSV_span,'sweeptime':FSV_time_sweep}\n",
    "    \n",
    "    parameter_snap['flux']={'current': current}\n",
    "    \n",
    "    # Load experiment\n",
    "    exp_name = 'FSV_CW_vs_CWfreq'\n",
    "\n",
    "    sample_name = 'B5_G3_GALV_SQ200_1ST'\n",
    "\n",
    "    exp=qc.load_or_create_experiment(experiment_name=exp_name,\n",
    "                              sample_name=sample_name)\n",
    "\n",
    "    measure(center_vec=FSV_cw_vec,exp=exp, station=station)\n",
    "\n",
    "    # Shutdown devices\n",
    "    VNA.rf_off()\n",
    "    VNA.cont_meas_off()\n",
    "    MW_source.status('off')\n",
    "    I_source.output('off')\n"
   ]
  }
 ],
 "metadata": {
  "kernelspec": {
   "display_name": "Python 3 (ipykernel)",
   "language": "python",
   "name": "python3"
  },
  "language_info": {
   "codemirror_mode": {
    "name": "ipython",
    "version": 3
   },
   "file_extension": ".py",
   "mimetype": "text/x-python",
   "name": "python",
   "nbconvert_exporter": "python",
   "pygments_lexer": "ipython3",
   "version": "3.10.4"
  }
 },
 "nbformat": 4,
 "nbformat_minor": 5
}
