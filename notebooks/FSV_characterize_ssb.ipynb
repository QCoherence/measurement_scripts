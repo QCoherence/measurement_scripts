{
 "cells": [
  {
   "cell_type": "code",
   "execution_count": 1,
   "id": "291d5fe9-6027-4199-a241-dd67f1fbe90d",
   "metadata": {},
   "outputs": [],
   "source": [
    "from qcodes.instrument.specialized_parameters import ElapsedTimeParameter\n",
    "from qcodes.dataset.plotting import plot_dataset,plot_by_id\n",
    "from qcodes.logger.logger import start_all_logging\n",
    "# from qcodes.plots.pyqtgraph import QtPlot\n",
    "from qcodes.loops import Loop\n",
    "from time import sleep\n",
    "from tqdm.notebook import tqdm\n",
    "\n",
    "import matplotlib.pyplot as plt\n",
    "import qcodes as qc\n",
    "import numpy as np\n",
    "import datetime\n",
    "import time\n",
    "import json\n",
    "import sys\n",
    "import os\n"
   ]
  },
  {
   "cell_type": "code",
   "execution_count": 2,
   "id": "aada98d4-4213-4ad4-98b6-b66d83e4d742",
   "metadata": {},
   "outputs": [
    {
     "name": "stdout",
     "output_type": "stream",
     "text": [
      "Connected to: Agilent Technologies E8257D (serial:US45470698, firmware:C.06.28) in 0.31s\n",
      "Connected to: Rohde&Schwarz SMB100A (serial:1406.6000k03/177959, firmware:3.1.18.2-3.01.203.32) in 0.03s\n",
      "Connected to: Rohde&Schwarz FSV3030 (serial:1330.5000K30/101857, firmware:1.80) in 0.03s\n"
     ]
    }
   ],
   "source": [
    "sys.path.append('C:\\QCodes_Driver_And_Scripts\\Drivers')\n",
    "\n",
    "from qcodes.instrument_drivers.yokogawa.GS200 import GS200\n",
    "\n",
    "from Agilent_E8257D import E8257D\n",
    "from RS_SGS_100A import SGS100A\n",
    "from RS_SMB_100A import SMB100A\n",
    "from HP3245A import HP3245A\n",
    "from RS_FSV import RS_FSV\n",
    "from VNA_RS import VNA\n",
    "\n",
    "try:\n",
    "    rf_source=E8257D('rf_source','TCPIP0::192.168.10.70::inst0::INSTR')\n",
    "\n",
    "except KeyError as er:\n",
    "\n",
    "    E8257D.close_all()\n",
    "    rf_source=E8257D('rf_source','TCPIP0::192.168.10.70::inst0::INSTR')\n",
    "    \n",
    "try:\n",
    "\n",
    "    lo_source=SMB100A('lo_pump','TCPIP0::192.168.10.6::inst0::INSTR')\n",
    "\n",
    "except KeyError as er:\n",
    "\n",
    "    SMB100A.close_all()\n",
    "    lo_source=SMB100A('lo_pump','TCPIP0::192.168.10.6::inst0::INSTR')\n",
    "\n",
    "try:\n",
    "    FSV = RS_FSV('rs_fsv', 'TCPIP0::192.168.10.66::inst0::INSTR')\n",
    "\n",
    "except KeyError as er:\n",
    "\n",
    "\n",
    "    RS_FSV.close_all() #Disconnect and irreversibly tear down the instrument\n",
    "    FSV =  RS_FSV('rs_fsv', 'TCPIP0::192.168.10.66::inst0::INSTR')\n"
   ]
  },
  {
   "cell_type": "code",
   "execution_count": 3,
   "id": "953314f8-4781-44a9-b8a2-1d2b8374a641",
   "metadata": {},
   "outputs": [],
   "source": [
    "def measure(exp, station):\n",
    "\n",
    "    meas = qc.Measurement(exp=exp, station=station)\n",
    "    meas.register_parameter(FSV.freq_axis)\n",
    "    meas.register_parameter(FSV.spectrum)\n",
    "\n",
    "    with meas.run() as datasaver:\n",
    "        \n",
    "        run_id=datasaver.dataset.run_id\n",
    "        qc.load_by_run_spec(captured_run_id=run_id).add_metadata('parameter_snap',\n",
    "                                 json.dumps(parameter_snap))\n",
    "\n",
    "        get_s = 1.e-3*10**(FSV.spectrum.get()/10)\n",
    "        get_c = FSV.freq_axis.get()\n",
    "        \n",
    "        sleep(0.01)\n",
    "\n",
    "        datasaver.add_result((FSV.freq_axis, get_c),(FSV.spectrum,get_s))"
   ]
  },
  {
   "cell_type": "code",
   "execution_count": 4,
   "id": "a9886ab9-f866-474e-9112-f003232747d4",
   "metadata": {},
   "outputs": [
    {
     "name": "stdout",
     "output_type": "stream",
     "text": [
      "Logging hadn't been started.\n",
      "Activating auto-logging. Current session state plus future input saved.\n",
      "Filename       : C:\\Users\\nicolas.ROCH\\.qcodes\\logs\\command_history.log\n",
      "Mode           : append\n",
      "Output logging : True\n",
      "Raw input log  : False\n",
      "Timestamping   : True\n",
      "State          : active\n",
      "Qcodes Logfile : C:\\Users\\nicolas.ROCH\\.qcodes\\logs\\220922-51904-qcodes.log\n"
     ]
    }
   ],
   "source": [
    "start_all_logging()\n",
    "\n",
    "# Create a station\n",
    "station = qc.Station()\n",
    "station.add_component(FSV)\n",
    "station.add_component(lo_source)\n",
    "station.add_component(rf_source)\n",
    "\n",
    "station.snapshot()\n",
    "station.components\n",
    "\n",
    "# Experiment details\n",
    "user='DF'\n",
    "date=datetime.datetime.today().strftime('%Y_%m_%d')\n",
    "description='FSV_single_trace'\n",
    "database_name = date+\"_\"+user+\"_\"+description\n"
   ]
  },
  {
   "cell_type": "code",
   "execution_count": 5,
   "id": "4091f5af-a080-40b1-b00b-6d5d684cc8b6",
   "metadata": {},
   "outputs": [],
   "source": [
    "script_dir=os.path.dirname(os.path.abspath(\"__file__\"))\n",
    "data_dir=os.path.join('C:\\\\QCodes_Driver_And_Scripts\\\\Data_QCodes\\\\Dorian\\\\'+date)\n",
    "\n",
    "try :\n",
    "    os.mkdir(data_dir)\n",
    "except FileExistsError:\n",
    "    pass\n",
    "\n",
    "data_dir=data_dir +'\\\\'+description\n",
    "\n",
    "try :\n",
    "    os.mkdir(data_dir)\n",
    "except FileExistsError:\n",
    "    pass"
   ]
  },
  {
   "cell_type": "code",
   "execution_count": 6,
   "id": "e917148c-852c-4762-a00b-fbff82dc0c73",
   "metadata": {},
   "outputs": [
    {
     "name": "stdout",
     "output_type": "stream",
     "text": [
      "Upgrading database; v0 -> v1: : 0it [00:00, ?it/s]\n",
      "Upgrading database; v1 -> v2: 100%|████████████████████████████████████████████████████| 1/1 [00:00<00:00, 1002.70it/s]\n",
      "Upgrading database; v2 -> v3: : 0it [00:00, ?it/s]\n",
      "Upgrading database; v3 -> v4: : 0it [00:00, ?it/s]\n",
      "Upgrading database; v4 -> v5: 100%|█████████████████████████████████████████████████████| 1/1 [00:00<00:00, 501.11it/s]\n",
      "Upgrading database; v5 -> v6: : 0it [00:00, ?it/s]\n",
      "Upgrading database; v6 -> v7: 100%|█████████████████████████████████████████████████████| 1/1 [00:00<00:00, 334.29it/s]\n",
      "Upgrading database; v7 -> v8: 100%|█████████████████████████████████████████████████████| 1/1 [00:00<00:00, 484.67it/s]\n",
      "Upgrading database; v8 -> v9: 100%|█████████████████████████████████████████████████████| 1/1 [00:00<00:00, 501.35it/s]\n"
     ]
    },
    {
     "data": {
      "text/plain": [
       "'C:\\\\QCodes_Driver_And_Scripts\\\\Data_QCodes\\\\Dorian\\\\2022_09_22\\\\FSV_single_trace\\\\2022_09_22_DF_FSV_single_trace'"
      ]
     },
     "execution_count": 6,
     "metadata": {},
     "output_type": "execute_result"
    }
   ],
   "source": [
    "qc.initialise_or_create_database_at(data_dir+'\\\\'+database_name)\n",
    "qc.config.core.db_location"
   ]
  },
  {
   "cell_type": "code",
   "execution_count": 29,
   "id": "2424928e-4bf2-4d96-9b2c-8cf8c1d945a5",
   "metadata": {},
   "outputs": [],
   "source": [
    "current = 0. #mA\n",
    "\n",
    "# lo source\n",
    "\n",
    "lo_freq  = 2.96 #GHz\n",
    "lo_power = 5   #dBm\n",
    "\n",
    "# rf source\n",
    "\n",
    "rf_freq  = 0.04 #GHz\n",
    "rf_power = 0  #dBm\n",
    "\n",
    "# Spectral Analyser parameters\n",
    "\n",
    "FSV_rbw    = 2*500*1.e3 #Hz\n",
    "FSV_vbw    = 1.0*1.e3 #Hz\n",
    "FSV_ref    = 10      #dB\n",
    "FSV_avg    = 0\n",
    "FSV_att    = 0        #dB\n",
    "FSV_start  = 5.825    #GHz\n",
    "FSV_stop   = 6.01    #GHz\n",
    "FSV_npt    = 1024"
   ]
  },
  {
   "cell_type": "code",
   "execution_count": 30,
   "id": "f62d3930-c16b-4953-ad0a-06103df55b9d",
   "metadata": {},
   "outputs": [
    {
     "name": "stdout",
     "output_type": "stream",
     "text": [
      "Starting experimental run with id: 12. \n"
     ]
    }
   ],
   "source": [
    "FSV.res_BW(FSV_rbw)\n",
    "FSV.video_BW(FSV_vbw)\n",
    "FSV.f_start(FSV_start*1.e9)\n",
    "FSV.f_stop(FSV_stop*1.e9)\n",
    "FSV.averages(FSV_avg)\n",
    "FSV.n_points(FSV_npt)\n",
    "FSV.ref_level(FSV_ref)\n",
    "FSV.input_att(FSV_att)\n",
    "\n",
    "FSV.write('SWE:TYPE AUTO')\n",
    "FSV.detector('rms')\n",
    "\n",
    "lo_source.frequency(lo_freq*1.e9)\n",
    "lo_source.power(lo_power)\n",
    "\n",
    "rf_source.frequency(rf_freq*1.e9)\n",
    "rf_source.power(rf_power)\n",
    "\n",
    "lo_source.status('on')\n",
    "rf_source.status('ON')\n",
    "\n",
    "parameter_snap={}\n",
    "\n",
    "parameter_snap['lo_source'] = {'power':lo_power,'frequency':lo_freq}\n",
    "parameter_snap['rf_source'] = {'power':rf_power,'frequency':rf_freq}\n",
    "\n",
    "parameter_snap['FSV']={'start_freq':FSV_start,'stop_freq':FSV_stop,'average':FSV_avg,'res_bandwidth':FSV_rbw,'vid_bandwidth':FSV_vbw,\n",
    "                  'Npoints':int(FSV.n_points()),'ref':FSV_ref,'att':FSV_att}\n",
    "\n",
    "# Load experiment\n",
    "exp_name = 'FSV_single_trace'\n",
    "sample_name = 'ssb8012A_lsb'\n",
    "\n",
    "exp=qc.load_or_create_experiment(experiment_name=exp_name,\n",
    "                          sample_name=sample_name)\n",
    "\n",
    "measure(exp=exp, station=station)\n",
    "\n",
    "# Shutdown devices\n",
    "\n",
    "lo_source.status('off')\n",
    "rf_source.status('OFF')"
   ]
  },
  {
   "cell_type": "code",
   "execution_count": null,
   "id": "68ce4e78-8778-4333-9f71-49be95b6f834",
   "metadata": {},
   "outputs": [],
   "source": []
  },
  {
   "cell_type": "code",
   "execution_count": null,
   "id": "035c8501-7677-4f1a-b11d-f23cb0b8be54",
   "metadata": {},
   "outputs": [],
   "source": []
  },
  {
   "cell_type": "code",
   "execution_count": null,
   "id": "941e43e9-01c2-4bab-8e16-30dc6d6c68a4",
   "metadata": {},
   "outputs": [],
   "source": []
  }
 ],
 "metadata": {
  "kernelspec": {
   "display_name": "Python 3 (ipykernel)",
   "language": "python",
   "name": "python3"
  },
  "language_info": {
   "codemirror_mode": {
    "name": "ipython",
    "version": 3
   },
   "file_extension": ".py",
   "mimetype": "text/x-python",
   "name": "python",
   "nbconvert_exporter": "python",
   "pygments_lexer": "ipython3",
   "version": "3.10.6"
  }
 },
 "nbformat": 4,
 "nbformat_minor": 5
}
