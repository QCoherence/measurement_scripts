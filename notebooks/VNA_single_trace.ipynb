{
 "cells": [
  {
   "cell_type": "code",
   "execution_count": 6,
   "id": "61066d63-f589-407d-8bd5-8e473f7d0e18",
   "metadata": {},
   "outputs": [],
   "source": [
    "# Script to VNA trace vs power of SMB MW source\n",
    "#                            -- Dorian\n",
    "from qcodes.instrument.specialized_parameters import ElapsedTimeParameter\n",
    "from qcodes.dataset.plotting import plot_dataset,plot_by_id\n",
    "from qcodes.logger.logger import start_all_logging\n",
    "from qcodes.loops import Loop\n",
    "from time import sleep\n",
    "from tqdm import tqdm\n",
    "\n",
    "import matplotlib.pyplot as plt\n",
    "import qcodes as qc\n",
    "import numpy as np\n",
    "import datetime\n",
    "import time\n",
    "import json\n",
    "\n",
    "import sys\n",
    "import os\n"
   ]
  },
  {
   "cell_type": "markdown",
   "id": "73ee5878-3ed9-4228-9ca5-69d580e072e6",
   "metadata": {},
   "source": [
    "# IMPORTING THE INSTRUMENTS"
   ]
  },
  {
   "cell_type": "code",
   "execution_count": 7,
   "id": "49501262-b0e6-42ba-b3e8-4255c837bf3e",
   "metadata": {},
   "outputs": [
    {
     "name": "stdout",
     "output_type": "stream",
     "text": [
      "Connected to: Rohde-Schwarz ZNB20-2Port (serial:1311601062101578, firmware:2.80) in 0.02s\n",
      "Connected to: Rohde-Schwarz ZNB20-2Port (serial:1311601062101578, firmware:2.80) in 0.02s\n",
      "Connected to: Rohde&Schwarz SMB100A (serial:1406.6000k03/177959, firmware:3.1.18.2-3.01.203.32) in 0.02s\n"
     ]
    }
   ],
   "source": [
    "\n",
    "sys.path.append('C:\\QCodes_Driver_And_Scripts\\Drivers')\n",
    "\n",
    "from RS_SMB_100A import SMB100A\n",
    "from RS_SGS_100A import SGS100A\n",
    "from HP3245A import HP3245A\n",
    "from RS_FSQ import RS_FSQ\n",
    "from VNA_RS import VNA\n",
    "\n",
    "\n",
    "try:\n",
    "    VNA = VNA('ZNB20', 'TCPIP0::192.168.10.2::inst0::INSTR',\n",
    "               init_s_params=False,terminator='\\n')\n",
    "\n",
    "except KeyError as er:\n",
    "\n",
    "\n",
    "    VNA.close_all() #Disconnect and irreversibly tear down the instrument\n",
    "    VNA = VNA('ZNB20', 'TCPIP0::192.168.10.2::inst0::INSTR',\n",
    "               init_s_params=False,terminator='\\n')\n",
    "try:\n",
    "\n",
    "    MW_source=SMB100A('mw_pump','TCPIP0::192.168.10.6::inst0::INSTR')\n",
    "\n",
    "except KeyError as er:\n",
    "\n",
    "    SMB100A.close_all()\n",
    "    MW_source=SMB100A('mw_pump','TCPIP0::192.168.10.6::inst0::INSTR')\n",
    "\n"
   ]
  },
  {
   "cell_type": "code",
   "execution_count": 8,
   "id": "bf5955d6-d589-49cb-81dd-b4ac0afccca4",
   "metadata": {},
   "outputs": [],
   "source": [
    "from qcodes.instrument_drivers.yokogawa.GS200 import GS200"
   ]
  },
  {
   "cell_type": "code",
   "execution_count": 9,
   "id": "6ba76cf4-098f-480a-b6e0-8a793c26c7fb",
   "metadata": {},
   "outputs": [
    {
     "name": "stdout",
     "output_type": "stream",
     "text": [
      "Connected to: YOKOGAWA GS210 (serial:90Y438440, firmware:2.02) in 0.03s\n"
     ]
    }
   ],
   "source": [
    "try:\n",
    "    I_source = GS200(\"gs200\", address='TCPIP::192.168.10.3::INSTR', terminator=\"\\n\")\n",
    "\n",
    "\n",
    "except KeyError as er:\n",
    "\n",
    "    GS200.close_all() #Disconnect and irreversibly tear down the instrument\n",
    "    I_source = GS200(\"gs200\", address='TCPIP::192.168.10.3::INSTR', terminator=\"\\n\")"
   ]
  },
  {
   "cell_type": "markdown",
   "id": "da33ac23-f38d-4eb1-9a67-1ac25d67cbb2",
   "metadata": {},
   "source": [
    "# FUNCTION USED TO RUN THE MEASUREMENT"
   ]
  },
  {
   "cell_type": "code",
   "execution_count": 10,
   "id": "e02a5f69-a249-44ad-aa63-3879c7b0d7f2",
   "metadata": {},
   "outputs": [],
   "source": [
    "def measure_single_trace(exp,station):\n",
    "\n",
    "    VNA.rf_on()\n",
    "\n",
    "    meas = qc.Measurement(exp=exp, station=station)\n",
    "    meas.register_parameter(VNA.channels.S21.trace_mag_phase)\n",
    "\n",
    "    with meas.run() as datasaver:\n",
    "\n",
    "        id=datasaver.dataset.run_id\n",
    "        qc.load_by_run_spec( captured_run_id=id).add_metadata('parameter_snap',\n",
    "                             json.dumps(parameter_snap))\n",
    "\n",
    "        get_v = VNA.channels.S21.trace_mag_phase.get()\n",
    "        datasaver.add_result((VNA.channels.S21.trace_mag_phase, get_v))"
   ]
  },
  {
   "cell_type": "markdown",
   "id": "56ff2467-9bca-437a-a284-da57c82b8299",
   "metadata": {},
   "source": [
    "# INITIALIZE QCODES EXPERIMENT"
   ]
  },
  {
   "cell_type": "code",
   "execution_count": 11,
   "id": "eb07b562-5f7d-4dc2-85cb-c0d4ef3a53b5",
   "metadata": {},
   "outputs": [
    {
     "name": "stdout",
     "output_type": "stream",
     "text": [
      "Logging hadn't been started.\n",
      "Activating auto-logging. Current session state plus future input saved.\n",
      "Filename       : C:\\Users\\nicolas.ROCH\\.qcodes\\logs\\command_history.log\n",
      "Mode           : append\n",
      "Output logging : True\n",
      "Raw input log  : False\n",
      "Timestamping   : True\n",
      "State          : active\n",
      "Qcodes Logfile : C:\\Users\\nicolas.ROCH\\.qcodes\\logs\\220613-2600-qcodes.log\n"
     ]
    },
    {
     "name": "stderr",
     "output_type": "stream",
     "text": [
      "2022-06-13 16:26:17,920 ¦ qcodes.instrument.base ¦ WARNING ¦ base ¦ snapshot_base ¦ 269 ¦ [gs200_program(GS200Program)] Snapshot: Could not update parameter: trigger\n"
     ]
    }
   ],
   "source": [
    "start_all_logging()\n",
    "\n",
    "# Create a station\n",
    "station = qc.Station()\n",
    "station.add_component(VNA)\n",
    "station.add_component(I_source)\n",
    "station.add_component(MW_source)\n",
    "\n",
    "station.snapshot()\n",
    "station.components\n",
    "\n",
    "# Experiment details\n",
    "user='DF'\n",
    "date=datetime.datetime.today().strftime('%Y_%m_%d')\n",
    "description='VNA_single_trace'\n",
    "database_name = date+\"_\"+user+\"_\"+description\n"
   ]
  },
  {
   "cell_type": "markdown",
   "id": "7c3eacf3-f922-4c09-b3e7-45212e247739",
   "metadata": {},
   "source": [
    "# DATA FOLDER CREATION"
   ]
  },
  {
   "cell_type": "code",
   "execution_count": 12,
   "id": "a45f1702-7fdd-490c-a31a-86df8de30833",
   "metadata": {},
   "outputs": [],
   "source": [
    "script_dir=os.path.dirname(os.path.abspath(\"__file__\"))\n",
    "data_dir=os.path.join('C:\\\\QCodes_Driver_And_Scripts\\\\Data_QCodes\\\\Dorian\\\\'+date)\n",
    "\n",
    "try :\n",
    "    os.mkdir(data_dir)\n",
    "except FileExistsError:\n",
    "    pass\n",
    "\n",
    "data_dir=data_dir +'\\\\'+description\n",
    "\n",
    "try :\n",
    "    os.mkdir(data_dir)\n",
    "except FileExistsError:\n",
    "    pass"
   ]
  },
  {
   "cell_type": "markdown",
   "id": "9a0076a3-59ac-4d7b-a44c-9996d805360e",
   "metadata": {},
   "source": [
    "# CREATE OR INITIALIZE DATABASE"
   ]
  },
  {
   "cell_type": "code",
   "execution_count": 13,
   "id": "48721b1f-0adc-487b-8f21-7c8e125860f9",
   "metadata": {},
   "outputs": [
    {
     "name": "stdout",
     "output_type": "stream",
     "text": [
      "Upgrading database; v0 -> v1: : 0it [00:00, ?it/s]\n",
      "Upgrading database; v1 -> v2: 100%|█████████████████████████████████████████████████████| 1/1 [00:00<00:00, 334.05it/s]\n",
      "Upgrading database; v2 -> v3: : 0it [00:00, ?it/s]\n",
      "Upgrading database; v3 -> v4: : 0it [00:00, ?it/s]\n",
      "Upgrading database; v4 -> v5: 100%|█████████████████████████████████████████████████████| 1/1 [00:00<00:00, 937.69it/s]\n",
      "Upgrading database; v5 -> v6: : 0it [00:00, ?it/s]\n",
      "Upgrading database; v6 -> v7: 100%|█████████████████████████████████████████████████████| 1/1 [00:00<00:00, 197.32it/s]\n",
      "Upgrading database; v7 -> v8: 100%|█████████████████████████████████████████████████████| 1/1 [00:00<00:00, 501.05it/s]\n",
      "Upgrading database; v8 -> v9: 100%|████████████████████████████████████████████████████| 1/1 [00:00<00:00, 1003.18it/s]\n"
     ]
    }
   ],
   "source": [
    "qc.initialise_or_create_database_at(data_dir+'\\\\'+database_name+'.db')\n",
    "qc.config.core.db_location\n",
    "\n",
    "parameter_snap={}"
   ]
  },
  {
   "cell_type": "markdown",
   "id": "ed1c354d-fb0d-41cd-8917-6f8782b6a838",
   "metadata": {},
   "source": [
    "# INSTRUMENTS PARAMETERS"
   ]
  },
  {
   "cell_type": "code",
   "execution_count": 14,
   "id": "9eb38bca-a054-4950-9352-8e049680d442",
   "metadata": {},
   "outputs": [],
   "source": [
    "current = -0.\n",
    "# Snapshot parameters\n",
    "parameter_snap['flux']={'current': current}"
   ]
  },
  {
   "cell_type": "code",
   "execution_count": 15,
   "id": "7d81b961-84cc-44e8-8f1a-6d206c2ea608",
   "metadata": {},
   "outputs": [
    {
     "name": "stdout",
     "output_type": "stream",
     "text": [
      "\n",
      "time for one trace : 0:00:01.670000 s\n"
     ]
    }
   ],
   "source": [
    "center_freq  = 3.8625\n",
    "span_freq    = 0.5\n",
    "start_freq   = center_freq - 0.5*span_freq\n",
    "end_freq     = center_freq + 0.5*span_freq\n",
    "# start_freq = 2.\n",
    "# end_freq   = 12.\n",
    "step_freq    = 1*1.e-3\n",
    "VNA_power    = -4\n",
    "IF_bandwidth =  300\n",
    "Averages     =  1\n",
    "points_VNA   = int(abs(end_freq - start_freq)/step_freq)+1\n",
    "# points_VNA = 2001\n",
    "trace_time=points_VNA / IF_bandwidth * Averages\n",
    "\n",
    "print('\\ntime for one trace : {} s'.format(datetime.timedelta(seconds = trace_time)))\n",
    "\n",
    "# Snapshot parameters\n",
    "parameter_snap['vna'] = {'start_freq':start_freq, 'end_freq':end_freq,\n",
    "                         'VNA_power':VNA_power, 'IF_bandwidth':IF_bandwidth,\n",
    "                         'Averages':Averages, 'points':points_VNA}"
   ]
  },
  {
   "cell_type": "code",
   "execution_count": 16,
   "id": "5fb2cb44-9717-4eb7-bc4c-afc29c8775eb",
   "metadata": {},
   "outputs": [],
   "source": [
    "src_frequency  =  8.92695                #GHz\n",
    "src_power      = -45.                    #dBm\n",
    "src_status     = 'off'\n",
    "\n",
    "# Snapshot parameters\n",
    "parameter_snap['MW_source'] = {'freq':src_frequency,'power':src_power,'status':src_status}"
   ]
  },
  {
   "cell_type": "markdown",
   "id": "a7e2940d-9870-4eaa-be47-b886da94de4a",
   "metadata": {},
   "source": [
    "# SETTING UP INSTRUMENTS"
   ]
  },
  {
   "cell_type": "code",
   "execution_count": 17,
   "id": "a2b596e9-9836-400c-8648-1bde321c3f3e",
   "metadata": {},
   "outputs": [],
   "source": [
    "if I_source.output()=='on':\n",
    "    I_source.output('off')\n",
    "    \n",
    "I_source.source_mode('CURR')\n",
    "I_source.range(10e-3)\n",
    "\n",
    "I_source.current(current*1.e-3)\n",
    "\n",
    "I_source.output('on')"
   ]
  },
  {
   "cell_type": "code",
   "execution_count": 18,
   "id": "ac401522-b423-4746-ac72-36743bf12624",
   "metadata": {
    "tags": []
   },
   "outputs": [
    {
     "name": "stderr",
     "output_type": "stream",
     "text": [
      "2022-06-13 16:26:18,210 ¦ py.warnings ¦ WARNING ¦ warnings ¦ _showwarnmsg ¦ 109 ¦ C:\\Users\\nicolas.ROCH\\Miniconda3\\envs\\qcodes\\lib\\site-packages\\qcodes\\instrument\\base.py:130: QCoDeSDeprecationWarning: Parameter trace_mag_phase on instrument ZNB20_S21 does not correctly pass kwargs to its baseclass. A Parameter class must take `**kwargs` and forward them to its baseclass.\n",
      "  warnings.warn(\n",
      "\n",
      "2022-06-13 16:26:18,215 ¦ py.warnings ¦ WARNING ¦ warnings ¦ _showwarnmsg ¦ 109 ¦ C:\\Users\\nicolas.ROCH\\Miniconda3\\envs\\qcodes\\lib\\site-packages\\qcodes\\instrument\\base.py:130: QCoDeSDeprecationWarning: Parameter trace on instrument ZNB20_S21 does not correctly pass kwargs to its baseclass. A Parameter class must take `**kwargs` and forward them to its baseclass.\n",
      "  warnings.warn(\n",
      "\n",
      "2022-06-13 16:26:18,219 ¦ py.warnings ¦ WARNING ¦ warnings ¦ _showwarnmsg ¦ 109 ¦ C:\\Users\\nicolas.ROCH\\Miniconda3\\envs\\qcodes\\lib\\site-packages\\qcodes\\instrument\\base.py:130: QCoDeSDeprecationWarning: Parameter trace_fixed_frequency on instrument ZNB20_S21 does not correctly pass kwargs to its baseclass. A Parameter class must take `**kwargs` and forward them to its baseclass.\n",
      "  warnings.warn(\n",
      "\n",
      "2022-06-13 16:26:18,219 ¦ py.warnings ¦ WARNING ¦ warnings ¦ _showwarnmsg ¦ 109 ¦ C:\\Users\\nicolas.ROCH\\Miniconda3\\envs\\qcodes\\lib\\site-packages\\qcodes\\instrument\\base.py:130: QCoDeSDeprecationWarning: Parameter point_fixed_frequency on instrument ZNB20_S21 does not correctly pass kwargs to its baseclass. A Parameter class must take `**kwargs` and forward them to its baseclass.\n",
      "  warnings.warn(\n",
      "\n",
      "2022-06-13 16:26:18,220 ¦ py.warnings ¦ WARNING ¦ warnings ¦ _showwarnmsg ¦ 109 ¦ C:\\Users\\nicolas.ROCH\\Miniconda3\\envs\\qcodes\\lib\\site-packages\\qcodes\\instrument\\base.py:130: QCoDeSDeprecationWarning: Parameter point_fixed_frequency_mag_phase on instrument ZNB20_S21 does not correctly pass kwargs to its baseclass. A Parameter class must take `**kwargs` and forward them to its baseclass.\n",
      "  warnings.warn(\n",
      "\n",
      "2022-06-13 16:26:18,222 ¦ py.warnings ¦ WARNING ¦ warnings ¦ _showwarnmsg ¦ 109 ¦ C:\\Users\\nicolas.ROCH\\Miniconda3\\envs\\qcodes\\lib\\site-packages\\qcodes\\instrument\\base.py:130: QCoDeSDeprecationWarning: Parameter point_fixed_frequency_mag_phase_trace on instrument ZNB20_S21 does not correctly pass kwargs to its baseclass. A Parameter class must take `**kwargs` and forward them to its baseclass.\n",
      "  warnings.warn(\n",
      "\n"
     ]
    }
   ],
   "source": [
    "VNA.add_channel('S21',vna_parameter='S21')\n",
    "\n",
    "VNA.channels.S21.format('dB')\n",
    "VNA.channels.S21.bandwidth(IF_bandwidth)\n",
    "VNA.channels.S21.power(VNA_power)\n",
    "VNA.channels.S21.avg(Averages)\n",
    "VNA.channels.npts(points_VNA)\n",
    "VNA.channels.start(start_freq*1e9)\n",
    "VNA.channels.stop(end_freq*1e9)"
   ]
  },
  {
   "cell_type": "code",
   "execution_count": 19,
   "id": "a76eec7f-d1e5-43e9-8f91-dbc23b5600a0",
   "metadata": {},
   "outputs": [],
   "source": [
    "MW_source.frequency(src_frequency*1e9)\n",
    "MW_source.power(src_power)\n",
    "MW_source.status(src_status)"
   ]
  },
  {
   "cell_type": "markdown",
   "id": "e1180a16-bd78-4b16-a867-ed4ad53d30e7",
   "metadata": {},
   "source": [
    "#  MEASUREMENT"
   ]
  },
  {
   "cell_type": "code",
   "execution_count": 23,
   "id": "3e76a87a-b2b6-4828-9fb2-3f2d5650f652",
   "metadata": {},
   "outputs": [
    {
     "name": "stdout",
     "output_type": "stream",
     "text": [
      "Starting experimental run with id: 2. \n"
     ]
    }
   ],
   "source": [
    "# Load experiment\n",
    "exp_name = 'VNA_single_trace'\n",
    "\n",
    "sample_name = 'B5_G3_GALV_SQ200_1ST'\n",
    "\n",
    "exp=qc.load_or_create_experiment(experiment_name=exp_name,\n",
    "                          sample_name=sample_name)\n",
    "\n",
    "measure_single_trace(exp=exp, station=station)\n",
    "\n"
   ]
  },
  {
   "cell_type": "code",
   "execution_count": 24,
   "id": "38913eb4-ee23-480e-bd9d-5022b6e4916d",
   "metadata": {},
   "outputs": [],
   "source": [
    "VNA.rf_off()\n",
    "VNA.cont_meas_off()\n",
    "MW_source.status('off')\n",
    "I_source.output('off')"
   ]
  },
  {
   "cell_type": "code",
   "execution_count": null,
   "id": "ac4e4507-544e-475a-8182-810a26df68e3",
   "metadata": {},
   "outputs": [],
   "source": []
  },
  {
   "cell_type": "code",
   "execution_count": null,
   "id": "f48555b3-f67c-4e22-a5dc-ebdab423bc05",
   "metadata": {},
   "outputs": [],
   "source": []
  }
 ],
 "metadata": {
  "kernelspec": {
   "display_name": "Python 3 (ipykernel)",
   "language": "python",
   "name": "python3"
  },
  "language_info": {
   "codemirror_mode": {
    "name": "ipython",
    "version": 3
   },
   "file_extension": ".py",
   "mimetype": "text/x-python",
   "name": "python",
   "nbconvert_exporter": "python",
   "pygments_lexer": "ipython3",
   "version": "3.10.4"
  }
 },
 "nbformat": 4,
 "nbformat_minor": 5
}
