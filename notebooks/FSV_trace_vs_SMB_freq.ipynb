{
 "cells": [
  {
   "cell_type": "code",
   "execution_count": 1,
   "id": "2ad4dd3e-bf9c-4334-9718-1640251f9050",
   "metadata": {},
   "outputs": [],
   "source": [
    "from qcodes.instrument.specialized_parameters import ElapsedTimeParameter\n",
    "from qcodes.dataset.plotting import plot_dataset,plot_by_id\n",
    "from qcodes.logger.logger import start_all_logging\n",
    "# from qcodes.plots.pyqtgraph import QtPlot\n",
    "from qcodes.loops import Loop\n",
    "from time import sleep\n",
    "from tqdm.notebook import tqdm\n",
    "\n",
    "import matplotlib.pyplot as plt\n",
    "import qcodes as qc\n",
    "import numpy as np\n",
    "import datetime\n",
    "import time\n",
    "import json\n",
    "import sys\n",
    "import os\n"
   ]
  },
  {
   "cell_type": "markdown",
   "id": "87944b79-b402-4c64-b555-d25fae0f9100",
   "metadata": {
    "tags": []
   },
   "source": [
    "# Agilent"
   ]
  },
  {
   "cell_type": "code",
   "execution_count": 2,
   "id": "a7a7b8b2-f349-45a0-9b51-966940aa0954",
   "metadata": {},
   "outputs": [
    {
     "name": "stdout",
     "output_type": "stream",
     "text": [
      "Connected to: Rohde&Schwarz SGS100A (serial:1416.0505k02/114045, firmware:4.2.76.0-4.30.046.295) in 0.28s\n",
      "Connected to: YOKOGAWA GS210 (serial:90Y438440, firmware:2.02) in 0.06s\n",
      "Connected to: Agilent Technologies E8257D (serial:US45470698, firmware:C.06.28) in 0.05s\n",
      "Connected to: Rohde&Schwarz FSV3030 (serial:1330.5000K30/101857, firmware:1.80) in 0.02s\n"
     ]
    }
   ],
   "source": [
    "sys.path.append('C:\\QCodes_Driver_And_Scripts\\Drivers')\n",
    "\n",
    "from qcodes.instrument_drivers.yokogawa.GS200 import GS200\n",
    "\n",
    "from Agilent_E8257D import E8257D\n",
    "from RS_SGS_100A import SGS100A\n",
    "from RS_SMB_100A import SMB100A\n",
    "from HP3245A import HP3245A\n",
    "from RS_FSV import RS_FSV\n",
    "from VNA_RS import VNA\n",
    "\n",
    "\n",
    "try:\n",
    "\n",
    "    twpa_source=SGS100A('twpa_pump','TCPIP0::192.168.10.56::inst0::INSTR')\n",
    "\n",
    "except KeyError as er:\n",
    "\n",
    "    SMB100A.close_all()\n",
    "    twpa_source=SGS100A('twpa_pump','TCPIP0::192.168.10.56::inst0::INSTR')\n",
    "     \n",
    "    \n",
    "try:\n",
    "    I_source = GS200(\"gs200\", address='TCPIP::192.168.10.3::INSTR', terminator=\"\\n\")\n",
    "\n",
    "\n",
    "except KeyError as er:\n",
    "\n",
    "    GS200.close_all() #Disconnect and irreversibly tear down the instrument\n",
    "    I_source = GS200(\"gs200\", address='TCPIP::192.168.10.3::INSTR', terminator=\"\\n\")\n",
    "\n",
    "try:\n",
    "    MW_source=E8257D('mw_source','TCPIP0::192.168.10.70::inst0::INSTR')\n",
    "\n",
    "except KeyError as er:\n",
    "\n",
    "    E8257D.close_all()\n",
    "    MW_source=E8257D('mw_source','TCPIP0::192.168.10.70::inst0::INSTR')\n",
    "try:\n",
    "    FSV = RS_FSV('rs_fsv', 'TCPIP0::192.168.10.66::inst0::INSTR')\n",
    "\n",
    "except KeyError as er:\n",
    "\n",
    "\n",
    "    RS_FSV.close_all() #Disconnect and irreversibly tear down the instrument\n",
    "    FSV =  RS_FSV('rs_fsv', 'TCPIP0::192.168.10.66::inst0::INSTR')\n"
   ]
  },
  {
   "cell_type": "code",
   "execution_count": 3,
   "id": "21c3f1f8-e6af-42e7-8d3e-1edc0f1bd786",
   "metadata": {},
   "outputs": [],
   "source": [
    "\n",
    "def measure(avg,freq_vec, exp, station):\n",
    "\n",
    "    meas = qc.Measurement(exp=exp, station=station)\n",
    "    meas.register_parameter(MW_source.frequency)\n",
    "    meas.register_parameter(FSV.freq_axis)\n",
    "    meas.register_parameter(FSV.spectrum)\n",
    "    meas.register_custom_parameter(name='spectrum_mw_off',paramtype='array')\n",
    "\n",
    "    with meas.run() as datasaver:\n",
    "        \n",
    "        run_id=datasaver.dataset.run_id\n",
    "        qc.load_by_run_spec(captured_run_id=run_id).add_metadata('parameter_snap',\n",
    "                                 json.dumps(parameter_snap))\n",
    "        \n",
    "        for freq in tqdm(freq_vec):\n",
    "            \n",
    "            MW_source.frequency(freq*1.e9)\n",
    "            \n",
    "            get_f = float(MW_source.frequency.get())\n",
    "            \n",
    "            get_s_off  = np.zeros(FSV.n_points())\n",
    "            get_s      = np.zeros(FSV.n_points())\n",
    "            \n",
    "            for n in tqdm(range(avg),leave=False):\n",
    "                \n",
    "                MW_source.status('OFF')\n",
    "                \n",
    "                get_s_off =  get_s_off + 1.e-3*10**(FSV.spectrum.get()/10)\n",
    "                \n",
    "                MW_source.status(src_status.upper())\n",
    "\n",
    "                get_c = FSV.freq_axis.get()\n",
    "\n",
    "                get_s = get_s +  1.e-3*10**(FSV.spectrum.get()/10)\n",
    "                \n",
    "                sleep(0.01)\n",
    "\n",
    "            datasaver.add_result((FSV.freq_axis, get_c),(MW_source.frequency, get_f),(FSV.spectrum,get_s/avg),(\"spectrum_mw_off\",get_s_off/avg))\n",
    "\n",
    "          \n"
   ]
  },
  {
   "cell_type": "code",
   "execution_count": 4,
   "id": "80e9dda7-cfc1-4c3b-9b59-4b46ec66a597",
   "metadata": {},
   "outputs": [
    {
     "name": "stdout",
     "output_type": "stream",
     "text": [
      "Logging hadn't been started.\n",
      "Activating auto-logging. Current session state plus future input saved.\n",
      "Filename       : C:\\Users\\nicolas.ROCH\\.qcodes\\logs\\command_history.log\n",
      "Mode           : append\n",
      "Output logging : True\n",
      "Raw input log  : False\n",
      "Timestamping   : True\n",
      "State          : active\n",
      "Qcodes Logfile : C:\\Users\\nicolas.ROCH\\.qcodes\\logs\\230117-3480-qcodes.log\n"
     ]
    },
    {
     "name": "stderr",
     "output_type": "stream",
     "text": [
      "2023-01-17 16:12:33,694 ¦ qcodes.instrument.instrument_base ¦ WARNING ¦ instrument_base ¦ snapshot_base ¦ 292 ¦ [gs200_program(GS200Program)] Snapshot: Could not update parameter: trigger\n"
     ]
    }
   ],
   "source": [
    "start_all_logging()\n",
    "\n",
    "# Create a station\n",
    "station = qc.Station()\n",
    "station.add_component(FSV)\n",
    "station.add_component(twpa_source)\n",
    "station.add_component(I_source)\n",
    "# station.add_component(I_twpa)\n",
    "station.add_component(MW_source)\n",
    "\n",
    "station.snapshot()\n",
    "station.components\n",
    "\n",
    "# Experiment details\n",
    "user='DF'\n",
    "date=datetime.datetime.today().strftime('%Y_%m_%d')\n",
    "description='FSV_trace_vs_Agilent_freq'\n",
    "database_name = date+\"_\"+user+\"_\"+description\n"
   ]
  },
  {
   "cell_type": "code",
   "execution_count": 5,
   "id": "2b282ddc-1528-4dd1-853a-4f0e5c96d9d7",
   "metadata": {},
   "outputs": [],
   "source": [
    "script_dir=os.path.dirname(os.path.abspath(\"__file__\"))\n",
    "data_dir=os.path.join('C:\\\\QCodes_Driver_And_Scripts\\\\Data_QCodes\\\\Dorian\\\\'+date)\n",
    "\n",
    "try :\n",
    "    os.mkdir(data_dir)\n",
    "except FileExistsError:\n",
    "    pass\n",
    "\n",
    "data_dir=data_dir +'\\\\'+description\n",
    "\n",
    "try :\n",
    "    os.mkdir(data_dir)\n",
    "except FileExistsError:\n",
    "    pass"
   ]
  },
  {
   "cell_type": "code",
   "execution_count": 6,
   "id": "420765d0-69bf-4149-b432-cec05622710b",
   "metadata": {},
   "outputs": [
    {
     "data": {
      "text/plain": [
       "'C:\\\\QCodes_Driver_And_Scripts\\\\Data_QCodes\\\\Dorian\\\\2023_01_17\\\\FSV_trace_vs_Agilent_freq\\\\2023_01_17_DF_FSV_trace_vs_Agilent_freq'"
      ]
     },
     "execution_count": 6,
     "metadata": {},
     "output_type": "execute_result"
    }
   ],
   "source": [
    "qc.initialise_or_create_database_at(data_dir+'\\\\'+database_name)\n",
    "qc.config.core.db_location"
   ]
  },
  {
   "cell_type": "code",
   "execution_count": 7,
   "id": "e3608e25-bf80-4029-adf8-42cc4a14b1ba",
   "metadata": {
    "tags": []
   },
   "outputs": [
    {
     "name": "stdout",
     "output_type": "stream",
     "text": [
      "\n",
      "Measurement with TWPA on\n",
      "\n",
      "time estimation for all measurement : 17:21:40 \n"
     ]
    }
   ],
   "source": [
    "current =  -2.756#mA\n",
    "# current = 0  #mA\n",
    "\n",
    "# TWPA PUMP PARAMETERS\n",
    "pump_freq    = 4.998                #GHz\n",
    "pump_power   = 0.5               #dBm\n",
    "pump_status  = 'on'\n",
    "twpa_current = -0.5               #mA\n",
    "\n",
    "print('\\nMeasurement with TWPA {}'.format(pump_status))\n",
    "\n",
    "# MW SOURCE\n",
    "src_center     = 9.13\n",
    "src_span       = 0.4\n",
    "src_points     = 40\n",
    "src_points     = 1\n",
    "src_frequency  = np.linspace(src_center-0.5*src_span,src_center + 0.5*src_span, src_points) #GHz\n",
    "src_frequency  = np.array([src_center])\n",
    "# src_frequency  = np.linspace(2.6, 3.1, src_points) #GHz\n",
    "\n",
    "# src_frequency  = np.array([src_center])\n",
    "\n",
    "src_power      =  -7.5\n",
    "src_status     = 'on'\n",
    "\n",
    "# Spectral Analyser parameters\n",
    "FSV_rbw         = 5*1.e6 #Hz\n",
    "FSV_ref         = -10     #dB\n",
    "FSV_avg         = 0\n",
    "FSV_att         = 0       #dB\n",
    "FSV_center      = 3.125\n",
    "# FSV_center_span = 1       #GHz\n",
    "# FSV_cw_vec      = np.arange(FSV_center-0.5*FSV_center_span,FSV_center+0.5*FSV_center_span,FSV_rbw*1.e-9)\n",
    "# FSC_cw_step     = 10*1.e6\n",
    "# FSV_cw_vec      = np.arange(FSV_center-0.5*FSV_center_span,FSV_center+0.5*FSV_center_span,FSC_cw_step*1.e-9)\n",
    "FSV_span        = 1       #0 span mode\n",
    "# FSV_npt         = int(FSV_span*1.e9/FSV_rbw)\n",
    "# FSV_npt         = max(101,FSV_npt)\n",
    "FSV_npt         = 200\n",
    "sweep_time_min  = FSV_npt / FSV_rbw\n",
    "trace_average   = int(25000)\n",
    "\n",
    "FSV_time_sweep  = 1.\n",
    "FSV_time_sweep  = max(sweep_time_min,FSV_time_sweep)\n",
    "# FSV_time_sweep = 0.165\n",
    "\n",
    "if FSV_time_sweep < sweep_time_min :\n",
    "    raise ValueError(\"sweeptime to small with respect to the sweep points and rbw\")\n",
    "print('\\ntime estimation for all measurement : {} '\n",
    "      .format(datetime.timedelta(seconds=2*1.25 *len(src_frequency)*FSV_time_sweep*trace_average)))\n"
   ]
  },
  {
   "cell_type": "code",
   "execution_count": 8,
   "id": "6be79e07-ca90-439b-9391-93966bdf8dd7",
   "metadata": {},
   "outputs": [
    {
     "data": {
      "text/plain": [
       "'1'"
      ]
     },
     "execution_count": 8,
     "metadata": {},
     "output_type": "execute_result"
    }
   ],
   "source": [
    "FSV.sweep_time()"
   ]
  },
  {
   "cell_type": "code",
   "execution_count": null,
   "id": "421bc93b-782b-4a0a-b72c-01f83544961a",
   "metadata": {
    "tags": []
   },
   "outputs": [
    {
     "name": "stdout",
     "output_type": "stream",
     "text": [
      "\n",
      "time estimation for all measurement : 17:21:40 \n",
      "Starting experimental run with id: 1. \n"
     ]
    },
    {
     "data": {
      "application/vnd.jupyter.widget-view+json": {
       "model_id": "120595b25fd7477f8eea6366e187ce92",
       "version_major": 2,
       "version_minor": 0
      },
      "text/plain": [
       "  0%|          | 0/1 [00:00<?, ?it/s]"
      ]
     },
     "metadata": {},
     "output_type": "display_data"
    },
    {
     "data": {
      "application/vnd.jupyter.widget-view+json": {
       "model_id": "7ffb69231945432ab8b7c31c516981dd",
       "version_major": 2,
       "version_minor": 0
      },
      "text/plain": [
       "  0%|          | 0/25000 [00:00<?, ?it/s]"
      ]
     },
     "metadata": {},
     "output_type": "display_data"
    }
   ],
   "source": [
    "if I_source.output()=='on':\n",
    "    I_source.output('off')\n",
    "\n",
    "I_source.source_mode('CURR')\n",
    "I_source.range(100e-3)\n",
    "I_source.current(current*1.e-3)\n",
    "I_source.output('on')\n",
    "\n",
    "FSV.res_BW(FSV_rbw)\n",
    "FSV.center_freq(FSV_center*1.e9)\n",
    "FSV.averages(FSV_avg)\n",
    "FSV.n_points(FSV_npt)\n",
    "FSV.span(FSV_span*1.e9)\n",
    "FSV.ref_level(FSV_ref)\n",
    "FSV.input_att(FSV_att)\n",
    "FSV.write('SWE:TYPE SWEEP')\n",
    "FSV.sweep_time(FSV_time_sweep)\n",
    "\n",
    "FSV.detector('rms')\n",
    "\n",
    "print('\\ntime estimation for all measurement : {} '\n",
    "      .format(datetime.timedelta(seconds=2*1.25 *len(src_frequency)*FSV_time_sweep*trace_average)))\n",
    "\n",
    "MW_source.frequency(src_frequency[0]*1.e9)\n",
    "MW_source.power(src_power)\n",
    "MW_source.status(src_status.upper())\n",
    "MW_source.set_gui_update('on')\n",
    "\n",
    "twpa_source.frequency(pump_freq*1.e9)\n",
    "twpa_source.power(pump_power)\n",
    "twpa_source.status(pump_status.lower())\n",
    "\n",
    "parameter_snap={}\n",
    "# Snapshot parameters\n",
    "parameter_snap['twpa_pump'] = {'freq':pump_freq,'pump_power':pump_power,'pump_status' : pump_status,\n",
    "                            'current' : twpa_current}\n",
    "parameter_snap['MW_source'] = {'power':src_power}\n",
    "parameter_snap['FSV']={'center_freq':FSV_center,'average':FSV_avg,'res_bandwidth':FSV_rbw,\n",
    "                  'Npoints':int(FSV.n_points()),'ref':FSV_ref,'att':FSV_att,'span':FSV_span,'sweeptime':FSV_time_sweep,'trace_average':trace_average}\n",
    "parameter_snap['flux']={'current': current}\n",
    "\n",
    "# Load experiment\n",
    "exp_name = 'FSV_trace_vs_SMB_freq'\n",
    "sample_name = 'B5_G3_GALV_SQ200_1ST'\n",
    "exp=qc.load_or_create_experiment(experiment_name=exp_name,\n",
    "                          sample_name=sample_name)\n",
    "\n",
    "measure(avg=trace_average,freq_vec=src_frequency,exp=exp, station=station)\n",
    "\n",
    "# Shutdown devices\n",
    "# VNA.rf_off()\n",
    "# VNA.cont_meas_off()\n",
    "twpa_source.status('off')\n",
    "MW_source.status('OFF')\n",
    "I_source.output('off')"
   ]
  },
  {
   "cell_type": "code",
   "execution_count": null,
   "id": "12545161-ac88-4da6-915c-6bb853a35c34",
   "metadata": {},
   "outputs": [],
   "source": [
    "twpa_source.status('off')\n",
    "MW_source.status('OFF')\n",
    "I_source.output('off')"
   ]
  },
  {
   "cell_type": "code",
   "execution_count": null,
   "id": "f951b254-8cc3-4205-86c9-01ea0edf0fa6",
   "metadata": {},
   "outputs": [],
   "source": []
  },
  {
   "cell_type": "code",
   "execution_count": null,
   "id": "4d8e5ca7-6a0a-4b38-8ffb-f6846d670371",
   "metadata": {},
   "outputs": [],
   "source": []
  },
  {
   "cell_type": "code",
   "execution_count": null,
   "id": "dc36a409-d67d-4980-9534-d7521d702136",
   "metadata": {},
   "outputs": [],
   "source": []
  },
  {
   "cell_type": "code",
   "execution_count": null,
   "id": "04c1b432-030b-4893-88f8-26d1e83fff44",
   "metadata": {},
   "outputs": [],
   "source": []
  }
 ],
 "metadata": {
  "kernelspec": {
   "display_name": "Python 3 (ipykernel)",
   "language": "python",
   "name": "python3"
  },
  "language_info": {
   "codemirror_mode": {
    "name": "ipython",
    "version": 3
   },
   "file_extension": ".py",
   "mimetype": "text/x-python",
   "name": "python",
   "nbconvert_exporter": "python",
   "pygments_lexer": "ipython3",
   "version": "3.10.8"
  }
 },
 "nbformat": 4,
 "nbformat_minor": 5
}
