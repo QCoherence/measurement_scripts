{
 "cells": [
  {
   "cell_type": "code",
   "execution_count": 1,
   "id": "f2371d55-66e3-448d-9441-f2664834ccf8",
   "metadata": {},
   "outputs": [],
   "source": [
    "from qcodes.instrument.specialized_parameters import ElapsedTimeParameter\n",
    "from qcodes.dataset.plotting import plot_dataset,plot_by_id\n",
    "from qcodes.logger.logger import start_all_logging\n",
    "# from qcodes.plots.pyqtgraph import QtPlot\n",
    "from qcodes.loops import Loop\n",
    "from time import sleep\n",
    "from tqdm.notebook import tqdm\n",
    "\n",
    "import matplotlib.pyplot as plt\n",
    "import qcodes as qc\n",
    "import numpy as np\n",
    "import datetime\n",
    "import time\n",
    "import json\n",
    "import os\n",
    "import sys\n"
   ]
  },
  {
   "cell_type": "code",
   "execution_count": 2,
   "id": "644bb28b-e22a-4898-9469-a4157f2c48ab",
   "metadata": {},
   "outputs": [
    {
     "name": "stdout",
     "output_type": "stream",
     "text": [
      "Connected to: Rohde&Schwarz SGS100A (serial:1416.0505k02/114045, firmware:4.2.76.0-4.30.046.295) in 0.65s\n",
      "Connected to: Rohde-Schwarz ZNB20-2Port (serial:1311601062101578, firmware:2.80) in 0.02s\n",
      "Connected to: YOKOGAWA GS210 (serial:90Y438440, firmware:2.02) in 0.02s\n"
     ]
    }
   ],
   "source": [
    "sys.path.append('C:\\QCodes_Driver_And_Scripts\\Drivers')\n",
    "\n",
    "from qcodes.instrument_drivers.yokogawa.GS200 import GS200\n",
    "\n",
    "from RS_SMB_100A import SMB100A\n",
    "from RS_SGS_100A import SGS100A\n",
    "from HP3245A import HP3245A\n",
    "from RS_FSQ import RS_FSQ\n",
    "from VNA_RS import VNA\n",
    "      \n",
    "try:\n",
    "\n",
    "    twpa_source=SGS100A('twpa_pump','TCPIP0::192.168.10.56::inst0::INSTR')\n",
    "\n",
    "except KeyError as er:\n",
    "\n",
    "    SMB100A.close_all()\n",
    "    twpa_source=SGS100A('twpa_pump','TCPIP0::192.168.10.56::inst0::INSTR')\n",
    "     \n",
    "\n",
    "try:\n",
    "    VNA = VNA('ZNB20', 'TCPIP0::192.168.10.2::inst0::INSTR',\n",
    "               init_s_params=False,terminator='\\n')\n",
    "\n",
    "except KeyError as er:\n",
    "\n",
    "\n",
    "    VNA.close_all() #Disconnect and irreversibly tear down the instrument\n",
    "    VNA = VNA('ZNB20', 'TCPIP0::192.168.10.2::inst0::INSTR',\n",
    "               init_s_params=False,terminator='\\n')\n",
    "    \n",
    "try:\n",
    "    I_source = GS200(\"gs200\", address='TCPIP::192.168.10.3::INSTR', terminator=\"\\n\")\n",
    "\n",
    "\n",
    "except KeyError as er:\n",
    "\n",
    "    GS200.close_all() #Disconnect and irreversibly tear down the instrument\n",
    "    I_source = GS200(\"gs200\", address='TCPIP::192.168.10.3::INSTR', terminator=\"\\n\")"
   ]
  },
  {
   "cell_type": "code",
   "execution_count": 3,
   "id": "8e1179c6-7356-4e6c-b356-d75f22cc9d2f",
   "metadata": {},
   "outputs": [],
   "source": [
    "\n",
    "def measure_vs_current(current_vec, exp, station):\n",
    "\n",
    "\n",
    "    VNA.rf_on()\n",
    "\n",
    "    meas = qc.Measurement(exp=exp, station=station)\n",
    "    meas.register_parameter(I_source.current)\n",
    "    meas.register_parameter(VNA.channels.S21.trace_mag_phase,\n",
    "                            setpoints=[I_source.current])\n",
    "\n",
    "\n",
    "    meas.write_period = 10\n",
    "\n",
    "    with meas.run() as datasaver:\n",
    "\n",
    "        id=datasaver.dataset.run_id\n",
    "        qc.load_by_run_spec( captured_run_id=id).add_metadata('parameter_snap',\n",
    "                             json.dumps(parameter_snap))\n",
    "\n",
    "        for current in tqdm(current_vec):\n",
    "\n",
    "            I_source.current(current)\n",
    "\n",
    "            get_v = VNA.channels.S21.trace_mag_phase.get()\n",
    "            get_i = I_source.current.get()\n",
    "\n",
    "            datasaver.add_result((VNA.channels.S21.trace_mag_phase, get_v),(I_source.current,get_i))"
   ]
  },
  {
   "cell_type": "code",
   "execution_count": 4,
   "id": "90c21a68-6e96-46ad-afcb-ac1fbebd04cf",
   "metadata": {},
   "outputs": [
    {
     "name": "stdout",
     "output_type": "stream",
     "text": [
      "Logging hadn't been started.\n",
      "Activating auto-logging. Current session state plus future input saved.\n",
      "Filename       : C:\\Users\\nicolas.ROCH\\.qcodes\\logs\\command_history.log\n",
      "Mode           : append\n",
      "Output logging : True\n",
      "Raw input log  : False\n",
      "Timestamping   : True\n",
      "State          : active\n",
      "Qcodes Logfile : C:\\Users\\nicolas.ROCH\\.qcodes\\logs\\230113-18256-qcodes.log\n"
     ]
    },
    {
     "name": "stderr",
     "output_type": "stream",
     "text": [
      "2023-01-13 14:25:20,101 ¦ qcodes.instrument.instrument_base ¦ WARNING ¦ instrument_base ¦ snapshot_base ¦ 292 ¦ [gs200_program(GS200Program)] Snapshot: Could not update parameter: trigger\n"
     ]
    }
   ],
   "source": [
    "start_all_logging()\n",
    "\n",
    "# Create a station\n",
    "station = qc.Station()\n",
    "station.add_component(VNA)\n",
    "station.add_component(I_source)\n",
    "station.add_component(twpa_source)\n",
    "\n",
    "station.snapshot()\n",
    "station.components\n",
    "\n",
    "# Experiment details\n",
    "date=datetime.datetime.today().strftime('%Y_%m_%d')\n",
    "user='DF'\n",
    "description='VNA_vs_current'\n",
    "database_name = date+\"_\"+user+\"_\"+description"
   ]
  },
  {
   "cell_type": "code",
   "execution_count": 5,
   "id": "e1ff745a-11d6-4dd9-9778-df2e7b184e48",
   "metadata": {},
   "outputs": [],
   "source": [
    "script_dir=os.path.dirname(os.path.abspath(\"__file__\"))\n",
    "data_dir=os.path.join('C:\\\\QCodes_Driver_And_Scripts\\\\Data_QCodes\\\\Dorian\\\\'+date)\n",
    "\n",
    "try :\n",
    "    os.mkdir(data_dir)\n",
    "except FileExistsError:\n",
    "    pass\n",
    "\n",
    "data_dir=data_dir +'\\\\'+description\n",
    "\n",
    "try :\n",
    "    os.mkdir(data_dir)\n",
    "except FileExistsError:\n",
    "    pass"
   ]
  },
  {
   "cell_type": "code",
   "execution_count": 6,
   "id": "e56a1329-2b7d-44c7-bc0b-c79e682e0802",
   "metadata": {},
   "outputs": [],
   "source": [
    "qc.initialise_or_create_database_at(data_dir+'\\\\'+database_name+'.db')\n",
    "qc.config.core.db_location\n",
    "\n",
    "parameter_snap={}"
   ]
  },
  {
   "cell_type": "code",
   "execution_count": 7,
   "id": "08ae3ae9-d809-4d53-af1e-4f3812a53627",
   "metadata": {},
   "outputs": [],
   "source": [
    "I_start  =  -2.85\n",
    "I_end    =  -2.6\n",
    "# I_step   = 0.0022\n",
    "\n",
    "# points_I =  int(np.abs(I_end-I_start)/I_step)\n",
    "points_I = 100\n",
    "\n",
    "I_vec    = np.linspace(I_start, I_end, points_I)*1.e-3\n",
    "\n",
    "# Snapshot parameters\n",
    "parameter_snap['flux']={'I_start':I_vec[0]*1.e3,'I_end':I_vec[-1]*1.e3,'I_points':len(I_vec)}"
   ]
  },
  {
   "cell_type": "code",
   "execution_count": 8,
   "id": "7f608b19-3d64-4c5a-af4e-6bb6b0182be8",
   "metadata": {},
   "outputs": [],
   "source": [
    "I_step   = np.abs(I_end-I_start)/points_I"
   ]
  },
  {
   "cell_type": "code",
   "execution_count": 9,
   "id": "b43e86a7-d325-4265-a886-42efbfc1cd39",
   "metadata": {},
   "outputs": [
    {
     "data": {
      "text/plain": [
       "0.0025"
      ]
     },
     "execution_count": 9,
     "metadata": {},
     "output_type": "execute_result"
    }
   ],
   "source": [
    "I_step"
   ]
  },
  {
   "cell_type": "code",
   "execution_count": 10,
   "id": "74d35218-e21f-459c-a1de-43a9b40e911e",
   "metadata": {},
   "outputs": [
    {
     "data": {
      "text/plain": [
       "100"
      ]
     },
     "execution_count": 10,
     "metadata": {},
     "output_type": "execute_result"
    }
   ],
   "source": [
    "points_I"
   ]
  },
  {
   "cell_type": "code",
   "execution_count": 11,
   "id": "4916bab6-ff91-4faf-8449-1e9fc891a409",
   "metadata": {},
   "outputs": [
    {
     "name": "stdout",
     "output_type": "stream",
     "text": [
      "\n",
      "Measurement with TWPA on\n"
     ]
    }
   ],
   "source": [
    "# TWPA PUMP PARAMETERS\n",
    "pump_freq    = 4.998                #GHz\n",
    "pump_power   = 0.5                #dBm\n",
    "pump_status  = 'on'\n",
    "twpa_current = -0.5               #mA\n",
    "\n",
    "print('\\nMeasurement with TWPA {}'.format(pump_status))"
   ]
  },
  {
   "cell_type": "code",
   "execution_count": 12,
   "id": "45d16b85-ab85-4b6f-97aa-816cafc25d9c",
   "metadata": {},
   "outputs": [
    {
     "name": "stdout",
     "output_type": "stream",
     "text": [
      "\n",
      "time for one trace : 0:00:33.366667\n",
      "\n",
      "time estimation for all measurement : 0:55:36.666667 \n"
     ]
    }
   ],
   "source": [
    "start_freq = 2.6\n",
    "end_freq   = 3.7\n",
    "VNA_power    = -20\n",
    "IF_bandwidth = 30\n",
    "Averages     = 1\n",
    "points_VNA   = 1001\n",
    "\n",
    "trace_time   = points_VNA / IF_bandwidth\n",
    "\n",
    "print('\\ntime for one trace : {}'.format(datetime.timedelta(seconds=trace_time)))\n",
    "print('\\ntime estimation for all measurement : {} '\n",
    "      .format(datetime.timedelta(seconds=Averages*len(I_vec)*trace_time)))\n",
    "\n",
    "# Snapshot parameters\n",
    "parameter_snap['vna'] = {'start_freq':start_freq, 'end_freq':end_freq,\n",
    "                         'VNA_power':VNA_power, 'IF_bandwidth':IF_bandwidth,\n",
    "                         'Averages':Averages, 'points':points_VNA}"
   ]
  },
  {
   "cell_type": "code",
   "execution_count": 13,
   "id": "346871a3-f21a-4374-8526-a8a0c151c4a5",
   "metadata": {},
   "outputs": [
    {
     "name": "stderr",
     "output_type": "stream",
     "text": [
      "2023-01-13 14:25:20,297 ¦ py.warnings ¦ WARNING ¦ warnings ¦ _showwarnmsg ¦ 109 ¦ C:\\Users\\nicolas.ROCH\\Miniconda3\\envs\\qcodes\\lib\\site-packages\\qcodes\\instrument\\instrument_base.py:143: QCoDeSDeprecationWarning: Parameter trace_mag_phase on instrument ZNB20_S21 does not correctly pass kwargs to its baseclass. A Parameter class must take `**kwargs` and forward them to its baseclass.\n",
      "  warnings.warn(\n",
      "\n",
      "2023-01-13 14:25:20,303 ¦ py.warnings ¦ WARNING ¦ warnings ¦ _showwarnmsg ¦ 109 ¦ C:\\Users\\nicolas.ROCH\\Miniconda3\\envs\\qcodes\\lib\\site-packages\\qcodes\\instrument\\instrument_base.py:143: QCoDeSDeprecationWarning: Parameter trace on instrument ZNB20_S21 does not correctly pass kwargs to its baseclass. A Parameter class must take `**kwargs` and forward them to its baseclass.\n",
      "  warnings.warn(\n",
      "\n",
      "2023-01-13 14:25:20,309 ¦ py.warnings ¦ WARNING ¦ warnings ¦ _showwarnmsg ¦ 109 ¦ C:\\Users\\nicolas.ROCH\\Miniconda3\\envs\\qcodes\\lib\\site-packages\\qcodes\\instrument\\instrument_base.py:143: QCoDeSDeprecationWarning: Parameter trace_fixed_frequency on instrument ZNB20_S21 does not correctly pass kwargs to its baseclass. A Parameter class must take `**kwargs` and forward them to its baseclass.\n",
      "  warnings.warn(\n",
      "\n",
      "2023-01-13 14:25:20,309 ¦ py.warnings ¦ WARNING ¦ warnings ¦ _showwarnmsg ¦ 109 ¦ C:\\Users\\nicolas.ROCH\\Miniconda3\\envs\\qcodes\\lib\\site-packages\\qcodes\\instrument\\instrument_base.py:143: QCoDeSDeprecationWarning: Parameter point_fixed_frequency on instrument ZNB20_S21 does not correctly pass kwargs to its baseclass. A Parameter class must take `**kwargs` and forward them to its baseclass.\n",
      "  warnings.warn(\n",
      "\n",
      "2023-01-13 14:25:20,310 ¦ py.warnings ¦ WARNING ¦ warnings ¦ _showwarnmsg ¦ 109 ¦ C:\\Users\\nicolas.ROCH\\Miniconda3\\envs\\qcodes\\lib\\site-packages\\qcodes\\instrument\\instrument_base.py:143: QCoDeSDeprecationWarning: Parameter point_fixed_frequency_mag_phase on instrument ZNB20_S21 does not correctly pass kwargs to its baseclass. A Parameter class must take `**kwargs` and forward them to its baseclass.\n",
      "  warnings.warn(\n",
      "\n",
      "2023-01-13 14:25:20,310 ¦ py.warnings ¦ WARNING ¦ warnings ¦ _showwarnmsg ¦ 109 ¦ C:\\Users\\nicolas.ROCH\\Miniconda3\\envs\\qcodes\\lib\\site-packages\\qcodes\\instrument\\instrument_base.py:143: QCoDeSDeprecationWarning: Parameter point_fixed_frequency_mag_phase_trace on instrument ZNB20_S21 does not correctly pass kwargs to its baseclass. A Parameter class must take `**kwargs` and forward them to its baseclass.\n",
      "  warnings.warn(\n",
      "\n"
     ]
    }
   ],
   "source": [
    "VNA.add_channel('S21',vna_parameter='S21')\n",
    "\n",
    "VNA.channels.S21.format('dB')\n",
    "VNA.channels.S21.bandwidth(IF_bandwidth)\n",
    "VNA.channels.S21.power(VNA_power)\n",
    "VNA.channels.S21.avg(Averages)\n",
    "VNA.channels.npts(points_VNA)\n",
    "VNA.channels.start(start_freq*1e9)\n",
    "VNA.channels.stop(end_freq*1e9)"
   ]
  },
  {
   "cell_type": "code",
   "execution_count": 14,
   "id": "90c5132a-b258-41f7-bf13-8389ba9bb6bb",
   "metadata": {},
   "outputs": [],
   "source": [
    "if I_source.output()=='on':\n",
    "    I_source.output('off')\n",
    "\n",
    "I_source.source_mode('CURR')\n",
    "I_source.range(10e-3)\n",
    "\n",
    "I_source.current(I_vec[0])\n",
    "\n",
    "I_source.output('on')\n",
    "\n",
    "twpa_source.frequency(pump_freq*1.e9)\n",
    "twpa_source.power(pump_power)\n",
    "twpa_source.status(pump_status.lower())"
   ]
  },
  {
   "cell_type": "code",
   "execution_count": 15,
   "id": "80d05fd1-740f-4e3a-8cf7-7830aa1459fe",
   "metadata": {},
   "outputs": [],
   "source": [
    "# sleep(3600)"
   ]
  },
  {
   "cell_type": "code",
   "execution_count": 16,
   "id": "d4a7e86e-f673-4a2d-860c-68ac38b041cf",
   "metadata": {},
   "outputs": [
    {
     "name": "stdout",
     "output_type": "stream",
     "text": [
      "Starting experimental run with id: 8. \n"
     ]
    },
    {
     "data": {
      "application/vnd.jupyter.widget-view+json": {
       "model_id": "bae5594e479143738e3164b5361f8402",
       "version_major": 2,
       "version_minor": 0
      },
      "text/plain": [
       "  0%|          | 0/100 [00:00<?, ?it/s]"
      ]
     },
     "metadata": {},
     "output_type": "display_data"
    }
   ],
   "source": [
    "# Load experiment\n",
    "exp_name = 'VNA_vs_current'\n",
    "\n",
    "# sample_name = 'RKW0310'\n",
    "sample_name = 'B5_G3_GALV_SQ200_1ST'\n",
    "\n",
    "exp=qc.load_or_create_experiment(experiment_name=exp_name,\n",
    "                          sample_name=sample_name)\n",
    "\n",
    "measure_vs_current(I_vec, exp=exp, station=station)"
   ]
  },
  {
   "cell_type": "code",
   "execution_count": 17,
   "id": "6dc08a72-878c-499f-b473-a5dcc4700251",
   "metadata": {},
   "outputs": [],
   "source": [
    "# Shutdown devices\n",
    "VNA.rf_off()\n",
    "VNA.cont_meas_off()\n",
    "I_source.output('off')\n",
    "twpa_source.status('off')"
   ]
  },
  {
   "cell_type": "code",
   "execution_count": null,
   "id": "af788235-4011-485d-a30b-91705589214d",
   "metadata": {},
   "outputs": [],
   "source": []
  }
 ],
 "metadata": {
  "kernelspec": {
   "display_name": "Python 3 (ipykernel)",
   "language": "python",
   "name": "python3"
  },
  "language_info": {
   "codemirror_mode": {
    "name": "ipython",
    "version": 3
   },
   "file_extension": ".py",
   "mimetype": "text/x-python",
   "name": "python",
   "nbconvert_exporter": "python",
   "pygments_lexer": "ipython3",
   "version": "3.10.8"
  }
 },
 "nbformat": 4,
 "nbformat_minor": 5
}
